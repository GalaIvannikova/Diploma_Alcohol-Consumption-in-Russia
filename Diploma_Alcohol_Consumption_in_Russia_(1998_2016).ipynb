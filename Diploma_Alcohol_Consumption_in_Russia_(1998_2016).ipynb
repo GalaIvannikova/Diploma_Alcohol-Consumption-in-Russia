{
  "nbformat": 4,
  "nbformat_minor": 0,
  "metadata": {
    "colab": {
      "name": "Diploma_Alcohol Consumption in Russia (1998-2016)",
      "provenance": [],
      "collapsed_sections": [
        "wHlS_mWhNdIq"
      ],
      "toc_visible": true,
      "authorship_tag": "ABX9TyOA3YIxRZzpL6LbwFlSQiMu",
      "include_colab_link": true
    },
    "kernelspec": {
      "name": "python3",
      "display_name": "Python 3"
    }
  },
  "cells": [
    {
      "cell_type": "markdown",
      "metadata": {
        "id": "view-in-github",
        "colab_type": "text"
      },
      "source": [
        "<a href=\"https://colab.research.google.com/github/GalaIvannikova/Diploma_Alcohol-Consumption-in-Russia/blob/master/Diploma_Alcohol_Consumption_in_Russia_(1998_2016).ipynb\" target=\"_parent\"><img src=\"https://colab.research.google.com/assets/colab-badge.svg\" alt=\"Open In Colab\"/></a>"
      ]
    },
    {
      "cell_type": "markdown",
      "metadata": {
        "id": "7DpeMg1QGCgW"
      },
      "source": [
        "# Diploma Alcohol Consumption in Russia (1998-2016)"
      ]
    },
    {
      "cell_type": "code",
      "metadata": {
        "id": "IXXTeH5-0agC"
      },
      "source": [
        "pip install git+git://github.com/geopandas/geopandas.git"
      ],
      "execution_count": null,
      "outputs": []
    },
    {
      "cell_type": "code",
      "metadata": {
        "id": "oRxgpwMiGHX1"
      },
      "source": [
        "# Подключаем основную библиотеку для работы с данными\n",
        "import pandas as pd\n",
        "import matplotlib.pyplot as plt\n",
        "#import seaborn as sns\n",
        "import numpy as np\n",
        "from scipy.stats import mannwhitneyu\n",
        "import geopandas as gpd"
      ],
      "execution_count": 10,
      "outputs": []
    },
    {
      "cell_type": "markdown",
      "metadata": {
        "id": "JlBHPUqoHhbz"
      },
      "source": [
        "**Контекст**\n",
        "\n",
        "Набор данных по Потреблению алкоголя в России за 1998-2016 годы. Датасет содержит значения о потреблении вина, пива, водки, бренди и шампанского.\n",
        "\n",
        "**Данные**\n",
        "\n",
        "Датасет содержит 1615 строк и 7 столбцов. \n",
        "Основные столбцы:\n",
        "*   \"year\" - годы (1998-2016)\n",
        "*   \"region\" - название федерального субъекта Российской Федерации. Это может быть область, республика, край, автономный округ, город федерального значения или автономная область.\n",
        "* \"wine\" - продажи вина в литрах в год на душу населения\n",
        "* \"beer\" - продажи пива в литрах в год на душу населения\n",
        "* \"vodka\" - продажи водки в литрах в год на душу населения\n",
        "* \"champagne\" - продажи шампанского в литрах в год на душу населения\n",
        "* \"brandy\" - продажи бренди в литрах в год на душу населения"
      ]
    },
    {
      "cell_type": "markdown",
      "metadata": {
        "id": "Tpkzzcgn7qmC"
      },
      "source": [
        "# Загрузим датасет и посмотрим на исходные данные"
      ]
    },
    {
      "cell_type": "code",
      "metadata": {
        "id": "dLyYnU5cGcjl"
      },
      "source": [
        "# Загружаем данные из файла\n",
        "#Ссылка на файл - https://www.dropbox.com/s/mwu378e3674ruh6/russia_alcohol.csv?dl=0\n",
        "df = pd.read_csv('russia_alcohol.csv')"
      ],
      "execution_count": 72,
      "outputs": []
    },
    {
      "cell_type": "code",
      "metadata": {
        "id": "fhQNMIjlGtWn",
        "outputId": "ec3fa8b3-98f0-4180-bff2-b1f700d741a9",
        "colab": {
          "base_uri": "https://localhost:8080/",
          "height": 202
        }
      },
      "source": [
        "# Выводим первые 5 строк датасета\n",
        "df.head()"
      ],
      "execution_count": 71,
      "outputs": [
        {
          "output_type": "execute_result",
          "data": {
            "text/html": [
              "<div>\n",
              "<style scoped>\n",
              "    .dataframe tbody tr th:only-of-type {\n",
              "        vertical-align: middle;\n",
              "    }\n",
              "\n",
              "    .dataframe tbody tr th {\n",
              "        vertical-align: top;\n",
              "    }\n",
              "\n",
              "    .dataframe thead th {\n",
              "        text-align: right;\n",
              "    }\n",
              "</style>\n",
              "<table border=\"1\" class=\"dataframe\">\n",
              "  <thead>\n",
              "    <tr style=\"text-align: right;\">\n",
              "      <th></th>\n",
              "      <th>year</th>\n",
              "      <th>region</th>\n",
              "      <th>wine</th>\n",
              "      <th>beer</th>\n",
              "      <th>vodka</th>\n",
              "      <th>champagne</th>\n",
              "      <th>brandy</th>\n",
              "    </tr>\n",
              "  </thead>\n",
              "  <tbody>\n",
              "    <tr>\n",
              "      <th>0</th>\n",
              "      <td>1998</td>\n",
              "      <td>Republic of Adygea</td>\n",
              "      <td>1.9</td>\n",
              "      <td>8.8</td>\n",
              "      <td>3.4</td>\n",
              "      <td>0.3</td>\n",
              "      <td>0.1</td>\n",
              "    </tr>\n",
              "    <tr>\n",
              "      <th>1</th>\n",
              "      <td>1998</td>\n",
              "      <td>Altai Krai</td>\n",
              "      <td>3.3</td>\n",
              "      <td>19.2</td>\n",
              "      <td>11.3</td>\n",
              "      <td>1.1</td>\n",
              "      <td>0.1</td>\n",
              "    </tr>\n",
              "    <tr>\n",
              "      <th>2</th>\n",
              "      <td>1998</td>\n",
              "      <td>Amur Oblast</td>\n",
              "      <td>2.1</td>\n",
              "      <td>21.2</td>\n",
              "      <td>17.3</td>\n",
              "      <td>0.7</td>\n",
              "      <td>0.4</td>\n",
              "    </tr>\n",
              "    <tr>\n",
              "      <th>3</th>\n",
              "      <td>1998</td>\n",
              "      <td>Arkhangelsk Oblast</td>\n",
              "      <td>4.3</td>\n",
              "      <td>10.6</td>\n",
              "      <td>11.7</td>\n",
              "      <td>0.4</td>\n",
              "      <td>0.3</td>\n",
              "    </tr>\n",
              "    <tr>\n",
              "      <th>4</th>\n",
              "      <td>1998</td>\n",
              "      <td>Astrakhan Oblast</td>\n",
              "      <td>2.9</td>\n",
              "      <td>18.0</td>\n",
              "      <td>9.5</td>\n",
              "      <td>0.8</td>\n",
              "      <td>0.2</td>\n",
              "    </tr>\n",
              "  </tbody>\n",
              "</table>\n",
              "</div>"
            ],
            "text/plain": [
              "   year              region  wine  beer  vodka  champagne  brandy\n",
              "0  1998  Republic of Adygea   1.9   8.8    3.4        0.3     0.1\n",
              "1  1998          Altai Krai   3.3  19.2   11.3        1.1     0.1\n",
              "2  1998         Amur Oblast   2.1  21.2   17.3        0.7     0.4\n",
              "3  1998  Arkhangelsk Oblast   4.3  10.6   11.7        0.4     0.3\n",
              "4  1998    Astrakhan Oblast   2.9  18.0    9.5        0.8     0.2"
            ]
          },
          "metadata": {
            "tags": []
          },
          "execution_count": 71
        }
      ]
    },
    {
      "cell_type": "code",
      "metadata": {
        "id": "cFTRSa23Gx6z",
        "outputId": "6e866951-d1c3-4616-bab3-3f19121d2d69",
        "colab": {
          "base_uri": "https://localhost:8080/",
          "height": 260
        }
      },
      "source": [
        "# Посмотрим информацию по датасету\n",
        "df.info()"
      ],
      "execution_count": 13,
      "outputs": [
        {
          "output_type": "stream",
          "text": [
            "<class 'pandas.core.frame.DataFrame'>\n",
            "RangeIndex: 1615 entries, 0 to 1614\n",
            "Data columns (total 7 columns):\n",
            " #   Column     Non-Null Count  Dtype  \n",
            "---  ------     --------------  -----  \n",
            " 0   year       1615 non-null   int64  \n",
            " 1   region     1615 non-null   object \n",
            " 2   wine       1552 non-null   float64\n",
            " 3   beer       1557 non-null   float64\n",
            " 4   vodka      1554 non-null   float64\n",
            " 5   champagne  1552 non-null   float64\n",
            " 6   brandy     1549 non-null   float64\n",
            "dtypes: float64(5), int64(1), object(1)\n",
            "memory usage: 88.4+ KB\n"
          ],
          "name": "stdout"
        }
      ]
    },
    {
      "cell_type": "markdown",
      "metadata": {
        "id": "ECeL3xTmIEEQ"
      },
      "source": [
        "* Первый столбец записан в числовом формате  int64.\n",
        "* Столбец region представлена форматом object.\n",
        "* Остальные столбцы - числовые с плавающей запятой.\n",
        "* Как видно из количества заполненных строк, не по всем напиткам есть одинаковое количество данных. В данных есть пропуски."
      ]
    },
    {
      "cell_type": "markdown",
      "metadata": {
        "id": "i8NCG98N8B9R"
      },
      "source": [
        "# Поиск пропусков данных"
      ]
    },
    {
      "cell_type": "markdown",
      "metadata": {
        "id": "nyjS-gbpQH8K"
      },
      "source": [
        "Найдем какие данные пропущенны, чтобы принять решение о работе с пропусками."
      ]
    },
    {
      "cell_type": "code",
      "metadata": {
        "id": "WBhOaecRPxPG",
        "outputId": "d3727a73-1027-4851-af98-21d91df1132c",
        "colab": {
          "base_uri": "https://localhost:8080/",
          "height": 662
        }
      },
      "source": [
        "# Для начала сделаем группировку по годам\n",
        "df.groupby('year').count()\n",
        "\n",
        "# Всего в анализе участвуют данные за 19 лет с 1998 по 2016 года."
      ],
      "execution_count": 14,
      "outputs": [
        {
          "output_type": "execute_result",
          "data": {
            "text/html": [
              "<div>\n",
              "<style scoped>\n",
              "    .dataframe tbody tr th:only-of-type {\n",
              "        vertical-align: middle;\n",
              "    }\n",
              "\n",
              "    .dataframe tbody tr th {\n",
              "        vertical-align: top;\n",
              "    }\n",
              "\n",
              "    .dataframe thead th {\n",
              "        text-align: right;\n",
              "    }\n",
              "</style>\n",
              "<table border=\"1\" class=\"dataframe\">\n",
              "  <thead>\n",
              "    <tr style=\"text-align: right;\">\n",
              "      <th></th>\n",
              "      <th>region</th>\n",
              "      <th>wine</th>\n",
              "      <th>beer</th>\n",
              "      <th>vodka</th>\n",
              "      <th>champagne</th>\n",
              "      <th>brandy</th>\n",
              "    </tr>\n",
              "    <tr>\n",
              "      <th>year</th>\n",
              "      <th></th>\n",
              "      <th></th>\n",
              "      <th></th>\n",
              "      <th></th>\n",
              "      <th></th>\n",
              "      <th></th>\n",
              "    </tr>\n",
              "  </thead>\n",
              "  <tbody>\n",
              "    <tr>\n",
              "      <th>1998</th>\n",
              "      <td>85</td>\n",
              "      <td>81</td>\n",
              "      <td>81</td>\n",
              "      <td>81</td>\n",
              "      <td>81</td>\n",
              "      <td>81</td>\n",
              "    </tr>\n",
              "    <tr>\n",
              "      <th>1999</th>\n",
              "      <td>85</td>\n",
              "      <td>81</td>\n",
              "      <td>81</td>\n",
              "      <td>81</td>\n",
              "      <td>81</td>\n",
              "      <td>81</td>\n",
              "    </tr>\n",
              "    <tr>\n",
              "      <th>2000</th>\n",
              "      <td>85</td>\n",
              "      <td>81</td>\n",
              "      <td>81</td>\n",
              "      <td>81</td>\n",
              "      <td>81</td>\n",
              "      <td>81</td>\n",
              "    </tr>\n",
              "    <tr>\n",
              "      <th>2001</th>\n",
              "      <td>85</td>\n",
              "      <td>82</td>\n",
              "      <td>82</td>\n",
              "      <td>82</td>\n",
              "      <td>82</td>\n",
              "      <td>82</td>\n",
              "    </tr>\n",
              "    <tr>\n",
              "      <th>2002</th>\n",
              "      <td>85</td>\n",
              "      <td>82</td>\n",
              "      <td>82</td>\n",
              "      <td>82</td>\n",
              "      <td>82</td>\n",
              "      <td>82</td>\n",
              "    </tr>\n",
              "    <tr>\n",
              "      <th>2003</th>\n",
              "      <td>85</td>\n",
              "      <td>82</td>\n",
              "      <td>82</td>\n",
              "      <td>82</td>\n",
              "      <td>82</td>\n",
              "      <td>82</td>\n",
              "    </tr>\n",
              "    <tr>\n",
              "      <th>2004</th>\n",
              "      <td>85</td>\n",
              "      <td>82</td>\n",
              "      <td>82</td>\n",
              "      <td>82</td>\n",
              "      <td>82</td>\n",
              "      <td>82</td>\n",
              "    </tr>\n",
              "    <tr>\n",
              "      <th>2005</th>\n",
              "      <td>85</td>\n",
              "      <td>82</td>\n",
              "      <td>82</td>\n",
              "      <td>82</td>\n",
              "      <td>82</td>\n",
              "      <td>81</td>\n",
              "    </tr>\n",
              "    <tr>\n",
              "      <th>2006</th>\n",
              "      <td>85</td>\n",
              "      <td>82</td>\n",
              "      <td>82</td>\n",
              "      <td>82</td>\n",
              "      <td>82</td>\n",
              "      <td>81</td>\n",
              "    </tr>\n",
              "    <tr>\n",
              "      <th>2007</th>\n",
              "      <td>85</td>\n",
              "      <td>82</td>\n",
              "      <td>82</td>\n",
              "      <td>82</td>\n",
              "      <td>82</td>\n",
              "      <td>81</td>\n",
              "    </tr>\n",
              "    <tr>\n",
              "      <th>2008</th>\n",
              "      <td>85</td>\n",
              "      <td>81</td>\n",
              "      <td>81</td>\n",
              "      <td>81</td>\n",
              "      <td>81</td>\n",
              "      <td>81</td>\n",
              "    </tr>\n",
              "    <tr>\n",
              "      <th>2009</th>\n",
              "      <td>85</td>\n",
              "      <td>81</td>\n",
              "      <td>81</td>\n",
              "      <td>82</td>\n",
              "      <td>81</td>\n",
              "      <td>81</td>\n",
              "    </tr>\n",
              "    <tr>\n",
              "      <th>2010</th>\n",
              "      <td>85</td>\n",
              "      <td>81</td>\n",
              "      <td>81</td>\n",
              "      <td>82</td>\n",
              "      <td>81</td>\n",
              "      <td>81</td>\n",
              "    </tr>\n",
              "    <tr>\n",
              "      <th>2011</th>\n",
              "      <td>85</td>\n",
              "      <td>81</td>\n",
              "      <td>81</td>\n",
              "      <td>81</td>\n",
              "      <td>81</td>\n",
              "      <td>81</td>\n",
              "    </tr>\n",
              "    <tr>\n",
              "      <th>2012</th>\n",
              "      <td>85</td>\n",
              "      <td>81</td>\n",
              "      <td>81</td>\n",
              "      <td>81</td>\n",
              "      <td>81</td>\n",
              "      <td>81</td>\n",
              "    </tr>\n",
              "    <tr>\n",
              "      <th>2013</th>\n",
              "      <td>85</td>\n",
              "      <td>81</td>\n",
              "      <td>81</td>\n",
              "      <td>81</td>\n",
              "      <td>81</td>\n",
              "      <td>81</td>\n",
              "    </tr>\n",
              "    <tr>\n",
              "      <th>2014</th>\n",
              "      <td>85</td>\n",
              "      <td>83</td>\n",
              "      <td>85</td>\n",
              "      <td>83</td>\n",
              "      <td>83</td>\n",
              "      <td>83</td>\n",
              "    </tr>\n",
              "    <tr>\n",
              "      <th>2015</th>\n",
              "      <td>85</td>\n",
              "      <td>83</td>\n",
              "      <td>85</td>\n",
              "      <td>83</td>\n",
              "      <td>83</td>\n",
              "      <td>83</td>\n",
              "    </tr>\n",
              "    <tr>\n",
              "      <th>2016</th>\n",
              "      <td>85</td>\n",
              "      <td>83</td>\n",
              "      <td>84</td>\n",
              "      <td>83</td>\n",
              "      <td>83</td>\n",
              "      <td>83</td>\n",
              "    </tr>\n",
              "  </tbody>\n",
              "</table>\n",
              "</div>"
            ],
            "text/plain": [
              "      region  wine  beer  vodka  champagne  brandy\n",
              "year                                              \n",
              "1998      85    81    81     81         81      81\n",
              "1999      85    81    81     81         81      81\n",
              "2000      85    81    81     81         81      81\n",
              "2001      85    82    82     82         82      82\n",
              "2002      85    82    82     82         82      82\n",
              "2003      85    82    82     82         82      82\n",
              "2004      85    82    82     82         82      82\n",
              "2005      85    82    82     82         82      81\n",
              "2006      85    82    82     82         82      81\n",
              "2007      85    82    82     82         82      81\n",
              "2008      85    81    81     81         81      81\n",
              "2009      85    81    81     82         81      81\n",
              "2010      85    81    81     82         81      81\n",
              "2011      85    81    81     81         81      81\n",
              "2012      85    81    81     81         81      81\n",
              "2013      85    81    81     81         81      81\n",
              "2014      85    83    85     83         83      83\n",
              "2015      85    83    85     83         83      83\n",
              "2016      85    83    84     83         83      83"
            ]
          },
          "metadata": {
            "tags": []
          },
          "execution_count": 14
        }
      ]
    },
    {
      "cell_type": "markdown",
      "metadata": {
        "id": "zC_JERfSRy6l"
      },
      "source": [
        "В столбцах с типами напитков равномерно отсутствуют данные за каждый год. Гипотеза: нехватает данных по определенным регионам. Если это так, то эти регионы можно либо исключить из анализа, либо присвоить им среднее значение по стране."
      ]
    },
    {
      "cell_type": "code",
      "metadata": {
        "id": "lzz9RvrsRbVT",
        "outputId": "c7f6d601-9689-4910-e352-3b10d4868dd2",
        "colab": {
          "base_uri": "https://localhost:8080/",
          "height": 202
        }
      },
      "source": [
        "# Посмотрим на результаты при крупировки по регионам. Нас интересуют только те регионы, в которых количество строк меньше 19.\n",
        "df_null_region = df.groupby('region').count()\n",
        "df_null_region[(df_null_region['wine'] < 19) | (df_null_region['beer'] < 19) | (df_null_region['vodka'] < 19) | (df_null_region['champagne'] < 19) | (df_null_region['brandy'] < 19)]"
      ],
      "execution_count": 15,
      "outputs": [
        {
          "output_type": "execute_result",
          "data": {
            "text/html": [
              "<div>\n",
              "<style scoped>\n",
              "    .dataframe tbody tr th:only-of-type {\n",
              "        vertical-align: middle;\n",
              "    }\n",
              "\n",
              "    .dataframe tbody tr th {\n",
              "        vertical-align: top;\n",
              "    }\n",
              "\n",
              "    .dataframe thead th {\n",
              "        text-align: right;\n",
              "    }\n",
              "</style>\n",
              "<table border=\"1\" class=\"dataframe\">\n",
              "  <thead>\n",
              "    <tr style=\"text-align: right;\">\n",
              "      <th></th>\n",
              "      <th>year</th>\n",
              "      <th>wine</th>\n",
              "      <th>beer</th>\n",
              "      <th>vodka</th>\n",
              "      <th>champagne</th>\n",
              "      <th>brandy</th>\n",
              "    </tr>\n",
              "    <tr>\n",
              "      <th>region</th>\n",
              "      <th></th>\n",
              "      <th></th>\n",
              "      <th></th>\n",
              "      <th></th>\n",
              "      <th></th>\n",
              "      <th></th>\n",
              "    </tr>\n",
              "  </thead>\n",
              "  <tbody>\n",
              "    <tr>\n",
              "      <th>Chechen Republic</th>\n",
              "      <td>19</td>\n",
              "      <td>0</td>\n",
              "      <td>3</td>\n",
              "      <td>0</td>\n",
              "      <td>0</td>\n",
              "      <td>0</td>\n",
              "    </tr>\n",
              "    <tr>\n",
              "      <th>Republic of Crimea</th>\n",
              "      <td>19</td>\n",
              "      <td>3</td>\n",
              "      <td>3</td>\n",
              "      <td>3</td>\n",
              "      <td>3</td>\n",
              "      <td>3</td>\n",
              "    </tr>\n",
              "    <tr>\n",
              "      <th>Republic of Ingushetia</th>\n",
              "      <td>19</td>\n",
              "      <td>7</td>\n",
              "      <td>9</td>\n",
              "      <td>9</td>\n",
              "      <td>7</td>\n",
              "      <td>4</td>\n",
              "    </tr>\n",
              "    <tr>\n",
              "      <th>Sevastopol</th>\n",
              "      <td>19</td>\n",
              "      <td>3</td>\n",
              "      <td>3</td>\n",
              "      <td>3</td>\n",
              "      <td>3</td>\n",
              "      <td>3</td>\n",
              "    </tr>\n",
              "  </tbody>\n",
              "</table>\n",
              "</div>"
            ],
            "text/plain": [
              "                        year  wine  beer  vodka  champagne  brandy\n",
              "region                                                            \n",
              "Chechen Republic          19     0     3      0          0       0\n",
              "Republic of Crimea        19     3     3      3          3       3\n",
              "Republic of Ingushetia    19     7     9      9          7       4\n",
              "Sevastopol                19     3     3      3          3       3"
            ]
          },
          "metadata": {
            "tags": []
          },
          "execution_count": 15
        }
      ]
    },
    {
      "cell_type": "markdown",
      "metadata": {
        "id": "JbBU9sfKX-_U"
      },
      "source": [
        "Данные отсутствуют по 4 регионам. При этом в Республике Ингушетия по некоторым категориям напитков почти за половину лет. По остальным регионам отсутствуют данные всего за 3-4 года.\n",
        "\n",
        "Данные по Республике Ингушетия лучше исключить из общего анализа. При необходимости, можно рассмотреть этот региона отдельно исходя из имеющихся данных.\n",
        "\n",
        "По остальным регионам можно заменить отсутствующие значения средними значениями для данного региона по данному типу напитка."
      ]
    },
    {
      "cell_type": "markdown",
      "metadata": {
        "id": "jkm_TPE18Srs"
      },
      "source": [
        "# Основные статистические показатели и среднее"
      ]
    },
    {
      "cell_type": "code",
      "metadata": {
        "id": "cKw_WRn2G8yd",
        "outputId": "a2f8a778-4983-4143-bab9-e6d2fcde1359",
        "colab": {
          "base_uri": "https://localhost:8080/",
          "height": 294
        }
      },
      "source": [
        "# Посмотрим на основные статистические показатели нашего датасета.\n",
        "df.describe()"
      ],
      "execution_count": 16,
      "outputs": [
        {
          "output_type": "execute_result",
          "data": {
            "text/html": [
              "<div>\n",
              "<style scoped>\n",
              "    .dataframe tbody tr th:only-of-type {\n",
              "        vertical-align: middle;\n",
              "    }\n",
              "\n",
              "    .dataframe tbody tr th {\n",
              "        vertical-align: top;\n",
              "    }\n",
              "\n",
              "    .dataframe thead th {\n",
              "        text-align: right;\n",
              "    }\n",
              "</style>\n",
              "<table border=\"1\" class=\"dataframe\">\n",
              "  <thead>\n",
              "    <tr style=\"text-align: right;\">\n",
              "      <th></th>\n",
              "      <th>year</th>\n",
              "      <th>wine</th>\n",
              "      <th>beer</th>\n",
              "      <th>vodka</th>\n",
              "      <th>champagne</th>\n",
              "      <th>brandy</th>\n",
              "    </tr>\n",
              "  </thead>\n",
              "  <tbody>\n",
              "    <tr>\n",
              "      <th>count</th>\n",
              "      <td>1615.000000</td>\n",
              "      <td>1552.000000</td>\n",
              "      <td>1557.000000</td>\n",
              "      <td>1554.000000</td>\n",
              "      <td>1552.000000</td>\n",
              "      <td>1549.000000</td>\n",
              "    </tr>\n",
              "    <tr>\n",
              "      <th>mean</th>\n",
              "      <td>2007.000000</td>\n",
              "      <td>5.628144</td>\n",
              "      <td>51.260148</td>\n",
              "      <td>11.818694</td>\n",
              "      <td>1.313177</td>\n",
              "      <td>0.526998</td>\n",
              "    </tr>\n",
              "    <tr>\n",
              "      <th>std</th>\n",
              "      <td>5.478922</td>\n",
              "      <td>2.813208</td>\n",
              "      <td>25.372821</td>\n",
              "      <td>5.128806</td>\n",
              "      <td>0.797956</td>\n",
              "      <td>0.400201</td>\n",
              "    </tr>\n",
              "    <tr>\n",
              "      <th>min</th>\n",
              "      <td>1998.000000</td>\n",
              "      <td>0.100000</td>\n",
              "      <td>0.400000</td>\n",
              "      <td>0.050000</td>\n",
              "      <td>0.100000</td>\n",
              "      <td>0.000000</td>\n",
              "    </tr>\n",
              "    <tr>\n",
              "      <th>25%</th>\n",
              "      <td>2002.000000</td>\n",
              "      <td>3.575000</td>\n",
              "      <td>32.400000</td>\n",
              "      <td>8.300000</td>\n",
              "      <td>0.800000</td>\n",
              "      <td>0.200000</td>\n",
              "    </tr>\n",
              "    <tr>\n",
              "      <th>50%</th>\n",
              "      <td>2007.000000</td>\n",
              "      <td>5.400000</td>\n",
              "      <td>49.970000</td>\n",
              "      <td>11.500000</td>\n",
              "      <td>1.200000</td>\n",
              "      <td>0.400000</td>\n",
              "    </tr>\n",
              "    <tr>\n",
              "      <th>75%</th>\n",
              "      <td>2012.000000</td>\n",
              "      <td>7.377500</td>\n",
              "      <td>67.400000</td>\n",
              "      <td>15.000000</td>\n",
              "      <td>1.665000</td>\n",
              "      <td>0.700000</td>\n",
              "    </tr>\n",
              "    <tr>\n",
              "      <th>max</th>\n",
              "      <td>2016.000000</td>\n",
              "      <td>18.100000</td>\n",
              "      <td>207.300000</td>\n",
              "      <td>40.600000</td>\n",
              "      <td>5.560000</td>\n",
              "      <td>2.300000</td>\n",
              "    </tr>\n",
              "  </tbody>\n",
              "</table>\n",
              "</div>"
            ],
            "text/plain": [
              "              year         wine  ...    champagne       brandy\n",
              "count  1615.000000  1552.000000  ...  1552.000000  1549.000000\n",
              "mean   2007.000000     5.628144  ...     1.313177     0.526998\n",
              "std       5.478922     2.813208  ...     0.797956     0.400201\n",
              "min    1998.000000     0.100000  ...     0.100000     0.000000\n",
              "25%    2002.000000     3.575000  ...     0.800000     0.200000\n",
              "50%    2007.000000     5.400000  ...     1.200000     0.400000\n",
              "75%    2012.000000     7.377500  ...     1.665000     0.700000\n",
              "max    2016.000000    18.100000  ...     5.560000     2.300000\n",
              "\n",
              "[8 rows x 6 columns]"
            ]
          },
          "metadata": {
            "tags": []
          },
          "execution_count": 16
        }
      ]
    },
    {
      "cell_type": "markdown",
      "metadata": {
        "id": "htW0mcKnZtn6"
      },
      "source": [
        "Так как средние значения не сильно отличаются от значений второго процентиля (50%), заполним пустые значения средними данными по региону на основе остальных лет."
      ]
    },
    {
      "cell_type": "code",
      "metadata": {
        "id": "Zxj7Mkb3beTD",
        "outputId": "999620af-09ee-4ca0-cc57-73d0f22cf005",
        "colab": {
          "base_uri": "https://localhost:8080/",
          "height": 355
        }
      },
      "source": [
        "# Отфильтруем данные, исключив из них данные о Республике Ингушетия\n",
        "\n",
        "df_filter = df[df['region'] != 'Republic of Ingushetia']\n",
        "df_filter.head(10)"
      ],
      "execution_count": 17,
      "outputs": [
        {
          "output_type": "execute_result",
          "data": {
            "text/html": [
              "<div>\n",
              "<style scoped>\n",
              "    .dataframe tbody tr th:only-of-type {\n",
              "        vertical-align: middle;\n",
              "    }\n",
              "\n",
              "    .dataframe tbody tr th {\n",
              "        vertical-align: top;\n",
              "    }\n",
              "\n",
              "    .dataframe thead th {\n",
              "        text-align: right;\n",
              "    }\n",
              "</style>\n",
              "<table border=\"1\" class=\"dataframe\">\n",
              "  <thead>\n",
              "    <tr style=\"text-align: right;\">\n",
              "      <th></th>\n",
              "      <th>year</th>\n",
              "      <th>region</th>\n",
              "      <th>wine</th>\n",
              "      <th>beer</th>\n",
              "      <th>vodka</th>\n",
              "      <th>champagne</th>\n",
              "      <th>brandy</th>\n",
              "    </tr>\n",
              "  </thead>\n",
              "  <tbody>\n",
              "    <tr>\n",
              "      <th>0</th>\n",
              "      <td>1998</td>\n",
              "      <td>Republic of Adygea</td>\n",
              "      <td>1.9</td>\n",
              "      <td>8.8</td>\n",
              "      <td>3.4</td>\n",
              "      <td>0.3</td>\n",
              "      <td>0.1</td>\n",
              "    </tr>\n",
              "    <tr>\n",
              "      <th>1</th>\n",
              "      <td>1998</td>\n",
              "      <td>Altai Krai</td>\n",
              "      <td>3.3</td>\n",
              "      <td>19.2</td>\n",
              "      <td>11.3</td>\n",
              "      <td>1.1</td>\n",
              "      <td>0.1</td>\n",
              "    </tr>\n",
              "    <tr>\n",
              "      <th>2</th>\n",
              "      <td>1998</td>\n",
              "      <td>Amur Oblast</td>\n",
              "      <td>2.1</td>\n",
              "      <td>21.2</td>\n",
              "      <td>17.3</td>\n",
              "      <td>0.7</td>\n",
              "      <td>0.4</td>\n",
              "    </tr>\n",
              "    <tr>\n",
              "      <th>3</th>\n",
              "      <td>1998</td>\n",
              "      <td>Arkhangelsk Oblast</td>\n",
              "      <td>4.3</td>\n",
              "      <td>10.6</td>\n",
              "      <td>11.7</td>\n",
              "      <td>0.4</td>\n",
              "      <td>0.3</td>\n",
              "    </tr>\n",
              "    <tr>\n",
              "      <th>4</th>\n",
              "      <td>1998</td>\n",
              "      <td>Astrakhan Oblast</td>\n",
              "      <td>2.9</td>\n",
              "      <td>18.0</td>\n",
              "      <td>9.5</td>\n",
              "      <td>0.8</td>\n",
              "      <td>0.2</td>\n",
              "    </tr>\n",
              "    <tr>\n",
              "      <th>5</th>\n",
              "      <td>1998</td>\n",
              "      <td>Republic of Bashkortostan</td>\n",
              "      <td>1.8</td>\n",
              "      <td>17.5</td>\n",
              "      <td>10.7</td>\n",
              "      <td>0.9</td>\n",
              "      <td>0.2</td>\n",
              "    </tr>\n",
              "    <tr>\n",
              "      <th>6</th>\n",
              "      <td>1998</td>\n",
              "      <td>Belgorod Oblast</td>\n",
              "      <td>3.4</td>\n",
              "      <td>23.0</td>\n",
              "      <td>10.8</td>\n",
              "      <td>0.9</td>\n",
              "      <td>0.1</td>\n",
              "    </tr>\n",
              "    <tr>\n",
              "      <th>7</th>\n",
              "      <td>1998</td>\n",
              "      <td>Bryansk Oblast</td>\n",
              "      <td>3.4</td>\n",
              "      <td>32.4</td>\n",
              "      <td>9.7</td>\n",
              "      <td>0.5</td>\n",
              "      <td>0.1</td>\n",
              "    </tr>\n",
              "    <tr>\n",
              "      <th>8</th>\n",
              "      <td>1998</td>\n",
              "      <td>Republic of Buryatia</td>\n",
              "      <td>1.1</td>\n",
              "      <td>8.8</td>\n",
              "      <td>15.8</td>\n",
              "      <td>0.9</td>\n",
              "      <td>0.1</td>\n",
              "    </tr>\n",
              "    <tr>\n",
              "      <th>9</th>\n",
              "      <td>1998</td>\n",
              "      <td>Vladimir Oblast</td>\n",
              "      <td>1.5</td>\n",
              "      <td>16.6</td>\n",
              "      <td>16.8</td>\n",
              "      <td>0.5</td>\n",
              "      <td>0.1</td>\n",
              "    </tr>\n",
              "  </tbody>\n",
              "</table>\n",
              "</div>"
            ],
            "text/plain": [
              "   year                     region  wine  beer  vodka  champagne  brandy\n",
              "0  1998         Republic of Adygea   1.9   8.8    3.4        0.3     0.1\n",
              "1  1998                 Altai Krai   3.3  19.2   11.3        1.1     0.1\n",
              "2  1998                Amur Oblast   2.1  21.2   17.3        0.7     0.4\n",
              "3  1998         Arkhangelsk Oblast   4.3  10.6   11.7        0.4     0.3\n",
              "4  1998           Astrakhan Oblast   2.9  18.0    9.5        0.8     0.2\n",
              "5  1998  Republic of Bashkortostan   1.8  17.5   10.7        0.9     0.2\n",
              "6  1998            Belgorod Oblast   3.4  23.0   10.8        0.9     0.1\n",
              "7  1998             Bryansk Oblast   3.4  32.4    9.7        0.5     0.1\n",
              "8  1998       Republic of Buryatia   1.1   8.8   15.8        0.9     0.1\n",
              "9  1998            Vladimir Oblast   1.5  16.6   16.8        0.5     0.1"
            ]
          },
          "metadata": {
            "tags": []
          },
          "execution_count": 17
        }
      ]
    },
    {
      "cell_type": "code",
      "metadata": {
        "id": "vgG8bNWLZtRi",
        "outputId": "313da132-5e1c-4cd0-ea20-b0f279d41176",
        "colab": {
          "base_uri": "https://localhost:8080/",
          "height": 631
        }
      },
      "source": [
        "# Найдем среднее по России потребление напитка для каждого года по отдельности.\n",
        "df_mean = df_filter.groupby('year').mean().reset_index()\n",
        "df_mean.head(20)"
      ],
      "execution_count": 18,
      "outputs": [
        {
          "output_type": "execute_result",
          "data": {
            "text/html": [
              "<div>\n",
              "<style scoped>\n",
              "    .dataframe tbody tr th:only-of-type {\n",
              "        vertical-align: middle;\n",
              "    }\n",
              "\n",
              "    .dataframe tbody tr th {\n",
              "        vertical-align: top;\n",
              "    }\n",
              "\n",
              "    .dataframe thead th {\n",
              "        text-align: right;\n",
              "    }\n",
              "</style>\n",
              "<table border=\"1\" class=\"dataframe\">\n",
              "  <thead>\n",
              "    <tr style=\"text-align: right;\">\n",
              "      <th></th>\n",
              "      <th>year</th>\n",
              "      <th>wine</th>\n",
              "      <th>beer</th>\n",
              "      <th>vodka</th>\n",
              "      <th>champagne</th>\n",
              "      <th>brandy</th>\n",
              "    </tr>\n",
              "  </thead>\n",
              "  <tbody>\n",
              "    <tr>\n",
              "      <th>0</th>\n",
              "      <td>1998</td>\n",
              "      <td>3.029630</td>\n",
              "      <td>20.419753</td>\n",
              "      <td>12.669136</td>\n",
              "      <td>0.913580</td>\n",
              "      <td>0.228889</td>\n",
              "    </tr>\n",
              "    <tr>\n",
              "      <th>1</th>\n",
              "      <td>1999</td>\n",
              "      <td>3.120988</td>\n",
              "      <td>25.395062</td>\n",
              "      <td>13.469136</td>\n",
              "      <td>0.846914</td>\n",
              "      <td>0.210864</td>\n",
              "    </tr>\n",
              "    <tr>\n",
              "      <th>2</th>\n",
              "      <td>2000</td>\n",
              "      <td>3.343210</td>\n",
              "      <td>30.130864</td>\n",
              "      <td>13.572840</td>\n",
              "      <td>0.892593</td>\n",
              "      <td>0.233704</td>\n",
              "    </tr>\n",
              "    <tr>\n",
              "      <th>3</th>\n",
              "      <td>2001</td>\n",
              "      <td>3.864198</td>\n",
              "      <td>36.675309</td>\n",
              "      <td>14.365432</td>\n",
              "      <td>0.927160</td>\n",
              "      <td>0.260494</td>\n",
              "    </tr>\n",
              "    <tr>\n",
              "      <th>4</th>\n",
              "      <td>2002</td>\n",
              "      <td>4.364198</td>\n",
              "      <td>42.791358</td>\n",
              "      <td>14.917284</td>\n",
              "      <td>0.969136</td>\n",
              "      <td>0.314815</td>\n",
              "    </tr>\n",
              "    <tr>\n",
              "      <th>5</th>\n",
              "      <td>2003</td>\n",
              "      <td>5.174074</td>\n",
              "      <td>47.849383</td>\n",
              "      <td>14.640741</td>\n",
              "      <td>1.038272</td>\n",
              "      <td>0.361728</td>\n",
              "    </tr>\n",
              "    <tr>\n",
              "      <th>6</th>\n",
              "      <td>2004</td>\n",
              "      <td>5.760494</td>\n",
              "      <td>53.045679</td>\n",
              "      <td>14.466667</td>\n",
              "      <td>1.097531</td>\n",
              "      <td>0.387654</td>\n",
              "    </tr>\n",
              "    <tr>\n",
              "      <th>7</th>\n",
              "      <td>2005</td>\n",
              "      <td>6.041975</td>\n",
              "      <td>55.160494</td>\n",
              "      <td>13.833333</td>\n",
              "      <td>1.185185</td>\n",
              "      <td>0.411111</td>\n",
              "    </tr>\n",
              "    <tr>\n",
              "      <th>8</th>\n",
              "      <td>2006</td>\n",
              "      <td>5.856790</td>\n",
              "      <td>62.285185</td>\n",
              "      <td>13.235802</td>\n",
              "      <td>1.230864</td>\n",
              "      <td>0.437037</td>\n",
              "    </tr>\n",
              "    <tr>\n",
              "      <th>9</th>\n",
              "      <td>2007</td>\n",
              "      <td>6.703704</td>\n",
              "      <td>62.764198</td>\n",
              "      <td>12.479012</td>\n",
              "      <td>1.422222</td>\n",
              "      <td>0.534568</td>\n",
              "    </tr>\n",
              "    <tr>\n",
              "      <th>10</th>\n",
              "      <td>2008</td>\n",
              "      <td>7.365432</td>\n",
              "      <td>65.445679</td>\n",
              "      <td>12.380247</td>\n",
              "      <td>1.570370</td>\n",
              "      <td>0.670370</td>\n",
              "    </tr>\n",
              "    <tr>\n",
              "      <th>11</th>\n",
              "      <td>2009</td>\n",
              "      <td>7.337037</td>\n",
              "      <td>63.820988</td>\n",
              "      <td>11.667901</td>\n",
              "      <td>1.548148</td>\n",
              "      <td>0.682716</td>\n",
              "    </tr>\n",
              "    <tr>\n",
              "      <th>12</th>\n",
              "      <td>2010</td>\n",
              "      <td>7.434568</td>\n",
              "      <td>63.393827</td>\n",
              "      <td>11.376543</td>\n",
              "      <td>1.696296</td>\n",
              "      <td>0.734568</td>\n",
              "    </tr>\n",
              "    <tr>\n",
              "      <th>13</th>\n",
              "      <td>2011</td>\n",
              "      <td>6.939259</td>\n",
              "      <td>64.642593</td>\n",
              "      <td>11.341975</td>\n",
              "      <td>1.817901</td>\n",
              "      <td>0.787284</td>\n",
              "    </tr>\n",
              "    <tr>\n",
              "      <th>14</th>\n",
              "      <td>2012</td>\n",
              "      <td>6.566667</td>\n",
              "      <td>65.960494</td>\n",
              "      <td>11.144444</td>\n",
              "      <td>1.782716</td>\n",
              "      <td>0.828395</td>\n",
              "    </tr>\n",
              "    <tr>\n",
              "      <th>15</th>\n",
              "      <td>2013</td>\n",
              "      <td>5.824691</td>\n",
              "      <td>63.665432</td>\n",
              "      <td>9.528395</td>\n",
              "      <td>1.706173</td>\n",
              "      <td>0.802469</td>\n",
              "    </tr>\n",
              "    <tr>\n",
              "      <th>16</th>\n",
              "      <td>2014</td>\n",
              "      <td>6.319277</td>\n",
              "      <td>56.110714</td>\n",
              "      <td>7.606024</td>\n",
              "      <td>1.584337</td>\n",
              "      <td>0.746988</td>\n",
              "    </tr>\n",
              "    <tr>\n",
              "      <th>17</th>\n",
              "      <td>2015</td>\n",
              "      <td>6.053012</td>\n",
              "      <td>50.629762</td>\n",
              "      <td>6.667470</td>\n",
              "      <td>1.439759</td>\n",
              "      <td>0.677108</td>\n",
              "    </tr>\n",
              "    <tr>\n",
              "      <th>18</th>\n",
              "      <td>2016</td>\n",
              "      <td>5.909639</td>\n",
              "      <td>48.911905</td>\n",
              "      <td>6.625301</td>\n",
              "      <td>1.334940</td>\n",
              "      <td>0.671084</td>\n",
              "    </tr>\n",
              "  </tbody>\n",
              "</table>\n",
              "</div>"
            ],
            "text/plain": [
              "    year      wine       beer      vodka  champagne    brandy\n",
              "0   1998  3.029630  20.419753  12.669136   0.913580  0.228889\n",
              "1   1999  3.120988  25.395062  13.469136   0.846914  0.210864\n",
              "2   2000  3.343210  30.130864  13.572840   0.892593  0.233704\n",
              "3   2001  3.864198  36.675309  14.365432   0.927160  0.260494\n",
              "4   2002  4.364198  42.791358  14.917284   0.969136  0.314815\n",
              "5   2003  5.174074  47.849383  14.640741   1.038272  0.361728\n",
              "6   2004  5.760494  53.045679  14.466667   1.097531  0.387654\n",
              "7   2005  6.041975  55.160494  13.833333   1.185185  0.411111\n",
              "8   2006  5.856790  62.285185  13.235802   1.230864  0.437037\n",
              "9   2007  6.703704  62.764198  12.479012   1.422222  0.534568\n",
              "10  2008  7.365432  65.445679  12.380247   1.570370  0.670370\n",
              "11  2009  7.337037  63.820988  11.667901   1.548148  0.682716\n",
              "12  2010  7.434568  63.393827  11.376543   1.696296  0.734568\n",
              "13  2011  6.939259  64.642593  11.341975   1.817901  0.787284\n",
              "14  2012  6.566667  65.960494  11.144444   1.782716  0.828395\n",
              "15  2013  5.824691  63.665432   9.528395   1.706173  0.802469\n",
              "16  2014  6.319277  56.110714   7.606024   1.584337  0.746988\n",
              "17  2015  6.053012  50.629762   6.667470   1.439759  0.677108\n",
              "18  2016  5.909639  48.911905   6.625301   1.334940  0.671084"
            ]
          },
          "metadata": {
            "tags": []
          },
          "execution_count": 18
        }
      ]
    },
    {
      "cell_type": "markdown",
      "metadata": {
        "id": "rM7tdDHD8N7B"
      },
      "source": [
        "Мы получили среднее потребление каждого типа напитка по годам. Для наглядности можно нарисовать диаграмму."
      ]
    },
    {
      "cell_type": "markdown",
      "metadata": {
        "id": "ApIKEw4-8iwC"
      },
      "source": [
        "# Среднее потребление на душу населения по стране в целом по типам напитков"
      ]
    },
    {
      "cell_type": "code",
      "metadata": {
        "id": "hGF7baKwfy-X",
        "outputId": "c31754f9-c04b-4782-a537-7bfed13a2c75",
        "colab": {
          "base_uri": "https://localhost:8080/",
          "height": 52
        }
      },
      "source": [
        "# Создаю nampy array для оси Х со списком лет\n",
        "np_years = np.array(df_mean['year'])\n",
        "np_years"
      ],
      "execution_count": 19,
      "outputs": [
        {
          "output_type": "execute_result",
          "data": {
            "text/plain": [
              "array([1998, 1999, 2000, 2001, 2002, 2003, 2004, 2005, 2006, 2007, 2008,\n",
              "       2009, 2010, 2011, 2012, 2013, 2014, 2015, 2016])"
            ]
          },
          "metadata": {
            "tags": []
          },
          "execution_count": 19
        }
      ]
    },
    {
      "cell_type": "code",
      "metadata": {
        "id": "ShaRaRC5pWNO"
      },
      "source": [
        "# Создаю nampy array для оси Y со списками значений по категориям напитков\n",
        "np_wine_mean = np.array(df_mean['wine'])\n",
        "np_beer_mean = np.array(df_mean['beer'])\n",
        "np_vodka_mean = np.array(df_mean['vodka'])\n",
        "np_champagne_mean = np.array(df_mean['champagne'])\n",
        "np_brandy_mean = np.array(df_mean['brandy'])"
      ],
      "execution_count": 20,
      "outputs": []
    },
    {
      "cell_type": "code",
      "metadata": {
        "id": "vRR20_IR3Buz",
        "outputId": "14ce48fa-3d9c-46ee-838e-b5f15affcc9a",
        "colab": {
          "base_uri": "https://localhost:8080/",
          "height": 295
        }
      },
      "source": [
        "# Задаем данные по годам, в качестве оси X и данные по разным видам напитков по оси Y.\n",
        "fig, ax = plt.subplots(figsize=(10, 4))\n",
        "\n",
        "ax.plot(np_years, np_wine_mean, '#a0265d', linewidth=2, label='Вино')\n",
        "ax.plot(np_years, np_beer_mean, '#ffb400', linewidth=2, label='Пиво')\n",
        "ax.plot(np_years, np_vodka_mean, '#7f7a6d', linewidth=2, label='Водка')\n",
        "ax.plot(np_years, np_champagne_mean, '#00eaff', linewidth=2, label='Шампанское')\n",
        "ax.plot(np_years, np_brandy_mean, '#ff00a8', linewidth=2, label='Бренди')\n",
        "\n",
        "ax.set_title('Продажи алкогольных напитоков по годам в среднем по России')\n",
        "ax.set_xlabel('Года')\n",
        "ax.set_ylabel('Продажи в литрах на душу населения в год')\n",
        "ax.legend()\n",
        " \n",
        "plt.show()"
      ],
      "execution_count": 21,
      "outputs": [
        {
          "output_type": "display_data",
          "data": {
            "image/png": "[encoded data removed]",
            "text/plain": [
              "<Figure size 720x288 with 1 Axes>"
            ]
          },
          "metadata": {
            "tags": [],
            "needs_background": "light"
          }
        }
      ]
    },
    {
      "cell_type": "markdown",
      "metadata": {
        "id": "sZ9qP_o57QE9"
      },
      "source": [
        "На одном графике можно увидеть основные тренды, но, чтобы получить более детальную информацию, рассмотрим каждый вид напитка в отдельности."
      ]
    },
    {
      "cell_type": "markdown",
      "metadata": {
        "id": "Ml3A3eeKHTKE"
      },
      "source": [
        "**График потребления вина в целом по России**"
      ]
    },
    {
      "cell_type": "code",
      "metadata": {
        "id": "UwFccb3DHgwC",
        "outputId": "87a2dae9-43c9-45bf-faa6-290a5b788701",
        "colab": {
          "base_uri": "https://localhost:8080/",
          "height": 295
        }
      },
      "source": [
        "# Оставляем на графике только данные из категории вино\n",
        "fig, ax = plt.subplots(figsize=(10, 4))\n",
        "\n",
        "ax.plot(np_years, np_wine_mean, '#a0265d', linewidth=2, label='Вино')\n",
        "\n",
        "ax.set_title('Продажи вина по годам в среднем по России')\n",
        "ax.set_xlabel('Года')\n",
        "ax.set_ylabel('Продажи в литрах на душу населения в год')\n",
        "ax.legend()\n",
        " \n",
        "plt.show()"
      ],
      "execution_count": 22,
      "outputs": [
        {
          "output_type": "display_data",
          "data": {
            "image/png": "[encoded data removed]",
            "text/plain": [
              "<Figure size 720x288 with 1 Axes>"
            ]
          },
          "metadata": {
            "tags": [],
            "needs_background": "light"
          }
        }
      ]
    },
    {
      "cell_type": "markdown",
      "metadata": {
        "id": "pknDFyjrIAJr"
      },
      "source": [
        "Самый низкое потребление вина зафиксировано в начале отчетного периода - 3,03 литра в год на душу населения.\n",
        "После чего был стабильный рост потребления до 2010 года, когда объем вырос до 7,43 литров в год на душу населения.\n",
        "После чего начался период снижения потребления, но в целом, значения последних лет близки к среднему показателю за весь период - 5,6 литров в год на душу населения."
      ]
    },
    {
      "cell_type": "markdown",
      "metadata": {
        "id": "Z7Y7GIw-izlB"
      },
      "source": [
        "Проверим U-критерием Манна — Уитни для несвязанных выборок гипотезу о том, что потребление вина в первой и второй половине отчетного периода различаются."
      ]
    },
    {
      "cell_type": "code",
      "metadata": {
        "id": "Y5t4S6h1irg_",
        "outputId": "742b76c7-bedb-4b52-aedb-8a568b59d558",
        "colab": {
          "base_uri": "https://localhost:8080/",
          "height": 52
        }
      },
      "source": [
        "data1 = np_wine_mean[:9]\n",
        "data2 = np_wine_mean[9:]\n",
        "stat, p = mannwhitneyu(data1, data2)\n",
        "print(\"Mann-Whitney U =\", stat)\n",
        "print(\"p-value =\", p)"
      ],
      "execution_count": 23,
      "outputs": [
        {
          "output_type": "stream",
          "text": [
            "Mann-Whitney U = 3.0\n",
            "p-value = 0.0003514303595517608\n"
          ],
          "name": "stdout"
        }
      ]
    },
    {
      "cell_type": "markdown",
      "metadata": {
        "id": "fF0uV5x2jDC2"
      },
      "source": [
        "Значение p-value < 0.05 говорит о том, что выборки отличаются и данное отличие является статистически значимым."
      ]
    },
    {
      "cell_type": "markdown",
      "metadata": {
        "id": "57r-6sBPJhs5"
      },
      "source": [
        "**График потребления пива в целом по России**"
      ]
    },
    {
      "cell_type": "code",
      "metadata": {
        "id": "NgbC3Bu5Jgv6",
        "outputId": "4682b4ad-5942-49a1-ab6e-fa685f4a2770",
        "colab": {
          "base_uri": "https://localhost:8080/",
          "height": 295
        }
      },
      "source": [
        "# Оставляем на графике только данные из категории пиво\n",
        "fig, ax = plt.subplots(figsize=(10, 4))\n",
        "\n",
        "ax.plot(np_years, np_beer_mean, '#ffb400', linewidth=2, label='Пиво')\n",
        "\n",
        "ax.set_title('Продажи пива по годам в среднем по России')\n",
        "ax.set_xlabel('Года')\n",
        "ax.set_ylabel('Продажи в литрах на душу населения в год')\n",
        "ax.legend()\n",
        " \n",
        "plt.show()"
      ],
      "execution_count": 24,
      "outputs": [
        {
          "output_type": "display_data",
          "data": {
            "image/png": "[encoded data removed]",
            "text/plain": [
              "<Figure size 720x288 with 1 Axes>"
            ]
          },
          "metadata": {
            "tags": [],
            "needs_background": "light"
          }
        }
      ]
    },
    {
      "cell_type": "markdown",
      "metadata": {
        "id": "2jxCXUDtLhDz"
      },
      "source": [
        "Потребление пива за отчетный период выросло в несколько раз с 20,4 литров на душу населения в 1998 году, достигло максимума к 2012 году - 66 литров на человека в год. Дальше график идет на снижение и в 2016 году зафиксировано 49 литров в год на душу населения.\n",
        "\n",
        "**Гипотеза**\n",
        "\n",
        "В первой половине отчетного периода количества потребления пива на душу населения отличается от второй половины. \n",
        "Проверим данную гипотезу тестом для несвязанных небольших выборок данных U-критерием Манна — Уитни."
      ]
    },
    {
      "cell_type": "code",
      "metadata": {
        "id": "pIGx-RY7cSIt",
        "outputId": "6ed8eac0-217a-4339-8712-a89c2768b2f2",
        "colab": {
          "base_uri": "https://localhost:8080/",
          "height": 52
        }
      },
      "source": [
        "data1 = np_beer_mean[:9]\n",
        "data2 = np_beer_mean[9:]\n",
        "stat, p = mannwhitneyu(data1, data2)\n",
        "print(\"Mann-Whitney U =\", stat)\n",
        "print(\"p-value =\", p) "
      ],
      "execution_count": 25,
      "outputs": [
        {
          "output_type": "stream",
          "text": [
            "Mann-Whitney U = 7.0\n",
            "p-value = 0.001099823530556528\n"
          ],
          "name": "stdout"
        }
      ]
    },
    {
      "cell_type": "markdown",
      "metadata": {
        "id": "NXveL4TziR1O"
      },
      "source": [
        "Так как значения p-value значительно меньше 0,05, то можно сделать вывод о том, что различия выборок являются статистически значимыми."
      ]
    },
    {
      "cell_type": "markdown",
      "metadata": {
        "id": "_3DcKhUvjSXK"
      },
      "source": [
        "**График потребления водки в целом по России**"
      ]
    },
    {
      "cell_type": "code",
      "metadata": {
        "id": "f-3E08NMjWI_",
        "outputId": "d34f3916-a246-46e9-c460-80dd0e93913e",
        "colab": {
          "base_uri": "https://localhost:8080/",
          "height": 295
        }
      },
      "source": [
        "# Оставляем на графике только данные из категории водка\n",
        "fig, ax = plt.subplots(figsize=(10, 4))\n",
        "\n",
        "ax.plot(np_years, np_vodka_mean, '#7f7a6d', linewidth=2, label='Водка')\n",
        "\n",
        "ax.set_title('Продажи водки по годам в среднем по России')\n",
        "ax.set_xlabel('Года')\n",
        "ax.set_ylabel('Продажи в литрах на душу населения в год')\n",
        "ax.legend()\n",
        " \n",
        "plt.show()"
      ],
      "execution_count": 26,
      "outputs": [
        {
          "output_type": "display_data",
          "data": {
            "image/png": "[encoded data removed]",
            "text/plain": [
              "<Figure size 720x288 with 1 Axes>"
            ]
          },
          "metadata": {
            "tags": [],
            "needs_background": "light"
          }
        }
      ]
    },
    {
      "cell_type": "markdown",
      "metadata": {
        "id": "KR45bxv-jeD0"
      },
      "source": [
        "Как видно на графике, потребление водки на душу населения в России в последние годы стабильно сокращается.\n",
        "\n",
        "И, хотя, в первые годы отчетного периода был зафиксирован небольшой рост, после 2002 года происходит стабильное снижение потребление водки. Если в 1998 году потребление составляло  12,7 литров на человека в год, то к 2016 году оно достигло 6,6 литров на душу населения в год, то есть стало в 2 раза меньше.\n",
        "\n",
        "К 2016 году потребление водки и вина в России на душу населения практически сровнялось: 6,6 литров водки и 5,9 литров вина.\n",
        "\n",
        "Посмотрим, является ли разница в потреблении водки в первой и второй половинах отчетного периода статистически значимой."
      ]
    },
    {
      "cell_type": "code",
      "metadata": {
        "id": "9Sxu4GaOkvaH",
        "outputId": "8bc9fca2-a030-4797-b4c8-0b9adb489c7f",
        "colab": {
          "base_uri": "https://localhost:8080/",
          "height": 52
        }
      },
      "source": [
        "data1 = np_vodka_mean[:9]\n",
        "data2 = np_vodka_mean[9:]\n",
        "stat, p = mannwhitneyu(data1, data2)\n",
        "print(\"Mann-Whitney U =\", stat)\n",
        "print(\"p-value =\", p) "
      ],
      "execution_count": 27,
      "outputs": [
        {
          "output_type": "stream",
          "text": [
            "Mann-Whitney U = 0.0\n",
            "p-value = 0.00013985013509334326\n"
          ],
          "name": "stdout"
        }
      ]
    },
    {
      "cell_type": "markdown",
      "metadata": {
        "id": "iDBcvPxklCKv"
      },
      "source": [
        "Так как значение p-value = 0,1% или значительно меньше 0,05, при этом U-критерий Манна — Уитни = 0. Следовательно гипотеза не верна и выборки статистически не различаются и это можно утверждать с высокой долей вероятности."
      ]
    },
    {
      "cell_type": "markdown",
      "metadata": {
        "id": "qTHHky76lSDn"
      },
      "source": [
        "**График потребления шампанского в целом по России**"
      ]
    },
    {
      "cell_type": "code",
      "metadata": {
        "id": "wNszw5JKlW0I",
        "outputId": "0a850458-14cb-4017-982d-549c3fb3c11c",
        "colab": {
          "base_uri": "https://localhost:8080/",
          "height": 295
        }
      },
      "source": [
        "# Оставляем на графике только данные из категории шампанское\n",
        "fig, ax = plt.subplots(figsize=(10, 4))\n",
        "\n",
        "ax.plot(np_years, np_champagne_mean, '#00eaff', linewidth=2, label='Шампанское')\n",
        "\n",
        "ax.set_title('Продажи шампанского по годам в среднем по России')\n",
        "ax.set_xlabel('Года')\n",
        "ax.set_ylabel('Продажи в литрах на душу населения в год')\n",
        "ax.legend()\n",
        " \n",
        "plt.show()"
      ],
      "execution_count": 28,
      "outputs": [
        {
          "output_type": "display_data",
          "data": {
            "image/png": "[encoded data removed]",
            "text/plain": [
              "<Figure size 720x288 with 1 Axes>"
            ]
          },
          "metadata": {
            "tags": [],
            "needs_background": "light"
          }
        }
      ]
    },
    {
      "cell_type": "markdown",
      "metadata": {
        "id": "7sV0v3xKlfjx"
      },
      "source": [
        "Шампанское в России является менее популярным напитком, чем водка, пиво или вино и его потребление в разы ниже потребления ранее рассмотренных напитков.\n",
        "\n",
        "Тем не менее за отчетный период потребление шампанского в России выросло с 0,9 литров на душу населения в 1998 до 1,3 литров в 2016 году. При этом пик, так же как с потреблением пива, приходится на 2011-2012 годы - 1,8 литров на человека в год.\n",
        "\n",
        "Посмотрим, является ли различие в потреблении статистически значимым."
      ]
    },
    {
      "cell_type": "code",
      "metadata": {
        "id": "03LxrLeDmM7H",
        "outputId": "c4b8b236-9064-41f7-a351-e5c32f672dfd",
        "colab": {
          "base_uri": "https://localhost:8080/",
          "height": 52
        }
      },
      "source": [
        "data1 = np_champagne_mean[:9]\n",
        "data2 = np_champagne_mean[9:]\n",
        "stat, p = mannwhitneyu(data1, data2)\n",
        "print(\"Mann-Whitney U =\", stat)\n",
        "print(\"p-value =\", p) "
      ],
      "execution_count": 29,
      "outputs": [
        {
          "output_type": "stream",
          "text": [
            "Mann-Whitney U = 0.0\n",
            "p-value = 0.00013985013509334326\n"
          ],
          "name": "stdout"
        }
      ]
    },
    {
      "cell_type": "markdown",
      "metadata": {
        "id": "_j_hTT5WmSz_"
      },
      "source": [
        "Значение p-value = 0.01%, при этом U-критерий Манна — Уитни = 0, из чего следует вывод, что с высокой долей вероятности можно сделать вывод о том, что в первой и второй половине отчетного периода потребление шампанского статистистически не различалось."
      ]
    },
    {
      "cell_type": "markdown",
      "metadata": {
        "id": "XU8cEOJinHai"
      },
      "source": [
        "**График потребления бренди в целом по России**"
      ]
    },
    {
      "cell_type": "code",
      "metadata": {
        "id": "AwKXxjKEnMGG",
        "outputId": "a234d3c6-8b6b-4ffc-849d-13f586ff5c50",
        "colab": {
          "base_uri": "https://localhost:8080/",
          "height": 295
        }
      },
      "source": [
        "# Оставляем на графике только данные из категории бренди\n",
        "fig, ax = plt.subplots(figsize=(10, 4))\n",
        "\n",
        "ax.plot(np_years, np_brandy_mean, '#ff00a8', linewidth=2, label='Бренди')\n",
        "\n",
        "ax.set_title('Продажи бренди по годам в среднем по России')\n",
        "ax.set_xlabel('Года')\n",
        "ax.set_ylabel('Продажи в литрах на душу населения в год')\n",
        "ax.legend()\n",
        " \n",
        "plt.show()"
      ],
      "execution_count": 30,
      "outputs": [
        {
          "output_type": "display_data",
          "data": {
            "image/png": "[encoded data removed]",
            "text/plain": [
              "<Figure size 720x288 with 1 Axes>"
            ]
          },
          "metadata": {
            "tags": [],
            "needs_background": "light"
          }
        }
      ]
    },
    {
      "cell_type": "markdown",
      "metadata": {
        "id": "LiXUVaXcnUNI"
      },
      "source": [
        "Так же как и по другим напиткам, потребление бренди за отчетный период значительно выросло. \n",
        "\n",
        "В 1998 году на душу населения приходилось 0,23 литра бренди в год, а в 2016 - 0,67 литра. Пик опять же приходится на 2012 год, когда потребление достигло 0,83 литра на человека в год.\n",
        "\n",
        "Тем не менее, можно заметить, что потребление бренди близко к потреблению шампанского и сильно меньше, чем потребление вина, водки или пива. "
      ]
    },
    {
      "cell_type": "code",
      "metadata": {
        "id": "WaYoqWczoF1H",
        "outputId": "a820b2c9-aaa6-4603-b379-0dffb51f2862",
        "colab": {
          "base_uri": "https://localhost:8080/",
          "height": 52
        }
      },
      "source": [
        "data1 = np_brandy_mean[:9]\n",
        "data2 = np_brandy_mean[9:]\n",
        "stat, p = mannwhitneyu(data1, data2)\n",
        "print(\"Mann-Whitney U =\", stat)\n",
        "print(\"p-value =\", p) "
      ],
      "execution_count": 31,
      "outputs": [
        {
          "output_type": "stream",
          "text": [
            "Mann-Whitney U = 0.0\n",
            "p-value = 0.00013985013509334326\n"
          ],
          "name": "stdout"
        }
      ]
    },
    {
      "cell_type": "markdown",
      "metadata": {
        "id": "RGW-HaiwoK4N"
      },
      "source": [
        "Расчет U-критерия Манна — Уитни показал, что статистически между выборками нет значительной разницы и результат можно считать статистически достоверным, так как p-value < 0,05."
      ]
    },
    {
      "cell_type": "markdown",
      "metadata": {
        "id": "TEmD-Whf8rSx"
      },
      "source": [
        "**Выводы по потреблению алкоголя по России в целом**\n",
        "1. Утверждение иностранцев, что в России пьют исключительно водку - не верно. Водку пьют, но ее потребление с течением времени сокращается.\n",
        "2. Потребление пива на душу населения в 3-6 раз превышает потребление других алкогольных напитков.\n",
        "3. С ростом благостостояния страны увеличивается количество потребления вина и сокращается потребление водки. При этом значительных изменений в потреблении шампанского и бренди на происходит.\n",
        "4. В начале 2000-х годов произошел резкий всплеск потребления пива на душу населения. Пик пришелся на 2007-2012 годы, после чего начался спад. Потребление увеличилось в 3 раза относительно 1998 года. Гипотеза. Резкий рост потребления пива произошел благодаря развитию технологий и открытию частных пивоварен. Модой на крафтовое пиво и повсеместным открытием магазинов разливного пива. Выбор стал больше и пиво стало пить интереснее. Возможно, также сказалось улучшение благостостояния населения и появилось больше свободных средств, которые можно потратить на не первоочередные нужды. Плюс также мог сыграть роль культурный аспект и перенос встреч с друзьями из дома в бары, развитие барной культуры в России. Можно строить различные гипотезы, но для их проверки требуется большее количество специфических данных.\n",
        "5. На графиках ясно прослеживается обратная динамика потребления водки, относительно других напитков. Только потребление водки сокращается, при этом потребление других алкогольных напитков в стране растет. Так к 2016 году на душу населения приходится примерно одинаковое количества вина и водки: 5,9 литров вина и 6,6 литров водки в год."
      ]
    },
    {
      "cell_type": "markdown",
      "metadata": {
        "id": "pAVM6l4FCRgr"
      },
      "source": [
        "## Заполним пропуски данных средними значениями для данного региона"
      ]
    },
    {
      "cell_type": "markdown",
      "metadata": {
        "id": "aI-iJL86_94T"
      },
      "source": [
        "Заполним пропуски данных средними значениями по данному региону России для данного типа напитка."
      ]
    },
    {
      "cell_type": "code",
      "metadata": {
        "id": "j7qcOj54qZQ7",
        "outputId": "4981e5ee-116d-4cb1-f105-595c6a8024d3",
        "colab": {
          "base_uri": "https://localhost:8080/",
          "height": 326
        }
      },
      "source": [
        "df_region_mean = df_filter.groupby('region').mean()\n",
        "\n",
        "for drink in ['wine', 'beer', 'vodka', 'champagne', 'brandy']:\n",
        "      df_filter.loc[df_filter[drink].isna(), drink] = df_filter.loc[df_filter[drink].isna(), 'region'].apply(lambda reg: df_region_mean.loc[reg, drink])\n",
        "\n",
        "df_filter.head()"
      ],
      "execution_count": 32,
      "outputs": [
        {
          "output_type": "stream",
          "text": [
            "/usr/local/lib/python3.6/dist-packages/pandas/core/indexing.py:1745: SettingWithCopyWarning: \n",
            "A value is trying to be set on a copy of a slice from a DataFrame.\n",
            "Try using .loc[row_indexer,col_indexer] = value instead\n",
            "\n",
            "See the caveats in the documentation: https://pandas.pydata.org/pandas-docs/stable/user_guide/indexing.html#returning-a-view-versus-a-copy\n",
            "  isetter(ilocs[0], value)\n"
          ],
          "name": "stderr"
        },
        {
          "output_type": "execute_result",
          "data": {
            "text/html": [
              "<div>\n",
              "<style scoped>\n",
              "    .dataframe tbody tr th:only-of-type {\n",
              "        vertical-align: middle;\n",
              "    }\n",
              "\n",
              "    .dataframe tbody tr th {\n",
              "        vertical-align: top;\n",
              "    }\n",
              "\n",
              "    .dataframe thead th {\n",
              "        text-align: right;\n",
              "    }\n",
              "</style>\n",
              "<table border=\"1\" class=\"dataframe\">\n",
              "  <thead>\n",
              "    <tr style=\"text-align: right;\">\n",
              "      <th></th>\n",
              "      <th>year</th>\n",
              "      <th>region</th>\n",
              "      <th>wine</th>\n",
              "      <th>beer</th>\n",
              "      <th>vodka</th>\n",
              "      <th>champagne</th>\n",
              "      <th>brandy</th>\n",
              "    </tr>\n",
              "  </thead>\n",
              "  <tbody>\n",
              "    <tr>\n",
              "      <th>0</th>\n",
              "      <td>1998</td>\n",
              "      <td>Republic of Adygea</td>\n",
              "      <td>1.9</td>\n",
              "      <td>8.8</td>\n",
              "      <td>3.4</td>\n",
              "      <td>0.3</td>\n",
              "      <td>0.1</td>\n",
              "    </tr>\n",
              "    <tr>\n",
              "      <th>1</th>\n",
              "      <td>1998</td>\n",
              "      <td>Altai Krai</td>\n",
              "      <td>3.3</td>\n",
              "      <td>19.2</td>\n",
              "      <td>11.3</td>\n",
              "      <td>1.1</td>\n",
              "      <td>0.1</td>\n",
              "    </tr>\n",
              "    <tr>\n",
              "      <th>2</th>\n",
              "      <td>1998</td>\n",
              "      <td>Amur Oblast</td>\n",
              "      <td>2.1</td>\n",
              "      <td>21.2</td>\n",
              "      <td>17.3</td>\n",
              "      <td>0.7</td>\n",
              "      <td>0.4</td>\n",
              "    </tr>\n",
              "    <tr>\n",
              "      <th>3</th>\n",
              "      <td>1998</td>\n",
              "      <td>Arkhangelsk Oblast</td>\n",
              "      <td>4.3</td>\n",
              "      <td>10.6</td>\n",
              "      <td>11.7</td>\n",
              "      <td>0.4</td>\n",
              "      <td>0.3</td>\n",
              "    </tr>\n",
              "    <tr>\n",
              "      <th>4</th>\n",
              "      <td>1998</td>\n",
              "      <td>Astrakhan Oblast</td>\n",
              "      <td>2.9</td>\n",
              "      <td>18.0</td>\n",
              "      <td>9.5</td>\n",
              "      <td>0.8</td>\n",
              "      <td>0.2</td>\n",
              "    </tr>\n",
              "  </tbody>\n",
              "</table>\n",
              "</div>"
            ],
            "text/plain": [
              "   year              region  wine  beer  vodka  champagne  brandy\n",
              "0  1998  Republic of Adygea   1.9   8.8    3.4        0.3     0.1\n",
              "1  1998          Altai Krai   3.3  19.2   11.3        1.1     0.1\n",
              "2  1998         Amur Oblast   2.1  21.2   17.3        0.7     0.4\n",
              "3  1998  Arkhangelsk Oblast   4.3  10.6   11.7        0.4     0.3\n",
              "4  1998    Astrakhan Oblast   2.9  18.0    9.5        0.8     0.2"
            ]
          },
          "metadata": {
            "tags": []
          },
          "execution_count": 32
        }
      ]
    },
    {
      "cell_type": "markdown",
      "metadata": {
        "id": "wHlS_mWhNdIq"
      },
      "source": [
        "## Топ регионов по потреблению алкогольных напитков"
      ]
    },
    {
      "cell_type": "markdown",
      "metadata": {
        "id": "zZ0AG6uITwQV"
      },
      "source": [
        "**ТОП 5 регионов по потреблению вина на душу населения**"
      ]
    },
    {
      "cell_type": "code",
      "metadata": {
        "id": "QcYEsuLPrqDY",
        "outputId": "2e635835-980c-424a-b329-67793428c880",
        "colab": {
          "base_uri": "https://localhost:8080/",
          "height": 253
        }
      },
      "source": [
        "wine_region = pd.pivot_table(df_filter, values='wine', index='region', columns='year', aggfunc='sum')\n",
        "\n",
        "wine_region.sort_values(by=1998, ascending=False).head(5).style.applymap(lambda x: \"background-color: #e65a71\" if x>df_region_mean['wine'].mean() else \"background-color: white\")   "
      ],
      "execution_count": 33,
      "outputs": [
        {
          "output_type": "execute_result",
          "data": {
            "text/html": [
              "<style  type=\"text/css\" >\n",
              "#T_f4262bd0_03cb_11eb_9562_0242ac1c0002row0_col0,#T_f4262bd0_03cb_11eb_9562_0242ac1c0002row0_col1,#T_f4262bd0_03cb_11eb_9562_0242ac1c0002row0_col2,#T_f4262bd0_03cb_11eb_9562_0242ac1c0002row0_col3,#T_f4262bd0_03cb_11eb_9562_0242ac1c0002row0_col4,#T_f4262bd0_03cb_11eb_9562_0242ac1c0002row0_col5,#T_f4262bd0_03cb_11eb_9562_0242ac1c0002row0_col6,#T_f4262bd0_03cb_11eb_9562_0242ac1c0002row0_col7,#T_f4262bd0_03cb_11eb_9562_0242ac1c0002row0_col8,#T_f4262bd0_03cb_11eb_9562_0242ac1c0002row0_col9,#T_f4262bd0_03cb_11eb_9562_0242ac1c0002row0_col10,#T_f4262bd0_03cb_11eb_9562_0242ac1c0002row0_col11,#T_f4262bd0_03cb_11eb_9562_0242ac1c0002row0_col13,#T_f4262bd0_03cb_11eb_9562_0242ac1c0002row1_col0,#T_f4262bd0_03cb_11eb_9562_0242ac1c0002row1_col1,#T_f4262bd0_03cb_11eb_9562_0242ac1c0002row1_col2,#T_f4262bd0_03cb_11eb_9562_0242ac1c0002row1_col3,#T_f4262bd0_03cb_11eb_9562_0242ac1c0002row1_col4,#T_f4262bd0_03cb_11eb_9562_0242ac1c0002row1_col5,#T_f4262bd0_03cb_11eb_9562_0242ac1c0002row1_col6,#T_f4262bd0_03cb_11eb_9562_0242ac1c0002row1_col7,#T_f4262bd0_03cb_11eb_9562_0242ac1c0002row1_col8,#T_f4262bd0_03cb_11eb_9562_0242ac1c0002row1_col9,#T_f4262bd0_03cb_11eb_9562_0242ac1c0002row1_col10,#T_f4262bd0_03cb_11eb_9562_0242ac1c0002row1_col11,#T_f4262bd0_03cb_11eb_9562_0242ac1c0002row1_col12,#T_f4262bd0_03cb_11eb_9562_0242ac1c0002row1_col13,#T_f4262bd0_03cb_11eb_9562_0242ac1c0002row1_col14,#T_f4262bd0_03cb_11eb_9562_0242ac1c0002row2_col0,#T_f4262bd0_03cb_11eb_9562_0242ac1c0002row2_col1,#T_f4262bd0_03cb_11eb_9562_0242ac1c0002row2_col2,#T_f4262bd0_03cb_11eb_9562_0242ac1c0002row2_col5,#T_f4262bd0_03cb_11eb_9562_0242ac1c0002row2_col6,#T_f4262bd0_03cb_11eb_9562_0242ac1c0002row2_col7,#T_f4262bd0_03cb_11eb_9562_0242ac1c0002row2_col8,#T_f4262bd0_03cb_11eb_9562_0242ac1c0002row2_col9,#T_f4262bd0_03cb_11eb_9562_0242ac1c0002row2_col10,#T_f4262bd0_03cb_11eb_9562_0242ac1c0002row2_col11,#T_f4262bd0_03cb_11eb_9562_0242ac1c0002row2_col12,#T_f4262bd0_03cb_11eb_9562_0242ac1c0002row2_col13,#T_f4262bd0_03cb_11eb_9562_0242ac1c0002row2_col14,#T_f4262bd0_03cb_11eb_9562_0242ac1c0002row2_col15,#T_f4262bd0_03cb_11eb_9562_0242ac1c0002row2_col16,#T_f4262bd0_03cb_11eb_9562_0242ac1c0002row2_col17,#T_f4262bd0_03cb_11eb_9562_0242ac1c0002row2_col18,#T_f4262bd0_03cb_11eb_9562_0242ac1c0002row3_col0,#T_f4262bd0_03cb_11eb_9562_0242ac1c0002row3_col1,#T_f4262bd0_03cb_11eb_9562_0242ac1c0002row3_col2,#T_f4262bd0_03cb_11eb_9562_0242ac1c0002row3_col3,#T_f4262bd0_03cb_11eb_9562_0242ac1c0002row3_col4,#T_f4262bd0_03cb_11eb_9562_0242ac1c0002row3_col5,#T_f4262bd0_03cb_11eb_9562_0242ac1c0002row3_col6,#T_f4262bd0_03cb_11eb_9562_0242ac1c0002row3_col7,#T_f4262bd0_03cb_11eb_9562_0242ac1c0002row3_col8,#T_f4262bd0_03cb_11eb_9562_0242ac1c0002row3_col9,#T_f4262bd0_03cb_11eb_9562_0242ac1c0002row3_col10,#T_f4262bd0_03cb_11eb_9562_0242ac1c0002row3_col11,#T_f4262bd0_03cb_11eb_9562_0242ac1c0002row3_col12,#T_f4262bd0_03cb_11eb_9562_0242ac1c0002row3_col13,#T_f4262bd0_03cb_11eb_9562_0242ac1c0002row3_col14,#T_f4262bd0_03cb_11eb_9562_0242ac1c0002row3_col15,#T_f4262bd0_03cb_11eb_9562_0242ac1c0002row3_col16,#T_f4262bd0_03cb_11eb_9562_0242ac1c0002row3_col17,#T_f4262bd0_03cb_11eb_9562_0242ac1c0002row3_col18,#T_f4262bd0_03cb_11eb_9562_0242ac1c0002row4_col0,#T_f4262bd0_03cb_11eb_9562_0242ac1c0002row4_col6,#T_f4262bd0_03cb_11eb_9562_0242ac1c0002row4_col7,#T_f4262bd0_03cb_11eb_9562_0242ac1c0002row4_col8,#T_f4262bd0_03cb_11eb_9562_0242ac1c0002row4_col9,#T_f4262bd0_03cb_11eb_9562_0242ac1c0002row4_col10,#T_f4262bd0_03cb_11eb_9562_0242ac1c0002row4_col11,#T_f4262bd0_03cb_11eb_9562_0242ac1c0002row4_col12,#T_f4262bd0_03cb_11eb_9562_0242ac1c0002row4_col13,#T_f4262bd0_03cb_11eb_9562_0242ac1c0002row4_col14,#T_f4262bd0_03cb_11eb_9562_0242ac1c0002row4_col15,#T_f4262bd0_03cb_11eb_9562_0242ac1c0002row4_col16,#T_f4262bd0_03cb_11eb_9562_0242ac1c0002row4_col17,#T_f4262bd0_03cb_11eb_9562_0242ac1c0002row4_col18{\n",
              "            background-color:  #e65a71;\n",
              "        }#T_f4262bd0_03cb_11eb_9562_0242ac1c0002row0_col12,#T_f4262bd0_03cb_11eb_9562_0242ac1c0002row0_col14,#T_f4262bd0_03cb_11eb_9562_0242ac1c0002row0_col15,#T_f4262bd0_03cb_11eb_9562_0242ac1c0002row0_col16,#T_f4262bd0_03cb_11eb_9562_0242ac1c0002row0_col17,#T_f4262bd0_03cb_11eb_9562_0242ac1c0002row0_col18,#T_f4262bd0_03cb_11eb_9562_0242ac1c0002row1_col15,#T_f4262bd0_03cb_11eb_9562_0242ac1c0002row1_col16,#T_f4262bd0_03cb_11eb_9562_0242ac1c0002row1_col17,#T_f4262bd0_03cb_11eb_9562_0242ac1c0002row1_col18,#T_f4262bd0_03cb_11eb_9562_0242ac1c0002row2_col3,#T_f4262bd0_03cb_11eb_9562_0242ac1c0002row2_col4,#T_f4262bd0_03cb_11eb_9562_0242ac1c0002row4_col1,#T_f4262bd0_03cb_11eb_9562_0242ac1c0002row4_col2,#T_f4262bd0_03cb_11eb_9562_0242ac1c0002row4_col3,#T_f4262bd0_03cb_11eb_9562_0242ac1c0002row4_col4,#T_f4262bd0_03cb_11eb_9562_0242ac1c0002row4_col5{\n",
              "            background-color:  white;\n",
              "        }</style><table id=\"T_f4262bd0_03cb_11eb_9562_0242ac1c0002\" ><thead>    <tr>        <th class=\"index_name level0\" >year</th>        <th class=\"col_heading level0 col0\" >1998</th>        <th class=\"col_heading level0 col1\" >1999</th>        <th class=\"col_heading level0 col2\" >2000</th>        <th class=\"col_heading level0 col3\" >2001</th>        <th class=\"col_heading level0 col4\" >2002</th>        <th class=\"col_heading level0 col5\" >2003</th>        <th class=\"col_heading level0 col6\" >2004</th>        <th class=\"col_heading level0 col7\" >2005</th>        <th class=\"col_heading level0 col8\" >2006</th>        <th class=\"col_heading level0 col9\" >2007</th>        <th class=\"col_heading level0 col10\" >2008</th>        <th class=\"col_heading level0 col11\" >2009</th>        <th class=\"col_heading level0 col12\" >2010</th>        <th class=\"col_heading level0 col13\" >2011</th>        <th class=\"col_heading level0 col14\" >2012</th>        <th class=\"col_heading level0 col15\" >2013</th>        <th class=\"col_heading level0 col16\" >2014</th>        <th class=\"col_heading level0 col17\" >2015</th>        <th class=\"col_heading level0 col18\" >2016</th>    </tr>    <tr>        <th class=\"index_name level0\" >region</th>        <th class=\"blank\" ></th>        <th class=\"blank\" ></th>        <th class=\"blank\" ></th>        <th class=\"blank\" ></th>        <th class=\"blank\" ></th>        <th class=\"blank\" ></th>        <th class=\"blank\" ></th>        <th class=\"blank\" ></th>        <th class=\"blank\" ></th>        <th class=\"blank\" ></th>        <th class=\"blank\" ></th>        <th class=\"blank\" ></th>        <th class=\"blank\" ></th>        <th class=\"blank\" ></th>        <th class=\"blank\" ></th>        <th class=\"blank\" ></th>        <th class=\"blank\" ></th>        <th class=\"blank\" ></th>        <th class=\"blank\" ></th>    </tr></thead><tbody>\n",
              "                <tr>\n",
              "                        <th id=\"T_f4262bd0_03cb_11eb_9562_0242ac1c0002level0_row0\" class=\"row_heading level0 row0\" >Stavropol Krai</th>\n",
              "                        <td id=\"T_f4262bd0_03cb_11eb_9562_0242ac1c0002row0_col0\" class=\"data row0 col0\" >8.800000</td>\n",
              "                        <td id=\"T_f4262bd0_03cb_11eb_9562_0242ac1c0002row0_col1\" class=\"data row0 col1\" >5.900000</td>\n",
              "                        <td id=\"T_f4262bd0_03cb_11eb_9562_0242ac1c0002row0_col2\" class=\"data row0 col2\" >6.400000</td>\n",
              "                        <td id=\"T_f4262bd0_03cb_11eb_9562_0242ac1c0002row0_col3\" class=\"data row0 col3\" >5.900000</td>\n",
              "                        <td id=\"T_f4262bd0_03cb_11eb_9562_0242ac1c0002row0_col4\" class=\"data row0 col4\" >6.000000</td>\n",
              "                        <td id=\"T_f4262bd0_03cb_11eb_9562_0242ac1c0002row0_col5\" class=\"data row0 col5\" >6.100000</td>\n",
              "                        <td id=\"T_f4262bd0_03cb_11eb_9562_0242ac1c0002row0_col6\" class=\"data row0 col6\" >6.200000</td>\n",
              "                        <td id=\"T_f4262bd0_03cb_11eb_9562_0242ac1c0002row0_col7\" class=\"data row0 col7\" >6.800000</td>\n",
              "                        <td id=\"T_f4262bd0_03cb_11eb_9562_0242ac1c0002row0_col8\" class=\"data row0 col8\" >7.300000</td>\n",
              "                        <td id=\"T_f4262bd0_03cb_11eb_9562_0242ac1c0002row0_col9\" class=\"data row0 col9\" >6.800000</td>\n",
              "                        <td id=\"T_f4262bd0_03cb_11eb_9562_0242ac1c0002row0_col10\" class=\"data row0 col10\" >6.800000</td>\n",
              "                        <td id=\"T_f4262bd0_03cb_11eb_9562_0242ac1c0002row0_col11\" class=\"data row0 col11\" >6.400000</td>\n",
              "                        <td id=\"T_f4262bd0_03cb_11eb_9562_0242ac1c0002row0_col12\" class=\"data row0 col12\" >5.400000</td>\n",
              "                        <td id=\"T_f4262bd0_03cb_11eb_9562_0242ac1c0002row0_col13\" class=\"data row0 col13\" >5.970000</td>\n",
              "                        <td id=\"T_f4262bd0_03cb_11eb_9562_0242ac1c0002row0_col14\" class=\"data row0 col14\" >5.500000</td>\n",
              "                        <td id=\"T_f4262bd0_03cb_11eb_9562_0242ac1c0002row0_col15\" class=\"data row0 col15\" >4.500000</td>\n",
              "                        <td id=\"T_f4262bd0_03cb_11eb_9562_0242ac1c0002row0_col16\" class=\"data row0 col16\" >4.800000</td>\n",
              "                        <td id=\"T_f4262bd0_03cb_11eb_9562_0242ac1c0002row0_col17\" class=\"data row0 col17\" >3.900000</td>\n",
              "                        <td id=\"T_f4262bd0_03cb_11eb_9562_0242ac1c0002row0_col18\" class=\"data row0 col18\" >3.800000</td>\n",
              "            </tr>\n",
              "            <tr>\n",
              "                        <th id=\"T_f4262bd0_03cb_11eb_9562_0242ac1c0002level0_row1\" class=\"row_heading level0 row1\" >Krasnodar Krai</th>\n",
              "                        <td id=\"T_f4262bd0_03cb_11eb_9562_0242ac1c0002row1_col0\" class=\"data row1 col0\" >8.500000</td>\n",
              "                        <td id=\"T_f4262bd0_03cb_11eb_9562_0242ac1c0002row1_col1\" class=\"data row1 col1\" >6.800000</td>\n",
              "                        <td id=\"T_f4262bd0_03cb_11eb_9562_0242ac1c0002row1_col2\" class=\"data row1 col2\" >7.000000</td>\n",
              "                        <td id=\"T_f4262bd0_03cb_11eb_9562_0242ac1c0002row1_col3\" class=\"data row1 col3\" >6.600000</td>\n",
              "                        <td id=\"T_f4262bd0_03cb_11eb_9562_0242ac1c0002row1_col4\" class=\"data row1 col4\" >7.900000</td>\n",
              "                        <td id=\"T_f4262bd0_03cb_11eb_9562_0242ac1c0002row1_col5\" class=\"data row1 col5\" >8.700000</td>\n",
              "                        <td id=\"T_f4262bd0_03cb_11eb_9562_0242ac1c0002row1_col6\" class=\"data row1 col6\" >8.800000</td>\n",
              "                        <td id=\"T_f4262bd0_03cb_11eb_9562_0242ac1c0002row1_col7\" class=\"data row1 col7\" >8.900000</td>\n",
              "                        <td id=\"T_f4262bd0_03cb_11eb_9562_0242ac1c0002row1_col8\" class=\"data row1 col8\" >8.300000</td>\n",
              "                        <td id=\"T_f4262bd0_03cb_11eb_9562_0242ac1c0002row1_col9\" class=\"data row1 col9\" >8.200000</td>\n",
              "                        <td id=\"T_f4262bd0_03cb_11eb_9562_0242ac1c0002row1_col10\" class=\"data row1 col10\" >8.700000</td>\n",
              "                        <td id=\"T_f4262bd0_03cb_11eb_9562_0242ac1c0002row1_col11\" class=\"data row1 col11\" >7.800000</td>\n",
              "                        <td id=\"T_f4262bd0_03cb_11eb_9562_0242ac1c0002row1_col12\" class=\"data row1 col12\" >6.700000</td>\n",
              "                        <td id=\"T_f4262bd0_03cb_11eb_9562_0242ac1c0002row1_col13\" class=\"data row1 col13\" >6.470000</td>\n",
              "                        <td id=\"T_f4262bd0_03cb_11eb_9562_0242ac1c0002row1_col14\" class=\"data row1 col14\" >5.700000</td>\n",
              "                        <td id=\"T_f4262bd0_03cb_11eb_9562_0242ac1c0002row1_col15\" class=\"data row1 col15\" >5.100000</td>\n",
              "                        <td id=\"T_f4262bd0_03cb_11eb_9562_0242ac1c0002row1_col16\" class=\"data row1 col16\" >5.600000</td>\n",
              "                        <td id=\"T_f4262bd0_03cb_11eb_9562_0242ac1c0002row1_col17\" class=\"data row1 col17\" >5.600000</td>\n",
              "                        <td id=\"T_f4262bd0_03cb_11eb_9562_0242ac1c0002row1_col18\" class=\"data row1 col18\" >5.300000</td>\n",
              "            </tr>\n",
              "            <tr>\n",
              "                        <th id=\"T_f4262bd0_03cb_11eb_9562_0242ac1c0002level0_row2\" class=\"row_heading level0 row2\" >Moscow</th>\n",
              "                        <td id=\"T_f4262bd0_03cb_11eb_9562_0242ac1c0002row2_col0\" class=\"data row2 col0\" >6.800000</td>\n",
              "                        <td id=\"T_f4262bd0_03cb_11eb_9562_0242ac1c0002row2_col1\" class=\"data row2 col1\" >6.600000</td>\n",
              "                        <td id=\"T_f4262bd0_03cb_11eb_9562_0242ac1c0002row2_col2\" class=\"data row2 col2\" >6.300000</td>\n",
              "                        <td id=\"T_f4262bd0_03cb_11eb_9562_0242ac1c0002row2_col3\" class=\"data row2 col3\" >5.000000</td>\n",
              "                        <td id=\"T_f4262bd0_03cb_11eb_9562_0242ac1c0002row2_col4\" class=\"data row2 col4\" >4.800000</td>\n",
              "                        <td id=\"T_f4262bd0_03cb_11eb_9562_0242ac1c0002row2_col5\" class=\"data row2 col5\" >6.200000</td>\n",
              "                        <td id=\"T_f4262bd0_03cb_11eb_9562_0242ac1c0002row2_col6\" class=\"data row2 col6\" >6.100000</td>\n",
              "                        <td id=\"T_f4262bd0_03cb_11eb_9562_0242ac1c0002row2_col7\" class=\"data row2 col7\" >6.400000</td>\n",
              "                        <td id=\"T_f4262bd0_03cb_11eb_9562_0242ac1c0002row2_col8\" class=\"data row2 col8\" >5.900000</td>\n",
              "                        <td id=\"T_f4262bd0_03cb_11eb_9562_0242ac1c0002row2_col9\" class=\"data row2 col9\" >7.300000</td>\n",
              "                        <td id=\"T_f4262bd0_03cb_11eb_9562_0242ac1c0002row2_col10\" class=\"data row2 col10\" >8.400000</td>\n",
              "                        <td id=\"T_f4262bd0_03cb_11eb_9562_0242ac1c0002row2_col11\" class=\"data row2 col11\" >9.400000</td>\n",
              "                        <td id=\"T_f4262bd0_03cb_11eb_9562_0242ac1c0002row2_col12\" class=\"data row2 col12\" >10.100000</td>\n",
              "                        <td id=\"T_f4262bd0_03cb_11eb_9562_0242ac1c0002row2_col13\" class=\"data row2 col13\" >9.850000</td>\n",
              "                        <td id=\"T_f4262bd0_03cb_11eb_9562_0242ac1c0002row2_col14\" class=\"data row2 col14\" >9.700000</td>\n",
              "                        <td id=\"T_f4262bd0_03cb_11eb_9562_0242ac1c0002row2_col15\" class=\"data row2 col15\" >8.800000</td>\n",
              "                        <td id=\"T_f4262bd0_03cb_11eb_9562_0242ac1c0002row2_col16\" class=\"data row2 col16\" >8.500000</td>\n",
              "                        <td id=\"T_f4262bd0_03cb_11eb_9562_0242ac1c0002row2_col17\" class=\"data row2 col17\" >7.500000</td>\n",
              "                        <td id=\"T_f4262bd0_03cb_11eb_9562_0242ac1c0002row2_col18\" class=\"data row2 col18\" >6.600000</td>\n",
              "            </tr>\n",
              "            <tr>\n",
              "                        <th id=\"T_f4262bd0_03cb_11eb_9562_0242ac1c0002level0_row3\" class=\"row_heading level0 row3\" >Kamchatka Krai</th>\n",
              "                        <td id=\"T_f4262bd0_03cb_11eb_9562_0242ac1c0002row3_col0\" class=\"data row3 col0\" >6.400000</td>\n",
              "                        <td id=\"T_f4262bd0_03cb_11eb_9562_0242ac1c0002row3_col1\" class=\"data row3 col1\" >6.500000</td>\n",
              "                        <td id=\"T_f4262bd0_03cb_11eb_9562_0242ac1c0002row3_col2\" class=\"data row3 col2\" >7.100000</td>\n",
              "                        <td id=\"T_f4262bd0_03cb_11eb_9562_0242ac1c0002row3_col3\" class=\"data row3 col3\" >7.400000</td>\n",
              "                        <td id=\"T_f4262bd0_03cb_11eb_9562_0242ac1c0002row3_col4\" class=\"data row3 col4\" >7.300000</td>\n",
              "                        <td id=\"T_f4262bd0_03cb_11eb_9562_0242ac1c0002row3_col5\" class=\"data row3 col5\" >7.400000</td>\n",
              "                        <td id=\"T_f4262bd0_03cb_11eb_9562_0242ac1c0002row3_col6\" class=\"data row3 col6\" >7.500000</td>\n",
              "                        <td id=\"T_f4262bd0_03cb_11eb_9562_0242ac1c0002row3_col7\" class=\"data row3 col7\" >8.600000</td>\n",
              "                        <td id=\"T_f4262bd0_03cb_11eb_9562_0242ac1c0002row3_col8\" class=\"data row3 col8\" >8.000000</td>\n",
              "                        <td id=\"T_f4262bd0_03cb_11eb_9562_0242ac1c0002row3_col9\" class=\"data row3 col9\" >7.800000</td>\n",
              "                        <td id=\"T_f4262bd0_03cb_11eb_9562_0242ac1c0002row3_col10\" class=\"data row3 col10\" >7.200000</td>\n",
              "                        <td id=\"T_f4262bd0_03cb_11eb_9562_0242ac1c0002row3_col11\" class=\"data row3 col11\" >7.600000</td>\n",
              "                        <td id=\"T_f4262bd0_03cb_11eb_9562_0242ac1c0002row3_col12\" class=\"data row3 col12\" >7.700000</td>\n",
              "                        <td id=\"T_f4262bd0_03cb_11eb_9562_0242ac1c0002row3_col13\" class=\"data row3 col13\" >7.590000</td>\n",
              "                        <td id=\"T_f4262bd0_03cb_11eb_9562_0242ac1c0002row3_col14\" class=\"data row3 col14\" >7.500000</td>\n",
              "                        <td id=\"T_f4262bd0_03cb_11eb_9562_0242ac1c0002row3_col15\" class=\"data row3 col15\" >6.700000</td>\n",
              "                        <td id=\"T_f4262bd0_03cb_11eb_9562_0242ac1c0002row3_col16\" class=\"data row3 col16\" >6.400000</td>\n",
              "                        <td id=\"T_f4262bd0_03cb_11eb_9562_0242ac1c0002row3_col17\" class=\"data row3 col17\" >7.000000</td>\n",
              "                        <td id=\"T_f4262bd0_03cb_11eb_9562_0242ac1c0002row3_col18\" class=\"data row3 col18\" >6.600000</td>\n",
              "            </tr>\n",
              "            <tr>\n",
              "                        <th id=\"T_f4262bd0_03cb_11eb_9562_0242ac1c0002level0_row4\" class=\"row_heading level0 row4\" >Magadan Oblast</th>\n",
              "                        <td id=\"T_f4262bd0_03cb_11eb_9562_0242ac1c0002row4_col0\" class=\"data row4 col0\" >6.200000</td>\n",
              "                        <td id=\"T_f4262bd0_03cb_11eb_9562_0242ac1c0002row4_col1\" class=\"data row4 col1\" >4.800000</td>\n",
              "                        <td id=\"T_f4262bd0_03cb_11eb_9562_0242ac1c0002row4_col2\" class=\"data row4 col2\" >4.300000</td>\n",
              "                        <td id=\"T_f4262bd0_03cb_11eb_9562_0242ac1c0002row4_col3\" class=\"data row4 col3\" >4.700000</td>\n",
              "                        <td id=\"T_f4262bd0_03cb_11eb_9562_0242ac1c0002row4_col4\" class=\"data row4 col4\" >4.000000</td>\n",
              "                        <td id=\"T_f4262bd0_03cb_11eb_9562_0242ac1c0002row4_col5\" class=\"data row4 col5\" >4.800000</td>\n",
              "                        <td id=\"T_f4262bd0_03cb_11eb_9562_0242ac1c0002row4_col6\" class=\"data row4 col6\" >5.900000</td>\n",
              "                        <td id=\"T_f4262bd0_03cb_11eb_9562_0242ac1c0002row4_col7\" class=\"data row4 col7\" >6.700000</td>\n",
              "                        <td id=\"T_f4262bd0_03cb_11eb_9562_0242ac1c0002row4_col8\" class=\"data row4 col8\" >6.600000</td>\n",
              "                        <td id=\"T_f4262bd0_03cb_11eb_9562_0242ac1c0002row4_col9\" class=\"data row4 col9\" >7.300000</td>\n",
              "                        <td id=\"T_f4262bd0_03cb_11eb_9562_0242ac1c0002row4_col10\" class=\"data row4 col10\" >8.100000</td>\n",
              "                        <td id=\"T_f4262bd0_03cb_11eb_9562_0242ac1c0002row4_col11\" class=\"data row4 col11\" >8.800000</td>\n",
              "                        <td id=\"T_f4262bd0_03cb_11eb_9562_0242ac1c0002row4_col12\" class=\"data row4 col12\" >7.900000</td>\n",
              "                        <td id=\"T_f4262bd0_03cb_11eb_9562_0242ac1c0002row4_col13\" class=\"data row4 col13\" >8.170000</td>\n",
              "                        <td id=\"T_f4262bd0_03cb_11eb_9562_0242ac1c0002row4_col14\" class=\"data row4 col14\" >8.000000</td>\n",
              "                        <td id=\"T_f4262bd0_03cb_11eb_9562_0242ac1c0002row4_col15\" class=\"data row4 col15\" >6.800000</td>\n",
              "                        <td id=\"T_f4262bd0_03cb_11eb_9562_0242ac1c0002row4_col16\" class=\"data row4 col16\" >7.700000</td>\n",
              "                        <td id=\"T_f4262bd0_03cb_11eb_9562_0242ac1c0002row4_col17\" class=\"data row4 col17\" >8.200000</td>\n",
              "                        <td id=\"T_f4262bd0_03cb_11eb_9562_0242ac1c0002row4_col18\" class=\"data row4 col18\" >7.600000</td>\n",
              "            </tr>\n",
              "    </tbody></table>"
            ],
            "text/plain": [
              "<pandas.io.formats.style.Styler at 0x7ffa017eb7f0>"
            ]
          },
          "metadata": {
            "tags": []
          },
          "execution_count": 33
        }
      ]
    },
    {
      "cell_type": "markdown",
      "metadata": {
        "id": "--5hkuskUXot"
      },
      "source": [
        "В 1998 году первое место по потреблению вина занял\n",
        "1. Ставрапольский Край со значением 8,8 литров на душу населения.\n",
        "2. На втором месте - Краснодарский край - 8,5 литров.\n",
        "3. Москва - 6,8 литров.\n",
        "4. Камчатка - 6,4 литра\n",
        "5. Магаданская область - 6,2 литра.\n",
        "\n",
        "Как видно из таблицы, с течением времени том регионов менялся и к 2016 году первенство заняли другие регионы."
      ]
    },
    {
      "cell_type": "code",
      "metadata": {
        "id": "IVdMedcZUaZ5",
        "outputId": "92401d6e-deca-4ead-d3c3-c6446bfb26e0",
        "colab": {
          "base_uri": "https://localhost:8080/",
          "height": 288
        }
      },
      "source": [
        "wine_region = pd.pivot_table(df_filter, values='wine', index='region', columns='year', aggfunc='sum')\n",
        "\n",
        "wine_region.sort_values(by=2016, ascending=False).head(5).style.applymap(lambda x: \"background-color: #e65a71\" if x>df_region_mean['wine'].mean() else \"background-color: white\")   "
      ],
      "execution_count": 34,
      "outputs": [
        {
          "output_type": "execute_result",
          "data": {
            "text/html": [
              "<style  type=\"text/css\" >\n",
              "#T_f4327c50_03cb_11eb_9562_0242ac1c0002row0_col0,#T_f4327c50_03cb_11eb_9562_0242ac1c0002row0_col1,#T_f4327c50_03cb_11eb_9562_0242ac1c0002row0_col2,#T_f4327c50_03cb_11eb_9562_0242ac1c0002row1_col0,#T_f4327c50_03cb_11eb_9562_0242ac1c0002row1_col1,#T_f4327c50_03cb_11eb_9562_0242ac1c0002row1_col2,#T_f4327c50_03cb_11eb_9562_0242ac1c0002row1_col3,#T_f4327c50_03cb_11eb_9562_0242ac1c0002row2_col0,#T_f4327c50_03cb_11eb_9562_0242ac1c0002row2_col1,#T_f4327c50_03cb_11eb_9562_0242ac1c0002row2_col2,#T_f4327c50_03cb_11eb_9562_0242ac1c0002row2_col3,#T_f4327c50_03cb_11eb_9562_0242ac1c0002row2_col4,#T_f4327c50_03cb_11eb_9562_0242ac1c0002row2_col5,#T_f4327c50_03cb_11eb_9562_0242ac1c0002row3_col0,#T_f4327c50_03cb_11eb_9562_0242ac1c0002row4_col0,#T_f4327c50_03cb_11eb_9562_0242ac1c0002row4_col1,#T_f4327c50_03cb_11eb_9562_0242ac1c0002row4_col2,#T_f4327c50_03cb_11eb_9562_0242ac1c0002row4_col3,#T_f4327c50_03cb_11eb_9562_0242ac1c0002row4_col4,#T_f4327c50_03cb_11eb_9562_0242ac1c0002row4_col5,#T_f4327c50_03cb_11eb_9562_0242ac1c0002row4_col6,#T_f4327c50_03cb_11eb_9562_0242ac1c0002row4_col7{\n",
              "            background-color:  white;\n",
              "        }#T_f4327c50_03cb_11eb_9562_0242ac1c0002row0_col3,#T_f4327c50_03cb_11eb_9562_0242ac1c0002row0_col4,#T_f4327c50_03cb_11eb_9562_0242ac1c0002row0_col5,#T_f4327c50_03cb_11eb_9562_0242ac1c0002row0_col6,#T_f4327c50_03cb_11eb_9562_0242ac1c0002row0_col7,#T_f4327c50_03cb_11eb_9562_0242ac1c0002row0_col8,#T_f4327c50_03cb_11eb_9562_0242ac1c0002row0_col9,#T_f4327c50_03cb_11eb_9562_0242ac1c0002row0_col10,#T_f4327c50_03cb_11eb_9562_0242ac1c0002row0_col11,#T_f4327c50_03cb_11eb_9562_0242ac1c0002row0_col12,#T_f4327c50_03cb_11eb_9562_0242ac1c0002row0_col13,#T_f4327c50_03cb_11eb_9562_0242ac1c0002row0_col14,#T_f4327c50_03cb_11eb_9562_0242ac1c0002row0_col15,#T_f4327c50_03cb_11eb_9562_0242ac1c0002row0_col16,#T_f4327c50_03cb_11eb_9562_0242ac1c0002row0_col17,#T_f4327c50_03cb_11eb_9562_0242ac1c0002row0_col18,#T_f4327c50_03cb_11eb_9562_0242ac1c0002row1_col4,#T_f4327c50_03cb_11eb_9562_0242ac1c0002row1_col5,#T_f4327c50_03cb_11eb_9562_0242ac1c0002row1_col6,#T_f4327c50_03cb_11eb_9562_0242ac1c0002row1_col7,#T_f4327c50_03cb_11eb_9562_0242ac1c0002row1_col8,#T_f4327c50_03cb_11eb_9562_0242ac1c0002row1_col9,#T_f4327c50_03cb_11eb_9562_0242ac1c0002row1_col10,#T_f4327c50_03cb_11eb_9562_0242ac1c0002row1_col11,#T_f4327c50_03cb_11eb_9562_0242ac1c0002row1_col12,#T_f4327c50_03cb_11eb_9562_0242ac1c0002row1_col13,#T_f4327c50_03cb_11eb_9562_0242ac1c0002row1_col14,#T_f4327c50_03cb_11eb_9562_0242ac1c0002row1_col15,#T_f4327c50_03cb_11eb_9562_0242ac1c0002row1_col16,#T_f4327c50_03cb_11eb_9562_0242ac1c0002row1_col17,#T_f4327c50_03cb_11eb_9562_0242ac1c0002row1_col18,#T_f4327c50_03cb_11eb_9562_0242ac1c0002row2_col6,#T_f4327c50_03cb_11eb_9562_0242ac1c0002row2_col7,#T_f4327c50_03cb_11eb_9562_0242ac1c0002row2_col8,#T_f4327c50_03cb_11eb_9562_0242ac1c0002row2_col9,#T_f4327c50_03cb_11eb_9562_0242ac1c0002row2_col10,#T_f4327c50_03cb_11eb_9562_0242ac1c0002row2_col11,#T_f4327c50_03cb_11eb_9562_0242ac1c0002row2_col12,#T_f4327c50_03cb_11eb_9562_0242ac1c0002row2_col13,#T_f4327c50_03cb_11eb_9562_0242ac1c0002row2_col14,#T_f4327c50_03cb_11eb_9562_0242ac1c0002row2_col15,#T_f4327c50_03cb_11eb_9562_0242ac1c0002row2_col16,#T_f4327c50_03cb_11eb_9562_0242ac1c0002row2_col17,#T_f4327c50_03cb_11eb_9562_0242ac1c0002row2_col18,#T_f4327c50_03cb_11eb_9562_0242ac1c0002row3_col1,#T_f4327c50_03cb_11eb_9562_0242ac1c0002row3_col2,#T_f4327c50_03cb_11eb_9562_0242ac1c0002row3_col3,#T_f4327c50_03cb_11eb_9562_0242ac1c0002row3_col4,#T_f4327c50_03cb_11eb_9562_0242ac1c0002row3_col5,#T_f4327c50_03cb_11eb_9562_0242ac1c0002row3_col6,#T_f4327c50_03cb_11eb_9562_0242ac1c0002row3_col7,#T_f4327c50_03cb_11eb_9562_0242ac1c0002row3_col8,#T_f4327c50_03cb_11eb_9562_0242ac1c0002row3_col9,#T_f4327c50_03cb_11eb_9562_0242ac1c0002row3_col10,#T_f4327c50_03cb_11eb_9562_0242ac1c0002row3_col11,#T_f4327c50_03cb_11eb_9562_0242ac1c0002row3_col12,#T_f4327c50_03cb_11eb_9562_0242ac1c0002row3_col13,#T_f4327c50_03cb_11eb_9562_0242ac1c0002row3_col14,#T_f4327c50_03cb_11eb_9562_0242ac1c0002row3_col15,#T_f4327c50_03cb_11eb_9562_0242ac1c0002row3_col16,#T_f4327c50_03cb_11eb_9562_0242ac1c0002row3_col17,#T_f4327c50_03cb_11eb_9562_0242ac1c0002row3_col18,#T_f4327c50_03cb_11eb_9562_0242ac1c0002row4_col8,#T_f4327c50_03cb_11eb_9562_0242ac1c0002row4_col9,#T_f4327c50_03cb_11eb_9562_0242ac1c0002row4_col10,#T_f4327c50_03cb_11eb_9562_0242ac1c0002row4_col11,#T_f4327c50_03cb_11eb_9562_0242ac1c0002row4_col12,#T_f4327c50_03cb_11eb_9562_0242ac1c0002row4_col13,#T_f4327c50_03cb_11eb_9562_0242ac1c0002row4_col14,#T_f4327c50_03cb_11eb_9562_0242ac1c0002row4_col15,#T_f4327c50_03cb_11eb_9562_0242ac1c0002row4_col16,#T_f4327c50_03cb_11eb_9562_0242ac1c0002row4_col17,#T_f4327c50_03cb_11eb_9562_0242ac1c0002row4_col18{\n",
              "            background-color:  #e65a71;\n",
              "        }</style><table id=\"T_f4327c50_03cb_11eb_9562_0242ac1c0002\" ><thead>    <tr>        <th class=\"index_name level0\" >year</th>        <th class=\"col_heading level0 col0\" >1998</th>        <th class=\"col_heading level0 col1\" >1999</th>        <th class=\"col_heading level0 col2\" >2000</th>        <th class=\"col_heading level0 col3\" >2001</th>        <th class=\"col_heading level0 col4\" >2002</th>        <th class=\"col_heading level0 col5\" >2003</th>        <th class=\"col_heading level0 col6\" >2004</th>        <th class=\"col_heading level0 col7\" >2005</th>        <th class=\"col_heading level0 col8\" >2006</th>        <th class=\"col_heading level0 col9\" >2007</th>        <th class=\"col_heading level0 col10\" >2008</th>        <th class=\"col_heading level0 col11\" >2009</th>        <th class=\"col_heading level0 col12\" >2010</th>        <th class=\"col_heading level0 col13\" >2011</th>        <th class=\"col_heading level0 col14\" >2012</th>        <th class=\"col_heading level0 col15\" >2013</th>        <th class=\"col_heading level0 col16\" >2014</th>        <th class=\"col_heading level0 col17\" >2015</th>        <th class=\"col_heading level0 col18\" >2016</th>    </tr>    <tr>        <th class=\"index_name level0\" >region</th>        <th class=\"blank\" ></th>        <th class=\"blank\" ></th>        <th class=\"blank\" ></th>        <th class=\"blank\" ></th>        <th class=\"blank\" ></th>        <th class=\"blank\" ></th>        <th class=\"blank\" ></th>        <th class=\"blank\" ></th>        <th class=\"blank\" ></th>        <th class=\"blank\" ></th>        <th class=\"blank\" ></th>        <th class=\"blank\" ></th>        <th class=\"blank\" ></th>        <th class=\"blank\" ></th>        <th class=\"blank\" ></th>        <th class=\"blank\" ></th>        <th class=\"blank\" ></th>        <th class=\"blank\" ></th>        <th class=\"blank\" ></th>    </tr></thead><tbody>\n",
              "                <tr>\n",
              "                        <th id=\"T_f4327c50_03cb_11eb_9562_0242ac1c0002level0_row0\" class=\"row_heading level0 row0\" >Nenets Autonomous Okrug</th>\n",
              "                        <td id=\"T_f4327c50_03cb_11eb_9562_0242ac1c0002row0_col0\" class=\"data row0 col0\" >4.300000</td>\n",
              "                        <td id=\"T_f4327c50_03cb_11eb_9562_0242ac1c0002row0_col1\" class=\"data row0 col1\" >4.600000</td>\n",
              "                        <td id=\"T_f4327c50_03cb_11eb_9562_0242ac1c0002row0_col2\" class=\"data row0 col2\" >5.500000</td>\n",
              "                        <td id=\"T_f4327c50_03cb_11eb_9562_0242ac1c0002row0_col3\" class=\"data row0 col3\" >7.000000</td>\n",
              "                        <td id=\"T_f4327c50_03cb_11eb_9562_0242ac1c0002row0_col4\" class=\"data row0 col4\" >8.100000</td>\n",
              "                        <td id=\"T_f4327c50_03cb_11eb_9562_0242ac1c0002row0_col5\" class=\"data row0 col5\" >9.200000</td>\n",
              "                        <td id=\"T_f4327c50_03cb_11eb_9562_0242ac1c0002row0_col6\" class=\"data row0 col6\" >7.000000</td>\n",
              "                        <td id=\"T_f4327c50_03cb_11eb_9562_0242ac1c0002row0_col7\" class=\"data row0 col7\" >7.600000</td>\n",
              "                        <td id=\"T_f4327c50_03cb_11eb_9562_0242ac1c0002row0_col8\" class=\"data row0 col8\" >8.600000</td>\n",
              "                        <td id=\"T_f4327c50_03cb_11eb_9562_0242ac1c0002row0_col9\" class=\"data row0 col9\" >10.100000</td>\n",
              "                        <td id=\"T_f4327c50_03cb_11eb_9562_0242ac1c0002row0_col10\" class=\"data row0 col10\" >10.700000</td>\n",
              "                        <td id=\"T_f4327c50_03cb_11eb_9562_0242ac1c0002row0_col11\" class=\"data row0 col11\" >11.300000</td>\n",
              "                        <td id=\"T_f4327c50_03cb_11eb_9562_0242ac1c0002row0_col12\" class=\"data row0 col12\" >12.000000</td>\n",
              "                        <td id=\"T_f4327c50_03cb_11eb_9562_0242ac1c0002row0_col13\" class=\"data row0 col13\" >10.530000</td>\n",
              "                        <td id=\"T_f4327c50_03cb_11eb_9562_0242ac1c0002row0_col14\" class=\"data row0 col14\" >9.900000</td>\n",
              "                        <td id=\"T_f4327c50_03cb_11eb_9562_0242ac1c0002row0_col15\" class=\"data row0 col15\" >8.400000</td>\n",
              "                        <td id=\"T_f4327c50_03cb_11eb_9562_0242ac1c0002row0_col16\" class=\"data row0 col16\" >11.400000</td>\n",
              "                        <td id=\"T_f4327c50_03cb_11eb_9562_0242ac1c0002row0_col17\" class=\"data row0 col17\" >12.800000</td>\n",
              "                        <td id=\"T_f4327c50_03cb_11eb_9562_0242ac1c0002row0_col18\" class=\"data row0 col18\" >11.700000</td>\n",
              "            </tr>\n",
              "            <tr>\n",
              "                        <th id=\"T_f4327c50_03cb_11eb_9562_0242ac1c0002level0_row1\" class=\"row_heading level0 row1\" >Republic of Karelia</th>\n",
              "                        <td id=\"T_f4327c50_03cb_11eb_9562_0242ac1c0002row1_col0\" class=\"data row1 col0\" >3.200000</td>\n",
              "                        <td id=\"T_f4327c50_03cb_11eb_9562_0242ac1c0002row1_col1\" class=\"data row1 col1\" >2.400000</td>\n",
              "                        <td id=\"T_f4327c50_03cb_11eb_9562_0242ac1c0002row1_col2\" class=\"data row1 col2\" >2.800000</td>\n",
              "                        <td id=\"T_f4327c50_03cb_11eb_9562_0242ac1c0002row1_col3\" class=\"data row1 col3\" >5.100000</td>\n",
              "                        <td id=\"T_f4327c50_03cb_11eb_9562_0242ac1c0002row1_col4\" class=\"data row1 col4\" >9.300000</td>\n",
              "                        <td id=\"T_f4327c50_03cb_11eb_9562_0242ac1c0002row1_col5\" class=\"data row1 col5\" >13.500000</td>\n",
              "                        <td id=\"T_f4327c50_03cb_11eb_9562_0242ac1c0002row1_col6\" class=\"data row1 col6\" >16.900000</td>\n",
              "                        <td id=\"T_f4327c50_03cb_11eb_9562_0242ac1c0002row1_col7\" class=\"data row1 col7\" >15.000000</td>\n",
              "                        <td id=\"T_f4327c50_03cb_11eb_9562_0242ac1c0002row1_col8\" class=\"data row1 col8\" >14.700000</td>\n",
              "                        <td id=\"T_f4327c50_03cb_11eb_9562_0242ac1c0002row1_col9\" class=\"data row1 col9\" >11.900000</td>\n",
              "                        <td id=\"T_f4327c50_03cb_11eb_9562_0242ac1c0002row1_col10\" class=\"data row1 col10\" >14.300000</td>\n",
              "                        <td id=\"T_f4327c50_03cb_11eb_9562_0242ac1c0002row1_col11\" class=\"data row1 col11\" >13.600000</td>\n",
              "                        <td id=\"T_f4327c50_03cb_11eb_9562_0242ac1c0002row1_col12\" class=\"data row1 col12\" >12.900000</td>\n",
              "                        <td id=\"T_f4327c50_03cb_11eb_9562_0242ac1c0002row1_col13\" class=\"data row1 col13\" >11.980000</td>\n",
              "                        <td id=\"T_f4327c50_03cb_11eb_9562_0242ac1c0002row1_col14\" class=\"data row1 col14\" >10.600000</td>\n",
              "                        <td id=\"T_f4327c50_03cb_11eb_9562_0242ac1c0002row1_col15\" class=\"data row1 col15\" >10.800000</td>\n",
              "                        <td id=\"T_f4327c50_03cb_11eb_9562_0242ac1c0002row1_col16\" class=\"data row1 col16\" >12.300000</td>\n",
              "                        <td id=\"T_f4327c50_03cb_11eb_9562_0242ac1c0002row1_col17\" class=\"data row1 col17\" >11.700000</td>\n",
              "                        <td id=\"T_f4327c50_03cb_11eb_9562_0242ac1c0002row1_col18\" class=\"data row1 col18\" >11.500000</td>\n",
              "            </tr>\n",
              "            <tr>\n",
              "                        <th id=\"T_f4327c50_03cb_11eb_9562_0242ac1c0002level0_row2\" class=\"row_heading level0 row2\" >Novgorod Oblast</th>\n",
              "                        <td id=\"T_f4327c50_03cb_11eb_9562_0242ac1c0002row2_col0\" class=\"data row2 col0\" >4.100000</td>\n",
              "                        <td id=\"T_f4327c50_03cb_11eb_9562_0242ac1c0002row2_col1\" class=\"data row2 col1\" >4.900000</td>\n",
              "                        <td id=\"T_f4327c50_03cb_11eb_9562_0242ac1c0002row2_col2\" class=\"data row2 col2\" >4.600000</td>\n",
              "                        <td id=\"T_f4327c50_03cb_11eb_9562_0242ac1c0002row2_col3\" class=\"data row2 col3\" >4.600000</td>\n",
              "                        <td id=\"T_f4327c50_03cb_11eb_9562_0242ac1c0002row2_col4\" class=\"data row2 col4\" >5.000000</td>\n",
              "                        <td id=\"T_f4327c50_03cb_11eb_9562_0242ac1c0002row2_col5\" class=\"data row2 col5\" >5.500000</td>\n",
              "                        <td id=\"T_f4327c50_03cb_11eb_9562_0242ac1c0002row2_col6\" class=\"data row2 col6\" >5.900000</td>\n",
              "                        <td id=\"T_f4327c50_03cb_11eb_9562_0242ac1c0002row2_col7\" class=\"data row2 col7\" >6.100000</td>\n",
              "                        <td id=\"T_f4327c50_03cb_11eb_9562_0242ac1c0002row2_col8\" class=\"data row2 col8\" >6.400000</td>\n",
              "                        <td id=\"T_f4327c50_03cb_11eb_9562_0242ac1c0002row2_col9\" class=\"data row2 col9\" >12.100000</td>\n",
              "                        <td id=\"T_f4327c50_03cb_11eb_9562_0242ac1c0002row2_col10\" class=\"data row2 col10\" >14.500000</td>\n",
              "                        <td id=\"T_f4327c50_03cb_11eb_9562_0242ac1c0002row2_col11\" class=\"data row2 col11\" >14.800000</td>\n",
              "                        <td id=\"T_f4327c50_03cb_11eb_9562_0242ac1c0002row2_col12\" class=\"data row2 col12\" >14.800000</td>\n",
              "                        <td id=\"T_f4327c50_03cb_11eb_9562_0242ac1c0002row2_col13\" class=\"data row2 col13\" >13.710000</td>\n",
              "                        <td id=\"T_f4327c50_03cb_11eb_9562_0242ac1c0002row2_col14\" class=\"data row2 col14\" >13.100000</td>\n",
              "                        <td id=\"T_f4327c50_03cb_11eb_9562_0242ac1c0002row2_col15\" class=\"data row2 col15\" >11.300000</td>\n",
              "                        <td id=\"T_f4327c50_03cb_11eb_9562_0242ac1c0002row2_col16\" class=\"data row2 col16\" >12.000000</td>\n",
              "                        <td id=\"T_f4327c50_03cb_11eb_9562_0242ac1c0002row2_col17\" class=\"data row2 col17\" >10.500000</td>\n",
              "                        <td id=\"T_f4327c50_03cb_11eb_9562_0242ac1c0002row2_col18\" class=\"data row2 col18\" >10.600000</td>\n",
              "            </tr>\n",
              "            <tr>\n",
              "                        <th id=\"T_f4327c50_03cb_11eb_9562_0242ac1c0002level0_row3\" class=\"row_heading level0 row3\" >Pskov Oblast</th>\n",
              "                        <td id=\"T_f4327c50_03cb_11eb_9562_0242ac1c0002row3_col0\" class=\"data row3 col0\" >1.800000</td>\n",
              "                        <td id=\"T_f4327c50_03cb_11eb_9562_0242ac1c0002row3_col1\" class=\"data row3 col1\" >6.100000</td>\n",
              "                        <td id=\"T_f4327c50_03cb_11eb_9562_0242ac1c0002row3_col2\" class=\"data row3 col2\" >7.100000</td>\n",
              "                        <td id=\"T_f4327c50_03cb_11eb_9562_0242ac1c0002row3_col3\" class=\"data row3 col3\" >9.600000</td>\n",
              "                        <td id=\"T_f4327c50_03cb_11eb_9562_0242ac1c0002row3_col4\" class=\"data row3 col4\" >10.300000</td>\n",
              "                        <td id=\"T_f4327c50_03cb_11eb_9562_0242ac1c0002row3_col5\" class=\"data row3 col5\" >13.500000</td>\n",
              "                        <td id=\"T_f4327c50_03cb_11eb_9562_0242ac1c0002row3_col6\" class=\"data row3 col6\" >17.500000</td>\n",
              "                        <td id=\"T_f4327c50_03cb_11eb_9562_0242ac1c0002row3_col7\" class=\"data row3 col7\" >12.800000</td>\n",
              "                        <td id=\"T_f4327c50_03cb_11eb_9562_0242ac1c0002row3_col8\" class=\"data row3 col8\" >11.800000</td>\n",
              "                        <td id=\"T_f4327c50_03cb_11eb_9562_0242ac1c0002row3_col9\" class=\"data row3 col9\" >10.200000</td>\n",
              "                        <td id=\"T_f4327c50_03cb_11eb_9562_0242ac1c0002row3_col10\" class=\"data row3 col10\" >9.500000</td>\n",
              "                        <td id=\"T_f4327c50_03cb_11eb_9562_0242ac1c0002row3_col11\" class=\"data row3 col11\" >10.300000</td>\n",
              "                        <td id=\"T_f4327c50_03cb_11eb_9562_0242ac1c0002row3_col12\" class=\"data row3 col12\" >13.600000</td>\n",
              "                        <td id=\"T_f4327c50_03cb_11eb_9562_0242ac1c0002row3_col13\" class=\"data row3 col13\" >12.750000</td>\n",
              "                        <td id=\"T_f4327c50_03cb_11eb_9562_0242ac1c0002row3_col14\" class=\"data row3 col14\" >9.500000</td>\n",
              "                        <td id=\"T_f4327c50_03cb_11eb_9562_0242ac1c0002row3_col15\" class=\"data row3 col15\" >7.300000</td>\n",
              "                        <td id=\"T_f4327c50_03cb_11eb_9562_0242ac1c0002row3_col16\" class=\"data row3 col16\" >12.100000</td>\n",
              "                        <td id=\"T_f4327c50_03cb_11eb_9562_0242ac1c0002row3_col17\" class=\"data row3 col17\" >9.700000</td>\n",
              "                        <td id=\"T_f4327c50_03cb_11eb_9562_0242ac1c0002row3_col18\" class=\"data row3 col18\" >10.400000</td>\n",
              "            </tr>\n",
              "            <tr>\n",
              "                        <th id=\"T_f4327c50_03cb_11eb_9562_0242ac1c0002level0_row4\" class=\"row_heading level0 row4\" >Yaroslavl Oblast</th>\n",
              "                        <td id=\"T_f4327c50_03cb_11eb_9562_0242ac1c0002row4_col0\" class=\"data row4 col0\" >3.500000</td>\n",
              "                        <td id=\"T_f4327c50_03cb_11eb_9562_0242ac1c0002row4_col1\" class=\"data row4 col1\" >3.600000</td>\n",
              "                        <td id=\"T_f4327c50_03cb_11eb_9562_0242ac1c0002row4_col2\" class=\"data row4 col2\" >3.500000</td>\n",
              "                        <td id=\"T_f4327c50_03cb_11eb_9562_0242ac1c0002row4_col3\" class=\"data row4 col3\" >4.300000</td>\n",
              "                        <td id=\"T_f4327c50_03cb_11eb_9562_0242ac1c0002row4_col4\" class=\"data row4 col4\" >4.500000</td>\n",
              "                        <td id=\"T_f4327c50_03cb_11eb_9562_0242ac1c0002row4_col5\" class=\"data row4 col5\" >3.800000</td>\n",
              "                        <td id=\"T_f4327c50_03cb_11eb_9562_0242ac1c0002row4_col6\" class=\"data row4 col6\" >3.900000</td>\n",
              "                        <td id=\"T_f4327c50_03cb_11eb_9562_0242ac1c0002row4_col7\" class=\"data row4 col7\" >5.500000</td>\n",
              "                        <td id=\"T_f4327c50_03cb_11eb_9562_0242ac1c0002row4_col8\" class=\"data row4 col8\" >5.700000</td>\n",
              "                        <td id=\"T_f4327c50_03cb_11eb_9562_0242ac1c0002row4_col9\" class=\"data row4 col9\" >9.700000</td>\n",
              "                        <td id=\"T_f4327c50_03cb_11eb_9562_0242ac1c0002row4_col10\" class=\"data row4 col10\" >10.400000</td>\n",
              "                        <td id=\"T_f4327c50_03cb_11eb_9562_0242ac1c0002row4_col11\" class=\"data row4 col11\" >10.000000</td>\n",
              "                        <td id=\"T_f4327c50_03cb_11eb_9562_0242ac1c0002row4_col12\" class=\"data row4 col12\" >11.300000</td>\n",
              "                        <td id=\"T_f4327c50_03cb_11eb_9562_0242ac1c0002row4_col13\" class=\"data row4 col13\" >10.270000</td>\n",
              "                        <td id=\"T_f4327c50_03cb_11eb_9562_0242ac1c0002row4_col14\" class=\"data row4 col14\" >9.700000</td>\n",
              "                        <td id=\"T_f4327c50_03cb_11eb_9562_0242ac1c0002row4_col15\" class=\"data row4 col15\" >7.600000</td>\n",
              "                        <td id=\"T_f4327c50_03cb_11eb_9562_0242ac1c0002row4_col16\" class=\"data row4 col16\" >9.900000</td>\n",
              "                        <td id=\"T_f4327c50_03cb_11eb_9562_0242ac1c0002row4_col17\" class=\"data row4 col17\" >9.300000</td>\n",
              "                        <td id=\"T_f4327c50_03cb_11eb_9562_0242ac1c0002row4_col18\" class=\"data row4 col18\" >10.200000</td>\n",
              "            </tr>\n",
              "    </tbody></table>"
            ],
            "text/plain": [
              "<pandas.io.formats.style.Styler at 0x7ffa017db668>"
            ]
          },
          "metadata": {
            "tags": []
          },
          "execution_count": 34
        }
      ]
    },
    {
      "cell_type": "markdown",
      "metadata": {
        "id": "yLE7vrEQUhEB"
      },
      "source": [
        "ТОП 5 регионов по потреблению вина на душу населения в 2016 году выглядит так:\n",
        "1. Ненецкий автономный округ - 11,7 литров\n",
        "2. Карелия - 11,5 литров\n",
        "3. Новгородская область - 10,6 литров\n",
        "4. Псковская область - 10,4 литра\n",
        "5. Ярославская область - 10,2 литра\n",
        "\n",
        "Если в 1998 году первые места по потреблению вина занимают южные регионы страны, для которых производства вина является традиционной областью хозяйства, то к 2016 потребление вина смещается на север. \n",
        "\n",
        "Возможно, смещение винных регионов связано с повышением уровня благосостояния населения, улучшением поставок вина в такие регионы как Карелия и Ненецкий автономный округ. При этом за отчетный период потребление вина в южных регионах страны сократилось практически в два раза."
      ]
    },
    {
      "cell_type": "code",
      "metadata": {
        "id": "uiUB4YVsVvmT",
        "outputId": "234be3f4-618d-4bfa-b4f8-e89190d77796",
        "colab": {
          "base_uri": "https://localhost:8080/",
          "height": 288
        }
      },
      "source": [
        "wine_region = pd.pivot_table(df_filter, values='wine', index='region', columns='year', aggfunc='sum')\n",
        "\n",
        "wine_region.sort_values(by=1998, ascending=True).head(5).style.applymap(lambda x: \"background-color: #97ca9b\" if x<df_region_mean['wine'].mean() else \"background-color: white\")   "
      ],
      "execution_count": 35,
      "outputs": [
        {
          "output_type": "execute_result",
          "data": {
            "text/html": [
              "<style  type=\"text/css\" >\n",
              "#T_f43c2dcc_03cb_11eb_9562_0242ac1c0002row0_col0,#T_f43c2dcc_03cb_11eb_9562_0242ac1c0002row0_col1,#T_f43c2dcc_03cb_11eb_9562_0242ac1c0002row0_col2,#T_f43c2dcc_03cb_11eb_9562_0242ac1c0002row0_col3,#T_f43c2dcc_03cb_11eb_9562_0242ac1c0002row0_col4,#T_f43c2dcc_03cb_11eb_9562_0242ac1c0002row0_col5,#T_f43c2dcc_03cb_11eb_9562_0242ac1c0002row0_col6,#T_f43c2dcc_03cb_11eb_9562_0242ac1c0002row0_col7,#T_f43c2dcc_03cb_11eb_9562_0242ac1c0002row0_col8,#T_f43c2dcc_03cb_11eb_9562_0242ac1c0002row0_col9,#T_f43c2dcc_03cb_11eb_9562_0242ac1c0002row0_col10,#T_f43c2dcc_03cb_11eb_9562_0242ac1c0002row0_col11,#T_f43c2dcc_03cb_11eb_9562_0242ac1c0002row0_col12,#T_f43c2dcc_03cb_11eb_9562_0242ac1c0002row0_col13,#T_f43c2dcc_03cb_11eb_9562_0242ac1c0002row0_col14,#T_f43c2dcc_03cb_11eb_9562_0242ac1c0002row0_col15,#T_f43c2dcc_03cb_11eb_9562_0242ac1c0002row0_col16,#T_f43c2dcc_03cb_11eb_9562_0242ac1c0002row0_col17,#T_f43c2dcc_03cb_11eb_9562_0242ac1c0002row0_col18,#T_f43c2dcc_03cb_11eb_9562_0242ac1c0002row1_col0,#T_f43c2dcc_03cb_11eb_9562_0242ac1c0002row1_col1,#T_f43c2dcc_03cb_11eb_9562_0242ac1c0002row1_col2,#T_f43c2dcc_03cb_11eb_9562_0242ac1c0002row1_col3,#T_f43c2dcc_03cb_11eb_9562_0242ac1c0002row1_col4,#T_f43c2dcc_03cb_11eb_9562_0242ac1c0002row1_col5,#T_f43c2dcc_03cb_11eb_9562_0242ac1c0002row1_col6,#T_f43c2dcc_03cb_11eb_9562_0242ac1c0002row1_col7,#T_f43c2dcc_03cb_11eb_9562_0242ac1c0002row1_col8,#T_f43c2dcc_03cb_11eb_9562_0242ac1c0002row1_col11,#T_f43c2dcc_03cb_11eb_9562_0242ac1c0002row1_col12,#T_f43c2dcc_03cb_11eb_9562_0242ac1c0002row1_col13,#T_f43c2dcc_03cb_11eb_9562_0242ac1c0002row1_col14,#T_f43c2dcc_03cb_11eb_9562_0242ac1c0002row1_col15,#T_f43c2dcc_03cb_11eb_9562_0242ac1c0002row1_col17,#T_f43c2dcc_03cb_11eb_9562_0242ac1c0002row1_col18,#T_f43c2dcc_03cb_11eb_9562_0242ac1c0002row2_col0,#T_f43c2dcc_03cb_11eb_9562_0242ac1c0002row2_col1,#T_f43c2dcc_03cb_11eb_9562_0242ac1c0002row2_col2,#T_f43c2dcc_03cb_11eb_9562_0242ac1c0002row2_col3,#T_f43c2dcc_03cb_11eb_9562_0242ac1c0002row2_col4,#T_f43c2dcc_03cb_11eb_9562_0242ac1c0002row2_col5,#T_f43c2dcc_03cb_11eb_9562_0242ac1c0002row2_col6,#T_f43c2dcc_03cb_11eb_9562_0242ac1c0002row2_col7,#T_f43c2dcc_03cb_11eb_9562_0242ac1c0002row2_col8,#T_f43c2dcc_03cb_11eb_9562_0242ac1c0002row2_col9,#T_f43c2dcc_03cb_11eb_9562_0242ac1c0002row2_col10,#T_f43c2dcc_03cb_11eb_9562_0242ac1c0002row2_col11,#T_f43c2dcc_03cb_11eb_9562_0242ac1c0002row2_col12,#T_f43c2dcc_03cb_11eb_9562_0242ac1c0002row3_col0,#T_f43c2dcc_03cb_11eb_9562_0242ac1c0002row3_col1,#T_f43c2dcc_03cb_11eb_9562_0242ac1c0002row3_col2,#T_f43c2dcc_03cb_11eb_9562_0242ac1c0002row3_col3,#T_f43c2dcc_03cb_11eb_9562_0242ac1c0002row3_col4,#T_f43c2dcc_03cb_11eb_9562_0242ac1c0002row4_col0,#T_f43c2dcc_03cb_11eb_9562_0242ac1c0002row4_col1,#T_f43c2dcc_03cb_11eb_9562_0242ac1c0002row4_col2,#T_f43c2dcc_03cb_11eb_9562_0242ac1c0002row4_col3,#T_f43c2dcc_03cb_11eb_9562_0242ac1c0002row4_col4,#T_f43c2dcc_03cb_11eb_9562_0242ac1c0002row4_col5,#T_f43c2dcc_03cb_11eb_9562_0242ac1c0002row4_col6,#T_f43c2dcc_03cb_11eb_9562_0242ac1c0002row4_col7,#T_f43c2dcc_03cb_11eb_9562_0242ac1c0002row4_col8,#T_f43c2dcc_03cb_11eb_9562_0242ac1c0002row4_col9,#T_f43c2dcc_03cb_11eb_9562_0242ac1c0002row4_col15{\n",
              "            background-color:  #97ca9b;\n",
              "        }#T_f43c2dcc_03cb_11eb_9562_0242ac1c0002row1_col9,#T_f43c2dcc_03cb_11eb_9562_0242ac1c0002row1_col10,#T_f43c2dcc_03cb_11eb_9562_0242ac1c0002row1_col16,#T_f43c2dcc_03cb_11eb_9562_0242ac1c0002row2_col13,#T_f43c2dcc_03cb_11eb_9562_0242ac1c0002row2_col14,#T_f43c2dcc_03cb_11eb_9562_0242ac1c0002row2_col15,#T_f43c2dcc_03cb_11eb_9562_0242ac1c0002row2_col16,#T_f43c2dcc_03cb_11eb_9562_0242ac1c0002row2_col17,#T_f43c2dcc_03cb_11eb_9562_0242ac1c0002row2_col18,#T_f43c2dcc_03cb_11eb_9562_0242ac1c0002row3_col5,#T_f43c2dcc_03cb_11eb_9562_0242ac1c0002row3_col6,#T_f43c2dcc_03cb_11eb_9562_0242ac1c0002row3_col7,#T_f43c2dcc_03cb_11eb_9562_0242ac1c0002row3_col8,#T_f43c2dcc_03cb_11eb_9562_0242ac1c0002row3_col9,#T_f43c2dcc_03cb_11eb_9562_0242ac1c0002row3_col10,#T_f43c2dcc_03cb_11eb_9562_0242ac1c0002row3_col11,#T_f43c2dcc_03cb_11eb_9562_0242ac1c0002row3_col12,#T_f43c2dcc_03cb_11eb_9562_0242ac1c0002row3_col13,#T_f43c2dcc_03cb_11eb_9562_0242ac1c0002row3_col14,#T_f43c2dcc_03cb_11eb_9562_0242ac1c0002row3_col15,#T_f43c2dcc_03cb_11eb_9562_0242ac1c0002row3_col16,#T_f43c2dcc_03cb_11eb_9562_0242ac1c0002row3_col17,#T_f43c2dcc_03cb_11eb_9562_0242ac1c0002row3_col18,#T_f43c2dcc_03cb_11eb_9562_0242ac1c0002row4_col10,#T_f43c2dcc_03cb_11eb_9562_0242ac1c0002row4_col11,#T_f43c2dcc_03cb_11eb_9562_0242ac1c0002row4_col12,#T_f43c2dcc_03cb_11eb_9562_0242ac1c0002row4_col13,#T_f43c2dcc_03cb_11eb_9562_0242ac1c0002row4_col14,#T_f43c2dcc_03cb_11eb_9562_0242ac1c0002row4_col16,#T_f43c2dcc_03cb_11eb_9562_0242ac1c0002row4_col17,#T_f43c2dcc_03cb_11eb_9562_0242ac1c0002row4_col18{\n",
              "            background-color:  white;\n",
              "        }</style><table id=\"T_f43c2dcc_03cb_11eb_9562_0242ac1c0002\" ><thead>    <tr>        <th class=\"index_name level0\" >year</th>        <th class=\"col_heading level0 col0\" >1998</th>        <th class=\"col_heading level0 col1\" >1999</th>        <th class=\"col_heading level0 col2\" >2000</th>        <th class=\"col_heading level0 col3\" >2001</th>        <th class=\"col_heading level0 col4\" >2002</th>        <th class=\"col_heading level0 col5\" >2003</th>        <th class=\"col_heading level0 col6\" >2004</th>        <th class=\"col_heading level0 col7\" >2005</th>        <th class=\"col_heading level0 col8\" >2006</th>        <th class=\"col_heading level0 col9\" >2007</th>        <th class=\"col_heading level0 col10\" >2008</th>        <th class=\"col_heading level0 col11\" >2009</th>        <th class=\"col_heading level0 col12\" >2010</th>        <th class=\"col_heading level0 col13\" >2011</th>        <th class=\"col_heading level0 col14\" >2012</th>        <th class=\"col_heading level0 col15\" >2013</th>        <th class=\"col_heading level0 col16\" >2014</th>        <th class=\"col_heading level0 col17\" >2015</th>        <th class=\"col_heading level0 col18\" >2016</th>    </tr>    <tr>        <th class=\"index_name level0\" >region</th>        <th class=\"blank\" ></th>        <th class=\"blank\" ></th>        <th class=\"blank\" ></th>        <th class=\"blank\" ></th>        <th class=\"blank\" ></th>        <th class=\"blank\" ></th>        <th class=\"blank\" ></th>        <th class=\"blank\" ></th>        <th class=\"blank\" ></th>        <th class=\"blank\" ></th>        <th class=\"blank\" ></th>        <th class=\"blank\" ></th>        <th class=\"blank\" ></th>        <th class=\"blank\" ></th>        <th class=\"blank\" ></th>        <th class=\"blank\" ></th>        <th class=\"blank\" ></th>        <th class=\"blank\" ></th>        <th class=\"blank\" ></th>    </tr></thead><tbody>\n",
              "                <tr>\n",
              "                        <th id=\"T_f43c2dcc_03cb_11eb_9562_0242ac1c0002level0_row0\" class=\"row_heading level0 row0\" >Chechen Republic</th>\n",
              "                        <td id=\"T_f43c2dcc_03cb_11eb_9562_0242ac1c0002row0_col0\" class=\"data row0 col0\" >0.000000</td>\n",
              "                        <td id=\"T_f43c2dcc_03cb_11eb_9562_0242ac1c0002row0_col1\" class=\"data row0 col1\" >0.000000</td>\n",
              "                        <td id=\"T_f43c2dcc_03cb_11eb_9562_0242ac1c0002row0_col2\" class=\"data row0 col2\" >0.000000</td>\n",
              "                        <td id=\"T_f43c2dcc_03cb_11eb_9562_0242ac1c0002row0_col3\" class=\"data row0 col3\" >0.000000</td>\n",
              "                        <td id=\"T_f43c2dcc_03cb_11eb_9562_0242ac1c0002row0_col4\" class=\"data row0 col4\" >0.000000</td>\n",
              "                        <td id=\"T_f43c2dcc_03cb_11eb_9562_0242ac1c0002row0_col5\" class=\"data row0 col5\" >0.000000</td>\n",
              "                        <td id=\"T_f43c2dcc_03cb_11eb_9562_0242ac1c0002row0_col6\" class=\"data row0 col6\" >0.000000</td>\n",
              "                        <td id=\"T_f43c2dcc_03cb_11eb_9562_0242ac1c0002row0_col7\" class=\"data row0 col7\" >0.000000</td>\n",
              "                        <td id=\"T_f43c2dcc_03cb_11eb_9562_0242ac1c0002row0_col8\" class=\"data row0 col8\" >0.000000</td>\n",
              "                        <td id=\"T_f43c2dcc_03cb_11eb_9562_0242ac1c0002row0_col9\" class=\"data row0 col9\" >0.000000</td>\n",
              "                        <td id=\"T_f43c2dcc_03cb_11eb_9562_0242ac1c0002row0_col10\" class=\"data row0 col10\" >0.000000</td>\n",
              "                        <td id=\"T_f43c2dcc_03cb_11eb_9562_0242ac1c0002row0_col11\" class=\"data row0 col11\" >0.000000</td>\n",
              "                        <td id=\"T_f43c2dcc_03cb_11eb_9562_0242ac1c0002row0_col12\" class=\"data row0 col12\" >0.000000</td>\n",
              "                        <td id=\"T_f43c2dcc_03cb_11eb_9562_0242ac1c0002row0_col13\" class=\"data row0 col13\" >0.000000</td>\n",
              "                        <td id=\"T_f43c2dcc_03cb_11eb_9562_0242ac1c0002row0_col14\" class=\"data row0 col14\" >0.000000</td>\n",
              "                        <td id=\"T_f43c2dcc_03cb_11eb_9562_0242ac1c0002row0_col15\" class=\"data row0 col15\" >0.000000</td>\n",
              "                        <td id=\"T_f43c2dcc_03cb_11eb_9562_0242ac1c0002row0_col16\" class=\"data row0 col16\" >0.000000</td>\n",
              "                        <td id=\"T_f43c2dcc_03cb_11eb_9562_0242ac1c0002row0_col17\" class=\"data row0 col17\" >0.000000</td>\n",
              "                        <td id=\"T_f43c2dcc_03cb_11eb_9562_0242ac1c0002row0_col18\" class=\"data row0 col18\" >0.000000</td>\n",
              "            </tr>\n",
              "            <tr>\n",
              "                        <th id=\"T_f43c2dcc_03cb_11eb_9562_0242ac1c0002level0_row1\" class=\"row_heading level0 row1\" >Chukotka Autonomous Okrug</th>\n",
              "                        <td id=\"T_f43c2dcc_03cb_11eb_9562_0242ac1c0002row1_col0\" class=\"data row1 col0\" >0.300000</td>\n",
              "                        <td id=\"T_f43c2dcc_03cb_11eb_9562_0242ac1c0002row1_col1\" class=\"data row1 col1\" >0.400000</td>\n",
              "                        <td id=\"T_f43c2dcc_03cb_11eb_9562_0242ac1c0002row1_col2\" class=\"data row1 col2\" >1.000000</td>\n",
              "                        <td id=\"T_f43c2dcc_03cb_11eb_9562_0242ac1c0002row1_col3\" class=\"data row1 col3\" >1.400000</td>\n",
              "                        <td id=\"T_f43c2dcc_03cb_11eb_9562_0242ac1c0002row1_col4\" class=\"data row1 col4\" >1.900000</td>\n",
              "                        <td id=\"T_f43c2dcc_03cb_11eb_9562_0242ac1c0002row1_col5\" class=\"data row1 col5\" >3.800000</td>\n",
              "                        <td id=\"T_f43c2dcc_03cb_11eb_9562_0242ac1c0002row1_col6\" class=\"data row1 col6\" >3.400000</td>\n",
              "                        <td id=\"T_f43c2dcc_03cb_11eb_9562_0242ac1c0002row1_col7\" class=\"data row1 col7\" >4.000000</td>\n",
              "                        <td id=\"T_f43c2dcc_03cb_11eb_9562_0242ac1c0002row1_col8\" class=\"data row1 col8\" >5.500000</td>\n",
              "                        <td id=\"T_f43c2dcc_03cb_11eb_9562_0242ac1c0002row1_col9\" class=\"data row1 col9\" >6.300000</td>\n",
              "                        <td id=\"T_f43c2dcc_03cb_11eb_9562_0242ac1c0002row1_col10\" class=\"data row1 col10\" >8.400000</td>\n",
              "                        <td id=\"T_f43c2dcc_03cb_11eb_9562_0242ac1c0002row1_col11\" class=\"data row1 col11\" >4.900000</td>\n",
              "                        <td id=\"T_f43c2dcc_03cb_11eb_9562_0242ac1c0002row1_col12\" class=\"data row1 col12\" >5.500000</td>\n",
              "                        <td id=\"T_f43c2dcc_03cb_11eb_9562_0242ac1c0002row1_col13\" class=\"data row1 col13\" >5.230000</td>\n",
              "                        <td id=\"T_f43c2dcc_03cb_11eb_9562_0242ac1c0002row1_col14\" class=\"data row1 col14\" >5.100000</td>\n",
              "                        <td id=\"T_f43c2dcc_03cb_11eb_9562_0242ac1c0002row1_col15\" class=\"data row1 col15\" >4.000000</td>\n",
              "                        <td id=\"T_f43c2dcc_03cb_11eb_9562_0242ac1c0002row1_col16\" class=\"data row1 col16\" >9.600000</td>\n",
              "                        <td id=\"T_f43c2dcc_03cb_11eb_9562_0242ac1c0002row1_col17\" class=\"data row1 col17\" >4.700000</td>\n",
              "                        <td id=\"T_f43c2dcc_03cb_11eb_9562_0242ac1c0002row1_col18\" class=\"data row1 col18\" >3.900000</td>\n",
              "            </tr>\n",
              "            <tr>\n",
              "                        <th id=\"T_f43c2dcc_03cb_11eb_9562_0242ac1c0002level0_row2\" class=\"row_heading level0 row2\" >Primorsky Krai</th>\n",
              "                        <td id=\"T_f43c2dcc_03cb_11eb_9562_0242ac1c0002row2_col0\" class=\"data row2 col0\" >0.600000</td>\n",
              "                        <td id=\"T_f43c2dcc_03cb_11eb_9562_0242ac1c0002row2_col1\" class=\"data row2 col1\" >1.200000</td>\n",
              "                        <td id=\"T_f43c2dcc_03cb_11eb_9562_0242ac1c0002row2_col2\" class=\"data row2 col2\" >1.800000</td>\n",
              "                        <td id=\"T_f43c2dcc_03cb_11eb_9562_0242ac1c0002row2_col3\" class=\"data row2 col3\" >1.500000</td>\n",
              "                        <td id=\"T_f43c2dcc_03cb_11eb_9562_0242ac1c0002row2_col4\" class=\"data row2 col4\" >1.600000</td>\n",
              "                        <td id=\"T_f43c2dcc_03cb_11eb_9562_0242ac1c0002row2_col5\" class=\"data row2 col5\" >1.700000</td>\n",
              "                        <td id=\"T_f43c2dcc_03cb_11eb_9562_0242ac1c0002row2_col6\" class=\"data row2 col6\" >2.800000</td>\n",
              "                        <td id=\"T_f43c2dcc_03cb_11eb_9562_0242ac1c0002row2_col7\" class=\"data row2 col7\" >5.200000</td>\n",
              "                        <td id=\"T_f43c2dcc_03cb_11eb_9562_0242ac1c0002row2_col8\" class=\"data row2 col8\" >4.600000</td>\n",
              "                        <td id=\"T_f43c2dcc_03cb_11eb_9562_0242ac1c0002row2_col9\" class=\"data row2 col9\" >4.900000</td>\n",
              "                        <td id=\"T_f43c2dcc_03cb_11eb_9562_0242ac1c0002row2_col10\" class=\"data row2 col10\" >5.300000</td>\n",
              "                        <td id=\"T_f43c2dcc_03cb_11eb_9562_0242ac1c0002row2_col11\" class=\"data row2 col11\" >5.600000</td>\n",
              "                        <td id=\"T_f43c2dcc_03cb_11eb_9562_0242ac1c0002row2_col12\" class=\"data row2 col12\" >5.500000</td>\n",
              "                        <td id=\"T_f43c2dcc_03cb_11eb_9562_0242ac1c0002row2_col13\" class=\"data row2 col13\" >6.030000</td>\n",
              "                        <td id=\"T_f43c2dcc_03cb_11eb_9562_0242ac1c0002row2_col14\" class=\"data row2 col14\" >6.700000</td>\n",
              "                        <td id=\"T_f43c2dcc_03cb_11eb_9562_0242ac1c0002row2_col15\" class=\"data row2 col15\" >5.900000</td>\n",
              "                        <td id=\"T_f43c2dcc_03cb_11eb_9562_0242ac1c0002row2_col16\" class=\"data row2 col16\" >6.700000</td>\n",
              "                        <td id=\"T_f43c2dcc_03cb_11eb_9562_0242ac1c0002row2_col17\" class=\"data row2 col17\" >6.200000</td>\n",
              "                        <td id=\"T_f43c2dcc_03cb_11eb_9562_0242ac1c0002row2_col18\" class=\"data row2 col18\" >6.800000</td>\n",
              "            </tr>\n",
              "            <tr>\n",
              "                        <th id=\"T_f43c2dcc_03cb_11eb_9562_0242ac1c0002level0_row3\" class=\"row_heading level0 row3\" >Zabaykalsky Krai</th>\n",
              "                        <td id=\"T_f43c2dcc_03cb_11eb_9562_0242ac1c0002row3_col0\" class=\"data row3 col0\" >0.900000</td>\n",
              "                        <td id=\"T_f43c2dcc_03cb_11eb_9562_0242ac1c0002row3_col1\" class=\"data row3 col1\" >1.100000</td>\n",
              "                        <td id=\"T_f43c2dcc_03cb_11eb_9562_0242ac1c0002row3_col2\" class=\"data row3 col2\" >1.900000</td>\n",
              "                        <td id=\"T_f43c2dcc_03cb_11eb_9562_0242ac1c0002row3_col3\" class=\"data row3 col3\" >3.500000</td>\n",
              "                        <td id=\"T_f43c2dcc_03cb_11eb_9562_0242ac1c0002row3_col4\" class=\"data row3 col4\" >4.700000</td>\n",
              "                        <td id=\"T_f43c2dcc_03cb_11eb_9562_0242ac1c0002row3_col5\" class=\"data row3 col5\" >5.900000</td>\n",
              "                        <td id=\"T_f43c2dcc_03cb_11eb_9562_0242ac1c0002row3_col6\" class=\"data row3 col6\" >15.700000</td>\n",
              "                        <td id=\"T_f43c2dcc_03cb_11eb_9562_0242ac1c0002row3_col7\" class=\"data row3 col7\" >16.300000</td>\n",
              "                        <td id=\"T_f43c2dcc_03cb_11eb_9562_0242ac1c0002row3_col8\" class=\"data row3 col8\" >13.700000</td>\n",
              "                        <td id=\"T_f43c2dcc_03cb_11eb_9562_0242ac1c0002row3_col9\" class=\"data row3 col9\" >6.700000</td>\n",
              "                        <td id=\"T_f43c2dcc_03cb_11eb_9562_0242ac1c0002row3_col10\" class=\"data row3 col10\" >6.900000</td>\n",
              "                        <td id=\"T_f43c2dcc_03cb_11eb_9562_0242ac1c0002row3_col11\" class=\"data row3 col11\" >6.500000</td>\n",
              "                        <td id=\"T_f43c2dcc_03cb_11eb_9562_0242ac1c0002row3_col12\" class=\"data row3 col12\" >6.400000</td>\n",
              "                        <td id=\"T_f43c2dcc_03cb_11eb_9562_0242ac1c0002row3_col13\" class=\"data row3 col13\" >6.520000</td>\n",
              "                        <td id=\"T_f43c2dcc_03cb_11eb_9562_0242ac1c0002row3_col14\" class=\"data row3 col14\" >6.600000</td>\n",
              "                        <td id=\"T_f43c2dcc_03cb_11eb_9562_0242ac1c0002row3_col15\" class=\"data row3 col15\" >6.400000</td>\n",
              "                        <td id=\"T_f43c2dcc_03cb_11eb_9562_0242ac1c0002row3_col16\" class=\"data row3 col16\" >6.600000</td>\n",
              "                        <td id=\"T_f43c2dcc_03cb_11eb_9562_0242ac1c0002row3_col17\" class=\"data row3 col17\" >6.600000</td>\n",
              "                        <td id=\"T_f43c2dcc_03cb_11eb_9562_0242ac1c0002row3_col18\" class=\"data row3 col18\" >6.400000</td>\n",
              "            </tr>\n",
              "            <tr>\n",
              "                        <th id=\"T_f43c2dcc_03cb_11eb_9562_0242ac1c0002level0_row4\" class=\"row_heading level0 row4\" >Ulyanovsk Oblast</th>\n",
              "                        <td id=\"T_f43c2dcc_03cb_11eb_9562_0242ac1c0002row4_col0\" class=\"data row4 col0\" >1.000000</td>\n",
              "                        <td id=\"T_f43c2dcc_03cb_11eb_9562_0242ac1c0002row4_col1\" class=\"data row4 col1\" >1.100000</td>\n",
              "                        <td id=\"T_f43c2dcc_03cb_11eb_9562_0242ac1c0002row4_col2\" class=\"data row4 col2\" >0.800000</td>\n",
              "                        <td id=\"T_f43c2dcc_03cb_11eb_9562_0242ac1c0002row4_col3\" class=\"data row4 col3\" >1.100000</td>\n",
              "                        <td id=\"T_f43c2dcc_03cb_11eb_9562_0242ac1c0002row4_col4\" class=\"data row4 col4\" >2.100000</td>\n",
              "                        <td id=\"T_f43c2dcc_03cb_11eb_9562_0242ac1c0002row4_col5\" class=\"data row4 col5\" >4.100000</td>\n",
              "                        <td id=\"T_f43c2dcc_03cb_11eb_9562_0242ac1c0002row4_col6\" class=\"data row4 col6\" >5.500000</td>\n",
              "                        <td id=\"T_f43c2dcc_03cb_11eb_9562_0242ac1c0002row4_col7\" class=\"data row4 col7\" >5.200000</td>\n",
              "                        <td id=\"T_f43c2dcc_03cb_11eb_9562_0242ac1c0002row4_col8\" class=\"data row4 col8\" >4.500000</td>\n",
              "                        <td id=\"T_f43c2dcc_03cb_11eb_9562_0242ac1c0002row4_col9\" class=\"data row4 col9\" >5.300000</td>\n",
              "                        <td id=\"T_f43c2dcc_03cb_11eb_9562_0242ac1c0002row4_col10\" class=\"data row4 col10\" >6.800000</td>\n",
              "                        <td id=\"T_f43c2dcc_03cb_11eb_9562_0242ac1c0002row4_col11\" class=\"data row4 col11\" >6.400000</td>\n",
              "                        <td id=\"T_f43c2dcc_03cb_11eb_9562_0242ac1c0002row4_col12\" class=\"data row4 col12\" >7.000000</td>\n",
              "                        <td id=\"T_f43c2dcc_03cb_11eb_9562_0242ac1c0002row4_col13\" class=\"data row4 col13\" >7.410000</td>\n",
              "                        <td id=\"T_f43c2dcc_03cb_11eb_9562_0242ac1c0002row4_col14\" class=\"data row4 col14\" >6.600000</td>\n",
              "                        <td id=\"T_f43c2dcc_03cb_11eb_9562_0242ac1c0002row4_col15\" class=\"data row4 col15\" >5.300000</td>\n",
              "                        <td id=\"T_f43c2dcc_03cb_11eb_9562_0242ac1c0002row4_col16\" class=\"data row4 col16\" >6.400000</td>\n",
              "                        <td id=\"T_f43c2dcc_03cb_11eb_9562_0242ac1c0002row4_col17\" class=\"data row4 col17\" >7.600000</td>\n",
              "                        <td id=\"T_f43c2dcc_03cb_11eb_9562_0242ac1c0002row4_col18\" class=\"data row4 col18\" >6.600000</td>\n",
              "            </tr>\n",
              "    </tbody></table>"
            ],
            "text/plain": [
              "<pandas.io.formats.style.Styler at 0x7ffa00e7db38>"
            ]
          },
          "metadata": {
            "tags": []
          },
          "execution_count": 35
        }
      ]
    },
    {
      "cell_type": "markdown",
      "metadata": {
        "id": "59a1icGAVz-3"
      },
      "source": [
        "ТОП 5 регионов с наименьшим потреблением вина в 1998 выглядел так:\n",
        "1. Чечня - 0 литров\n",
        "2. Чукотка - 0,3 литра\n",
        "3. Приморский край - 0,6 литров\n",
        "4. Забайкальский край - 0,9 литра\n",
        "5. Ульяновскаая область - 1 литр на человека в год\n",
        "\n",
        "На Дальнем Востоке в 1998 году вино не пользовалось популярностью.\n",
        "\n",
        "Посмотрим, как изменилась картина к 2016 году."
      ]
    },
    {
      "cell_type": "code",
      "metadata": {
        "id": "SJt1ObxDWQTZ",
        "outputId": "13d30f03-94f5-4528-9116-221fba362c7d",
        "colab": {
          "base_uri": "https://localhost:8080/",
          "height": 357
        }
      },
      "source": [
        "wine_region = pd.pivot_table(df_filter, values='wine', index='region', columns='year', aggfunc='sum')\n",
        "\n",
        "wine_region.sort_values(by=2016, ascending=True).head(5).style.applymap(lambda x: \"background-color: #97ca9b\" if x<df_region_mean['wine'].mean() else \"background-color: white\")   "
      ],
      "execution_count": 36,
      "outputs": [
        {
          "output_type": "execute_result",
          "data": {
            "text/html": [
              "<style  type=\"text/css\" >\n",
              "#T_f44659fa_03cb_11eb_9562_0242ac1c0002row0_col0,#T_f44659fa_03cb_11eb_9562_0242ac1c0002row0_col1,#T_f44659fa_03cb_11eb_9562_0242ac1c0002row0_col2,#T_f44659fa_03cb_11eb_9562_0242ac1c0002row0_col3,#T_f44659fa_03cb_11eb_9562_0242ac1c0002row0_col4,#T_f44659fa_03cb_11eb_9562_0242ac1c0002row0_col5,#T_f44659fa_03cb_11eb_9562_0242ac1c0002row0_col6,#T_f44659fa_03cb_11eb_9562_0242ac1c0002row0_col7,#T_f44659fa_03cb_11eb_9562_0242ac1c0002row0_col8,#T_f44659fa_03cb_11eb_9562_0242ac1c0002row0_col9,#T_f44659fa_03cb_11eb_9562_0242ac1c0002row0_col10,#T_f44659fa_03cb_11eb_9562_0242ac1c0002row0_col11,#T_f44659fa_03cb_11eb_9562_0242ac1c0002row0_col12,#T_f44659fa_03cb_11eb_9562_0242ac1c0002row0_col13,#T_f44659fa_03cb_11eb_9562_0242ac1c0002row0_col14,#T_f44659fa_03cb_11eb_9562_0242ac1c0002row0_col15,#T_f44659fa_03cb_11eb_9562_0242ac1c0002row0_col16,#T_f44659fa_03cb_11eb_9562_0242ac1c0002row0_col17,#T_f44659fa_03cb_11eb_9562_0242ac1c0002row0_col18,#T_f44659fa_03cb_11eb_9562_0242ac1c0002row1_col0,#T_f44659fa_03cb_11eb_9562_0242ac1c0002row1_col1,#T_f44659fa_03cb_11eb_9562_0242ac1c0002row1_col2,#T_f44659fa_03cb_11eb_9562_0242ac1c0002row1_col3,#T_f44659fa_03cb_11eb_9562_0242ac1c0002row1_col4,#T_f44659fa_03cb_11eb_9562_0242ac1c0002row1_col5,#T_f44659fa_03cb_11eb_9562_0242ac1c0002row1_col6,#T_f44659fa_03cb_11eb_9562_0242ac1c0002row1_col7,#T_f44659fa_03cb_11eb_9562_0242ac1c0002row1_col8,#T_f44659fa_03cb_11eb_9562_0242ac1c0002row1_col9,#T_f44659fa_03cb_11eb_9562_0242ac1c0002row1_col10,#T_f44659fa_03cb_11eb_9562_0242ac1c0002row1_col11,#T_f44659fa_03cb_11eb_9562_0242ac1c0002row1_col12,#T_f44659fa_03cb_11eb_9562_0242ac1c0002row1_col13,#T_f44659fa_03cb_11eb_9562_0242ac1c0002row1_col14,#T_f44659fa_03cb_11eb_9562_0242ac1c0002row1_col15,#T_f44659fa_03cb_11eb_9562_0242ac1c0002row1_col16,#T_f44659fa_03cb_11eb_9562_0242ac1c0002row1_col17,#T_f44659fa_03cb_11eb_9562_0242ac1c0002row1_col18,#T_f44659fa_03cb_11eb_9562_0242ac1c0002row2_col0,#T_f44659fa_03cb_11eb_9562_0242ac1c0002row2_col1,#T_f44659fa_03cb_11eb_9562_0242ac1c0002row2_col2,#T_f44659fa_03cb_11eb_9562_0242ac1c0002row2_col3,#T_f44659fa_03cb_11eb_9562_0242ac1c0002row2_col4,#T_f44659fa_03cb_11eb_9562_0242ac1c0002row2_col5,#T_f44659fa_03cb_11eb_9562_0242ac1c0002row2_col6,#T_f44659fa_03cb_11eb_9562_0242ac1c0002row2_col7,#T_f44659fa_03cb_11eb_9562_0242ac1c0002row2_col8,#T_f44659fa_03cb_11eb_9562_0242ac1c0002row2_col9,#T_f44659fa_03cb_11eb_9562_0242ac1c0002row2_col10,#T_f44659fa_03cb_11eb_9562_0242ac1c0002row2_col11,#T_f44659fa_03cb_11eb_9562_0242ac1c0002row2_col12,#T_f44659fa_03cb_11eb_9562_0242ac1c0002row2_col13,#T_f44659fa_03cb_11eb_9562_0242ac1c0002row2_col14,#T_f44659fa_03cb_11eb_9562_0242ac1c0002row2_col15,#T_f44659fa_03cb_11eb_9562_0242ac1c0002row2_col16,#T_f44659fa_03cb_11eb_9562_0242ac1c0002row2_col17,#T_f44659fa_03cb_11eb_9562_0242ac1c0002row2_col18,#T_f44659fa_03cb_11eb_9562_0242ac1c0002row3_col0,#T_f44659fa_03cb_11eb_9562_0242ac1c0002row3_col1,#T_f44659fa_03cb_11eb_9562_0242ac1c0002row3_col2,#T_f44659fa_03cb_11eb_9562_0242ac1c0002row3_col3,#T_f44659fa_03cb_11eb_9562_0242ac1c0002row3_col4,#T_f44659fa_03cb_11eb_9562_0242ac1c0002row3_col5,#T_f44659fa_03cb_11eb_9562_0242ac1c0002row3_col6,#T_f44659fa_03cb_11eb_9562_0242ac1c0002row3_col7,#T_f44659fa_03cb_11eb_9562_0242ac1c0002row3_col8,#T_f44659fa_03cb_11eb_9562_0242ac1c0002row3_col9,#T_f44659fa_03cb_11eb_9562_0242ac1c0002row3_col10,#T_f44659fa_03cb_11eb_9562_0242ac1c0002row3_col11,#T_f44659fa_03cb_11eb_9562_0242ac1c0002row3_col12,#T_f44659fa_03cb_11eb_9562_0242ac1c0002row3_col13,#T_f44659fa_03cb_11eb_9562_0242ac1c0002row3_col14,#T_f44659fa_03cb_11eb_9562_0242ac1c0002row3_col15,#T_f44659fa_03cb_11eb_9562_0242ac1c0002row3_col16,#T_f44659fa_03cb_11eb_9562_0242ac1c0002row3_col17,#T_f44659fa_03cb_11eb_9562_0242ac1c0002row3_col18,#T_f44659fa_03cb_11eb_9562_0242ac1c0002row4_col0,#T_f44659fa_03cb_11eb_9562_0242ac1c0002row4_col1,#T_f44659fa_03cb_11eb_9562_0242ac1c0002row4_col2,#T_f44659fa_03cb_11eb_9562_0242ac1c0002row4_col3,#T_f44659fa_03cb_11eb_9562_0242ac1c0002row4_col4,#T_f44659fa_03cb_11eb_9562_0242ac1c0002row4_col5,#T_f44659fa_03cb_11eb_9562_0242ac1c0002row4_col6,#T_f44659fa_03cb_11eb_9562_0242ac1c0002row4_col7,#T_f44659fa_03cb_11eb_9562_0242ac1c0002row4_col8,#T_f44659fa_03cb_11eb_9562_0242ac1c0002row4_col9,#T_f44659fa_03cb_11eb_9562_0242ac1c0002row4_col10,#T_f44659fa_03cb_11eb_9562_0242ac1c0002row4_col11,#T_f44659fa_03cb_11eb_9562_0242ac1c0002row4_col12,#T_f44659fa_03cb_11eb_9562_0242ac1c0002row4_col13,#T_f44659fa_03cb_11eb_9562_0242ac1c0002row4_col14,#T_f44659fa_03cb_11eb_9562_0242ac1c0002row4_col15,#T_f44659fa_03cb_11eb_9562_0242ac1c0002row4_col16,#T_f44659fa_03cb_11eb_9562_0242ac1c0002row4_col17,#T_f44659fa_03cb_11eb_9562_0242ac1c0002row4_col18{\n",
              "            background-color:  #97ca9b;\n",
              "        }</style><table id=\"T_f44659fa_03cb_11eb_9562_0242ac1c0002\" ><thead>    <tr>        <th class=\"index_name level0\" >year</th>        <th class=\"col_heading level0 col0\" >1998</th>        <th class=\"col_heading level0 col1\" >1999</th>        <th class=\"col_heading level0 col2\" >2000</th>        <th class=\"col_heading level0 col3\" >2001</th>        <th class=\"col_heading level0 col4\" >2002</th>        <th class=\"col_heading level0 col5\" >2003</th>        <th class=\"col_heading level0 col6\" >2004</th>        <th class=\"col_heading level0 col7\" >2005</th>        <th class=\"col_heading level0 col8\" >2006</th>        <th class=\"col_heading level0 col9\" >2007</th>        <th class=\"col_heading level0 col10\" >2008</th>        <th class=\"col_heading level0 col11\" >2009</th>        <th class=\"col_heading level0 col12\" >2010</th>        <th class=\"col_heading level0 col13\" >2011</th>        <th class=\"col_heading level0 col14\" >2012</th>        <th class=\"col_heading level0 col15\" >2013</th>        <th class=\"col_heading level0 col16\" >2014</th>        <th class=\"col_heading level0 col17\" >2015</th>        <th class=\"col_heading level0 col18\" >2016</th>    </tr>    <tr>        <th class=\"index_name level0\" >region</th>        <th class=\"blank\" ></th>        <th class=\"blank\" ></th>        <th class=\"blank\" ></th>        <th class=\"blank\" ></th>        <th class=\"blank\" ></th>        <th class=\"blank\" ></th>        <th class=\"blank\" ></th>        <th class=\"blank\" ></th>        <th class=\"blank\" ></th>        <th class=\"blank\" ></th>        <th class=\"blank\" ></th>        <th class=\"blank\" ></th>        <th class=\"blank\" ></th>        <th class=\"blank\" ></th>        <th class=\"blank\" ></th>        <th class=\"blank\" ></th>        <th class=\"blank\" ></th>        <th class=\"blank\" ></th>        <th class=\"blank\" ></th>    </tr></thead><tbody>\n",
              "                <tr>\n",
              "                        <th id=\"T_f44659fa_03cb_11eb_9562_0242ac1c0002level0_row0\" class=\"row_heading level0 row0\" >Chechen Republic</th>\n",
              "                        <td id=\"T_f44659fa_03cb_11eb_9562_0242ac1c0002row0_col0\" class=\"data row0 col0\" >0.000000</td>\n",
              "                        <td id=\"T_f44659fa_03cb_11eb_9562_0242ac1c0002row0_col1\" class=\"data row0 col1\" >0.000000</td>\n",
              "                        <td id=\"T_f44659fa_03cb_11eb_9562_0242ac1c0002row0_col2\" class=\"data row0 col2\" >0.000000</td>\n",
              "                        <td id=\"T_f44659fa_03cb_11eb_9562_0242ac1c0002row0_col3\" class=\"data row0 col3\" >0.000000</td>\n",
              "                        <td id=\"T_f44659fa_03cb_11eb_9562_0242ac1c0002row0_col4\" class=\"data row0 col4\" >0.000000</td>\n",
              "                        <td id=\"T_f44659fa_03cb_11eb_9562_0242ac1c0002row0_col5\" class=\"data row0 col5\" >0.000000</td>\n",
              "                        <td id=\"T_f44659fa_03cb_11eb_9562_0242ac1c0002row0_col6\" class=\"data row0 col6\" >0.000000</td>\n",
              "                        <td id=\"T_f44659fa_03cb_11eb_9562_0242ac1c0002row0_col7\" class=\"data row0 col7\" >0.000000</td>\n",
              "                        <td id=\"T_f44659fa_03cb_11eb_9562_0242ac1c0002row0_col8\" class=\"data row0 col8\" >0.000000</td>\n",
              "                        <td id=\"T_f44659fa_03cb_11eb_9562_0242ac1c0002row0_col9\" class=\"data row0 col9\" >0.000000</td>\n",
              "                        <td id=\"T_f44659fa_03cb_11eb_9562_0242ac1c0002row0_col10\" class=\"data row0 col10\" >0.000000</td>\n",
              "                        <td id=\"T_f44659fa_03cb_11eb_9562_0242ac1c0002row0_col11\" class=\"data row0 col11\" >0.000000</td>\n",
              "                        <td id=\"T_f44659fa_03cb_11eb_9562_0242ac1c0002row0_col12\" class=\"data row0 col12\" >0.000000</td>\n",
              "                        <td id=\"T_f44659fa_03cb_11eb_9562_0242ac1c0002row0_col13\" class=\"data row0 col13\" >0.000000</td>\n",
              "                        <td id=\"T_f44659fa_03cb_11eb_9562_0242ac1c0002row0_col14\" class=\"data row0 col14\" >0.000000</td>\n",
              "                        <td id=\"T_f44659fa_03cb_11eb_9562_0242ac1c0002row0_col15\" class=\"data row0 col15\" >0.000000</td>\n",
              "                        <td id=\"T_f44659fa_03cb_11eb_9562_0242ac1c0002row0_col16\" class=\"data row0 col16\" >0.000000</td>\n",
              "                        <td id=\"T_f44659fa_03cb_11eb_9562_0242ac1c0002row0_col17\" class=\"data row0 col17\" >0.000000</td>\n",
              "                        <td id=\"T_f44659fa_03cb_11eb_9562_0242ac1c0002row0_col18\" class=\"data row0 col18\" >0.000000</td>\n",
              "            </tr>\n",
              "            <tr>\n",
              "                        <th id=\"T_f44659fa_03cb_11eb_9562_0242ac1c0002level0_row1\" class=\"row_heading level0 row1\" >Republic of Dagestan</th>\n",
              "                        <td id=\"T_f44659fa_03cb_11eb_9562_0242ac1c0002row1_col0\" class=\"data row1 col0\" >4.800000</td>\n",
              "                        <td id=\"T_f44659fa_03cb_11eb_9562_0242ac1c0002row1_col1\" class=\"data row1 col1\" >3.800000</td>\n",
              "                        <td id=\"T_f44659fa_03cb_11eb_9562_0242ac1c0002row1_col2\" class=\"data row1 col2\" >3.800000</td>\n",
              "                        <td id=\"T_f44659fa_03cb_11eb_9562_0242ac1c0002row1_col3\" class=\"data row1 col3\" >4.600000</td>\n",
              "                        <td id=\"T_f44659fa_03cb_11eb_9562_0242ac1c0002row1_col4\" class=\"data row1 col4\" >2.700000</td>\n",
              "                        <td id=\"T_f44659fa_03cb_11eb_9562_0242ac1c0002row1_col5\" class=\"data row1 col5\" >2.900000</td>\n",
              "                        <td id=\"T_f44659fa_03cb_11eb_9562_0242ac1c0002row1_col6\" class=\"data row1 col6\" >2.800000</td>\n",
              "                        <td id=\"T_f44659fa_03cb_11eb_9562_0242ac1c0002row1_col7\" class=\"data row1 col7\" >2.400000</td>\n",
              "                        <td id=\"T_f44659fa_03cb_11eb_9562_0242ac1c0002row1_col8\" class=\"data row1 col8\" >2.900000</td>\n",
              "                        <td id=\"T_f44659fa_03cb_11eb_9562_0242ac1c0002row1_col9\" class=\"data row1 col9\" >2.400000</td>\n",
              "                        <td id=\"T_f44659fa_03cb_11eb_9562_0242ac1c0002row1_col10\" class=\"data row1 col10\" >3.100000</td>\n",
              "                        <td id=\"T_f44659fa_03cb_11eb_9562_0242ac1c0002row1_col11\" class=\"data row1 col11\" >3.800000</td>\n",
              "                        <td id=\"T_f44659fa_03cb_11eb_9562_0242ac1c0002row1_col12\" class=\"data row1 col12\" >3.300000</td>\n",
              "                        <td id=\"T_f44659fa_03cb_11eb_9562_0242ac1c0002row1_col13\" class=\"data row1 col13\" >3.270000</td>\n",
              "                        <td id=\"T_f44659fa_03cb_11eb_9562_0242ac1c0002row1_col14\" class=\"data row1 col14\" >1.600000</td>\n",
              "                        <td id=\"T_f44659fa_03cb_11eb_9562_0242ac1c0002row1_col15\" class=\"data row1 col15\" >1.000000</td>\n",
              "                        <td id=\"T_f44659fa_03cb_11eb_9562_0242ac1c0002row1_col16\" class=\"data row1 col16\" >0.400000</td>\n",
              "                        <td id=\"T_f44659fa_03cb_11eb_9562_0242ac1c0002row1_col17\" class=\"data row1 col17\" >0.400000</td>\n",
              "                        <td id=\"T_f44659fa_03cb_11eb_9562_0242ac1c0002row1_col18\" class=\"data row1 col18\" >0.100000</td>\n",
              "            </tr>\n",
              "            <tr>\n",
              "                        <th id=\"T_f44659fa_03cb_11eb_9562_0242ac1c0002level0_row2\" class=\"row_heading level0 row2\" >Republic of North Ossetia-Alania</th>\n",
              "                        <td id=\"T_f44659fa_03cb_11eb_9562_0242ac1c0002row2_col0\" class=\"data row2 col0\" >1.400000</td>\n",
              "                        <td id=\"T_f44659fa_03cb_11eb_9562_0242ac1c0002row2_col1\" class=\"data row2 col1\" >1.700000</td>\n",
              "                        <td id=\"T_f44659fa_03cb_11eb_9562_0242ac1c0002row2_col2\" class=\"data row2 col2\" >2.600000</td>\n",
              "                        <td id=\"T_f44659fa_03cb_11eb_9562_0242ac1c0002row2_col3\" class=\"data row2 col3\" >5.600000</td>\n",
              "                        <td id=\"T_f44659fa_03cb_11eb_9562_0242ac1c0002row2_col4\" class=\"data row2 col4\" >1.000000</td>\n",
              "                        <td id=\"T_f44659fa_03cb_11eb_9562_0242ac1c0002row2_col5\" class=\"data row2 col5\" >0.200000</td>\n",
              "                        <td id=\"T_f44659fa_03cb_11eb_9562_0242ac1c0002row2_col6\" class=\"data row2 col6\" >2.300000</td>\n",
              "                        <td id=\"T_f44659fa_03cb_11eb_9562_0242ac1c0002row2_col7\" class=\"data row2 col7\" >2.200000</td>\n",
              "                        <td id=\"T_f44659fa_03cb_11eb_9562_0242ac1c0002row2_col8\" class=\"data row2 col8\" >2.500000</td>\n",
              "                        <td id=\"T_f44659fa_03cb_11eb_9562_0242ac1c0002row2_col9\" class=\"data row2 col9\" >2.500000</td>\n",
              "                        <td id=\"T_f44659fa_03cb_11eb_9562_0242ac1c0002row2_col10\" class=\"data row2 col10\" >1.900000</td>\n",
              "                        <td id=\"T_f44659fa_03cb_11eb_9562_0242ac1c0002row2_col11\" class=\"data row2 col11\" >1.500000</td>\n",
              "                        <td id=\"T_f44659fa_03cb_11eb_9562_0242ac1c0002row2_col12\" class=\"data row2 col12\" >1.700000</td>\n",
              "                        <td id=\"T_f44659fa_03cb_11eb_9562_0242ac1c0002row2_col13\" class=\"data row2 col13\" >1.720000</td>\n",
              "                        <td id=\"T_f44659fa_03cb_11eb_9562_0242ac1c0002row2_col14\" class=\"data row2 col14\" >1.400000</td>\n",
              "                        <td id=\"T_f44659fa_03cb_11eb_9562_0242ac1c0002row2_col15\" class=\"data row2 col15\" >1.300000</td>\n",
              "                        <td id=\"T_f44659fa_03cb_11eb_9562_0242ac1c0002row2_col16\" class=\"data row2 col16\" >0.600000</td>\n",
              "                        <td id=\"T_f44659fa_03cb_11eb_9562_0242ac1c0002row2_col17\" class=\"data row2 col17\" >0.500000</td>\n",
              "                        <td id=\"T_f44659fa_03cb_11eb_9562_0242ac1c0002row2_col18\" class=\"data row2 col18\" >0.500000</td>\n",
              "            </tr>\n",
              "            <tr>\n",
              "                        <th id=\"T_f44659fa_03cb_11eb_9562_0242ac1c0002level0_row3\" class=\"row_heading level0 row3\" >Kabardino-Balkar Republic</th>\n",
              "                        <td id=\"T_f44659fa_03cb_11eb_9562_0242ac1c0002row3_col0\" class=\"data row3 col0\" >1.600000</td>\n",
              "                        <td id=\"T_f44659fa_03cb_11eb_9562_0242ac1c0002row3_col1\" class=\"data row3 col1\" >1.800000</td>\n",
              "                        <td id=\"T_f44659fa_03cb_11eb_9562_0242ac1c0002row3_col2\" class=\"data row3 col2\" >2.500000</td>\n",
              "                        <td id=\"T_f44659fa_03cb_11eb_9562_0242ac1c0002row3_col3\" class=\"data row3 col3\" >2.700000</td>\n",
              "                        <td id=\"T_f44659fa_03cb_11eb_9562_0242ac1c0002row3_col4\" class=\"data row3 col4\" >3.700000</td>\n",
              "                        <td id=\"T_f44659fa_03cb_11eb_9562_0242ac1c0002row3_col5\" class=\"data row3 col5\" >4.400000</td>\n",
              "                        <td id=\"T_f44659fa_03cb_11eb_9562_0242ac1c0002row3_col6\" class=\"data row3 col6\" >4.000000</td>\n",
              "                        <td id=\"T_f44659fa_03cb_11eb_9562_0242ac1c0002row3_col7\" class=\"data row3 col7\" >3.300000</td>\n",
              "                        <td id=\"T_f44659fa_03cb_11eb_9562_0242ac1c0002row3_col8\" class=\"data row3 col8\" >2.500000</td>\n",
              "                        <td id=\"T_f44659fa_03cb_11eb_9562_0242ac1c0002row3_col9\" class=\"data row3 col9\" >2.900000</td>\n",
              "                        <td id=\"T_f44659fa_03cb_11eb_9562_0242ac1c0002row3_col10\" class=\"data row3 col10\" >3.400000</td>\n",
              "                        <td id=\"T_f44659fa_03cb_11eb_9562_0242ac1c0002row3_col11\" class=\"data row3 col11\" >3.200000</td>\n",
              "                        <td id=\"T_f44659fa_03cb_11eb_9562_0242ac1c0002row3_col12\" class=\"data row3 col12\" >3.200000</td>\n",
              "                        <td id=\"T_f44659fa_03cb_11eb_9562_0242ac1c0002row3_col13\" class=\"data row3 col13\" >2.660000</td>\n",
              "                        <td id=\"T_f44659fa_03cb_11eb_9562_0242ac1c0002row3_col14\" class=\"data row3 col14\" >1.700000</td>\n",
              "                        <td id=\"T_f44659fa_03cb_11eb_9562_0242ac1c0002row3_col15\" class=\"data row3 col15\" >0.800000</td>\n",
              "                        <td id=\"T_f44659fa_03cb_11eb_9562_0242ac1c0002row3_col16\" class=\"data row3 col16\" >0.500000</td>\n",
              "                        <td id=\"T_f44659fa_03cb_11eb_9562_0242ac1c0002row3_col17\" class=\"data row3 col17\" >0.600000</td>\n",
              "                        <td id=\"T_f44659fa_03cb_11eb_9562_0242ac1c0002row3_col18\" class=\"data row3 col18\" >0.600000</td>\n",
              "            </tr>\n",
              "            <tr>\n",
              "                        <th id=\"T_f44659fa_03cb_11eb_9562_0242ac1c0002level0_row4\" class=\"row_heading level0 row4\" >Karachay-Cherkess Republic</th>\n",
              "                        <td id=\"T_f44659fa_03cb_11eb_9562_0242ac1c0002row4_col0\" class=\"data row4 col0\" >1.700000</td>\n",
              "                        <td id=\"T_f44659fa_03cb_11eb_9562_0242ac1c0002row4_col1\" class=\"data row4 col1\" >2.100000</td>\n",
              "                        <td id=\"T_f44659fa_03cb_11eb_9562_0242ac1c0002row4_col2\" class=\"data row4 col2\" >2.200000</td>\n",
              "                        <td id=\"T_f44659fa_03cb_11eb_9562_0242ac1c0002row4_col3\" class=\"data row4 col3\" >2.300000</td>\n",
              "                        <td id=\"T_f44659fa_03cb_11eb_9562_0242ac1c0002row4_col4\" class=\"data row4 col4\" >2.700000</td>\n",
              "                        <td id=\"T_f44659fa_03cb_11eb_9562_0242ac1c0002row4_col5\" class=\"data row4 col5\" >3.700000</td>\n",
              "                        <td id=\"T_f44659fa_03cb_11eb_9562_0242ac1c0002row4_col6\" class=\"data row4 col6\" >4.200000</td>\n",
              "                        <td id=\"T_f44659fa_03cb_11eb_9562_0242ac1c0002row4_col7\" class=\"data row4 col7\" >4.600000</td>\n",
              "                        <td id=\"T_f44659fa_03cb_11eb_9562_0242ac1c0002row4_col8\" class=\"data row4 col8\" >3.000000</td>\n",
              "                        <td id=\"T_f44659fa_03cb_11eb_9562_0242ac1c0002row4_col9\" class=\"data row4 col9\" >2.000000</td>\n",
              "                        <td id=\"T_f44659fa_03cb_11eb_9562_0242ac1c0002row4_col10\" class=\"data row4 col10\" >1.900000</td>\n",
              "                        <td id=\"T_f44659fa_03cb_11eb_9562_0242ac1c0002row4_col11\" class=\"data row4 col11\" >1.500000</td>\n",
              "                        <td id=\"T_f44659fa_03cb_11eb_9562_0242ac1c0002row4_col12\" class=\"data row4 col12\" >1.400000</td>\n",
              "                        <td id=\"T_f44659fa_03cb_11eb_9562_0242ac1c0002row4_col13\" class=\"data row4 col13\" >1.360000</td>\n",
              "                        <td id=\"T_f44659fa_03cb_11eb_9562_0242ac1c0002row4_col14\" class=\"data row4 col14\" >1.300000</td>\n",
              "                        <td id=\"T_f44659fa_03cb_11eb_9562_0242ac1c0002row4_col15\" class=\"data row4 col15\" >1.100000</td>\n",
              "                        <td id=\"T_f44659fa_03cb_11eb_9562_0242ac1c0002row4_col16\" class=\"data row4 col16\" >1.200000</td>\n",
              "                        <td id=\"T_f44659fa_03cb_11eb_9562_0242ac1c0002row4_col17\" class=\"data row4 col17\" >1.100000</td>\n",
              "                        <td id=\"T_f44659fa_03cb_11eb_9562_0242ac1c0002row4_col18\" class=\"data row4 col18\" >0.900000</td>\n",
              "            </tr>\n",
              "    </tbody></table>"
            ],
            "text/plain": [
              "<pandas.io.formats.style.Styler at 0x7ffa00eecb70>"
            ]
          },
          "metadata": {
            "tags": []
          },
          "execution_count": 36
        }
      ]
    },
    {
      "cell_type": "markdown",
      "metadata": {
        "id": "dseKgFL8WSy4"
      },
      "source": [
        "В 2016 году самым не пьющим вино регионом остается Чечня. Топ 5 стран выглядит так:\n",
        "1. Чечня - 0 литров\n",
        "2. Дагестан - 0,1 литров\n",
        "3. Северная Осетия - 0,5 литров\n",
        "4. Кабардино-Балкария - 0,6 литров\n",
        "5. Карачаево-Черкесия - 0,9 литров\n",
        "\n",
        "Интересно, что, если в 1998 году Дагестан показывал результаты, в целом, близкие к средним значениям по России, то к 2016 году потребление вина в регионе постепенно сокращалось и сошло практически на нет. В Чечне стабильно не употребляют вино."
      ]
    },
    {
      "cell_type": "markdown",
      "metadata": {
        "id": "frp28-cn49pJ"
      },
      "source": [
        "**ТОП 5 регионов по потреблению пива на душу населения**"
      ]
    },
    {
      "cell_type": "code",
      "metadata": {
        "id": "dFM7vbIx5En9",
        "outputId": "45027835-26f0-4666-e153-39e78e4132c0",
        "colab": {
          "base_uri": "https://localhost:8080/",
          "height": 288
        }
      },
      "source": [
        "beer_region = pd.pivot_table(df_filter, values='beer', index='region', columns='year', aggfunc='sum')\n",
        "\n",
        "beer_region.sort_values(by=1998, ascending=False).head(5).style.applymap(lambda x: \"background-color: #e65a71\" if x>df_region_mean['beer'].mean() else \"background-color: white\")   "
      ],
      "execution_count": 37,
      "outputs": [
        {
          "output_type": "execute_result",
          "data": {
            "text/html": [
              "<style  type=\"text/css\" >\n",
              "#T_f4502e9e_03cb_11eb_9562_0242ac1c0002row0_col0,#T_f4502e9e_03cb_11eb_9562_0242ac1c0002row0_col1,#T_f4502e9e_03cb_11eb_9562_0242ac1c0002row0_col2,#T_f4502e9e_03cb_11eb_9562_0242ac1c0002row0_col6,#T_f4502e9e_03cb_11eb_9562_0242ac1c0002row0_col7,#T_f4502e9e_03cb_11eb_9562_0242ac1c0002row0_col8,#T_f4502e9e_03cb_11eb_9562_0242ac1c0002row1_col0,#T_f4502e9e_03cb_11eb_9562_0242ac1c0002row1_col1,#T_f4502e9e_03cb_11eb_9562_0242ac1c0002row1_col2,#T_f4502e9e_03cb_11eb_9562_0242ac1c0002row2_col0,#T_f4502e9e_03cb_11eb_9562_0242ac1c0002row2_col18,#T_f4502e9e_03cb_11eb_9562_0242ac1c0002row3_col0,#T_f4502e9e_03cb_11eb_9562_0242ac1c0002row3_col1,#T_f4502e9e_03cb_11eb_9562_0242ac1c0002row3_col2,#T_f4502e9e_03cb_11eb_9562_0242ac1c0002row3_col3,#T_f4502e9e_03cb_11eb_9562_0242ac1c0002row3_col4,#T_f4502e9e_03cb_11eb_9562_0242ac1c0002row3_col5,#T_f4502e9e_03cb_11eb_9562_0242ac1c0002row3_col6,#T_f4502e9e_03cb_11eb_9562_0242ac1c0002row3_col7,#T_f4502e9e_03cb_11eb_9562_0242ac1c0002row3_col8,#T_f4502e9e_03cb_11eb_9562_0242ac1c0002row3_col10,#T_f4502e9e_03cb_11eb_9562_0242ac1c0002row3_col11,#T_f4502e9e_03cb_11eb_9562_0242ac1c0002row3_col12,#T_f4502e9e_03cb_11eb_9562_0242ac1c0002row3_col16,#T_f4502e9e_03cb_11eb_9562_0242ac1c0002row3_col17,#T_f4502e9e_03cb_11eb_9562_0242ac1c0002row3_col18,#T_f4502e9e_03cb_11eb_9562_0242ac1c0002row4_col0,#T_f4502e9e_03cb_11eb_9562_0242ac1c0002row4_col1,#T_f4502e9e_03cb_11eb_9562_0242ac1c0002row4_col2,#T_f4502e9e_03cb_11eb_9562_0242ac1c0002row4_col3,#T_f4502e9e_03cb_11eb_9562_0242ac1c0002row4_col4,#T_f4502e9e_03cb_11eb_9562_0242ac1c0002row4_col5,#T_f4502e9e_03cb_11eb_9562_0242ac1c0002row4_col6,#T_f4502e9e_03cb_11eb_9562_0242ac1c0002row4_col7,#T_f4502e9e_03cb_11eb_9562_0242ac1c0002row4_col8,#T_f4502e9e_03cb_11eb_9562_0242ac1c0002row4_col9,#T_f4502e9e_03cb_11eb_9562_0242ac1c0002row4_col10,#T_f4502e9e_03cb_11eb_9562_0242ac1c0002row4_col11{\n",
              "            background-color:  white;\n",
              "        }#T_f4502e9e_03cb_11eb_9562_0242ac1c0002row0_col3,#T_f4502e9e_03cb_11eb_9562_0242ac1c0002row0_col4,#T_f4502e9e_03cb_11eb_9562_0242ac1c0002row0_col5,#T_f4502e9e_03cb_11eb_9562_0242ac1c0002row0_col9,#T_f4502e9e_03cb_11eb_9562_0242ac1c0002row0_col10,#T_f4502e9e_03cb_11eb_9562_0242ac1c0002row0_col11,#T_f4502e9e_03cb_11eb_9562_0242ac1c0002row0_col12,#T_f4502e9e_03cb_11eb_9562_0242ac1c0002row0_col13,#T_f4502e9e_03cb_11eb_9562_0242ac1c0002row0_col14,#T_f4502e9e_03cb_11eb_9562_0242ac1c0002row0_col15,#T_f4502e9e_03cb_11eb_9562_0242ac1c0002row0_col16,#T_f4502e9e_03cb_11eb_9562_0242ac1c0002row0_col17,#T_f4502e9e_03cb_11eb_9562_0242ac1c0002row0_col18,#T_f4502e9e_03cb_11eb_9562_0242ac1c0002row1_col3,#T_f4502e9e_03cb_11eb_9562_0242ac1c0002row1_col4,#T_f4502e9e_03cb_11eb_9562_0242ac1c0002row1_col5,#T_f4502e9e_03cb_11eb_9562_0242ac1c0002row1_col6,#T_f4502e9e_03cb_11eb_9562_0242ac1c0002row1_col7,#T_f4502e9e_03cb_11eb_9562_0242ac1c0002row1_col8,#T_f4502e9e_03cb_11eb_9562_0242ac1c0002row1_col9,#T_f4502e9e_03cb_11eb_9562_0242ac1c0002row1_col10,#T_f4502e9e_03cb_11eb_9562_0242ac1c0002row1_col11,#T_f4502e9e_03cb_11eb_9562_0242ac1c0002row1_col12,#T_f4502e9e_03cb_11eb_9562_0242ac1c0002row1_col13,#T_f4502e9e_03cb_11eb_9562_0242ac1c0002row1_col14,#T_f4502e9e_03cb_11eb_9562_0242ac1c0002row1_col15,#T_f4502e9e_03cb_11eb_9562_0242ac1c0002row1_col16,#T_f4502e9e_03cb_11eb_9562_0242ac1c0002row1_col17,#T_f4502e9e_03cb_11eb_9562_0242ac1c0002row1_col18,#T_f4502e9e_03cb_11eb_9562_0242ac1c0002row2_col1,#T_f4502e9e_03cb_11eb_9562_0242ac1c0002row2_col2,#T_f4502e9e_03cb_11eb_9562_0242ac1c0002row2_col3,#T_f4502e9e_03cb_11eb_9562_0242ac1c0002row2_col4,#T_f4502e9e_03cb_11eb_9562_0242ac1c0002row2_col5,#T_f4502e9e_03cb_11eb_9562_0242ac1c0002row2_col6,#T_f4502e9e_03cb_11eb_9562_0242ac1c0002row2_col7,#T_f4502e9e_03cb_11eb_9562_0242ac1c0002row2_col8,#T_f4502e9e_03cb_11eb_9562_0242ac1c0002row2_col9,#T_f4502e9e_03cb_11eb_9562_0242ac1c0002row2_col10,#T_f4502e9e_03cb_11eb_9562_0242ac1c0002row2_col11,#T_f4502e9e_03cb_11eb_9562_0242ac1c0002row2_col12,#T_f4502e9e_03cb_11eb_9562_0242ac1c0002row2_col13,#T_f4502e9e_03cb_11eb_9562_0242ac1c0002row2_col14,#T_f4502e9e_03cb_11eb_9562_0242ac1c0002row2_col15,#T_f4502e9e_03cb_11eb_9562_0242ac1c0002row2_col16,#T_f4502e9e_03cb_11eb_9562_0242ac1c0002row2_col17,#T_f4502e9e_03cb_11eb_9562_0242ac1c0002row3_col9,#T_f4502e9e_03cb_11eb_9562_0242ac1c0002row3_col13,#T_f4502e9e_03cb_11eb_9562_0242ac1c0002row3_col14,#T_f4502e9e_03cb_11eb_9562_0242ac1c0002row3_col15,#T_f4502e9e_03cb_11eb_9562_0242ac1c0002row4_col12,#T_f4502e9e_03cb_11eb_9562_0242ac1c0002row4_col13,#T_f4502e9e_03cb_11eb_9562_0242ac1c0002row4_col14,#T_f4502e9e_03cb_11eb_9562_0242ac1c0002row4_col15,#T_f4502e9e_03cb_11eb_9562_0242ac1c0002row4_col16,#T_f4502e9e_03cb_11eb_9562_0242ac1c0002row4_col17,#T_f4502e9e_03cb_11eb_9562_0242ac1c0002row4_col18{\n",
              "            background-color:  #e65a71;\n",
              "        }</style><table id=\"T_f4502e9e_03cb_11eb_9562_0242ac1c0002\" ><thead>    <tr>        <th class=\"index_name level0\" >year</th>        <th class=\"col_heading level0 col0\" >1998</th>        <th class=\"col_heading level0 col1\" >1999</th>        <th class=\"col_heading level0 col2\" >2000</th>        <th class=\"col_heading level0 col3\" >2001</th>        <th class=\"col_heading level0 col4\" >2002</th>        <th class=\"col_heading level0 col5\" >2003</th>        <th class=\"col_heading level0 col6\" >2004</th>        <th class=\"col_heading level0 col7\" >2005</th>        <th class=\"col_heading level0 col8\" >2006</th>        <th class=\"col_heading level0 col9\" >2007</th>        <th class=\"col_heading level0 col10\" >2008</th>        <th class=\"col_heading level0 col11\" >2009</th>        <th class=\"col_heading level0 col12\" >2010</th>        <th class=\"col_heading level0 col13\" >2011</th>        <th class=\"col_heading level0 col14\" >2012</th>        <th class=\"col_heading level0 col15\" >2013</th>        <th class=\"col_heading level0 col16\" >2014</th>        <th class=\"col_heading level0 col17\" >2015</th>        <th class=\"col_heading level0 col18\" >2016</th>    </tr>    <tr>        <th class=\"index_name level0\" >region</th>        <th class=\"blank\" ></th>        <th class=\"blank\" ></th>        <th class=\"blank\" ></th>        <th class=\"blank\" ></th>        <th class=\"blank\" ></th>        <th class=\"blank\" ></th>        <th class=\"blank\" ></th>        <th class=\"blank\" ></th>        <th class=\"blank\" ></th>        <th class=\"blank\" ></th>        <th class=\"blank\" ></th>        <th class=\"blank\" ></th>        <th class=\"blank\" ></th>        <th class=\"blank\" ></th>        <th class=\"blank\" ></th>        <th class=\"blank\" ></th>        <th class=\"blank\" ></th>        <th class=\"blank\" ></th>        <th class=\"blank\" ></th>    </tr></thead><tbody>\n",
              "                <tr>\n",
              "                        <th id=\"T_f4502e9e_03cb_11eb_9562_0242ac1c0002level0_row0\" class=\"row_heading level0 row0\" >Omsk Oblast</th>\n",
              "                        <td id=\"T_f4502e9e_03cb_11eb_9562_0242ac1c0002row0_col0\" class=\"data row0 col0\" >42.100000</td>\n",
              "                        <td id=\"T_f4502e9e_03cb_11eb_9562_0242ac1c0002row0_col1\" class=\"data row0 col1\" >36.000000</td>\n",
              "                        <td id=\"T_f4502e9e_03cb_11eb_9562_0242ac1c0002row0_col2\" class=\"data row0 col2\" >41.500000</td>\n",
              "                        <td id=\"T_f4502e9e_03cb_11eb_9562_0242ac1c0002row0_col3\" class=\"data row0 col3\" >55.500000</td>\n",
              "                        <td id=\"T_f4502e9e_03cb_11eb_9562_0242ac1c0002row0_col4\" class=\"data row0 col4\" >84.200000</td>\n",
              "                        <td id=\"T_f4502e9e_03cb_11eb_9562_0242ac1c0002row0_col5\" class=\"data row0 col5\" >97.300000</td>\n",
              "                        <td id=\"T_f4502e9e_03cb_11eb_9562_0242ac1c0002row0_col6\" class=\"data row0 col6\" >26.600000</td>\n",
              "                        <td id=\"T_f4502e9e_03cb_11eb_9562_0242ac1c0002row0_col7\" class=\"data row0 col7\" >28.200000</td>\n",
              "                        <td id=\"T_f4502e9e_03cb_11eb_9562_0242ac1c0002row0_col8\" class=\"data row0 col8\" >30.400000</td>\n",
              "                        <td id=\"T_f4502e9e_03cb_11eb_9562_0242ac1c0002row0_col9\" class=\"data row0 col9\" >104.200000</td>\n",
              "                        <td id=\"T_f4502e9e_03cb_11eb_9562_0242ac1c0002row0_col10\" class=\"data row0 col10\" >126.300000</td>\n",
              "                        <td id=\"T_f4502e9e_03cb_11eb_9562_0242ac1c0002row0_col11\" class=\"data row0 col11\" >116.700000</td>\n",
              "                        <td id=\"T_f4502e9e_03cb_11eb_9562_0242ac1c0002row0_col12\" class=\"data row0 col12\" >118.800000</td>\n",
              "                        <td id=\"T_f4502e9e_03cb_11eb_9562_0242ac1c0002row0_col13\" class=\"data row0 col13\" >126.930000</td>\n",
              "                        <td id=\"T_f4502e9e_03cb_11eb_9562_0242ac1c0002row0_col14\" class=\"data row0 col14\" >125.200000</td>\n",
              "                        <td id=\"T_f4502e9e_03cb_11eb_9562_0242ac1c0002row0_col15\" class=\"data row0 col15\" >103.000000</td>\n",
              "                        <td id=\"T_f4502e9e_03cb_11eb_9562_0242ac1c0002row0_col16\" class=\"data row0 col16\" >79.700000</td>\n",
              "                        <td id=\"T_f4502e9e_03cb_11eb_9562_0242ac1c0002row0_col17\" class=\"data row0 col17\" >60.400000</td>\n",
              "                        <td id=\"T_f4502e9e_03cb_11eb_9562_0242ac1c0002row0_col18\" class=\"data row0 col18\" >53.200000</td>\n",
              "            </tr>\n",
              "            <tr>\n",
              "                        <th id=\"T_f4502e9e_03cb_11eb_9562_0242ac1c0002level0_row1\" class=\"row_heading level0 row1\" >Republic of Khakassia</th>\n",
              "                        <td id=\"T_f4502e9e_03cb_11eb_9562_0242ac1c0002row1_col0\" class=\"data row1 col0\" >38.300000</td>\n",
              "                        <td id=\"T_f4502e9e_03cb_11eb_9562_0242ac1c0002row1_col1\" class=\"data row1 col1\" >48.700000</td>\n",
              "                        <td id=\"T_f4502e9e_03cb_11eb_9562_0242ac1c0002row1_col2\" class=\"data row1 col2\" >47.900000</td>\n",
              "                        <td id=\"T_f4502e9e_03cb_11eb_9562_0242ac1c0002row1_col3\" class=\"data row1 col3\" >53.600000</td>\n",
              "                        <td id=\"T_f4502e9e_03cb_11eb_9562_0242ac1c0002row1_col4\" class=\"data row1 col4\" >56.300000</td>\n",
              "                        <td id=\"T_f4502e9e_03cb_11eb_9562_0242ac1c0002row1_col5\" class=\"data row1 col5\" >61.200000</td>\n",
              "                        <td id=\"T_f4502e9e_03cb_11eb_9562_0242ac1c0002row1_col6\" class=\"data row1 col6\" >74.500000</td>\n",
              "                        <td id=\"T_f4502e9e_03cb_11eb_9562_0242ac1c0002row1_col7\" class=\"data row1 col7\" >73.600000</td>\n",
              "                        <td id=\"T_f4502e9e_03cb_11eb_9562_0242ac1c0002row1_col8\" class=\"data row1 col8\" >90.100000</td>\n",
              "                        <td id=\"T_f4502e9e_03cb_11eb_9562_0242ac1c0002row1_col9\" class=\"data row1 col9\" >73.100000</td>\n",
              "                        <td id=\"T_f4502e9e_03cb_11eb_9562_0242ac1c0002row1_col10\" class=\"data row1 col10\" >54.600000</td>\n",
              "                        <td id=\"T_f4502e9e_03cb_11eb_9562_0242ac1c0002row1_col11\" class=\"data row1 col11\" >58.500000</td>\n",
              "                        <td id=\"T_f4502e9e_03cb_11eb_9562_0242ac1c0002row1_col12\" class=\"data row1 col12\" >57.700000</td>\n",
              "                        <td id=\"T_f4502e9e_03cb_11eb_9562_0242ac1c0002row1_col13\" class=\"data row1 col13\" >68.000000</td>\n",
              "                        <td id=\"T_f4502e9e_03cb_11eb_9562_0242ac1c0002row1_col14\" class=\"data row1 col14\" >70.300000</td>\n",
              "                        <td id=\"T_f4502e9e_03cb_11eb_9562_0242ac1c0002row1_col15\" class=\"data row1 col15\" >68.600000</td>\n",
              "                        <td id=\"T_f4502e9e_03cb_11eb_9562_0242ac1c0002row1_col16\" class=\"data row1 col16\" >82.200000</td>\n",
              "                        <td id=\"T_f4502e9e_03cb_11eb_9562_0242ac1c0002row1_col17\" class=\"data row1 col17\" >84.300000</td>\n",
              "                        <td id=\"T_f4502e9e_03cb_11eb_9562_0242ac1c0002row1_col18\" class=\"data row1 col18\" >79.100000</td>\n",
              "            </tr>\n",
              "            <tr>\n",
              "                        <th id=\"T_f4502e9e_03cb_11eb_9562_0242ac1c0002level0_row2\" class=\"row_heading level0 row2\" >Smolensk Oblast</th>\n",
              "                        <td id=\"T_f4502e9e_03cb_11eb_9562_0242ac1c0002row2_col0\" class=\"data row2 col0\" >35.600000</td>\n",
              "                        <td id=\"T_f4502e9e_03cb_11eb_9562_0242ac1c0002row2_col1\" class=\"data row2 col1\" >53.800000</td>\n",
              "                        <td id=\"T_f4502e9e_03cb_11eb_9562_0242ac1c0002row2_col2\" class=\"data row2 col2\" >55.300000</td>\n",
              "                        <td id=\"T_f4502e9e_03cb_11eb_9562_0242ac1c0002row2_col3\" class=\"data row2 col3\" >71.300000</td>\n",
              "                        <td id=\"T_f4502e9e_03cb_11eb_9562_0242ac1c0002row2_col4\" class=\"data row2 col4\" >96.200000</td>\n",
              "                        <td id=\"T_f4502e9e_03cb_11eb_9562_0242ac1c0002row2_col5\" class=\"data row2 col5\" >92.300000</td>\n",
              "                        <td id=\"T_f4502e9e_03cb_11eb_9562_0242ac1c0002row2_col6\" class=\"data row2 col6\" >84.500000</td>\n",
              "                        <td id=\"T_f4502e9e_03cb_11eb_9562_0242ac1c0002row2_col7\" class=\"data row2 col7\" >78.900000</td>\n",
              "                        <td id=\"T_f4502e9e_03cb_11eb_9562_0242ac1c0002row2_col8\" class=\"data row2 col8\" >66.200000</td>\n",
              "                        <td id=\"T_f4502e9e_03cb_11eb_9562_0242ac1c0002row2_col9\" class=\"data row2 col9\" >62.800000</td>\n",
              "                        <td id=\"T_f4502e9e_03cb_11eb_9562_0242ac1c0002row2_col10\" class=\"data row2 col10\" >60.700000</td>\n",
              "                        <td id=\"T_f4502e9e_03cb_11eb_9562_0242ac1c0002row2_col11\" class=\"data row2 col11\" >57.400000</td>\n",
              "                        <td id=\"T_f4502e9e_03cb_11eb_9562_0242ac1c0002row2_col12\" class=\"data row2 col12\" >54.200000</td>\n",
              "                        <td id=\"T_f4502e9e_03cb_11eb_9562_0242ac1c0002row2_col13\" class=\"data row2 col13\" >57.030000</td>\n",
              "                        <td id=\"T_f4502e9e_03cb_11eb_9562_0242ac1c0002row2_col14\" class=\"data row2 col14\" >58.300000</td>\n",
              "                        <td id=\"T_f4502e9e_03cb_11eb_9562_0242ac1c0002row2_col15\" class=\"data row2 col15\" >56.100000</td>\n",
              "                        <td id=\"T_f4502e9e_03cb_11eb_9562_0242ac1c0002row2_col16\" class=\"data row2 col16\" >55.500000</td>\n",
              "                        <td id=\"T_f4502e9e_03cb_11eb_9562_0242ac1c0002row2_col17\" class=\"data row2 col17\" >51.800000</td>\n",
              "                        <td id=\"T_f4502e9e_03cb_11eb_9562_0242ac1c0002row2_col18\" class=\"data row2 col18\" >48.000000</td>\n",
              "            </tr>\n",
              "            <tr>\n",
              "                        <th id=\"T_f4502e9e_03cb_11eb_9562_0242ac1c0002level0_row3\" class=\"row_heading level0 row3\" >Ulyanovsk Oblast</th>\n",
              "                        <td id=\"T_f4502e9e_03cb_11eb_9562_0242ac1c0002row3_col0\" class=\"data row3 col0\" >34.800000</td>\n",
              "                        <td id=\"T_f4502e9e_03cb_11eb_9562_0242ac1c0002row3_col1\" class=\"data row3 col1\" >46.300000</td>\n",
              "                        <td id=\"T_f4502e9e_03cb_11eb_9562_0242ac1c0002row3_col2\" class=\"data row3 col2\" >46.100000</td>\n",
              "                        <td id=\"T_f4502e9e_03cb_11eb_9562_0242ac1c0002row3_col3\" class=\"data row3 col3\" >47.700000</td>\n",
              "                        <td id=\"T_f4502e9e_03cb_11eb_9562_0242ac1c0002row3_col4\" class=\"data row3 col4\" >44.800000</td>\n",
              "                        <td id=\"T_f4502e9e_03cb_11eb_9562_0242ac1c0002row3_col5\" class=\"data row3 col5\" >42.500000</td>\n",
              "                        <td id=\"T_f4502e9e_03cb_11eb_9562_0242ac1c0002row3_col6\" class=\"data row3 col6\" >45.300000</td>\n",
              "                        <td id=\"T_f4502e9e_03cb_11eb_9562_0242ac1c0002row3_col7\" class=\"data row3 col7\" >32.600000</td>\n",
              "                        <td id=\"T_f4502e9e_03cb_11eb_9562_0242ac1c0002row3_col8\" class=\"data row3 col8\" >49.500000</td>\n",
              "                        <td id=\"T_f4502e9e_03cb_11eb_9562_0242ac1c0002row3_col9\" class=\"data row3 col9\" >52.800000</td>\n",
              "                        <td id=\"T_f4502e9e_03cb_11eb_9562_0242ac1c0002row3_col10\" class=\"data row3 col10\" >41.100000</td>\n",
              "                        <td id=\"T_f4502e9e_03cb_11eb_9562_0242ac1c0002row3_col11\" class=\"data row3 col11\" >39.900000</td>\n",
              "                        <td id=\"T_f4502e9e_03cb_11eb_9562_0242ac1c0002row3_col12\" class=\"data row3 col12\" >40.000000</td>\n",
              "                        <td id=\"T_f4502e9e_03cb_11eb_9562_0242ac1c0002row3_col13\" class=\"data row3 col13\" >54.900000</td>\n",
              "                        <td id=\"T_f4502e9e_03cb_11eb_9562_0242ac1c0002row3_col14\" class=\"data row3 col14\" >54.600000</td>\n",
              "                        <td id=\"T_f4502e9e_03cb_11eb_9562_0242ac1c0002row3_col15\" class=\"data row3 col15\" >55.200000</td>\n",
              "                        <td id=\"T_f4502e9e_03cb_11eb_9562_0242ac1c0002row3_col16\" class=\"data row3 col16\" >47.600000</td>\n",
              "                        <td id=\"T_f4502e9e_03cb_11eb_9562_0242ac1c0002row3_col17\" class=\"data row3 col17\" >46.600000</td>\n",
              "                        <td id=\"T_f4502e9e_03cb_11eb_9562_0242ac1c0002row3_col18\" class=\"data row3 col18\" >46.900000</td>\n",
              "            </tr>\n",
              "            <tr>\n",
              "                        <th id=\"T_f4502e9e_03cb_11eb_9562_0242ac1c0002level0_row4\" class=\"row_heading level0 row4\" >Magadan Oblast</th>\n",
              "                        <td id=\"T_f4502e9e_03cb_11eb_9562_0242ac1c0002row4_col0\" class=\"data row4 col0\" >33.800000</td>\n",
              "                        <td id=\"T_f4502e9e_03cb_11eb_9562_0242ac1c0002row4_col1\" class=\"data row4 col1\" >18.700000</td>\n",
              "                        <td id=\"T_f4502e9e_03cb_11eb_9562_0242ac1c0002row4_col2\" class=\"data row4 col2\" >24.600000</td>\n",
              "                        <td id=\"T_f4502e9e_03cb_11eb_9562_0242ac1c0002row4_col3\" class=\"data row4 col3\" >28.300000</td>\n",
              "                        <td id=\"T_f4502e9e_03cb_11eb_9562_0242ac1c0002row4_col4\" class=\"data row4 col4\" >33.000000</td>\n",
              "                        <td id=\"T_f4502e9e_03cb_11eb_9562_0242ac1c0002row4_col5\" class=\"data row4 col5\" >43.200000</td>\n",
              "                        <td id=\"T_f4502e9e_03cb_11eb_9562_0242ac1c0002row4_col6\" class=\"data row4 col6\" >39.400000</td>\n",
              "                        <td id=\"T_f4502e9e_03cb_11eb_9562_0242ac1c0002row4_col7\" class=\"data row4 col7\" >40.200000</td>\n",
              "                        <td id=\"T_f4502e9e_03cb_11eb_9562_0242ac1c0002row4_col8\" class=\"data row4 col8\" >42.400000</td>\n",
              "                        <td id=\"T_f4502e9e_03cb_11eb_9562_0242ac1c0002row4_col9\" class=\"data row4 col9\" >42.000000</td>\n",
              "                        <td id=\"T_f4502e9e_03cb_11eb_9562_0242ac1c0002row4_col10\" class=\"data row4 col10\" >34.200000</td>\n",
              "                        <td id=\"T_f4502e9e_03cb_11eb_9562_0242ac1c0002row4_col11\" class=\"data row4 col11\" >41.500000</td>\n",
              "                        <td id=\"T_f4502e9e_03cb_11eb_9562_0242ac1c0002row4_col12\" class=\"data row4 col12\" >55.500000</td>\n",
              "                        <td id=\"T_f4502e9e_03cb_11eb_9562_0242ac1c0002row4_col13\" class=\"data row4 col13\" >55.400000</td>\n",
              "                        <td id=\"T_f4502e9e_03cb_11eb_9562_0242ac1c0002row4_col14\" class=\"data row4 col14\" >59.900000</td>\n",
              "                        <td id=\"T_f4502e9e_03cb_11eb_9562_0242ac1c0002row4_col15\" class=\"data row4 col15\" >61.600000</td>\n",
              "                        <td id=\"T_f4502e9e_03cb_11eb_9562_0242ac1c0002row4_col16\" class=\"data row4 col16\" >63.500000</td>\n",
              "                        <td id=\"T_f4502e9e_03cb_11eb_9562_0242ac1c0002row4_col17\" class=\"data row4 col17\" >59.800000</td>\n",
              "                        <td id=\"T_f4502e9e_03cb_11eb_9562_0242ac1c0002row4_col18\" class=\"data row4 col18\" >56.500000</td>\n",
              "            </tr>\n",
              "    </tbody></table>"
            ],
            "text/plain": [
              "<pandas.io.formats.style.Styler at 0x7ffa02ac4588>"
            ]
          },
          "metadata": {
            "tags": []
          },
          "execution_count": 37
        }
      ]
    },
    {
      "cell_type": "markdown",
      "metadata": {
        "id": "7mIgUXx35IVm"
      },
      "source": [
        "ТОП регионов с наибольшим потреблением пива в 1998 году выглядел так:\n",
        "1. Омская область - 42.2 литра\n",
        "2. Республика Хакасия - 38.3 литра\n",
        "3. Смоленская область - 35.6 литров\n",
        "4. Ульяновская область - 34.8 литров\n",
        "5. Магаданская область - 33.8 литров\n",
        "При этом интересен не равномерный рост количества потребления пива по отдельным регионам от года к году.\n",
        "\n",
        "К примеру, хотя Омская область заняла первое место по потреблению пива в 1998 году, это значение ниже среднего значения по потреблению пива за весь период времени. Так же виден резкий скачок по потреблению пива в данном регионе в 2002-2003 годах и далее такой же резкий спад в 2004-2006 годах. \n",
        "Данные по Омской области:\n",
        "* 1998 - 42.1 литр на душу населения в год\n",
        "* 1999 - 36 литров\n",
        "* 2000 - 41.5 литр\n",
        "* 2001 - 55.5 литров\n",
        "* 2002 - 84.2 литра\n",
        "* 2003 - 97.3 литра\n",
        "* 2004 - 26.6 литров\n",
        "\n",
        "Возможно, данная разница произошла из-за разной методики подсчетов, либо по внешней причине. "
      ]
    },
    {
      "cell_type": "code",
      "metadata": {
        "id": "WYz6W6zJ5Iw1",
        "outputId": "8aabf007-614b-42f9-c232-b0ad41e4e6c4",
        "colab": {
          "base_uri": "https://localhost:8080/",
          "height": 305
        }
      },
      "source": [
        "beer_region = pd.pivot_table(df_filter, values='beer', index='region', columns='year', aggfunc='sum')\n",
        "beer_region.sort_values(by=2016, ascending=False).head(5).style.applymap(lambda x: \"background-color: #e65a71\" if x>df_region_mean['beer'].mean() else \"background-color: white\")   "
      ],
      "execution_count": 38,
      "outputs": [
        {
          "output_type": "execute_result",
          "data": {
            "text/html": [
              "<style  type=\"text/css\" >\n",
              "#T_f45961da_03cb_11eb_9562_0242ac1c0002row0_col0,#T_f45961da_03cb_11eb_9562_0242ac1c0002row0_col1,#T_f45961da_03cb_11eb_9562_0242ac1c0002row0_col2,#T_f45961da_03cb_11eb_9562_0242ac1c0002row0_col3,#T_f45961da_03cb_11eb_9562_0242ac1c0002row0_col4,#T_f45961da_03cb_11eb_9562_0242ac1c0002row0_col5,#T_f45961da_03cb_11eb_9562_0242ac1c0002row0_col6,#T_f45961da_03cb_11eb_9562_0242ac1c0002row0_col7,#T_f45961da_03cb_11eb_9562_0242ac1c0002row0_col8,#T_f45961da_03cb_11eb_9562_0242ac1c0002row1_col0,#T_f45961da_03cb_11eb_9562_0242ac1c0002row1_col1,#T_f45961da_03cb_11eb_9562_0242ac1c0002row1_col2,#T_f45961da_03cb_11eb_9562_0242ac1c0002row1_col3,#T_f45961da_03cb_11eb_9562_0242ac1c0002row1_col4,#T_f45961da_03cb_11eb_9562_0242ac1c0002row1_col5,#T_f45961da_03cb_11eb_9562_0242ac1c0002row1_col6,#T_f45961da_03cb_11eb_9562_0242ac1c0002row1_col7,#T_f45961da_03cb_11eb_9562_0242ac1c0002row2_col0,#T_f45961da_03cb_11eb_9562_0242ac1c0002row2_col1,#T_f45961da_03cb_11eb_9562_0242ac1c0002row2_col2,#T_f45961da_03cb_11eb_9562_0242ac1c0002row3_col0,#T_f45961da_03cb_11eb_9562_0242ac1c0002row3_col1,#T_f45961da_03cb_11eb_9562_0242ac1c0002row3_col2,#T_f45961da_03cb_11eb_9562_0242ac1c0002row3_col3,#T_f45961da_03cb_11eb_9562_0242ac1c0002row4_col0,#T_f45961da_03cb_11eb_9562_0242ac1c0002row4_col1,#T_f45961da_03cb_11eb_9562_0242ac1c0002row4_col2,#T_f45961da_03cb_11eb_9562_0242ac1c0002row4_col3,#T_f45961da_03cb_11eb_9562_0242ac1c0002row4_col4,#T_f45961da_03cb_11eb_9562_0242ac1c0002row4_col5{\n",
              "            background-color:  white;\n",
              "        }#T_f45961da_03cb_11eb_9562_0242ac1c0002row0_col9,#T_f45961da_03cb_11eb_9562_0242ac1c0002row0_col10,#T_f45961da_03cb_11eb_9562_0242ac1c0002row0_col11,#T_f45961da_03cb_11eb_9562_0242ac1c0002row0_col12,#T_f45961da_03cb_11eb_9562_0242ac1c0002row0_col13,#T_f45961da_03cb_11eb_9562_0242ac1c0002row0_col14,#T_f45961da_03cb_11eb_9562_0242ac1c0002row0_col15,#T_f45961da_03cb_11eb_9562_0242ac1c0002row0_col16,#T_f45961da_03cb_11eb_9562_0242ac1c0002row0_col17,#T_f45961da_03cb_11eb_9562_0242ac1c0002row0_col18,#T_f45961da_03cb_11eb_9562_0242ac1c0002row1_col8,#T_f45961da_03cb_11eb_9562_0242ac1c0002row1_col9,#T_f45961da_03cb_11eb_9562_0242ac1c0002row1_col10,#T_f45961da_03cb_11eb_9562_0242ac1c0002row1_col11,#T_f45961da_03cb_11eb_9562_0242ac1c0002row1_col12,#T_f45961da_03cb_11eb_9562_0242ac1c0002row1_col13,#T_f45961da_03cb_11eb_9562_0242ac1c0002row1_col14,#T_f45961da_03cb_11eb_9562_0242ac1c0002row1_col15,#T_f45961da_03cb_11eb_9562_0242ac1c0002row1_col16,#T_f45961da_03cb_11eb_9562_0242ac1c0002row1_col17,#T_f45961da_03cb_11eb_9562_0242ac1c0002row1_col18,#T_f45961da_03cb_11eb_9562_0242ac1c0002row2_col3,#T_f45961da_03cb_11eb_9562_0242ac1c0002row2_col4,#T_f45961da_03cb_11eb_9562_0242ac1c0002row2_col5,#T_f45961da_03cb_11eb_9562_0242ac1c0002row2_col6,#T_f45961da_03cb_11eb_9562_0242ac1c0002row2_col7,#T_f45961da_03cb_11eb_9562_0242ac1c0002row2_col8,#T_f45961da_03cb_11eb_9562_0242ac1c0002row2_col9,#T_f45961da_03cb_11eb_9562_0242ac1c0002row2_col10,#T_f45961da_03cb_11eb_9562_0242ac1c0002row2_col11,#T_f45961da_03cb_11eb_9562_0242ac1c0002row2_col12,#T_f45961da_03cb_11eb_9562_0242ac1c0002row2_col13,#T_f45961da_03cb_11eb_9562_0242ac1c0002row2_col14,#T_f45961da_03cb_11eb_9562_0242ac1c0002row2_col15,#T_f45961da_03cb_11eb_9562_0242ac1c0002row2_col16,#T_f45961da_03cb_11eb_9562_0242ac1c0002row2_col17,#T_f45961da_03cb_11eb_9562_0242ac1c0002row2_col18,#T_f45961da_03cb_11eb_9562_0242ac1c0002row3_col4,#T_f45961da_03cb_11eb_9562_0242ac1c0002row3_col5,#T_f45961da_03cb_11eb_9562_0242ac1c0002row3_col6,#T_f45961da_03cb_11eb_9562_0242ac1c0002row3_col7,#T_f45961da_03cb_11eb_9562_0242ac1c0002row3_col8,#T_f45961da_03cb_11eb_9562_0242ac1c0002row3_col9,#T_f45961da_03cb_11eb_9562_0242ac1c0002row3_col10,#T_f45961da_03cb_11eb_9562_0242ac1c0002row3_col11,#T_f45961da_03cb_11eb_9562_0242ac1c0002row3_col12,#T_f45961da_03cb_11eb_9562_0242ac1c0002row3_col13,#T_f45961da_03cb_11eb_9562_0242ac1c0002row3_col14,#T_f45961da_03cb_11eb_9562_0242ac1c0002row3_col15,#T_f45961da_03cb_11eb_9562_0242ac1c0002row3_col16,#T_f45961da_03cb_11eb_9562_0242ac1c0002row3_col17,#T_f45961da_03cb_11eb_9562_0242ac1c0002row3_col18,#T_f45961da_03cb_11eb_9562_0242ac1c0002row4_col6,#T_f45961da_03cb_11eb_9562_0242ac1c0002row4_col7,#T_f45961da_03cb_11eb_9562_0242ac1c0002row4_col8,#T_f45961da_03cb_11eb_9562_0242ac1c0002row4_col9,#T_f45961da_03cb_11eb_9562_0242ac1c0002row4_col10,#T_f45961da_03cb_11eb_9562_0242ac1c0002row4_col11,#T_f45961da_03cb_11eb_9562_0242ac1c0002row4_col12,#T_f45961da_03cb_11eb_9562_0242ac1c0002row4_col13,#T_f45961da_03cb_11eb_9562_0242ac1c0002row4_col14,#T_f45961da_03cb_11eb_9562_0242ac1c0002row4_col15,#T_f45961da_03cb_11eb_9562_0242ac1c0002row4_col16,#T_f45961da_03cb_11eb_9562_0242ac1c0002row4_col17,#T_f45961da_03cb_11eb_9562_0242ac1c0002row4_col18{\n",
              "            background-color:  #e65a71;\n",
              "        }</style><table id=\"T_f45961da_03cb_11eb_9562_0242ac1c0002\" ><thead>    <tr>        <th class=\"index_name level0\" >year</th>        <th class=\"col_heading level0 col0\" >1998</th>        <th class=\"col_heading level0 col1\" >1999</th>        <th class=\"col_heading level0 col2\" >2000</th>        <th class=\"col_heading level0 col3\" >2001</th>        <th class=\"col_heading level0 col4\" >2002</th>        <th class=\"col_heading level0 col5\" >2003</th>        <th class=\"col_heading level0 col6\" >2004</th>        <th class=\"col_heading level0 col7\" >2005</th>        <th class=\"col_heading level0 col8\" >2006</th>        <th class=\"col_heading level0 col9\" >2007</th>        <th class=\"col_heading level0 col10\" >2008</th>        <th class=\"col_heading level0 col11\" >2009</th>        <th class=\"col_heading level0 col12\" >2010</th>        <th class=\"col_heading level0 col13\" >2011</th>        <th class=\"col_heading level0 col14\" >2012</th>        <th class=\"col_heading level0 col15\" >2013</th>        <th class=\"col_heading level0 col16\" >2014</th>        <th class=\"col_heading level0 col17\" >2015</th>        <th class=\"col_heading level0 col18\" >2016</th>    </tr>    <tr>        <th class=\"index_name level0\" >region</th>        <th class=\"blank\" ></th>        <th class=\"blank\" ></th>        <th class=\"blank\" ></th>        <th class=\"blank\" ></th>        <th class=\"blank\" ></th>        <th class=\"blank\" ></th>        <th class=\"blank\" ></th>        <th class=\"blank\" ></th>        <th class=\"blank\" ></th>        <th class=\"blank\" ></th>        <th class=\"blank\" ></th>        <th class=\"blank\" ></th>        <th class=\"blank\" ></th>        <th class=\"blank\" ></th>        <th class=\"blank\" ></th>        <th class=\"blank\" ></th>        <th class=\"blank\" ></th>        <th class=\"blank\" ></th>        <th class=\"blank\" ></th>    </tr></thead><tbody>\n",
              "                <tr>\n",
              "                        <th id=\"T_f45961da_03cb_11eb_9562_0242ac1c0002level0_row0\" class=\"row_heading level0 row0\" >Moscow Oblast</th>\n",
              "                        <td id=\"T_f45961da_03cb_11eb_9562_0242ac1c0002row0_col0\" class=\"data row0 col0\" >11.900000</td>\n",
              "                        <td id=\"T_f45961da_03cb_11eb_9562_0242ac1c0002row0_col1\" class=\"data row0 col1\" >15.800000</td>\n",
              "                        <td id=\"T_f45961da_03cb_11eb_9562_0242ac1c0002row0_col2\" class=\"data row0 col2\" >22.600000</td>\n",
              "                        <td id=\"T_f45961da_03cb_11eb_9562_0242ac1c0002row0_col3\" class=\"data row0 col3\" >23.700000</td>\n",
              "                        <td id=\"T_f45961da_03cb_11eb_9562_0242ac1c0002row0_col4\" class=\"data row0 col4\" >29.400000</td>\n",
              "                        <td id=\"T_f45961da_03cb_11eb_9562_0242ac1c0002row0_col5\" class=\"data row0 col5\" >29.600000</td>\n",
              "                        <td id=\"T_f45961da_03cb_11eb_9562_0242ac1c0002row0_col6\" class=\"data row0 col6\" >30.500000</td>\n",
              "                        <td id=\"T_f45961da_03cb_11eb_9562_0242ac1c0002row0_col7\" class=\"data row0 col7\" >32.300000</td>\n",
              "                        <td id=\"T_f45961da_03cb_11eb_9562_0242ac1c0002row0_col8\" class=\"data row0 col8\" >38.700000</td>\n",
              "                        <td id=\"T_f45961da_03cb_11eb_9562_0242ac1c0002row0_col9\" class=\"data row0 col9\" >67.400000</td>\n",
              "                        <td id=\"T_f45961da_03cb_11eb_9562_0242ac1c0002row0_col10\" class=\"data row0 col10\" >86.000000</td>\n",
              "                        <td id=\"T_f45961da_03cb_11eb_9562_0242ac1c0002row0_col11\" class=\"data row0 col11\" >100.600000</td>\n",
              "                        <td id=\"T_f45961da_03cb_11eb_9562_0242ac1c0002row0_col12\" class=\"data row0 col12\" >100.600000</td>\n",
              "                        <td id=\"T_f45961da_03cb_11eb_9562_0242ac1c0002row0_col13\" class=\"data row0 col13\" >108.640000</td>\n",
              "                        <td id=\"T_f45961da_03cb_11eb_9562_0242ac1c0002row0_col14\" class=\"data row0 col14\" >101.000000</td>\n",
              "                        <td id=\"T_f45961da_03cb_11eb_9562_0242ac1c0002row0_col15\" class=\"data row0 col15\" >99.000000</td>\n",
              "                        <td id=\"T_f45961da_03cb_11eb_9562_0242ac1c0002row0_col16\" class=\"data row0 col16\" >97.700000</td>\n",
              "                        <td id=\"T_f45961da_03cb_11eb_9562_0242ac1c0002row0_col17\" class=\"data row0 col17\" >94.900000</td>\n",
              "                        <td id=\"T_f45961da_03cb_11eb_9562_0242ac1c0002row0_col18\" class=\"data row0 col18\" >99.100000</td>\n",
              "            </tr>\n",
              "            <tr>\n",
              "                        <th id=\"T_f45961da_03cb_11eb_9562_0242ac1c0002level0_row1\" class=\"row_heading level0 row1\" >Kamchatka Krai</th>\n",
              "                        <td id=\"T_f45961da_03cb_11eb_9562_0242ac1c0002row1_col0\" class=\"data row1 col0\" >25.500000</td>\n",
              "                        <td id=\"T_f45961da_03cb_11eb_9562_0242ac1c0002row1_col1\" class=\"data row1 col1\" >30.600000</td>\n",
              "                        <td id=\"T_f45961da_03cb_11eb_9562_0242ac1c0002row1_col2\" class=\"data row1 col2\" >32.700000</td>\n",
              "                        <td id=\"T_f45961da_03cb_11eb_9562_0242ac1c0002row1_col3\" class=\"data row1 col3\" >33.600000</td>\n",
              "                        <td id=\"T_f45961da_03cb_11eb_9562_0242ac1c0002row1_col4\" class=\"data row1 col4\" >35.300000</td>\n",
              "                        <td id=\"T_f45961da_03cb_11eb_9562_0242ac1c0002row1_col5\" class=\"data row1 col5\" >39.100000</td>\n",
              "                        <td id=\"T_f45961da_03cb_11eb_9562_0242ac1c0002row1_col6\" class=\"data row1 col6\" >49.200000</td>\n",
              "                        <td id=\"T_f45961da_03cb_11eb_9562_0242ac1c0002row1_col7\" class=\"data row1 col7\" >50.500000</td>\n",
              "                        <td id=\"T_f45961da_03cb_11eb_9562_0242ac1c0002row1_col8\" class=\"data row1 col8\" >69.100000</td>\n",
              "                        <td id=\"T_f45961da_03cb_11eb_9562_0242ac1c0002row1_col9\" class=\"data row1 col9\" >69.600000</td>\n",
              "                        <td id=\"T_f45961da_03cb_11eb_9562_0242ac1c0002row1_col10\" class=\"data row1 col10\" >73.400000</td>\n",
              "                        <td id=\"T_f45961da_03cb_11eb_9562_0242ac1c0002row1_col11\" class=\"data row1 col11\" >75.000000</td>\n",
              "                        <td id=\"T_f45961da_03cb_11eb_9562_0242ac1c0002row1_col12\" class=\"data row1 col12\" >75.600000</td>\n",
              "                        <td id=\"T_f45961da_03cb_11eb_9562_0242ac1c0002row1_col13\" class=\"data row1 col13\" >77.770000</td>\n",
              "                        <td id=\"T_f45961da_03cb_11eb_9562_0242ac1c0002row1_col14\" class=\"data row1 col14\" >76.000000</td>\n",
              "                        <td id=\"T_f45961da_03cb_11eb_9562_0242ac1c0002row1_col15\" class=\"data row1 col15\" >76.300000</td>\n",
              "                        <td id=\"T_f45961da_03cb_11eb_9562_0242ac1c0002row1_col16\" class=\"data row1 col16\" >76.000000</td>\n",
              "                        <td id=\"T_f45961da_03cb_11eb_9562_0242ac1c0002row1_col17\" class=\"data row1 col17\" >81.200000</td>\n",
              "                        <td id=\"T_f45961da_03cb_11eb_9562_0242ac1c0002row1_col18\" class=\"data row1 col18\" >85.400000</td>\n",
              "            </tr>\n",
              "            <tr>\n",
              "                        <th id=\"T_f45961da_03cb_11eb_9562_0242ac1c0002level0_row2\" class=\"row_heading level0 row2\" >Republic of Khakassia</th>\n",
              "                        <td id=\"T_f45961da_03cb_11eb_9562_0242ac1c0002row2_col0\" class=\"data row2 col0\" >38.300000</td>\n",
              "                        <td id=\"T_f45961da_03cb_11eb_9562_0242ac1c0002row2_col1\" class=\"data row2 col1\" >48.700000</td>\n",
              "                        <td id=\"T_f45961da_03cb_11eb_9562_0242ac1c0002row2_col2\" class=\"data row2 col2\" >47.900000</td>\n",
              "                        <td id=\"T_f45961da_03cb_11eb_9562_0242ac1c0002row2_col3\" class=\"data row2 col3\" >53.600000</td>\n",
              "                        <td id=\"T_f45961da_03cb_11eb_9562_0242ac1c0002row2_col4\" class=\"data row2 col4\" >56.300000</td>\n",
              "                        <td id=\"T_f45961da_03cb_11eb_9562_0242ac1c0002row2_col5\" class=\"data row2 col5\" >61.200000</td>\n",
              "                        <td id=\"T_f45961da_03cb_11eb_9562_0242ac1c0002row2_col6\" class=\"data row2 col6\" >74.500000</td>\n",
              "                        <td id=\"T_f45961da_03cb_11eb_9562_0242ac1c0002row2_col7\" class=\"data row2 col7\" >73.600000</td>\n",
              "                        <td id=\"T_f45961da_03cb_11eb_9562_0242ac1c0002row2_col8\" class=\"data row2 col8\" >90.100000</td>\n",
              "                        <td id=\"T_f45961da_03cb_11eb_9562_0242ac1c0002row2_col9\" class=\"data row2 col9\" >73.100000</td>\n",
              "                        <td id=\"T_f45961da_03cb_11eb_9562_0242ac1c0002row2_col10\" class=\"data row2 col10\" >54.600000</td>\n",
              "                        <td id=\"T_f45961da_03cb_11eb_9562_0242ac1c0002row2_col11\" class=\"data row2 col11\" >58.500000</td>\n",
              "                        <td id=\"T_f45961da_03cb_11eb_9562_0242ac1c0002row2_col12\" class=\"data row2 col12\" >57.700000</td>\n",
              "                        <td id=\"T_f45961da_03cb_11eb_9562_0242ac1c0002row2_col13\" class=\"data row2 col13\" >68.000000</td>\n",
              "                        <td id=\"T_f45961da_03cb_11eb_9562_0242ac1c0002row2_col14\" class=\"data row2 col14\" >70.300000</td>\n",
              "                        <td id=\"T_f45961da_03cb_11eb_9562_0242ac1c0002row2_col15\" class=\"data row2 col15\" >68.600000</td>\n",
              "                        <td id=\"T_f45961da_03cb_11eb_9562_0242ac1c0002row2_col16\" class=\"data row2 col16\" >82.200000</td>\n",
              "                        <td id=\"T_f45961da_03cb_11eb_9562_0242ac1c0002row2_col17\" class=\"data row2 col17\" >84.300000</td>\n",
              "                        <td id=\"T_f45961da_03cb_11eb_9562_0242ac1c0002row2_col18\" class=\"data row2 col18\" >79.100000</td>\n",
              "            </tr>\n",
              "            <tr>\n",
              "                        <th id=\"T_f45961da_03cb_11eb_9562_0242ac1c0002level0_row3\" class=\"row_heading level0 row3\" >Yamalo-Nenets Autonomous Okrug</th>\n",
              "                        <td id=\"T_f45961da_03cb_11eb_9562_0242ac1c0002row3_col0\" class=\"data row3 col0\" >23.800000</td>\n",
              "                        <td id=\"T_f45961da_03cb_11eb_9562_0242ac1c0002row3_col1\" class=\"data row3 col1\" >34.400000</td>\n",
              "                        <td id=\"T_f45961da_03cb_11eb_9562_0242ac1c0002row3_col2\" class=\"data row3 col2\" >36.900000</td>\n",
              "                        <td id=\"T_f45961da_03cb_11eb_9562_0242ac1c0002row3_col3\" class=\"data row3 col3\" >49.000000</td>\n",
              "                        <td id=\"T_f45961da_03cb_11eb_9562_0242ac1c0002row3_col4\" class=\"data row3 col4\" >77.000000</td>\n",
              "                        <td id=\"T_f45961da_03cb_11eb_9562_0242ac1c0002row3_col5\" class=\"data row3 col5\" >93.300000</td>\n",
              "                        <td id=\"T_f45961da_03cb_11eb_9562_0242ac1c0002row3_col6\" class=\"data row3 col6\" >94.500000</td>\n",
              "                        <td id=\"T_f45961da_03cb_11eb_9562_0242ac1c0002row3_col7\" class=\"data row3 col7\" >101.100000</td>\n",
              "                        <td id=\"T_f45961da_03cb_11eb_9562_0242ac1c0002row3_col8\" class=\"data row3 col8\" >106.600000</td>\n",
              "                        <td id=\"T_f45961da_03cb_11eb_9562_0242ac1c0002row3_col9\" class=\"data row3 col9\" >95.400000</td>\n",
              "                        <td id=\"T_f45961da_03cb_11eb_9562_0242ac1c0002row3_col10\" class=\"data row3 col10\" >93.400000</td>\n",
              "                        <td id=\"T_f45961da_03cb_11eb_9562_0242ac1c0002row3_col11\" class=\"data row3 col11\" >86.600000</td>\n",
              "                        <td id=\"T_f45961da_03cb_11eb_9562_0242ac1c0002row3_col12\" class=\"data row3 col12\" >87.400000</td>\n",
              "                        <td id=\"T_f45961da_03cb_11eb_9562_0242ac1c0002row3_col13\" class=\"data row3 col13\" >100.920000</td>\n",
              "                        <td id=\"T_f45961da_03cb_11eb_9562_0242ac1c0002row3_col14\" class=\"data row3 col14\" >99.900000</td>\n",
              "                        <td id=\"T_f45961da_03cb_11eb_9562_0242ac1c0002row3_col15\" class=\"data row3 col15\" >97.700000</td>\n",
              "                        <td id=\"T_f45961da_03cb_11eb_9562_0242ac1c0002row3_col16\" class=\"data row3 col16\" >86.200000</td>\n",
              "                        <td id=\"T_f45961da_03cb_11eb_9562_0242ac1c0002row3_col17\" class=\"data row3 col17\" >82.700000</td>\n",
              "                        <td id=\"T_f45961da_03cb_11eb_9562_0242ac1c0002row3_col18\" class=\"data row3 col18\" >75.800000</td>\n",
              "            </tr>\n",
              "            <tr>\n",
              "                        <th id=\"T_f45961da_03cb_11eb_9562_0242ac1c0002level0_row4\" class=\"row_heading level0 row4\" >Khabarovsk Krai</th>\n",
              "                        <td id=\"T_f45961da_03cb_11eb_9562_0242ac1c0002row4_col0\" class=\"data row4 col0\" >24.800000</td>\n",
              "                        <td id=\"T_f45961da_03cb_11eb_9562_0242ac1c0002row4_col1\" class=\"data row4 col1\" >30.000000</td>\n",
              "                        <td id=\"T_f45961da_03cb_11eb_9562_0242ac1c0002row4_col2\" class=\"data row4 col2\" >31.900000</td>\n",
              "                        <td id=\"T_f45961da_03cb_11eb_9562_0242ac1c0002row4_col3\" class=\"data row4 col3\" >38.400000</td>\n",
              "                        <td id=\"T_f45961da_03cb_11eb_9562_0242ac1c0002row4_col4\" class=\"data row4 col4\" >31.800000</td>\n",
              "                        <td id=\"T_f45961da_03cb_11eb_9562_0242ac1c0002row4_col5\" class=\"data row4 col5\" >47.400000</td>\n",
              "                        <td id=\"T_f45961da_03cb_11eb_9562_0242ac1c0002row4_col6\" class=\"data row4 col6\" >53.400000</td>\n",
              "                        <td id=\"T_f45961da_03cb_11eb_9562_0242ac1c0002row4_col7\" class=\"data row4 col7\" >70.500000</td>\n",
              "                        <td id=\"T_f45961da_03cb_11eb_9562_0242ac1c0002row4_col8\" class=\"data row4 col8\" >85.700000</td>\n",
              "                        <td id=\"T_f45961da_03cb_11eb_9562_0242ac1c0002row4_col9\" class=\"data row4 col9\" >93.700000</td>\n",
              "                        <td id=\"T_f45961da_03cb_11eb_9562_0242ac1c0002row4_col10\" class=\"data row4 col10\" >99.600000</td>\n",
              "                        <td id=\"T_f45961da_03cb_11eb_9562_0242ac1c0002row4_col11\" class=\"data row4 col11\" >94.700000</td>\n",
              "                        <td id=\"T_f45961da_03cb_11eb_9562_0242ac1c0002row4_col12\" class=\"data row4 col12\" >101.400000</td>\n",
              "                        <td id=\"T_f45961da_03cb_11eb_9562_0242ac1c0002row4_col13\" class=\"data row4 col13\" >104.940000</td>\n",
              "                        <td id=\"T_f45961da_03cb_11eb_9562_0242ac1c0002row4_col14\" class=\"data row4 col14\" >98.200000</td>\n",
              "                        <td id=\"T_f45961da_03cb_11eb_9562_0242ac1c0002row4_col15\" class=\"data row4 col15\" >94.300000</td>\n",
              "                        <td id=\"T_f45961da_03cb_11eb_9562_0242ac1c0002row4_col16\" class=\"data row4 col16\" >90.900000</td>\n",
              "                        <td id=\"T_f45961da_03cb_11eb_9562_0242ac1c0002row4_col17\" class=\"data row4 col17\" >68.300000</td>\n",
              "                        <td id=\"T_f45961da_03cb_11eb_9562_0242ac1c0002row4_col18\" class=\"data row4 col18\" >73.700000</td>\n",
              "            </tr>\n",
              "    </tbody></table>"
            ],
            "text/plain": [
              "<pandas.io.formats.style.Styler at 0x7ffa00e7de80>"
            ]
          },
          "metadata": {
            "tags": []
          },
          "execution_count": 38
        }
      ]
    },
    {
      "cell_type": "markdown",
      "metadata": {
        "id": "2ZmXDOTe5LdX"
      },
      "source": [
        "К 2016 году ТОП 5 регионов по потреблению пива на душу населения выглядел так:\n",
        "1. Московская область - 99.1 литров\n",
        "2. Камчатка - 85.4 литров\n",
        "3. Республика Хакасия - 79.1 литров\n",
        "4. Ямало-Ненецкий АО - 75.8 литра\n",
        "5. Хабаровский край - 73.7 литра\n",
        "\n",
        "По сравнению с 1998 годом общее количество потребления пива выросло в среднем в 3 раза. При этом топ регионов изменился. По прежнему в лидерах потребления пива осталась только Хакасия, сместившись со 2 на 3 место. Остальные регионы изменились.\n",
        "\n",
        "Москва входит в топ российских регионов по потреблению пива только с 2007 года, а до этого времени показетили потребления там были ниже среднего значения по России. "
      ]
    },
    {
      "cell_type": "code",
      "metadata": {
        "id": "tWWra8pS5PwL",
        "outputId": "2e477861-8c41-4198-ab11-0d550534ca33",
        "colab": {
          "base_uri": "https://localhost:8080/",
          "height": 305
        }
      },
      "source": [
        "beer_region = pd.pivot_table(df_filter, values='beer', index='region', columns='year', aggfunc='sum')\n",
        "\n",
        "beer_region.sort_values(by=1998, ascending=True).head(5).style.applymap(lambda x: \"background-color: #97ca9b\" if x<df_region_mean['beer'].mean() else \"background-color: white\")   "
      ],
      "execution_count": 39,
      "outputs": [
        {
          "output_type": "execute_result",
          "data": {
            "text/html": [
              "<style  type=\"text/css\" >\n",
              "#T_f462a89e_03cb_11eb_9562_0242ac1c0002row0_col0,#T_f462a89e_03cb_11eb_9562_0242ac1c0002row0_col1,#T_f462a89e_03cb_11eb_9562_0242ac1c0002row0_col2,#T_f462a89e_03cb_11eb_9562_0242ac1c0002row0_col3,#T_f462a89e_03cb_11eb_9562_0242ac1c0002row0_col4,#T_f462a89e_03cb_11eb_9562_0242ac1c0002row0_col5,#T_f462a89e_03cb_11eb_9562_0242ac1c0002row0_col6,#T_f462a89e_03cb_11eb_9562_0242ac1c0002row0_col7,#T_f462a89e_03cb_11eb_9562_0242ac1c0002row0_col8,#T_f462a89e_03cb_11eb_9562_0242ac1c0002row0_col9,#T_f462a89e_03cb_11eb_9562_0242ac1c0002row0_col10,#T_f462a89e_03cb_11eb_9562_0242ac1c0002row0_col11,#T_f462a89e_03cb_11eb_9562_0242ac1c0002row0_col12,#T_f462a89e_03cb_11eb_9562_0242ac1c0002row0_col13,#T_f462a89e_03cb_11eb_9562_0242ac1c0002row0_col14,#T_f462a89e_03cb_11eb_9562_0242ac1c0002row0_col15,#T_f462a89e_03cb_11eb_9562_0242ac1c0002row0_col16,#T_f462a89e_03cb_11eb_9562_0242ac1c0002row0_col17,#T_f462a89e_03cb_11eb_9562_0242ac1c0002row0_col18,#T_f462a89e_03cb_11eb_9562_0242ac1c0002row1_col0,#T_f462a89e_03cb_11eb_9562_0242ac1c0002row1_col1,#T_f462a89e_03cb_11eb_9562_0242ac1c0002row1_col2,#T_f462a89e_03cb_11eb_9562_0242ac1c0002row1_col3,#T_f462a89e_03cb_11eb_9562_0242ac1c0002row1_col4,#T_f462a89e_03cb_11eb_9562_0242ac1c0002row1_col5,#T_f462a89e_03cb_11eb_9562_0242ac1c0002row1_col6,#T_f462a89e_03cb_11eb_9562_0242ac1c0002row1_col7,#T_f462a89e_03cb_11eb_9562_0242ac1c0002row1_col8,#T_f462a89e_03cb_11eb_9562_0242ac1c0002row1_col9,#T_f462a89e_03cb_11eb_9562_0242ac1c0002row1_col10,#T_f462a89e_03cb_11eb_9562_0242ac1c0002row1_col11,#T_f462a89e_03cb_11eb_9562_0242ac1c0002row1_col12,#T_f462a89e_03cb_11eb_9562_0242ac1c0002row1_col13,#T_f462a89e_03cb_11eb_9562_0242ac1c0002row1_col14,#T_f462a89e_03cb_11eb_9562_0242ac1c0002row1_col15,#T_f462a89e_03cb_11eb_9562_0242ac1c0002row1_col16,#T_f462a89e_03cb_11eb_9562_0242ac1c0002row1_col17,#T_f462a89e_03cb_11eb_9562_0242ac1c0002row1_col18,#T_f462a89e_03cb_11eb_9562_0242ac1c0002row2_col0,#T_f462a89e_03cb_11eb_9562_0242ac1c0002row2_col1,#T_f462a89e_03cb_11eb_9562_0242ac1c0002row2_col2,#T_f462a89e_03cb_11eb_9562_0242ac1c0002row2_col3,#T_f462a89e_03cb_11eb_9562_0242ac1c0002row2_col4,#T_f462a89e_03cb_11eb_9562_0242ac1c0002row2_col5,#T_f462a89e_03cb_11eb_9562_0242ac1c0002row2_col6,#T_f462a89e_03cb_11eb_9562_0242ac1c0002row2_col7,#T_f462a89e_03cb_11eb_9562_0242ac1c0002row2_col8,#T_f462a89e_03cb_11eb_9562_0242ac1c0002row2_col9,#T_f462a89e_03cb_11eb_9562_0242ac1c0002row2_col10,#T_f462a89e_03cb_11eb_9562_0242ac1c0002row2_col11,#T_f462a89e_03cb_11eb_9562_0242ac1c0002row2_col12,#T_f462a89e_03cb_11eb_9562_0242ac1c0002row2_col13,#T_f462a89e_03cb_11eb_9562_0242ac1c0002row2_col14,#T_f462a89e_03cb_11eb_9562_0242ac1c0002row2_col15,#T_f462a89e_03cb_11eb_9562_0242ac1c0002row2_col16,#T_f462a89e_03cb_11eb_9562_0242ac1c0002row2_col17,#T_f462a89e_03cb_11eb_9562_0242ac1c0002row2_col18,#T_f462a89e_03cb_11eb_9562_0242ac1c0002row3_col0,#T_f462a89e_03cb_11eb_9562_0242ac1c0002row3_col1,#T_f462a89e_03cb_11eb_9562_0242ac1c0002row3_col2,#T_f462a89e_03cb_11eb_9562_0242ac1c0002row3_col3,#T_f462a89e_03cb_11eb_9562_0242ac1c0002row3_col4,#T_f462a89e_03cb_11eb_9562_0242ac1c0002row3_col5,#T_f462a89e_03cb_11eb_9562_0242ac1c0002row3_col6,#T_f462a89e_03cb_11eb_9562_0242ac1c0002row3_col7,#T_f462a89e_03cb_11eb_9562_0242ac1c0002row3_col8,#T_f462a89e_03cb_11eb_9562_0242ac1c0002row3_col9,#T_f462a89e_03cb_11eb_9562_0242ac1c0002row3_col10,#T_f462a89e_03cb_11eb_9562_0242ac1c0002row3_col11,#T_f462a89e_03cb_11eb_9562_0242ac1c0002row3_col12,#T_f462a89e_03cb_11eb_9562_0242ac1c0002row3_col13,#T_f462a89e_03cb_11eb_9562_0242ac1c0002row3_col14,#T_f462a89e_03cb_11eb_9562_0242ac1c0002row3_col15,#T_f462a89e_03cb_11eb_9562_0242ac1c0002row3_col16,#T_f462a89e_03cb_11eb_9562_0242ac1c0002row3_col17,#T_f462a89e_03cb_11eb_9562_0242ac1c0002row3_col18,#T_f462a89e_03cb_11eb_9562_0242ac1c0002row4_col0,#T_f462a89e_03cb_11eb_9562_0242ac1c0002row4_col1,#T_f462a89e_03cb_11eb_9562_0242ac1c0002row4_col2,#T_f462a89e_03cb_11eb_9562_0242ac1c0002row4_col3,#T_f462a89e_03cb_11eb_9562_0242ac1c0002row4_col4,#T_f462a89e_03cb_11eb_9562_0242ac1c0002row4_col5,#T_f462a89e_03cb_11eb_9562_0242ac1c0002row4_col6,#T_f462a89e_03cb_11eb_9562_0242ac1c0002row4_col7,#T_f462a89e_03cb_11eb_9562_0242ac1c0002row4_col8,#T_f462a89e_03cb_11eb_9562_0242ac1c0002row4_col9,#T_f462a89e_03cb_11eb_9562_0242ac1c0002row4_col10,#T_f462a89e_03cb_11eb_9562_0242ac1c0002row4_col11,#T_f462a89e_03cb_11eb_9562_0242ac1c0002row4_col12,#T_f462a89e_03cb_11eb_9562_0242ac1c0002row4_col13,#T_f462a89e_03cb_11eb_9562_0242ac1c0002row4_col14,#T_f462a89e_03cb_11eb_9562_0242ac1c0002row4_col15,#T_f462a89e_03cb_11eb_9562_0242ac1c0002row4_col16,#T_f462a89e_03cb_11eb_9562_0242ac1c0002row4_col17,#T_f462a89e_03cb_11eb_9562_0242ac1c0002row4_col18{\n",
              "            background-color:  #97ca9b;\n",
              "        }</style><table id=\"T_f462a89e_03cb_11eb_9562_0242ac1c0002\" ><thead>    <tr>        <th class=\"index_name level0\" >year</th>        <th class=\"col_heading level0 col0\" >1998</th>        <th class=\"col_heading level0 col1\" >1999</th>        <th class=\"col_heading level0 col2\" >2000</th>        <th class=\"col_heading level0 col3\" >2001</th>        <th class=\"col_heading level0 col4\" >2002</th>        <th class=\"col_heading level0 col5\" >2003</th>        <th class=\"col_heading level0 col6\" >2004</th>        <th class=\"col_heading level0 col7\" >2005</th>        <th class=\"col_heading level0 col8\" >2006</th>        <th class=\"col_heading level0 col9\" >2007</th>        <th class=\"col_heading level0 col10\" >2008</th>        <th class=\"col_heading level0 col11\" >2009</th>        <th class=\"col_heading level0 col12\" >2010</th>        <th class=\"col_heading level0 col13\" >2011</th>        <th class=\"col_heading level0 col14\" >2012</th>        <th class=\"col_heading level0 col15\" >2013</th>        <th class=\"col_heading level0 col16\" >2014</th>        <th class=\"col_heading level0 col17\" >2015</th>        <th class=\"col_heading level0 col18\" >2016</th>    </tr>    <tr>        <th class=\"index_name level0\" >region</th>        <th class=\"blank\" ></th>        <th class=\"blank\" ></th>        <th class=\"blank\" ></th>        <th class=\"blank\" ></th>        <th class=\"blank\" ></th>        <th class=\"blank\" ></th>        <th class=\"blank\" ></th>        <th class=\"blank\" ></th>        <th class=\"blank\" ></th>        <th class=\"blank\" ></th>        <th class=\"blank\" ></th>        <th class=\"blank\" ></th>        <th class=\"blank\" ></th>        <th class=\"blank\" ></th>        <th class=\"blank\" ></th>        <th class=\"blank\" ></th>        <th class=\"blank\" ></th>        <th class=\"blank\" ></th>        <th class=\"blank\" ></th>    </tr></thead><tbody>\n",
              "                <tr>\n",
              "                        <th id=\"T_f462a89e_03cb_11eb_9562_0242ac1c0002level0_row0\" class=\"row_heading level0 row0\" >Chukotka Autonomous Okrug</th>\n",
              "                        <td id=\"T_f462a89e_03cb_11eb_9562_0242ac1c0002row0_col0\" class=\"data row0 col0\" >1.800000</td>\n",
              "                        <td id=\"T_f462a89e_03cb_11eb_9562_0242ac1c0002row0_col1\" class=\"data row0 col1\" >2.300000</td>\n",
              "                        <td id=\"T_f462a89e_03cb_11eb_9562_0242ac1c0002row0_col2\" class=\"data row0 col2\" >5.200000</td>\n",
              "                        <td id=\"T_f462a89e_03cb_11eb_9562_0242ac1c0002row0_col3\" class=\"data row0 col3\" >11.000000</td>\n",
              "                        <td id=\"T_f462a89e_03cb_11eb_9562_0242ac1c0002row0_col4\" class=\"data row0 col4\" >6.400000</td>\n",
              "                        <td id=\"T_f462a89e_03cb_11eb_9562_0242ac1c0002row0_col5\" class=\"data row0 col5\" >12.300000</td>\n",
              "                        <td id=\"T_f462a89e_03cb_11eb_9562_0242ac1c0002row0_col6\" class=\"data row0 col6\" >10.800000</td>\n",
              "                        <td id=\"T_f462a89e_03cb_11eb_9562_0242ac1c0002row0_col7\" class=\"data row0 col7\" >9.100000</td>\n",
              "                        <td id=\"T_f462a89e_03cb_11eb_9562_0242ac1c0002row0_col8\" class=\"data row0 col8\" >11.000000</td>\n",
              "                        <td id=\"T_f462a89e_03cb_11eb_9562_0242ac1c0002row0_col9\" class=\"data row0 col9\" >12.700000</td>\n",
              "                        <td id=\"T_f462a89e_03cb_11eb_9562_0242ac1c0002row0_col10\" class=\"data row0 col10\" >16.700000</td>\n",
              "                        <td id=\"T_f462a89e_03cb_11eb_9562_0242ac1c0002row0_col11\" class=\"data row0 col11\" >9.800000</td>\n",
              "                        <td id=\"T_f462a89e_03cb_11eb_9562_0242ac1c0002row0_col12\" class=\"data row0 col12\" >17.700000</td>\n",
              "                        <td id=\"T_f462a89e_03cb_11eb_9562_0242ac1c0002row0_col13\" class=\"data row0 col13\" >16.910000</td>\n",
              "                        <td id=\"T_f462a89e_03cb_11eb_9562_0242ac1c0002row0_col14\" class=\"data row0 col14\" >24.000000</td>\n",
              "                        <td id=\"T_f462a89e_03cb_11eb_9562_0242ac1c0002row0_col15\" class=\"data row0 col15\" >27.000000</td>\n",
              "                        <td id=\"T_f462a89e_03cb_11eb_9562_0242ac1c0002row0_col16\" class=\"data row0 col16\" >32.700000</td>\n",
              "                        <td id=\"T_f462a89e_03cb_11eb_9562_0242ac1c0002row0_col17\" class=\"data row0 col17\" >31.500000</td>\n",
              "                        <td id=\"T_f462a89e_03cb_11eb_9562_0242ac1c0002row0_col18\" class=\"data row0 col18\" >34.000000</td>\n",
              "            </tr>\n",
              "            <tr>\n",
              "                        <th id=\"T_f462a89e_03cb_11eb_9562_0242ac1c0002level0_row1\" class=\"row_heading level0 row1\" >Chechen Republic</th>\n",
              "                        <td id=\"T_f462a89e_03cb_11eb_9562_0242ac1c0002row1_col0\" class=\"data row1 col0\" >2.766667</td>\n",
              "                        <td id=\"T_f462a89e_03cb_11eb_9562_0242ac1c0002row1_col1\" class=\"data row1 col1\" >2.766667</td>\n",
              "                        <td id=\"T_f462a89e_03cb_11eb_9562_0242ac1c0002row1_col2\" class=\"data row1 col2\" >2.766667</td>\n",
              "                        <td id=\"T_f462a89e_03cb_11eb_9562_0242ac1c0002row1_col3\" class=\"data row1 col3\" >2.766667</td>\n",
              "                        <td id=\"T_f462a89e_03cb_11eb_9562_0242ac1c0002row1_col4\" class=\"data row1 col4\" >2.766667</td>\n",
              "                        <td id=\"T_f462a89e_03cb_11eb_9562_0242ac1c0002row1_col5\" class=\"data row1 col5\" >2.766667</td>\n",
              "                        <td id=\"T_f462a89e_03cb_11eb_9562_0242ac1c0002row1_col6\" class=\"data row1 col6\" >2.766667</td>\n",
              "                        <td id=\"T_f462a89e_03cb_11eb_9562_0242ac1c0002row1_col7\" class=\"data row1 col7\" >2.766667</td>\n",
              "                        <td id=\"T_f462a89e_03cb_11eb_9562_0242ac1c0002row1_col8\" class=\"data row1 col8\" >2.766667</td>\n",
              "                        <td id=\"T_f462a89e_03cb_11eb_9562_0242ac1c0002row1_col9\" class=\"data row1 col9\" >2.766667</td>\n",
              "                        <td id=\"T_f462a89e_03cb_11eb_9562_0242ac1c0002row1_col10\" class=\"data row1 col10\" >2.766667</td>\n",
              "                        <td id=\"T_f462a89e_03cb_11eb_9562_0242ac1c0002row1_col11\" class=\"data row1 col11\" >2.766667</td>\n",
              "                        <td id=\"T_f462a89e_03cb_11eb_9562_0242ac1c0002row1_col12\" class=\"data row1 col12\" >2.766667</td>\n",
              "                        <td id=\"T_f462a89e_03cb_11eb_9562_0242ac1c0002row1_col13\" class=\"data row1 col13\" >2.766667</td>\n",
              "                        <td id=\"T_f462a89e_03cb_11eb_9562_0242ac1c0002row1_col14\" class=\"data row1 col14\" >2.766667</td>\n",
              "                        <td id=\"T_f462a89e_03cb_11eb_9562_0242ac1c0002row1_col15\" class=\"data row1 col15\" >2.766667</td>\n",
              "                        <td id=\"T_f462a89e_03cb_11eb_9562_0242ac1c0002row1_col16\" class=\"data row1 col16\" >4.900000</td>\n",
              "                        <td id=\"T_f462a89e_03cb_11eb_9562_0242ac1c0002row1_col17\" class=\"data row1 col17\" >2.200000</td>\n",
              "                        <td id=\"T_f462a89e_03cb_11eb_9562_0242ac1c0002row1_col18\" class=\"data row1 col18\" >1.200000</td>\n",
              "            </tr>\n",
              "            <tr>\n",
              "                        <th id=\"T_f462a89e_03cb_11eb_9562_0242ac1c0002level0_row2\" class=\"row_heading level0 row2\" >Republic of Dagestan</th>\n",
              "                        <td id=\"T_f462a89e_03cb_11eb_9562_0242ac1c0002row2_col0\" class=\"data row2 col0\" >3.800000</td>\n",
              "                        <td id=\"T_f462a89e_03cb_11eb_9562_0242ac1c0002row2_col1\" class=\"data row2 col1\" >1.600000</td>\n",
              "                        <td id=\"T_f462a89e_03cb_11eb_9562_0242ac1c0002row2_col2\" class=\"data row2 col2\" >1.800000</td>\n",
              "                        <td id=\"T_f462a89e_03cb_11eb_9562_0242ac1c0002row2_col3\" class=\"data row2 col3\" >3.300000</td>\n",
              "                        <td id=\"T_f462a89e_03cb_11eb_9562_0242ac1c0002row2_col4\" class=\"data row2 col4\" >9.600000</td>\n",
              "                        <td id=\"T_f462a89e_03cb_11eb_9562_0242ac1c0002row2_col5\" class=\"data row2 col5\" >9.700000</td>\n",
              "                        <td id=\"T_f462a89e_03cb_11eb_9562_0242ac1c0002row2_col6\" class=\"data row2 col6\" >6.600000</td>\n",
              "                        <td id=\"T_f462a89e_03cb_11eb_9562_0242ac1c0002row2_col7\" class=\"data row2 col7\" >10.400000</td>\n",
              "                        <td id=\"T_f462a89e_03cb_11eb_9562_0242ac1c0002row2_col8\" class=\"data row2 col8\" >6.900000</td>\n",
              "                        <td id=\"T_f462a89e_03cb_11eb_9562_0242ac1c0002row2_col9\" class=\"data row2 col9\" >5.900000</td>\n",
              "                        <td id=\"T_f462a89e_03cb_11eb_9562_0242ac1c0002row2_col10\" class=\"data row2 col10\" >6.600000</td>\n",
              "                        <td id=\"T_f462a89e_03cb_11eb_9562_0242ac1c0002row2_col11\" class=\"data row2 col11\" >6.300000</td>\n",
              "                        <td id=\"T_f462a89e_03cb_11eb_9562_0242ac1c0002row2_col12\" class=\"data row2 col12\" >3.100000</td>\n",
              "                        <td id=\"T_f462a89e_03cb_11eb_9562_0242ac1c0002row2_col13\" class=\"data row2 col13\" >2.740000</td>\n",
              "                        <td id=\"T_f462a89e_03cb_11eb_9562_0242ac1c0002row2_col14\" class=\"data row2 col14\" >2.500000</td>\n",
              "                        <td id=\"T_f462a89e_03cb_11eb_9562_0242ac1c0002row2_col15\" class=\"data row2 col15\" >2.100000</td>\n",
              "                        <td id=\"T_f462a89e_03cb_11eb_9562_0242ac1c0002row2_col16\" class=\"data row2 col16\" >2.200000</td>\n",
              "                        <td id=\"T_f462a89e_03cb_11eb_9562_0242ac1c0002row2_col17\" class=\"data row2 col17\" >2.100000</td>\n",
              "                        <td id=\"T_f462a89e_03cb_11eb_9562_0242ac1c0002row2_col18\" class=\"data row2 col18\" >1.000000</td>\n",
              "            </tr>\n",
              "            <tr>\n",
              "                        <th id=\"T_f462a89e_03cb_11eb_9562_0242ac1c0002level0_row3\" class=\"row_heading level0 row3\" >Republic of Kalmykia</th>\n",
              "                        <td id=\"T_f462a89e_03cb_11eb_9562_0242ac1c0002row3_col0\" class=\"data row3 col0\" >4.100000</td>\n",
              "                        <td id=\"T_f462a89e_03cb_11eb_9562_0242ac1c0002row3_col1\" class=\"data row3 col1\" >5.200000</td>\n",
              "                        <td id=\"T_f462a89e_03cb_11eb_9562_0242ac1c0002row3_col2\" class=\"data row3 col2\" >9.100000</td>\n",
              "                        <td id=\"T_f462a89e_03cb_11eb_9562_0242ac1c0002row3_col3\" class=\"data row3 col3\" >13.900000</td>\n",
              "                        <td id=\"T_f462a89e_03cb_11eb_9562_0242ac1c0002row3_col4\" class=\"data row3 col4\" >20.900000</td>\n",
              "                        <td id=\"T_f462a89e_03cb_11eb_9562_0242ac1c0002row3_col5\" class=\"data row3 col5\" >24.400000</td>\n",
              "                        <td id=\"T_f462a89e_03cb_11eb_9562_0242ac1c0002row3_col6\" class=\"data row3 col6\" >24.400000</td>\n",
              "                        <td id=\"T_f462a89e_03cb_11eb_9562_0242ac1c0002row3_col7\" class=\"data row3 col7\" >25.100000</td>\n",
              "                        <td id=\"T_f462a89e_03cb_11eb_9562_0242ac1c0002row3_col8\" class=\"data row3 col8\" >34.000000</td>\n",
              "                        <td id=\"T_f462a89e_03cb_11eb_9562_0242ac1c0002row3_col9\" class=\"data row3 col9\" >29.300000</td>\n",
              "                        <td id=\"T_f462a89e_03cb_11eb_9562_0242ac1c0002row3_col10\" class=\"data row3 col10\" >24.900000</td>\n",
              "                        <td id=\"T_f462a89e_03cb_11eb_9562_0242ac1c0002row3_col11\" class=\"data row3 col11\" >26.800000</td>\n",
              "                        <td id=\"T_f462a89e_03cb_11eb_9562_0242ac1c0002row3_col12\" class=\"data row3 col12\" >24.300000</td>\n",
              "                        <td id=\"T_f462a89e_03cb_11eb_9562_0242ac1c0002row3_col13\" class=\"data row3 col13\" >17.900000</td>\n",
              "                        <td id=\"T_f462a89e_03cb_11eb_9562_0242ac1c0002row3_col14\" class=\"data row3 col14\" >15.900000</td>\n",
              "                        <td id=\"T_f462a89e_03cb_11eb_9562_0242ac1c0002row3_col15\" class=\"data row3 col15\" >13.600000</td>\n",
              "                        <td id=\"T_f462a89e_03cb_11eb_9562_0242ac1c0002row3_col16\" class=\"data row3 col16\" >17.400000</td>\n",
              "                        <td id=\"T_f462a89e_03cb_11eb_9562_0242ac1c0002row3_col17\" class=\"data row3 col17\" >19.600000</td>\n",
              "                        <td id=\"T_f462a89e_03cb_11eb_9562_0242ac1c0002row3_col18\" class=\"data row3 col18\" >20.300000</td>\n",
              "            </tr>\n",
              "            <tr>\n",
              "                        <th id=\"T_f462a89e_03cb_11eb_9562_0242ac1c0002level0_row4\" class=\"row_heading level0 row4\" >Karachay-Cherkess Republic</th>\n",
              "                        <td id=\"T_f462a89e_03cb_11eb_9562_0242ac1c0002row4_col0\" class=\"data row4 col0\" >5.400000</td>\n",
              "                        <td id=\"T_f462a89e_03cb_11eb_9562_0242ac1c0002row4_col1\" class=\"data row4 col1\" >6.900000</td>\n",
              "                        <td id=\"T_f462a89e_03cb_11eb_9562_0242ac1c0002row4_col2\" class=\"data row4 col2\" >7.400000</td>\n",
              "                        <td id=\"T_f462a89e_03cb_11eb_9562_0242ac1c0002row4_col3\" class=\"data row4 col3\" >9.400000</td>\n",
              "                        <td id=\"T_f462a89e_03cb_11eb_9562_0242ac1c0002row4_col4\" class=\"data row4 col4\" >13.200000</td>\n",
              "                        <td id=\"T_f462a89e_03cb_11eb_9562_0242ac1c0002row4_col5\" class=\"data row4 col5\" >14.900000</td>\n",
              "                        <td id=\"T_f462a89e_03cb_11eb_9562_0242ac1c0002row4_col6\" class=\"data row4 col6\" >19.600000</td>\n",
              "                        <td id=\"T_f462a89e_03cb_11eb_9562_0242ac1c0002row4_col7\" class=\"data row4 col7\" >20.900000</td>\n",
              "                        <td id=\"T_f462a89e_03cb_11eb_9562_0242ac1c0002row4_col8\" class=\"data row4 col8\" >22.100000</td>\n",
              "                        <td id=\"T_f462a89e_03cb_11eb_9562_0242ac1c0002row4_col9\" class=\"data row4 col9\" >23.000000</td>\n",
              "                        <td id=\"T_f462a89e_03cb_11eb_9562_0242ac1c0002row4_col10\" class=\"data row4 col10\" >27.800000</td>\n",
              "                        <td id=\"T_f462a89e_03cb_11eb_9562_0242ac1c0002row4_col11\" class=\"data row4 col11\" >29.100000</td>\n",
              "                        <td id=\"T_f462a89e_03cb_11eb_9562_0242ac1c0002row4_col12\" class=\"data row4 col12\" >28.400000</td>\n",
              "                        <td id=\"T_f462a89e_03cb_11eb_9562_0242ac1c0002row4_col13\" class=\"data row4 col13\" >29.530000</td>\n",
              "                        <td id=\"T_f462a89e_03cb_11eb_9562_0242ac1c0002row4_col14\" class=\"data row4 col14\" >28.700000</td>\n",
              "                        <td id=\"T_f462a89e_03cb_11eb_9562_0242ac1c0002row4_col15\" class=\"data row4 col15\" >28.100000</td>\n",
              "                        <td id=\"T_f462a89e_03cb_11eb_9562_0242ac1c0002row4_col16\" class=\"data row4 col16\" >28.100000</td>\n",
              "                        <td id=\"T_f462a89e_03cb_11eb_9562_0242ac1c0002row4_col17\" class=\"data row4 col17\" >28.900000</td>\n",
              "                        <td id=\"T_f462a89e_03cb_11eb_9562_0242ac1c0002row4_col18\" class=\"data row4 col18\" >25.300000</td>\n",
              "            </tr>\n",
              "    </tbody></table>"
            ],
            "text/plain": [
              "<pandas.io.formats.style.Styler at 0x7ffa00e95f28>"
            ]
          },
          "metadata": {
            "tags": []
          },
          "execution_count": 39
        }
      ]
    },
    {
      "cell_type": "markdown",
      "metadata": {
        "id": "0wCXeay_5SDh"
      },
      "source": [
        "ТОП 5 регионов с наименьшим потреблением пива в 1998 выглядел так:\n",
        "1. Чукотский АО - 1.8 литров в год на душу населения\n",
        "2. Чечня - 2.8 литров\n",
        "3. Дагестан - 3.8 литров\n",
        "4. Калмыкия - 4.1 литра\n",
        "5. Карачаево-Черкессия - 5.4 литра\n",
        "\n",
        "Если сравнить с ТОП регионов по наименьшему потреблению вина, то здесь также присутствуют Чечня и Чукотка. Остальные три региона отличаются.\n",
        "\n",
        "При этом в Чукотском АО потребление пива с течением стабильно времени росло, а в Чечне и Дагестане сокращалось. \n",
        "\n",
        "Посмотрим как изменился ТОП самых малопьющих регионов с течением времени."
      ]
    },
    {
      "cell_type": "code",
      "metadata": {
        "id": "PZJ59t1O5Ub0",
        "outputId": "33f857fa-8db8-422a-ed21-58bdba55895b",
        "colab": {
          "base_uri": "https://localhost:8080/",
          "height": 357
        }
      },
      "source": [
        "beer_region = pd.pivot_table(df_filter, values='beer', index='region', columns='year', aggfunc='sum')\n",
        "\n",
        "beer_region.sort_values(by=2016, ascending=True).head(5).style.applymap(lambda x: \"background-color: #97ca9b\" if x<df_region_mean['beer'].mean() else \"background-color: white\")   "
      ],
      "execution_count": 40,
      "outputs": [
        {
          "output_type": "execute_result",
          "data": {
            "text/html": [
              "<style  type=\"text/css\" >\n",
              "#T_f46c5998_03cb_11eb_9562_0242ac1c0002row0_col0,#T_f46c5998_03cb_11eb_9562_0242ac1c0002row0_col1,#T_f46c5998_03cb_11eb_9562_0242ac1c0002row0_col2,#T_f46c5998_03cb_11eb_9562_0242ac1c0002row0_col3,#T_f46c5998_03cb_11eb_9562_0242ac1c0002row0_col4,#T_f46c5998_03cb_11eb_9562_0242ac1c0002row0_col5,#T_f46c5998_03cb_11eb_9562_0242ac1c0002row0_col6,#T_f46c5998_03cb_11eb_9562_0242ac1c0002row0_col7,#T_f46c5998_03cb_11eb_9562_0242ac1c0002row0_col8,#T_f46c5998_03cb_11eb_9562_0242ac1c0002row0_col9,#T_f46c5998_03cb_11eb_9562_0242ac1c0002row0_col10,#T_f46c5998_03cb_11eb_9562_0242ac1c0002row0_col11,#T_f46c5998_03cb_11eb_9562_0242ac1c0002row0_col12,#T_f46c5998_03cb_11eb_9562_0242ac1c0002row0_col13,#T_f46c5998_03cb_11eb_9562_0242ac1c0002row0_col14,#T_f46c5998_03cb_11eb_9562_0242ac1c0002row0_col15,#T_f46c5998_03cb_11eb_9562_0242ac1c0002row0_col16,#T_f46c5998_03cb_11eb_9562_0242ac1c0002row0_col17,#T_f46c5998_03cb_11eb_9562_0242ac1c0002row0_col18,#T_f46c5998_03cb_11eb_9562_0242ac1c0002row1_col0,#T_f46c5998_03cb_11eb_9562_0242ac1c0002row1_col1,#T_f46c5998_03cb_11eb_9562_0242ac1c0002row1_col2,#T_f46c5998_03cb_11eb_9562_0242ac1c0002row1_col3,#T_f46c5998_03cb_11eb_9562_0242ac1c0002row1_col4,#T_f46c5998_03cb_11eb_9562_0242ac1c0002row1_col5,#T_f46c5998_03cb_11eb_9562_0242ac1c0002row1_col6,#T_f46c5998_03cb_11eb_9562_0242ac1c0002row1_col7,#T_f46c5998_03cb_11eb_9562_0242ac1c0002row1_col8,#T_f46c5998_03cb_11eb_9562_0242ac1c0002row1_col9,#T_f46c5998_03cb_11eb_9562_0242ac1c0002row1_col10,#T_f46c5998_03cb_11eb_9562_0242ac1c0002row1_col11,#T_f46c5998_03cb_11eb_9562_0242ac1c0002row1_col12,#T_f46c5998_03cb_11eb_9562_0242ac1c0002row1_col13,#T_f46c5998_03cb_11eb_9562_0242ac1c0002row1_col14,#T_f46c5998_03cb_11eb_9562_0242ac1c0002row1_col15,#T_f46c5998_03cb_11eb_9562_0242ac1c0002row1_col16,#T_f46c5998_03cb_11eb_9562_0242ac1c0002row1_col17,#T_f46c5998_03cb_11eb_9562_0242ac1c0002row1_col18,#T_f46c5998_03cb_11eb_9562_0242ac1c0002row2_col0,#T_f46c5998_03cb_11eb_9562_0242ac1c0002row2_col1,#T_f46c5998_03cb_11eb_9562_0242ac1c0002row2_col2,#T_f46c5998_03cb_11eb_9562_0242ac1c0002row2_col3,#T_f46c5998_03cb_11eb_9562_0242ac1c0002row2_col4,#T_f46c5998_03cb_11eb_9562_0242ac1c0002row2_col5,#T_f46c5998_03cb_11eb_9562_0242ac1c0002row2_col6,#T_f46c5998_03cb_11eb_9562_0242ac1c0002row2_col7,#T_f46c5998_03cb_11eb_9562_0242ac1c0002row2_col8,#T_f46c5998_03cb_11eb_9562_0242ac1c0002row2_col9,#T_f46c5998_03cb_11eb_9562_0242ac1c0002row2_col10,#T_f46c5998_03cb_11eb_9562_0242ac1c0002row2_col11,#T_f46c5998_03cb_11eb_9562_0242ac1c0002row2_col12,#T_f46c5998_03cb_11eb_9562_0242ac1c0002row2_col13,#T_f46c5998_03cb_11eb_9562_0242ac1c0002row2_col14,#T_f46c5998_03cb_11eb_9562_0242ac1c0002row2_col15,#T_f46c5998_03cb_11eb_9562_0242ac1c0002row2_col16,#T_f46c5998_03cb_11eb_9562_0242ac1c0002row2_col17,#T_f46c5998_03cb_11eb_9562_0242ac1c0002row2_col18,#T_f46c5998_03cb_11eb_9562_0242ac1c0002row3_col0,#T_f46c5998_03cb_11eb_9562_0242ac1c0002row3_col1,#T_f46c5998_03cb_11eb_9562_0242ac1c0002row3_col2,#T_f46c5998_03cb_11eb_9562_0242ac1c0002row3_col3,#T_f46c5998_03cb_11eb_9562_0242ac1c0002row3_col4,#T_f46c5998_03cb_11eb_9562_0242ac1c0002row3_col5,#T_f46c5998_03cb_11eb_9562_0242ac1c0002row3_col6,#T_f46c5998_03cb_11eb_9562_0242ac1c0002row3_col7,#T_f46c5998_03cb_11eb_9562_0242ac1c0002row3_col8,#T_f46c5998_03cb_11eb_9562_0242ac1c0002row3_col9,#T_f46c5998_03cb_11eb_9562_0242ac1c0002row3_col10,#T_f46c5998_03cb_11eb_9562_0242ac1c0002row3_col11,#T_f46c5998_03cb_11eb_9562_0242ac1c0002row3_col12,#T_f46c5998_03cb_11eb_9562_0242ac1c0002row3_col13,#T_f46c5998_03cb_11eb_9562_0242ac1c0002row3_col14,#T_f46c5998_03cb_11eb_9562_0242ac1c0002row3_col15,#T_f46c5998_03cb_11eb_9562_0242ac1c0002row3_col16,#T_f46c5998_03cb_11eb_9562_0242ac1c0002row3_col17,#T_f46c5998_03cb_11eb_9562_0242ac1c0002row3_col18,#T_f46c5998_03cb_11eb_9562_0242ac1c0002row4_col0,#T_f46c5998_03cb_11eb_9562_0242ac1c0002row4_col1,#T_f46c5998_03cb_11eb_9562_0242ac1c0002row4_col2,#T_f46c5998_03cb_11eb_9562_0242ac1c0002row4_col3,#T_f46c5998_03cb_11eb_9562_0242ac1c0002row4_col4,#T_f46c5998_03cb_11eb_9562_0242ac1c0002row4_col5,#T_f46c5998_03cb_11eb_9562_0242ac1c0002row4_col6,#T_f46c5998_03cb_11eb_9562_0242ac1c0002row4_col7,#T_f46c5998_03cb_11eb_9562_0242ac1c0002row4_col8,#T_f46c5998_03cb_11eb_9562_0242ac1c0002row4_col9,#T_f46c5998_03cb_11eb_9562_0242ac1c0002row4_col10,#T_f46c5998_03cb_11eb_9562_0242ac1c0002row4_col11,#T_f46c5998_03cb_11eb_9562_0242ac1c0002row4_col12,#T_f46c5998_03cb_11eb_9562_0242ac1c0002row4_col13,#T_f46c5998_03cb_11eb_9562_0242ac1c0002row4_col14,#T_f46c5998_03cb_11eb_9562_0242ac1c0002row4_col15,#T_f46c5998_03cb_11eb_9562_0242ac1c0002row4_col16,#T_f46c5998_03cb_11eb_9562_0242ac1c0002row4_col17,#T_f46c5998_03cb_11eb_9562_0242ac1c0002row4_col18{\n",
              "            background-color:  #97ca9b;\n",
              "        }</style><table id=\"T_f46c5998_03cb_11eb_9562_0242ac1c0002\" ><thead>    <tr>        <th class=\"index_name level0\" >year</th>        <th class=\"col_heading level0 col0\" >1998</th>        <th class=\"col_heading level0 col1\" >1999</th>        <th class=\"col_heading level0 col2\" >2000</th>        <th class=\"col_heading level0 col3\" >2001</th>        <th class=\"col_heading level0 col4\" >2002</th>        <th class=\"col_heading level0 col5\" >2003</th>        <th class=\"col_heading level0 col6\" >2004</th>        <th class=\"col_heading level0 col7\" >2005</th>        <th class=\"col_heading level0 col8\" >2006</th>        <th class=\"col_heading level0 col9\" >2007</th>        <th class=\"col_heading level0 col10\" >2008</th>        <th class=\"col_heading level0 col11\" >2009</th>        <th class=\"col_heading level0 col12\" >2010</th>        <th class=\"col_heading level0 col13\" >2011</th>        <th class=\"col_heading level0 col14\" >2012</th>        <th class=\"col_heading level0 col15\" >2013</th>        <th class=\"col_heading level0 col16\" >2014</th>        <th class=\"col_heading level0 col17\" >2015</th>        <th class=\"col_heading level0 col18\" >2016</th>    </tr>    <tr>        <th class=\"index_name level0\" >region</th>        <th class=\"blank\" ></th>        <th class=\"blank\" ></th>        <th class=\"blank\" ></th>        <th class=\"blank\" ></th>        <th class=\"blank\" ></th>        <th class=\"blank\" ></th>        <th class=\"blank\" ></th>        <th class=\"blank\" ></th>        <th class=\"blank\" ></th>        <th class=\"blank\" ></th>        <th class=\"blank\" ></th>        <th class=\"blank\" ></th>        <th class=\"blank\" ></th>        <th class=\"blank\" ></th>        <th class=\"blank\" ></th>        <th class=\"blank\" ></th>        <th class=\"blank\" ></th>        <th class=\"blank\" ></th>        <th class=\"blank\" ></th>    </tr></thead><tbody>\n",
              "                <tr>\n",
              "                        <th id=\"T_f46c5998_03cb_11eb_9562_0242ac1c0002level0_row0\" class=\"row_heading level0 row0\" >Republic of Dagestan</th>\n",
              "                        <td id=\"T_f46c5998_03cb_11eb_9562_0242ac1c0002row0_col0\" class=\"data row0 col0\" >3.800000</td>\n",
              "                        <td id=\"T_f46c5998_03cb_11eb_9562_0242ac1c0002row0_col1\" class=\"data row0 col1\" >1.600000</td>\n",
              "                        <td id=\"T_f46c5998_03cb_11eb_9562_0242ac1c0002row0_col2\" class=\"data row0 col2\" >1.800000</td>\n",
              "                        <td id=\"T_f46c5998_03cb_11eb_9562_0242ac1c0002row0_col3\" class=\"data row0 col3\" >3.300000</td>\n",
              "                        <td id=\"T_f46c5998_03cb_11eb_9562_0242ac1c0002row0_col4\" class=\"data row0 col4\" >9.600000</td>\n",
              "                        <td id=\"T_f46c5998_03cb_11eb_9562_0242ac1c0002row0_col5\" class=\"data row0 col5\" >9.700000</td>\n",
              "                        <td id=\"T_f46c5998_03cb_11eb_9562_0242ac1c0002row0_col6\" class=\"data row0 col6\" >6.600000</td>\n",
              "                        <td id=\"T_f46c5998_03cb_11eb_9562_0242ac1c0002row0_col7\" class=\"data row0 col7\" >10.400000</td>\n",
              "                        <td id=\"T_f46c5998_03cb_11eb_9562_0242ac1c0002row0_col8\" class=\"data row0 col8\" >6.900000</td>\n",
              "                        <td id=\"T_f46c5998_03cb_11eb_9562_0242ac1c0002row0_col9\" class=\"data row0 col9\" >5.900000</td>\n",
              "                        <td id=\"T_f46c5998_03cb_11eb_9562_0242ac1c0002row0_col10\" class=\"data row0 col10\" >6.600000</td>\n",
              "                        <td id=\"T_f46c5998_03cb_11eb_9562_0242ac1c0002row0_col11\" class=\"data row0 col11\" >6.300000</td>\n",
              "                        <td id=\"T_f46c5998_03cb_11eb_9562_0242ac1c0002row0_col12\" class=\"data row0 col12\" >3.100000</td>\n",
              "                        <td id=\"T_f46c5998_03cb_11eb_9562_0242ac1c0002row0_col13\" class=\"data row0 col13\" >2.740000</td>\n",
              "                        <td id=\"T_f46c5998_03cb_11eb_9562_0242ac1c0002row0_col14\" class=\"data row0 col14\" >2.500000</td>\n",
              "                        <td id=\"T_f46c5998_03cb_11eb_9562_0242ac1c0002row0_col15\" class=\"data row0 col15\" >2.100000</td>\n",
              "                        <td id=\"T_f46c5998_03cb_11eb_9562_0242ac1c0002row0_col16\" class=\"data row0 col16\" >2.200000</td>\n",
              "                        <td id=\"T_f46c5998_03cb_11eb_9562_0242ac1c0002row0_col17\" class=\"data row0 col17\" >2.100000</td>\n",
              "                        <td id=\"T_f46c5998_03cb_11eb_9562_0242ac1c0002row0_col18\" class=\"data row0 col18\" >1.000000</td>\n",
              "            </tr>\n",
              "            <tr>\n",
              "                        <th id=\"T_f46c5998_03cb_11eb_9562_0242ac1c0002level0_row1\" class=\"row_heading level0 row1\" >Chechen Republic</th>\n",
              "                        <td id=\"T_f46c5998_03cb_11eb_9562_0242ac1c0002row1_col0\" class=\"data row1 col0\" >2.766667</td>\n",
              "                        <td id=\"T_f46c5998_03cb_11eb_9562_0242ac1c0002row1_col1\" class=\"data row1 col1\" >2.766667</td>\n",
              "                        <td id=\"T_f46c5998_03cb_11eb_9562_0242ac1c0002row1_col2\" class=\"data row1 col2\" >2.766667</td>\n",
              "                        <td id=\"T_f46c5998_03cb_11eb_9562_0242ac1c0002row1_col3\" class=\"data row1 col3\" >2.766667</td>\n",
              "                        <td id=\"T_f46c5998_03cb_11eb_9562_0242ac1c0002row1_col4\" class=\"data row1 col4\" >2.766667</td>\n",
              "                        <td id=\"T_f46c5998_03cb_11eb_9562_0242ac1c0002row1_col5\" class=\"data row1 col5\" >2.766667</td>\n",
              "                        <td id=\"T_f46c5998_03cb_11eb_9562_0242ac1c0002row1_col6\" class=\"data row1 col6\" >2.766667</td>\n",
              "                        <td id=\"T_f46c5998_03cb_11eb_9562_0242ac1c0002row1_col7\" class=\"data row1 col7\" >2.766667</td>\n",
              "                        <td id=\"T_f46c5998_03cb_11eb_9562_0242ac1c0002row1_col8\" class=\"data row1 col8\" >2.766667</td>\n",
              "                        <td id=\"T_f46c5998_03cb_11eb_9562_0242ac1c0002row1_col9\" class=\"data row1 col9\" >2.766667</td>\n",
              "                        <td id=\"T_f46c5998_03cb_11eb_9562_0242ac1c0002row1_col10\" class=\"data row1 col10\" >2.766667</td>\n",
              "                        <td id=\"T_f46c5998_03cb_11eb_9562_0242ac1c0002row1_col11\" class=\"data row1 col11\" >2.766667</td>\n",
              "                        <td id=\"T_f46c5998_03cb_11eb_9562_0242ac1c0002row1_col12\" class=\"data row1 col12\" >2.766667</td>\n",
              "                        <td id=\"T_f46c5998_03cb_11eb_9562_0242ac1c0002row1_col13\" class=\"data row1 col13\" >2.766667</td>\n",
              "                        <td id=\"T_f46c5998_03cb_11eb_9562_0242ac1c0002row1_col14\" class=\"data row1 col14\" >2.766667</td>\n",
              "                        <td id=\"T_f46c5998_03cb_11eb_9562_0242ac1c0002row1_col15\" class=\"data row1 col15\" >2.766667</td>\n",
              "                        <td id=\"T_f46c5998_03cb_11eb_9562_0242ac1c0002row1_col16\" class=\"data row1 col16\" >4.900000</td>\n",
              "                        <td id=\"T_f46c5998_03cb_11eb_9562_0242ac1c0002row1_col17\" class=\"data row1 col17\" >2.200000</td>\n",
              "                        <td id=\"T_f46c5998_03cb_11eb_9562_0242ac1c0002row1_col18\" class=\"data row1 col18\" >1.200000</td>\n",
              "            </tr>\n",
              "            <tr>\n",
              "                        <th id=\"T_f46c5998_03cb_11eb_9562_0242ac1c0002level0_row2\" class=\"row_heading level0 row2\" >Kabardino-Balkar Republic</th>\n",
              "                        <td id=\"T_f46c5998_03cb_11eb_9562_0242ac1c0002row2_col0\" class=\"data row2 col0\" >9.900000</td>\n",
              "                        <td id=\"T_f46c5998_03cb_11eb_9562_0242ac1c0002row2_col1\" class=\"data row2 col1\" >12.600000</td>\n",
              "                        <td id=\"T_f46c5998_03cb_11eb_9562_0242ac1c0002row2_col2\" class=\"data row2 col2\" >17.300000</td>\n",
              "                        <td id=\"T_f46c5998_03cb_11eb_9562_0242ac1c0002row2_col3\" class=\"data row2 col3\" >26.500000</td>\n",
              "                        <td id=\"T_f46c5998_03cb_11eb_9562_0242ac1c0002row2_col4\" class=\"data row2 col4\" >31.500000</td>\n",
              "                        <td id=\"T_f46c5998_03cb_11eb_9562_0242ac1c0002row2_col5\" class=\"data row2 col5\" >39.400000</td>\n",
              "                        <td id=\"T_f46c5998_03cb_11eb_9562_0242ac1c0002row2_col6\" class=\"data row2 col6\" >43.700000</td>\n",
              "                        <td id=\"T_f46c5998_03cb_11eb_9562_0242ac1c0002row2_col7\" class=\"data row2 col7\" >31.700000</td>\n",
              "                        <td id=\"T_f46c5998_03cb_11eb_9562_0242ac1c0002row2_col8\" class=\"data row2 col8\" >38.100000</td>\n",
              "                        <td id=\"T_f46c5998_03cb_11eb_9562_0242ac1c0002row2_col9\" class=\"data row2 col9\" >24.300000</td>\n",
              "                        <td id=\"T_f46c5998_03cb_11eb_9562_0242ac1c0002row2_col10\" class=\"data row2 col10\" >25.800000</td>\n",
              "                        <td id=\"T_f46c5998_03cb_11eb_9562_0242ac1c0002row2_col11\" class=\"data row2 col11\" >30.200000</td>\n",
              "                        <td id=\"T_f46c5998_03cb_11eb_9562_0242ac1c0002row2_col12\" class=\"data row2 col12\" >26.100000</td>\n",
              "                        <td id=\"T_f46c5998_03cb_11eb_9562_0242ac1c0002row2_col13\" class=\"data row2 col13\" >23.280000</td>\n",
              "                        <td id=\"T_f46c5998_03cb_11eb_9562_0242ac1c0002row2_col14\" class=\"data row2 col14\" >20.400000</td>\n",
              "                        <td id=\"T_f46c5998_03cb_11eb_9562_0242ac1c0002row2_col15\" class=\"data row2 col15\" >17.800000</td>\n",
              "                        <td id=\"T_f46c5998_03cb_11eb_9562_0242ac1c0002row2_col16\" class=\"data row2 col16\" >17.100000</td>\n",
              "                        <td id=\"T_f46c5998_03cb_11eb_9562_0242ac1c0002row2_col17\" class=\"data row2 col17\" >16.300000</td>\n",
              "                        <td id=\"T_f46c5998_03cb_11eb_9562_0242ac1c0002row2_col18\" class=\"data row2 col18\" >14.500000</td>\n",
              "            </tr>\n",
              "            <tr>\n",
              "                        <th id=\"T_f46c5998_03cb_11eb_9562_0242ac1c0002level0_row3\" class=\"row_heading level0 row3\" >Republic of North Ossetia-Alania</th>\n",
              "                        <td id=\"T_f46c5998_03cb_11eb_9562_0242ac1c0002row3_col0\" class=\"data row3 col0\" >23.300000</td>\n",
              "                        <td id=\"T_f46c5998_03cb_11eb_9562_0242ac1c0002row3_col1\" class=\"data row3 col1\" >24.100000</td>\n",
              "                        <td id=\"T_f46c5998_03cb_11eb_9562_0242ac1c0002row3_col2\" class=\"data row3 col2\" >19.900000</td>\n",
              "                        <td id=\"T_f46c5998_03cb_11eb_9562_0242ac1c0002row3_col3\" class=\"data row3 col3\" >15.700000</td>\n",
              "                        <td id=\"T_f46c5998_03cb_11eb_9562_0242ac1c0002row3_col4\" class=\"data row3 col4\" >14.900000</td>\n",
              "                        <td id=\"T_f46c5998_03cb_11eb_9562_0242ac1c0002row3_col5\" class=\"data row3 col5\" >14.500000</td>\n",
              "                        <td id=\"T_f46c5998_03cb_11eb_9562_0242ac1c0002row3_col6\" class=\"data row3 col6\" >15.800000</td>\n",
              "                        <td id=\"T_f46c5998_03cb_11eb_9562_0242ac1c0002row3_col7\" class=\"data row3 col7\" >16.000000</td>\n",
              "                        <td id=\"T_f46c5998_03cb_11eb_9562_0242ac1c0002row3_col8\" class=\"data row3 col8\" >17.500000</td>\n",
              "                        <td id=\"T_f46c5998_03cb_11eb_9562_0242ac1c0002row3_col9\" class=\"data row3 col9\" >15.700000</td>\n",
              "                        <td id=\"T_f46c5998_03cb_11eb_9562_0242ac1c0002row3_col10\" class=\"data row3 col10\" >12.300000</td>\n",
              "                        <td id=\"T_f46c5998_03cb_11eb_9562_0242ac1c0002row3_col11\" class=\"data row3 col11\" >11.700000</td>\n",
              "                        <td id=\"T_f46c5998_03cb_11eb_9562_0242ac1c0002row3_col12\" class=\"data row3 col12\" >14.300000</td>\n",
              "                        <td id=\"T_f46c5998_03cb_11eb_9562_0242ac1c0002row3_col13\" class=\"data row3 col13\" >17.650000</td>\n",
              "                        <td id=\"T_f46c5998_03cb_11eb_9562_0242ac1c0002row3_col14\" class=\"data row3 col14\" >21.000000</td>\n",
              "                        <td id=\"T_f46c5998_03cb_11eb_9562_0242ac1c0002row3_col15\" class=\"data row3 col15\" >20.700000</td>\n",
              "                        <td id=\"T_f46c5998_03cb_11eb_9562_0242ac1c0002row3_col16\" class=\"data row3 col16\" >19.800000</td>\n",
              "                        <td id=\"T_f46c5998_03cb_11eb_9562_0242ac1c0002row3_col17\" class=\"data row3 col17\" >19.200000</td>\n",
              "                        <td id=\"T_f46c5998_03cb_11eb_9562_0242ac1c0002row3_col18\" class=\"data row3 col18\" >17.300000</td>\n",
              "            </tr>\n",
              "            <tr>\n",
              "                        <th id=\"T_f46c5998_03cb_11eb_9562_0242ac1c0002level0_row4\" class=\"row_heading level0 row4\" >Republic of Kalmykia</th>\n",
              "                        <td id=\"T_f46c5998_03cb_11eb_9562_0242ac1c0002row4_col0\" class=\"data row4 col0\" >4.100000</td>\n",
              "                        <td id=\"T_f46c5998_03cb_11eb_9562_0242ac1c0002row4_col1\" class=\"data row4 col1\" >5.200000</td>\n",
              "                        <td id=\"T_f46c5998_03cb_11eb_9562_0242ac1c0002row4_col2\" class=\"data row4 col2\" >9.100000</td>\n",
              "                        <td id=\"T_f46c5998_03cb_11eb_9562_0242ac1c0002row4_col3\" class=\"data row4 col3\" >13.900000</td>\n",
              "                        <td id=\"T_f46c5998_03cb_11eb_9562_0242ac1c0002row4_col4\" class=\"data row4 col4\" >20.900000</td>\n",
              "                        <td id=\"T_f46c5998_03cb_11eb_9562_0242ac1c0002row4_col5\" class=\"data row4 col5\" >24.400000</td>\n",
              "                        <td id=\"T_f46c5998_03cb_11eb_9562_0242ac1c0002row4_col6\" class=\"data row4 col6\" >24.400000</td>\n",
              "                        <td id=\"T_f46c5998_03cb_11eb_9562_0242ac1c0002row4_col7\" class=\"data row4 col7\" >25.100000</td>\n",
              "                        <td id=\"T_f46c5998_03cb_11eb_9562_0242ac1c0002row4_col8\" class=\"data row4 col8\" >34.000000</td>\n",
              "                        <td id=\"T_f46c5998_03cb_11eb_9562_0242ac1c0002row4_col9\" class=\"data row4 col9\" >29.300000</td>\n",
              "                        <td id=\"T_f46c5998_03cb_11eb_9562_0242ac1c0002row4_col10\" class=\"data row4 col10\" >24.900000</td>\n",
              "                        <td id=\"T_f46c5998_03cb_11eb_9562_0242ac1c0002row4_col11\" class=\"data row4 col11\" >26.800000</td>\n",
              "                        <td id=\"T_f46c5998_03cb_11eb_9562_0242ac1c0002row4_col12\" class=\"data row4 col12\" >24.300000</td>\n",
              "                        <td id=\"T_f46c5998_03cb_11eb_9562_0242ac1c0002row4_col13\" class=\"data row4 col13\" >17.900000</td>\n",
              "                        <td id=\"T_f46c5998_03cb_11eb_9562_0242ac1c0002row4_col14\" class=\"data row4 col14\" >15.900000</td>\n",
              "                        <td id=\"T_f46c5998_03cb_11eb_9562_0242ac1c0002row4_col15\" class=\"data row4 col15\" >13.600000</td>\n",
              "                        <td id=\"T_f46c5998_03cb_11eb_9562_0242ac1c0002row4_col16\" class=\"data row4 col16\" >17.400000</td>\n",
              "                        <td id=\"T_f46c5998_03cb_11eb_9562_0242ac1c0002row4_col17\" class=\"data row4 col17\" >19.600000</td>\n",
              "                        <td id=\"T_f46c5998_03cb_11eb_9562_0242ac1c0002row4_col18\" class=\"data row4 col18\" >20.300000</td>\n",
              "            </tr>\n",
              "    </tbody></table>"
            ],
            "text/plain": [
              "<pandas.io.formats.style.Styler at 0x7ffa0117ec50>"
            ]
          },
          "metadata": {
            "tags": []
          },
          "execution_count": 40
        }
      ]
    },
    {
      "cell_type": "markdown",
      "metadata": {
        "id": "9FwZhhr25Xnu"
      },
      "source": [
        "В 2016 году ТОП регионов с самым низким потреблением пива выглядит так:\n",
        "1. Дагестан - 1 литр\n",
        "2. Чечня - 1.2 литра\n",
        "3. Кабардино-Балкария - 14.5 литров\n",
        "4. Северная Осетия - 17.3 литра\n",
        "5. Калмыкия - 20.3 литра\n",
        "\n",
        "Топ самых трезвых регионов по пиву и вину в 2016 году практически одинаковый. Совпадают 4 региона из 5. В ТОП регионов с самым низким показателем потребленияем вина входит Карачаево-Черкесия, а пива - Калмыкия. В остальном топ совпадает."
      ]
    },
    {
      "cell_type": "markdown",
      "metadata": {
        "id": "BDBpSXjGQ5V-"
      },
      "source": [
        "**ТОП 5 регионов по потреблению водки на душу населения**"
      ]
    },
    {
      "cell_type": "code",
      "metadata": {
        "id": "dXWSM0dURAxT",
        "outputId": "380bea77-5294-4ef0-dd8c-d5a86fe3818b",
        "colab": {
          "base_uri": "https://localhost:8080/",
          "height": 271
        }
      },
      "source": [
        "vodka_region = pd.pivot_table(df_filter, values='vodka', index='region', columns='year', aggfunc='sum')\n",
        "\n",
        "vodka_region.sort_values(by=1998, ascending=False).head(5).style.applymap(lambda x: \"background-color: #e65a71\" if x>df_region_mean['vodka'].mean() else \"background-color: white\")   "
      ],
      "execution_count": 41,
      "outputs": [
        {
          "output_type": "execute_result",
          "data": {
            "text/html": [
              "<style  type=\"text/css\" >\n",
              "#T_f4756db2_03cb_11eb_9562_0242ac1c0002row0_col0,#T_f4756db2_03cb_11eb_9562_0242ac1c0002row0_col1,#T_f4756db2_03cb_11eb_9562_0242ac1c0002row0_col2,#T_f4756db2_03cb_11eb_9562_0242ac1c0002row0_col3,#T_f4756db2_03cb_11eb_9562_0242ac1c0002row0_col4,#T_f4756db2_03cb_11eb_9562_0242ac1c0002row0_col5,#T_f4756db2_03cb_11eb_9562_0242ac1c0002row0_col6,#T_f4756db2_03cb_11eb_9562_0242ac1c0002row0_col7,#T_f4756db2_03cb_11eb_9562_0242ac1c0002row0_col8,#T_f4756db2_03cb_11eb_9562_0242ac1c0002row0_col9,#T_f4756db2_03cb_11eb_9562_0242ac1c0002row0_col10,#T_f4756db2_03cb_11eb_9562_0242ac1c0002row0_col11,#T_f4756db2_03cb_11eb_9562_0242ac1c0002row0_col12,#T_f4756db2_03cb_11eb_9562_0242ac1c0002row0_col13,#T_f4756db2_03cb_11eb_9562_0242ac1c0002row0_col14,#T_f4756db2_03cb_11eb_9562_0242ac1c0002row0_col15,#T_f4756db2_03cb_11eb_9562_0242ac1c0002row0_col16,#T_f4756db2_03cb_11eb_9562_0242ac1c0002row1_col0,#T_f4756db2_03cb_11eb_9562_0242ac1c0002row1_col1,#T_f4756db2_03cb_11eb_9562_0242ac1c0002row1_col2,#T_f4756db2_03cb_11eb_9562_0242ac1c0002row1_col3,#T_f4756db2_03cb_11eb_9562_0242ac1c0002row1_col4,#T_f4756db2_03cb_11eb_9562_0242ac1c0002row1_col5,#T_f4756db2_03cb_11eb_9562_0242ac1c0002row1_col6,#T_f4756db2_03cb_11eb_9562_0242ac1c0002row1_col7,#T_f4756db2_03cb_11eb_9562_0242ac1c0002row1_col8,#T_f4756db2_03cb_11eb_9562_0242ac1c0002row1_col9,#T_f4756db2_03cb_11eb_9562_0242ac1c0002row1_col10,#T_f4756db2_03cb_11eb_9562_0242ac1c0002row1_col11,#T_f4756db2_03cb_11eb_9562_0242ac1c0002row1_col12,#T_f4756db2_03cb_11eb_9562_0242ac1c0002row1_col13,#T_f4756db2_03cb_11eb_9562_0242ac1c0002row1_col14,#T_f4756db2_03cb_11eb_9562_0242ac1c0002row1_col15,#T_f4756db2_03cb_11eb_9562_0242ac1c0002row1_col16,#T_f4756db2_03cb_11eb_9562_0242ac1c0002row1_col17,#T_f4756db2_03cb_11eb_9562_0242ac1c0002row1_col18,#T_f4756db2_03cb_11eb_9562_0242ac1c0002row2_col0,#T_f4756db2_03cb_11eb_9562_0242ac1c0002row2_col1,#T_f4756db2_03cb_11eb_9562_0242ac1c0002row2_col2,#T_f4756db2_03cb_11eb_9562_0242ac1c0002row2_col3,#T_f4756db2_03cb_11eb_9562_0242ac1c0002row2_col4,#T_f4756db2_03cb_11eb_9562_0242ac1c0002row2_col5,#T_f4756db2_03cb_11eb_9562_0242ac1c0002row2_col6,#T_f4756db2_03cb_11eb_9562_0242ac1c0002row2_col7,#T_f4756db2_03cb_11eb_9562_0242ac1c0002row2_col8,#T_f4756db2_03cb_11eb_9562_0242ac1c0002row2_col9,#T_f4756db2_03cb_11eb_9562_0242ac1c0002row2_col10,#T_f4756db2_03cb_11eb_9562_0242ac1c0002row2_col11,#T_f4756db2_03cb_11eb_9562_0242ac1c0002row2_col12,#T_f4756db2_03cb_11eb_9562_0242ac1c0002row2_col13,#T_f4756db2_03cb_11eb_9562_0242ac1c0002row2_col14,#T_f4756db2_03cb_11eb_9562_0242ac1c0002row3_col0,#T_f4756db2_03cb_11eb_9562_0242ac1c0002row3_col1,#T_f4756db2_03cb_11eb_9562_0242ac1c0002row3_col2,#T_f4756db2_03cb_11eb_9562_0242ac1c0002row3_col3,#T_f4756db2_03cb_11eb_9562_0242ac1c0002row3_col4,#T_f4756db2_03cb_11eb_9562_0242ac1c0002row3_col5,#T_f4756db2_03cb_11eb_9562_0242ac1c0002row3_col6,#T_f4756db2_03cb_11eb_9562_0242ac1c0002row3_col7,#T_f4756db2_03cb_11eb_9562_0242ac1c0002row3_col8,#T_f4756db2_03cb_11eb_9562_0242ac1c0002row3_col9,#T_f4756db2_03cb_11eb_9562_0242ac1c0002row3_col10,#T_f4756db2_03cb_11eb_9562_0242ac1c0002row3_col11,#T_f4756db2_03cb_11eb_9562_0242ac1c0002row3_col12,#T_f4756db2_03cb_11eb_9562_0242ac1c0002row3_col13,#T_f4756db2_03cb_11eb_9562_0242ac1c0002row3_col14,#T_f4756db2_03cb_11eb_9562_0242ac1c0002row3_col15,#T_f4756db2_03cb_11eb_9562_0242ac1c0002row3_col16,#T_f4756db2_03cb_11eb_9562_0242ac1c0002row3_col17,#T_f4756db2_03cb_11eb_9562_0242ac1c0002row3_col18,#T_f4756db2_03cb_11eb_9562_0242ac1c0002row4_col0,#T_f4756db2_03cb_11eb_9562_0242ac1c0002row4_col1,#T_f4756db2_03cb_11eb_9562_0242ac1c0002row4_col2,#T_f4756db2_03cb_11eb_9562_0242ac1c0002row4_col3,#T_f4756db2_03cb_11eb_9562_0242ac1c0002row4_col4,#T_f4756db2_03cb_11eb_9562_0242ac1c0002row4_col5,#T_f4756db2_03cb_11eb_9562_0242ac1c0002row4_col6,#T_f4756db2_03cb_11eb_9562_0242ac1c0002row4_col7,#T_f4756db2_03cb_11eb_9562_0242ac1c0002row4_col8,#T_f4756db2_03cb_11eb_9562_0242ac1c0002row4_col9,#T_f4756db2_03cb_11eb_9562_0242ac1c0002row4_col10,#T_f4756db2_03cb_11eb_9562_0242ac1c0002row4_col11,#T_f4756db2_03cb_11eb_9562_0242ac1c0002row4_col12,#T_f4756db2_03cb_11eb_9562_0242ac1c0002row4_col13,#T_f4756db2_03cb_11eb_9562_0242ac1c0002row4_col14,#T_f4756db2_03cb_11eb_9562_0242ac1c0002row4_col15{\n",
              "            background-color:  #e65a71;\n",
              "        }#T_f4756db2_03cb_11eb_9562_0242ac1c0002row0_col17,#T_f4756db2_03cb_11eb_9562_0242ac1c0002row0_col18,#T_f4756db2_03cb_11eb_9562_0242ac1c0002row2_col15,#T_f4756db2_03cb_11eb_9562_0242ac1c0002row2_col16,#T_f4756db2_03cb_11eb_9562_0242ac1c0002row2_col17,#T_f4756db2_03cb_11eb_9562_0242ac1c0002row2_col18,#T_f4756db2_03cb_11eb_9562_0242ac1c0002row4_col16,#T_f4756db2_03cb_11eb_9562_0242ac1c0002row4_col17,#T_f4756db2_03cb_11eb_9562_0242ac1c0002row4_col18{\n",
              "            background-color:  white;\n",
              "        }</style><table id=\"T_f4756db2_03cb_11eb_9562_0242ac1c0002\" ><thead>    <tr>        <th class=\"index_name level0\" >year</th>        <th class=\"col_heading level0 col0\" >1998</th>        <th class=\"col_heading level0 col1\" >1999</th>        <th class=\"col_heading level0 col2\" >2000</th>        <th class=\"col_heading level0 col3\" >2001</th>        <th class=\"col_heading level0 col4\" >2002</th>        <th class=\"col_heading level0 col5\" >2003</th>        <th class=\"col_heading level0 col6\" >2004</th>        <th class=\"col_heading level0 col7\" >2005</th>        <th class=\"col_heading level0 col8\" >2006</th>        <th class=\"col_heading level0 col9\" >2007</th>        <th class=\"col_heading level0 col10\" >2008</th>        <th class=\"col_heading level0 col11\" >2009</th>        <th class=\"col_heading level0 col12\" >2010</th>        <th class=\"col_heading level0 col13\" >2011</th>        <th class=\"col_heading level0 col14\" >2012</th>        <th class=\"col_heading level0 col15\" >2013</th>        <th class=\"col_heading level0 col16\" >2014</th>        <th class=\"col_heading level0 col17\" >2015</th>        <th class=\"col_heading level0 col18\" >2016</th>    </tr>    <tr>        <th class=\"index_name level0\" >region</th>        <th class=\"blank\" ></th>        <th class=\"blank\" ></th>        <th class=\"blank\" ></th>        <th class=\"blank\" ></th>        <th class=\"blank\" ></th>        <th class=\"blank\" ></th>        <th class=\"blank\" ></th>        <th class=\"blank\" ></th>        <th class=\"blank\" ></th>        <th class=\"blank\" ></th>        <th class=\"blank\" ></th>        <th class=\"blank\" ></th>        <th class=\"blank\" ></th>        <th class=\"blank\" ></th>        <th class=\"blank\" ></th>        <th class=\"blank\" ></th>        <th class=\"blank\" ></th>        <th class=\"blank\" ></th>        <th class=\"blank\" ></th>    </tr></thead><tbody>\n",
              "                <tr>\n",
              "                        <th id=\"T_f4756db2_03cb_11eb_9562_0242ac1c0002level0_row0\" class=\"row_heading level0 row0\" >Kamchatka Krai</th>\n",
              "                        <td id=\"T_f4756db2_03cb_11eb_9562_0242ac1c0002row0_col0\" class=\"data row0 col0\" >25.100000</td>\n",
              "                        <td id=\"T_f4756db2_03cb_11eb_9562_0242ac1c0002row0_col1\" class=\"data row0 col1\" >26.400000</td>\n",
              "                        <td id=\"T_f4756db2_03cb_11eb_9562_0242ac1c0002row0_col2\" class=\"data row0 col2\" >26.600000</td>\n",
              "                        <td id=\"T_f4756db2_03cb_11eb_9562_0242ac1c0002row0_col3\" class=\"data row0 col3\" >26.700000</td>\n",
              "                        <td id=\"T_f4756db2_03cb_11eb_9562_0242ac1c0002row0_col4\" class=\"data row0 col4\" >25.900000</td>\n",
              "                        <td id=\"T_f4756db2_03cb_11eb_9562_0242ac1c0002row0_col5\" class=\"data row0 col5\" >25.100000</td>\n",
              "                        <td id=\"T_f4756db2_03cb_11eb_9562_0242ac1c0002row0_col6\" class=\"data row0 col6\" >22.200000</td>\n",
              "                        <td id=\"T_f4756db2_03cb_11eb_9562_0242ac1c0002row0_col7\" class=\"data row0 col7\" >22.800000</td>\n",
              "                        <td id=\"T_f4756db2_03cb_11eb_9562_0242ac1c0002row0_col8\" class=\"data row0 col8\" >20.400000</td>\n",
              "                        <td id=\"T_f4756db2_03cb_11eb_9562_0242ac1c0002row0_col9\" class=\"data row0 col9\" >18.600000</td>\n",
              "                        <td id=\"T_f4756db2_03cb_11eb_9562_0242ac1c0002row0_col10\" class=\"data row0 col10\" >18.200000</td>\n",
              "                        <td id=\"T_f4756db2_03cb_11eb_9562_0242ac1c0002row0_col11\" class=\"data row0 col11\" >17.500000</td>\n",
              "                        <td id=\"T_f4756db2_03cb_11eb_9562_0242ac1c0002row0_col12\" class=\"data row0 col12\" >16.900000</td>\n",
              "                        <td id=\"T_f4756db2_03cb_11eb_9562_0242ac1c0002row0_col13\" class=\"data row0 col13\" >16.830000</td>\n",
              "                        <td id=\"T_f4756db2_03cb_11eb_9562_0242ac1c0002row0_col14\" class=\"data row0 col14\" >15.400000</td>\n",
              "                        <td id=\"T_f4756db2_03cb_11eb_9562_0242ac1c0002row0_col15\" class=\"data row0 col15\" >15.100000</td>\n",
              "                        <td id=\"T_f4756db2_03cb_11eb_9562_0242ac1c0002row0_col16\" class=\"data row0 col16\" >13.000000</td>\n",
              "                        <td id=\"T_f4756db2_03cb_11eb_9562_0242ac1c0002row0_col17\" class=\"data row0 col17\" >11.400000</td>\n",
              "                        <td id=\"T_f4756db2_03cb_11eb_9562_0242ac1c0002row0_col18\" class=\"data row0 col18\" >10.400000</td>\n",
              "            </tr>\n",
              "            <tr>\n",
              "                        <th id=\"T_f4756db2_03cb_11eb_9562_0242ac1c0002level0_row1\" class=\"row_heading level0 row1\" >Magadan Oblast</th>\n",
              "                        <td id=\"T_f4756db2_03cb_11eb_9562_0242ac1c0002row1_col0\" class=\"data row1 col0\" >23.100000</td>\n",
              "                        <td id=\"T_f4756db2_03cb_11eb_9562_0242ac1c0002row1_col1\" class=\"data row1 col1\" >23.200000</td>\n",
              "                        <td id=\"T_f4756db2_03cb_11eb_9562_0242ac1c0002row1_col2\" class=\"data row1 col2\" >23.900000</td>\n",
              "                        <td id=\"T_f4756db2_03cb_11eb_9562_0242ac1c0002row1_col3\" class=\"data row1 col3\" >23.600000</td>\n",
              "                        <td id=\"T_f4756db2_03cb_11eb_9562_0242ac1c0002row1_col4\" class=\"data row1 col4\" >18.900000</td>\n",
              "                        <td id=\"T_f4756db2_03cb_11eb_9562_0242ac1c0002row1_col5\" class=\"data row1 col5\" >18.400000</td>\n",
              "                        <td id=\"T_f4756db2_03cb_11eb_9562_0242ac1c0002row1_col6\" class=\"data row1 col6\" >16.800000</td>\n",
              "                        <td id=\"T_f4756db2_03cb_11eb_9562_0242ac1c0002row1_col7\" class=\"data row1 col7\" >16.500000</td>\n",
              "                        <td id=\"T_f4756db2_03cb_11eb_9562_0242ac1c0002row1_col8\" class=\"data row1 col8\" >16.300000</td>\n",
              "                        <td id=\"T_f4756db2_03cb_11eb_9562_0242ac1c0002row1_col9\" class=\"data row1 col9\" >16.300000</td>\n",
              "                        <td id=\"T_f4756db2_03cb_11eb_9562_0242ac1c0002row1_col10\" class=\"data row1 col10\" >17.100000</td>\n",
              "                        <td id=\"T_f4756db2_03cb_11eb_9562_0242ac1c0002row1_col11\" class=\"data row1 col11\" >20.800000</td>\n",
              "                        <td id=\"T_f4756db2_03cb_11eb_9562_0242ac1c0002row1_col12\" class=\"data row1 col12\" >18.100000</td>\n",
              "                        <td id=\"T_f4756db2_03cb_11eb_9562_0242ac1c0002row1_col13\" class=\"data row1 col13\" >17.530000</td>\n",
              "                        <td id=\"T_f4756db2_03cb_11eb_9562_0242ac1c0002row1_col14\" class=\"data row1 col14\" >24.300000</td>\n",
              "                        <td id=\"T_f4756db2_03cb_11eb_9562_0242ac1c0002row1_col15\" class=\"data row1 col15\" >17.800000</td>\n",
              "                        <td id=\"T_f4756db2_03cb_11eb_9562_0242ac1c0002row1_col16\" class=\"data row1 col16\" >16.500000</td>\n",
              "                        <td id=\"T_f4756db2_03cb_11eb_9562_0242ac1c0002row1_col17\" class=\"data row1 col17\" >14.100000</td>\n",
              "                        <td id=\"T_f4756db2_03cb_11eb_9562_0242ac1c0002row1_col18\" class=\"data row1 col18\" >12.700000</td>\n",
              "            </tr>\n",
              "            <tr>\n",
              "                        <th id=\"T_f4756db2_03cb_11eb_9562_0242ac1c0002level0_row2\" class=\"row_heading level0 row2\" >Yaroslavl Oblast</th>\n",
              "                        <td id=\"T_f4756db2_03cb_11eb_9562_0242ac1c0002row2_col0\" class=\"data row2 col0\" >21.100000</td>\n",
              "                        <td id=\"T_f4756db2_03cb_11eb_9562_0242ac1c0002row2_col1\" class=\"data row2 col1\" >21.100000</td>\n",
              "                        <td id=\"T_f4756db2_03cb_11eb_9562_0242ac1c0002row2_col2\" class=\"data row2 col2\" >18.300000</td>\n",
              "                        <td id=\"T_f4756db2_03cb_11eb_9562_0242ac1c0002row2_col3\" class=\"data row2 col3\" >18.600000</td>\n",
              "                        <td id=\"T_f4756db2_03cb_11eb_9562_0242ac1c0002row2_col4\" class=\"data row2 col4\" >20.300000</td>\n",
              "                        <td id=\"T_f4756db2_03cb_11eb_9562_0242ac1c0002row2_col5\" class=\"data row2 col5\" >18.600000</td>\n",
              "                        <td id=\"T_f4756db2_03cb_11eb_9562_0242ac1c0002row2_col6\" class=\"data row2 col6\" >18.900000</td>\n",
              "                        <td id=\"T_f4756db2_03cb_11eb_9562_0242ac1c0002row2_col7\" class=\"data row2 col7\" >14.500000</td>\n",
              "                        <td id=\"T_f4756db2_03cb_11eb_9562_0242ac1c0002row2_col8\" class=\"data row2 col8\" >14.700000</td>\n",
              "                        <td id=\"T_f4756db2_03cb_11eb_9562_0242ac1c0002row2_col9\" class=\"data row2 col9\" >15.100000</td>\n",
              "                        <td id=\"T_f4756db2_03cb_11eb_9562_0242ac1c0002row2_col10\" class=\"data row2 col10\" >13.900000</td>\n",
              "                        <td id=\"T_f4756db2_03cb_11eb_9562_0242ac1c0002row2_col11\" class=\"data row2 col11\" >13.600000</td>\n",
              "                        <td id=\"T_f4756db2_03cb_11eb_9562_0242ac1c0002row2_col12\" class=\"data row2 col12\" >12.200000</td>\n",
              "                        <td id=\"T_f4756db2_03cb_11eb_9562_0242ac1c0002row2_col13\" class=\"data row2 col13\" >11.840000</td>\n",
              "                        <td id=\"T_f4756db2_03cb_11eb_9562_0242ac1c0002row2_col14\" class=\"data row2 col14\" >12.700000</td>\n",
              "                        <td id=\"T_f4756db2_03cb_11eb_9562_0242ac1c0002row2_col15\" class=\"data row2 col15\" >11.100000</td>\n",
              "                        <td id=\"T_f4756db2_03cb_11eb_9562_0242ac1c0002row2_col16\" class=\"data row2 col16\" >9.800000</td>\n",
              "                        <td id=\"T_f4756db2_03cb_11eb_9562_0242ac1c0002row2_col17\" class=\"data row2 col17\" >8.700000</td>\n",
              "                        <td id=\"T_f4756db2_03cb_11eb_9562_0242ac1c0002row2_col18\" class=\"data row2 col18\" >8.900000</td>\n",
              "            </tr>\n",
              "            <tr>\n",
              "                        <th id=\"T_f4756db2_03cb_11eb_9562_0242ac1c0002level0_row3\" class=\"row_heading level0 row3\" >Komi Republic</th>\n",
              "                        <td id=\"T_f4756db2_03cb_11eb_9562_0242ac1c0002row3_col0\" class=\"data row3 col0\" >21.100000</td>\n",
              "                        <td id=\"T_f4756db2_03cb_11eb_9562_0242ac1c0002row3_col1\" class=\"data row3 col1\" >25.900000</td>\n",
              "                        <td id=\"T_f4756db2_03cb_11eb_9562_0242ac1c0002row3_col2\" class=\"data row3 col2\" >27.400000</td>\n",
              "                        <td id=\"T_f4756db2_03cb_11eb_9562_0242ac1c0002row3_col3\" class=\"data row3 col3\" >28.500000</td>\n",
              "                        <td id=\"T_f4756db2_03cb_11eb_9562_0242ac1c0002row3_col4\" class=\"data row3 col4\" >28.400000</td>\n",
              "                        <td id=\"T_f4756db2_03cb_11eb_9562_0242ac1c0002row3_col5\" class=\"data row3 col5\" >29.700000</td>\n",
              "                        <td id=\"T_f4756db2_03cb_11eb_9562_0242ac1c0002row3_col6\" class=\"data row3 col6\" >28.100000</td>\n",
              "                        <td id=\"T_f4756db2_03cb_11eb_9562_0242ac1c0002row3_col7\" class=\"data row3 col7\" >26.700000</td>\n",
              "                        <td id=\"T_f4756db2_03cb_11eb_9562_0242ac1c0002row3_col8\" class=\"data row3 col8\" >18.600000</td>\n",
              "                        <td id=\"T_f4756db2_03cb_11eb_9562_0242ac1c0002row3_col9\" class=\"data row3 col9\" >15.600000</td>\n",
              "                        <td id=\"T_f4756db2_03cb_11eb_9562_0242ac1c0002row3_col10\" class=\"data row3 col10\" >15.800000</td>\n",
              "                        <td id=\"T_f4756db2_03cb_11eb_9562_0242ac1c0002row3_col11\" class=\"data row3 col11\" >16.700000</td>\n",
              "                        <td id=\"T_f4756db2_03cb_11eb_9562_0242ac1c0002row3_col12\" class=\"data row3 col12\" >17.100000</td>\n",
              "                        <td id=\"T_f4756db2_03cb_11eb_9562_0242ac1c0002row3_col13\" class=\"data row3 col13\" >17.830000</td>\n",
              "                        <td id=\"T_f4756db2_03cb_11eb_9562_0242ac1c0002row3_col14\" class=\"data row3 col14\" >18.900000</td>\n",
              "                        <td id=\"T_f4756db2_03cb_11eb_9562_0242ac1c0002row3_col15\" class=\"data row3 col15\" >16.300000</td>\n",
              "                        <td id=\"T_f4756db2_03cb_11eb_9562_0242ac1c0002row3_col16\" class=\"data row3 col16\" >14.300000</td>\n",
              "                        <td id=\"T_f4756db2_03cb_11eb_9562_0242ac1c0002row3_col17\" class=\"data row3 col17\" >13.000000</td>\n",
              "                        <td id=\"T_f4756db2_03cb_11eb_9562_0242ac1c0002row3_col18\" class=\"data row3 col18\" >12.500000</td>\n",
              "            </tr>\n",
              "            <tr>\n",
              "                        <th id=\"T_f4756db2_03cb_11eb_9562_0242ac1c0002level0_row4\" class=\"row_heading level0 row4\" >Vologda Oblast</th>\n",
              "                        <td id=\"T_f4756db2_03cb_11eb_9562_0242ac1c0002row4_col0\" class=\"data row4 col0\" >19.300000</td>\n",
              "                        <td id=\"T_f4756db2_03cb_11eb_9562_0242ac1c0002row4_col1\" class=\"data row4 col1\" >17.400000</td>\n",
              "                        <td id=\"T_f4756db2_03cb_11eb_9562_0242ac1c0002row4_col2\" class=\"data row4 col2\" >19.200000</td>\n",
              "                        <td id=\"T_f4756db2_03cb_11eb_9562_0242ac1c0002row4_col3\" class=\"data row4 col3\" >23.000000</td>\n",
              "                        <td id=\"T_f4756db2_03cb_11eb_9562_0242ac1c0002row4_col4\" class=\"data row4 col4\" >22.200000</td>\n",
              "                        <td id=\"T_f4756db2_03cb_11eb_9562_0242ac1c0002row4_col5\" class=\"data row4 col5\" >24.600000</td>\n",
              "                        <td id=\"T_f4756db2_03cb_11eb_9562_0242ac1c0002row4_col6\" class=\"data row4 col6\" >26.700000</td>\n",
              "                        <td id=\"T_f4756db2_03cb_11eb_9562_0242ac1c0002row4_col7\" class=\"data row4 col7\" >21.900000</td>\n",
              "                        <td id=\"T_f4756db2_03cb_11eb_9562_0242ac1c0002row4_col8\" class=\"data row4 col8\" >17.500000</td>\n",
              "                        <td id=\"T_f4756db2_03cb_11eb_9562_0242ac1c0002row4_col9\" class=\"data row4 col9\" >16.200000</td>\n",
              "                        <td id=\"T_f4756db2_03cb_11eb_9562_0242ac1c0002row4_col10\" class=\"data row4 col10\" >17.500000</td>\n",
              "                        <td id=\"T_f4756db2_03cb_11eb_9562_0242ac1c0002row4_col11\" class=\"data row4 col11\" >15.200000</td>\n",
              "                        <td id=\"T_f4756db2_03cb_11eb_9562_0242ac1c0002row4_col12\" class=\"data row4 col12\" >12.900000</td>\n",
              "                        <td id=\"T_f4756db2_03cb_11eb_9562_0242ac1c0002row4_col13\" class=\"data row4 col13\" >15.440000</td>\n",
              "                        <td id=\"T_f4756db2_03cb_11eb_9562_0242ac1c0002row4_col14\" class=\"data row4 col14\" >14.900000</td>\n",
              "                        <td id=\"T_f4756db2_03cb_11eb_9562_0242ac1c0002row4_col15\" class=\"data row4 col15\" >12.900000</td>\n",
              "                        <td id=\"T_f4756db2_03cb_11eb_9562_0242ac1c0002row4_col16\" class=\"data row4 col16\" >11.100000</td>\n",
              "                        <td id=\"T_f4756db2_03cb_11eb_9562_0242ac1c0002row4_col17\" class=\"data row4 col17\" >9.300000</td>\n",
              "                        <td id=\"T_f4756db2_03cb_11eb_9562_0242ac1c0002row4_col18\" class=\"data row4 col18\" >9.900000</td>\n",
              "            </tr>\n",
              "    </tbody></table>"
            ],
            "text/plain": [
              "<pandas.io.formats.style.Styler at 0x7ffa011ebe48>"
            ]
          },
          "metadata": {
            "tags": []
          },
          "execution_count": 41
        }
      ]
    },
    {
      "cell_type": "markdown",
      "metadata": {
        "id": "zHvsGm5ORBsQ"
      },
      "source": [
        "В 1998 году больше всего водки пили на Камчатке - 25 литров на человека в год. Полный список ТОП 5 регионов по потреблению водки в 1998 году:\n",
        "1. Камчатка - 25.1 литров\n",
        "2. Магадан - 23.1 литр\n",
        "3. Ярославская область - 21.1 литр\n",
        "4. Республика Коми - 21.1 литр\n",
        "5. Вологодская область - 19.3 литра\n",
        "\n",
        "Интересно, что в ТОП регионов по потреблению водки вошли самые восточные регионы страны.\n",
        "\n",
        "В 1998 году Магадан входил в ТОП 5 регионов на душу населения по потреблению пива, вина и водки."
      ]
    },
    {
      "cell_type": "code",
      "metadata": {
        "id": "lUk5uCdQRyTg",
        "outputId": "a59d496a-2cf2-43a0-b9c9-59853a73f178",
        "colab": {
          "base_uri": "https://localhost:8080/",
          "height": 271
        }
      },
      "source": [
        "vodka_region = pd.pivot_table(df_filter, values='vodka', index='region', columns='year', aggfunc='sum')\n",
        "vodka_region.sort_values(by=2016, ascending=False).head(5).style.applymap(lambda x: \"background-color: #e65a71\" if x>df_region_mean['vodka'].mean() else \"background-color: white\")   "
      ],
      "execution_count": 42,
      "outputs": [
        {
          "output_type": "execute_result",
          "data": {
            "text/html": [
              "<style  type=\"text/css\" >\n",
              "#T_f47e4f4a_03cb_11eb_9562_0242ac1c0002row0_col0,#T_f47e4f4a_03cb_11eb_9562_0242ac1c0002row0_col1,#T_f47e4f4a_03cb_11eb_9562_0242ac1c0002row0_col2,#T_f47e4f4a_03cb_11eb_9562_0242ac1c0002row0_col3,#T_f47e4f4a_03cb_11eb_9562_0242ac1c0002row0_col4,#T_f47e4f4a_03cb_11eb_9562_0242ac1c0002row0_col5,#T_f47e4f4a_03cb_11eb_9562_0242ac1c0002row0_col6,#T_f47e4f4a_03cb_11eb_9562_0242ac1c0002row0_col7,#T_f47e4f4a_03cb_11eb_9562_0242ac1c0002row0_col8,#T_f47e4f4a_03cb_11eb_9562_0242ac1c0002row0_col9,#T_f47e4f4a_03cb_11eb_9562_0242ac1c0002row0_col10,#T_f47e4f4a_03cb_11eb_9562_0242ac1c0002row0_col11,#T_f47e4f4a_03cb_11eb_9562_0242ac1c0002row0_col12,#T_f47e4f4a_03cb_11eb_9562_0242ac1c0002row0_col13,#T_f47e4f4a_03cb_11eb_9562_0242ac1c0002row0_col14,#T_f47e4f4a_03cb_11eb_9562_0242ac1c0002row0_col15,#T_f47e4f4a_03cb_11eb_9562_0242ac1c0002row0_col16,#T_f47e4f4a_03cb_11eb_9562_0242ac1c0002row0_col17,#T_f47e4f4a_03cb_11eb_9562_0242ac1c0002row0_col18,#T_f47e4f4a_03cb_11eb_9562_0242ac1c0002row1_col0,#T_f47e4f4a_03cb_11eb_9562_0242ac1c0002row1_col1,#T_f47e4f4a_03cb_11eb_9562_0242ac1c0002row1_col2,#T_f47e4f4a_03cb_11eb_9562_0242ac1c0002row1_col3,#T_f47e4f4a_03cb_11eb_9562_0242ac1c0002row1_col4,#T_f47e4f4a_03cb_11eb_9562_0242ac1c0002row1_col5,#T_f47e4f4a_03cb_11eb_9562_0242ac1c0002row1_col6,#T_f47e4f4a_03cb_11eb_9562_0242ac1c0002row1_col7,#T_f47e4f4a_03cb_11eb_9562_0242ac1c0002row1_col8,#T_f47e4f4a_03cb_11eb_9562_0242ac1c0002row1_col9,#T_f47e4f4a_03cb_11eb_9562_0242ac1c0002row1_col10,#T_f47e4f4a_03cb_11eb_9562_0242ac1c0002row1_col11,#T_f47e4f4a_03cb_11eb_9562_0242ac1c0002row1_col12,#T_f47e4f4a_03cb_11eb_9562_0242ac1c0002row1_col13,#T_f47e4f4a_03cb_11eb_9562_0242ac1c0002row1_col14,#T_f47e4f4a_03cb_11eb_9562_0242ac1c0002row1_col15,#T_f47e4f4a_03cb_11eb_9562_0242ac1c0002row1_col16,#T_f47e4f4a_03cb_11eb_9562_0242ac1c0002row1_col17,#T_f47e4f4a_03cb_11eb_9562_0242ac1c0002row1_col18,#T_f47e4f4a_03cb_11eb_9562_0242ac1c0002row2_col0,#T_f47e4f4a_03cb_11eb_9562_0242ac1c0002row2_col1,#T_f47e4f4a_03cb_11eb_9562_0242ac1c0002row2_col2,#T_f47e4f4a_03cb_11eb_9562_0242ac1c0002row2_col3,#T_f47e4f4a_03cb_11eb_9562_0242ac1c0002row2_col4,#T_f47e4f4a_03cb_11eb_9562_0242ac1c0002row2_col5,#T_f47e4f4a_03cb_11eb_9562_0242ac1c0002row2_col6,#T_f47e4f4a_03cb_11eb_9562_0242ac1c0002row2_col7,#T_f47e4f4a_03cb_11eb_9562_0242ac1c0002row2_col8,#T_f47e4f4a_03cb_11eb_9562_0242ac1c0002row2_col9,#T_f47e4f4a_03cb_11eb_9562_0242ac1c0002row2_col10,#T_f47e4f4a_03cb_11eb_9562_0242ac1c0002row2_col11,#T_f47e4f4a_03cb_11eb_9562_0242ac1c0002row2_col12,#T_f47e4f4a_03cb_11eb_9562_0242ac1c0002row2_col13,#T_f47e4f4a_03cb_11eb_9562_0242ac1c0002row2_col14,#T_f47e4f4a_03cb_11eb_9562_0242ac1c0002row2_col15,#T_f47e4f4a_03cb_11eb_9562_0242ac1c0002row2_col16,#T_f47e4f4a_03cb_11eb_9562_0242ac1c0002row2_col17,#T_f47e4f4a_03cb_11eb_9562_0242ac1c0002row2_col18,#T_f47e4f4a_03cb_11eb_9562_0242ac1c0002row3_col1,#T_f47e4f4a_03cb_11eb_9562_0242ac1c0002row3_col2,#T_f47e4f4a_03cb_11eb_9562_0242ac1c0002row3_col3,#T_f47e4f4a_03cb_11eb_9562_0242ac1c0002row3_col4,#T_f47e4f4a_03cb_11eb_9562_0242ac1c0002row3_col5,#T_f47e4f4a_03cb_11eb_9562_0242ac1c0002row3_col6,#T_f47e4f4a_03cb_11eb_9562_0242ac1c0002row3_col7,#T_f47e4f4a_03cb_11eb_9562_0242ac1c0002row3_col8,#T_f47e4f4a_03cb_11eb_9562_0242ac1c0002row3_col9,#T_f47e4f4a_03cb_11eb_9562_0242ac1c0002row3_col10,#T_f47e4f4a_03cb_11eb_9562_0242ac1c0002row3_col11,#T_f47e4f4a_03cb_11eb_9562_0242ac1c0002row3_col12,#T_f47e4f4a_03cb_11eb_9562_0242ac1c0002row3_col13,#T_f47e4f4a_03cb_11eb_9562_0242ac1c0002row3_col14,#T_f47e4f4a_03cb_11eb_9562_0242ac1c0002row3_col15,#T_f47e4f4a_03cb_11eb_9562_0242ac1c0002row3_col16,#T_f47e4f4a_03cb_11eb_9562_0242ac1c0002row3_col17,#T_f47e4f4a_03cb_11eb_9562_0242ac1c0002row3_col18,#T_f47e4f4a_03cb_11eb_9562_0242ac1c0002row4_col0,#T_f47e4f4a_03cb_11eb_9562_0242ac1c0002row4_col1,#T_f47e4f4a_03cb_11eb_9562_0242ac1c0002row4_col2,#T_f47e4f4a_03cb_11eb_9562_0242ac1c0002row4_col3,#T_f47e4f4a_03cb_11eb_9562_0242ac1c0002row4_col4,#T_f47e4f4a_03cb_11eb_9562_0242ac1c0002row4_col5,#T_f47e4f4a_03cb_11eb_9562_0242ac1c0002row4_col6,#T_f47e4f4a_03cb_11eb_9562_0242ac1c0002row4_col7,#T_f47e4f4a_03cb_11eb_9562_0242ac1c0002row4_col8,#T_f47e4f4a_03cb_11eb_9562_0242ac1c0002row4_col9,#T_f47e4f4a_03cb_11eb_9562_0242ac1c0002row4_col10,#T_f47e4f4a_03cb_11eb_9562_0242ac1c0002row4_col11,#T_f47e4f4a_03cb_11eb_9562_0242ac1c0002row4_col12,#T_f47e4f4a_03cb_11eb_9562_0242ac1c0002row4_col13,#T_f47e4f4a_03cb_11eb_9562_0242ac1c0002row4_col14,#T_f47e4f4a_03cb_11eb_9562_0242ac1c0002row4_col15,#T_f47e4f4a_03cb_11eb_9562_0242ac1c0002row4_col17,#T_f47e4f4a_03cb_11eb_9562_0242ac1c0002row4_col18{\n",
              "            background-color:  #e65a71;\n",
              "        }#T_f47e4f4a_03cb_11eb_9562_0242ac1c0002row3_col0,#T_f47e4f4a_03cb_11eb_9562_0242ac1c0002row4_col16{\n",
              "            background-color:  white;\n",
              "        }</style><table id=\"T_f47e4f4a_03cb_11eb_9562_0242ac1c0002\" ><thead>    <tr>        <th class=\"index_name level0\" >year</th>        <th class=\"col_heading level0 col0\" >1998</th>        <th class=\"col_heading level0 col1\" >1999</th>        <th class=\"col_heading level0 col2\" >2000</th>        <th class=\"col_heading level0 col3\" >2001</th>        <th class=\"col_heading level0 col4\" >2002</th>        <th class=\"col_heading level0 col5\" >2003</th>        <th class=\"col_heading level0 col6\" >2004</th>        <th class=\"col_heading level0 col7\" >2005</th>        <th class=\"col_heading level0 col8\" >2006</th>        <th class=\"col_heading level0 col9\" >2007</th>        <th class=\"col_heading level0 col10\" >2008</th>        <th class=\"col_heading level0 col11\" >2009</th>        <th class=\"col_heading level0 col12\" >2010</th>        <th class=\"col_heading level0 col13\" >2011</th>        <th class=\"col_heading level0 col14\" >2012</th>        <th class=\"col_heading level0 col15\" >2013</th>        <th class=\"col_heading level0 col16\" >2014</th>        <th class=\"col_heading level0 col17\" >2015</th>        <th class=\"col_heading level0 col18\" >2016</th>    </tr>    <tr>        <th class=\"index_name level0\" >region</th>        <th class=\"blank\" ></th>        <th class=\"blank\" ></th>        <th class=\"blank\" ></th>        <th class=\"blank\" ></th>        <th class=\"blank\" ></th>        <th class=\"blank\" ></th>        <th class=\"blank\" ></th>        <th class=\"blank\" ></th>        <th class=\"blank\" ></th>        <th class=\"blank\" ></th>        <th class=\"blank\" ></th>        <th class=\"blank\" ></th>        <th class=\"blank\" ></th>        <th class=\"blank\" ></th>        <th class=\"blank\" ></th>        <th class=\"blank\" ></th>        <th class=\"blank\" ></th>        <th class=\"blank\" ></th>        <th class=\"blank\" ></th>    </tr></thead><tbody>\n",
              "                <tr>\n",
              "                        <th id=\"T_f47e4f4a_03cb_11eb_9562_0242ac1c0002level0_row0\" class=\"row_heading level0 row0\" >Sakhalin Oblast</th>\n",
              "                        <td id=\"T_f47e4f4a_03cb_11eb_9562_0242ac1c0002row0_col0\" class=\"data row0 col0\" >16.300000</td>\n",
              "                        <td id=\"T_f47e4f4a_03cb_11eb_9562_0242ac1c0002row0_col1\" class=\"data row0 col1\" >21.000000</td>\n",
              "                        <td id=\"T_f47e4f4a_03cb_11eb_9562_0242ac1c0002row0_col2\" class=\"data row0 col2\" >18.800000</td>\n",
              "                        <td id=\"T_f47e4f4a_03cb_11eb_9562_0242ac1c0002row0_col3\" class=\"data row0 col3\" >20.300000</td>\n",
              "                        <td id=\"T_f47e4f4a_03cb_11eb_9562_0242ac1c0002row0_col4\" class=\"data row0 col4\" >24.500000</td>\n",
              "                        <td id=\"T_f47e4f4a_03cb_11eb_9562_0242ac1c0002row0_col5\" class=\"data row0 col5\" >23.200000</td>\n",
              "                        <td id=\"T_f47e4f4a_03cb_11eb_9562_0242ac1c0002row0_col6\" class=\"data row0 col6\" >20.300000</td>\n",
              "                        <td id=\"T_f47e4f4a_03cb_11eb_9562_0242ac1c0002row0_col7\" class=\"data row0 col7\" >19.100000</td>\n",
              "                        <td id=\"T_f47e4f4a_03cb_11eb_9562_0242ac1c0002row0_col8\" class=\"data row0 col8\" >17.100000</td>\n",
              "                        <td id=\"T_f47e4f4a_03cb_11eb_9562_0242ac1c0002row0_col9\" class=\"data row0 col9\" >17.800000</td>\n",
              "                        <td id=\"T_f47e4f4a_03cb_11eb_9562_0242ac1c0002row0_col10\" class=\"data row0 col10\" >19.200000</td>\n",
              "                        <td id=\"T_f47e4f4a_03cb_11eb_9562_0242ac1c0002row0_col11\" class=\"data row0 col11\" >19.200000</td>\n",
              "                        <td id=\"T_f47e4f4a_03cb_11eb_9562_0242ac1c0002row0_col12\" class=\"data row0 col12\" >18.800000</td>\n",
              "                        <td id=\"T_f47e4f4a_03cb_11eb_9562_0242ac1c0002row0_col13\" class=\"data row0 col13\" >18.510000</td>\n",
              "                        <td id=\"T_f47e4f4a_03cb_11eb_9562_0242ac1c0002row0_col14\" class=\"data row0 col14\" >17.100000</td>\n",
              "                        <td id=\"T_f47e4f4a_03cb_11eb_9562_0242ac1c0002row0_col15\" class=\"data row0 col15\" >15.000000</td>\n",
              "                        <td id=\"T_f47e4f4a_03cb_11eb_9562_0242ac1c0002row0_col16\" class=\"data row0 col16\" >13.400000</td>\n",
              "                        <td id=\"T_f47e4f4a_03cb_11eb_9562_0242ac1c0002row0_col17\" class=\"data row0 col17\" >13.000000</td>\n",
              "                        <td id=\"T_f47e4f4a_03cb_11eb_9562_0242ac1c0002row0_col18\" class=\"data row0 col18\" >12.800000</td>\n",
              "            </tr>\n",
              "            <tr>\n",
              "                        <th id=\"T_f47e4f4a_03cb_11eb_9562_0242ac1c0002level0_row1\" class=\"row_heading level0 row1\" >Magadan Oblast</th>\n",
              "                        <td id=\"T_f47e4f4a_03cb_11eb_9562_0242ac1c0002row1_col0\" class=\"data row1 col0\" >23.100000</td>\n",
              "                        <td id=\"T_f47e4f4a_03cb_11eb_9562_0242ac1c0002row1_col1\" class=\"data row1 col1\" >23.200000</td>\n",
              "                        <td id=\"T_f47e4f4a_03cb_11eb_9562_0242ac1c0002row1_col2\" class=\"data row1 col2\" >23.900000</td>\n",
              "                        <td id=\"T_f47e4f4a_03cb_11eb_9562_0242ac1c0002row1_col3\" class=\"data row1 col3\" >23.600000</td>\n",
              "                        <td id=\"T_f47e4f4a_03cb_11eb_9562_0242ac1c0002row1_col4\" class=\"data row1 col4\" >18.900000</td>\n",
              "                        <td id=\"T_f47e4f4a_03cb_11eb_9562_0242ac1c0002row1_col5\" class=\"data row1 col5\" >18.400000</td>\n",
              "                        <td id=\"T_f47e4f4a_03cb_11eb_9562_0242ac1c0002row1_col6\" class=\"data row1 col6\" >16.800000</td>\n",
              "                        <td id=\"T_f47e4f4a_03cb_11eb_9562_0242ac1c0002row1_col7\" class=\"data row1 col7\" >16.500000</td>\n",
              "                        <td id=\"T_f47e4f4a_03cb_11eb_9562_0242ac1c0002row1_col8\" class=\"data row1 col8\" >16.300000</td>\n",
              "                        <td id=\"T_f47e4f4a_03cb_11eb_9562_0242ac1c0002row1_col9\" class=\"data row1 col9\" >16.300000</td>\n",
              "                        <td id=\"T_f47e4f4a_03cb_11eb_9562_0242ac1c0002row1_col10\" class=\"data row1 col10\" >17.100000</td>\n",
              "                        <td id=\"T_f47e4f4a_03cb_11eb_9562_0242ac1c0002row1_col11\" class=\"data row1 col11\" >20.800000</td>\n",
              "                        <td id=\"T_f47e4f4a_03cb_11eb_9562_0242ac1c0002row1_col12\" class=\"data row1 col12\" >18.100000</td>\n",
              "                        <td id=\"T_f47e4f4a_03cb_11eb_9562_0242ac1c0002row1_col13\" class=\"data row1 col13\" >17.530000</td>\n",
              "                        <td id=\"T_f47e4f4a_03cb_11eb_9562_0242ac1c0002row1_col14\" class=\"data row1 col14\" >24.300000</td>\n",
              "                        <td id=\"T_f47e4f4a_03cb_11eb_9562_0242ac1c0002row1_col15\" class=\"data row1 col15\" >17.800000</td>\n",
              "                        <td id=\"T_f47e4f4a_03cb_11eb_9562_0242ac1c0002row1_col16\" class=\"data row1 col16\" >16.500000</td>\n",
              "                        <td id=\"T_f47e4f4a_03cb_11eb_9562_0242ac1c0002row1_col17\" class=\"data row1 col17\" >14.100000</td>\n",
              "                        <td id=\"T_f47e4f4a_03cb_11eb_9562_0242ac1c0002row1_col18\" class=\"data row1 col18\" >12.700000</td>\n",
              "            </tr>\n",
              "            <tr>\n",
              "                        <th id=\"T_f47e4f4a_03cb_11eb_9562_0242ac1c0002level0_row2\" class=\"row_heading level0 row2\" >Komi Republic</th>\n",
              "                        <td id=\"T_f47e4f4a_03cb_11eb_9562_0242ac1c0002row2_col0\" class=\"data row2 col0\" >21.100000</td>\n",
              "                        <td id=\"T_f47e4f4a_03cb_11eb_9562_0242ac1c0002row2_col1\" class=\"data row2 col1\" >25.900000</td>\n",
              "                        <td id=\"T_f47e4f4a_03cb_11eb_9562_0242ac1c0002row2_col2\" class=\"data row2 col2\" >27.400000</td>\n",
              "                        <td id=\"T_f47e4f4a_03cb_11eb_9562_0242ac1c0002row2_col3\" class=\"data row2 col3\" >28.500000</td>\n",
              "                        <td id=\"T_f47e4f4a_03cb_11eb_9562_0242ac1c0002row2_col4\" class=\"data row2 col4\" >28.400000</td>\n",
              "                        <td id=\"T_f47e4f4a_03cb_11eb_9562_0242ac1c0002row2_col5\" class=\"data row2 col5\" >29.700000</td>\n",
              "                        <td id=\"T_f47e4f4a_03cb_11eb_9562_0242ac1c0002row2_col6\" class=\"data row2 col6\" >28.100000</td>\n",
              "                        <td id=\"T_f47e4f4a_03cb_11eb_9562_0242ac1c0002row2_col7\" class=\"data row2 col7\" >26.700000</td>\n",
              "                        <td id=\"T_f47e4f4a_03cb_11eb_9562_0242ac1c0002row2_col8\" class=\"data row2 col8\" >18.600000</td>\n",
              "                        <td id=\"T_f47e4f4a_03cb_11eb_9562_0242ac1c0002row2_col9\" class=\"data row2 col9\" >15.600000</td>\n",
              "                        <td id=\"T_f47e4f4a_03cb_11eb_9562_0242ac1c0002row2_col10\" class=\"data row2 col10\" >15.800000</td>\n",
              "                        <td id=\"T_f47e4f4a_03cb_11eb_9562_0242ac1c0002row2_col11\" class=\"data row2 col11\" >16.700000</td>\n",
              "                        <td id=\"T_f47e4f4a_03cb_11eb_9562_0242ac1c0002row2_col12\" class=\"data row2 col12\" >17.100000</td>\n",
              "                        <td id=\"T_f47e4f4a_03cb_11eb_9562_0242ac1c0002row2_col13\" class=\"data row2 col13\" >17.830000</td>\n",
              "                        <td id=\"T_f47e4f4a_03cb_11eb_9562_0242ac1c0002row2_col14\" class=\"data row2 col14\" >18.900000</td>\n",
              "                        <td id=\"T_f47e4f4a_03cb_11eb_9562_0242ac1c0002row2_col15\" class=\"data row2 col15\" >16.300000</td>\n",
              "                        <td id=\"T_f47e4f4a_03cb_11eb_9562_0242ac1c0002row2_col16\" class=\"data row2 col16\" >14.300000</td>\n",
              "                        <td id=\"T_f47e4f4a_03cb_11eb_9562_0242ac1c0002row2_col17\" class=\"data row2 col17\" >13.000000</td>\n",
              "                        <td id=\"T_f47e4f4a_03cb_11eb_9562_0242ac1c0002row2_col18\" class=\"data row2 col18\" >12.500000</td>\n",
              "            </tr>\n",
              "            <tr>\n",
              "                        <th id=\"T_f47e4f4a_03cb_11eb_9562_0242ac1c0002level0_row3\" class=\"row_heading level0 row3\" >Arkhangelsk Oblast</th>\n",
              "                        <td id=\"T_f47e4f4a_03cb_11eb_9562_0242ac1c0002row3_col0\" class=\"data row3 col0\" >11.700000</td>\n",
              "                        <td id=\"T_f47e4f4a_03cb_11eb_9562_0242ac1c0002row3_col1\" class=\"data row3 col1\" >14.900000</td>\n",
              "                        <td id=\"T_f47e4f4a_03cb_11eb_9562_0242ac1c0002row3_col2\" class=\"data row3 col2\" >19.200000</td>\n",
              "                        <td id=\"T_f47e4f4a_03cb_11eb_9562_0242ac1c0002row3_col3\" class=\"data row3 col3\" >23.500000</td>\n",
              "                        <td id=\"T_f47e4f4a_03cb_11eb_9562_0242ac1c0002row3_col4\" class=\"data row3 col4\" >29.500000</td>\n",
              "                        <td id=\"T_f47e4f4a_03cb_11eb_9562_0242ac1c0002row3_col5\" class=\"data row3 col5\" >31.900000</td>\n",
              "                        <td id=\"T_f47e4f4a_03cb_11eb_9562_0242ac1c0002row3_col6\" class=\"data row3 col6\" >18.500000</td>\n",
              "                        <td id=\"T_f47e4f4a_03cb_11eb_9562_0242ac1c0002row3_col7\" class=\"data row3 col7\" >17.600000</td>\n",
              "                        <td id=\"T_f47e4f4a_03cb_11eb_9562_0242ac1c0002row3_col8\" class=\"data row3 col8\" >16.900000</td>\n",
              "                        <td id=\"T_f47e4f4a_03cb_11eb_9562_0242ac1c0002row3_col9\" class=\"data row3 col9\" >15.600000</td>\n",
              "                        <td id=\"T_f47e4f4a_03cb_11eb_9562_0242ac1c0002row3_col10\" class=\"data row3 col10\" >16.600000</td>\n",
              "                        <td id=\"T_f47e4f4a_03cb_11eb_9562_0242ac1c0002row3_col11\" class=\"data row3 col11\" >15.900000</td>\n",
              "                        <td id=\"T_f47e4f4a_03cb_11eb_9562_0242ac1c0002row3_col12\" class=\"data row3 col12\" >16.200000</td>\n",
              "                        <td id=\"T_f47e4f4a_03cb_11eb_9562_0242ac1c0002row3_col13\" class=\"data row3 col13\" >16.640000</td>\n",
              "                        <td id=\"T_f47e4f4a_03cb_11eb_9562_0242ac1c0002row3_col14\" class=\"data row3 col14\" >14.400000</td>\n",
              "                        <td id=\"T_f47e4f4a_03cb_11eb_9562_0242ac1c0002row3_col15\" class=\"data row3 col15\" >14.400000</td>\n",
              "                        <td id=\"T_f47e4f4a_03cb_11eb_9562_0242ac1c0002row3_col16\" class=\"data row3 col16\" >12.800000</td>\n",
              "                        <td id=\"T_f47e4f4a_03cb_11eb_9562_0242ac1c0002row3_col17\" class=\"data row3 col17\" >11.800000</td>\n",
              "                        <td id=\"T_f47e4f4a_03cb_11eb_9562_0242ac1c0002row3_col18\" class=\"data row3 col18\" >12.200000</td>\n",
              "            </tr>\n",
              "            <tr>\n",
              "                        <th id=\"T_f47e4f4a_03cb_11eb_9562_0242ac1c0002level0_row4\" class=\"row_heading level0 row4\" >Murmansk Oblast</th>\n",
              "                        <td id=\"T_f47e4f4a_03cb_11eb_9562_0242ac1c0002row4_col0\" class=\"data row4 col0\" >16.600000</td>\n",
              "                        <td id=\"T_f47e4f4a_03cb_11eb_9562_0242ac1c0002row4_col1\" class=\"data row4 col1\" >17.800000</td>\n",
              "                        <td id=\"T_f47e4f4a_03cb_11eb_9562_0242ac1c0002row4_col2\" class=\"data row4 col2\" >18.800000</td>\n",
              "                        <td id=\"T_f47e4f4a_03cb_11eb_9562_0242ac1c0002row4_col3\" class=\"data row4 col3\" >19.700000</td>\n",
              "                        <td id=\"T_f47e4f4a_03cb_11eb_9562_0242ac1c0002row4_col4\" class=\"data row4 col4\" >20.900000</td>\n",
              "                        <td id=\"T_f47e4f4a_03cb_11eb_9562_0242ac1c0002row4_col5\" class=\"data row4 col5\" >21.300000</td>\n",
              "                        <td id=\"T_f47e4f4a_03cb_11eb_9562_0242ac1c0002row4_col6\" class=\"data row4 col6\" >21.700000</td>\n",
              "                        <td id=\"T_f47e4f4a_03cb_11eb_9562_0242ac1c0002row4_col7\" class=\"data row4 col7\" >21.900000</td>\n",
              "                        <td id=\"T_f47e4f4a_03cb_11eb_9562_0242ac1c0002row4_col8\" class=\"data row4 col8\" >19.300000</td>\n",
              "                        <td id=\"T_f47e4f4a_03cb_11eb_9562_0242ac1c0002row4_col9\" class=\"data row4 col9\" >18.900000</td>\n",
              "                        <td id=\"T_f47e4f4a_03cb_11eb_9562_0242ac1c0002row4_col10\" class=\"data row4 col10\" >17.700000</td>\n",
              "                        <td id=\"T_f47e4f4a_03cb_11eb_9562_0242ac1c0002row4_col11\" class=\"data row4 col11\" >15.300000</td>\n",
              "                        <td id=\"T_f47e4f4a_03cb_11eb_9562_0242ac1c0002row4_col12\" class=\"data row4 col12\" >12.700000</td>\n",
              "                        <td id=\"T_f47e4f4a_03cb_11eb_9562_0242ac1c0002row4_col13\" class=\"data row4 col13\" >12.600000</td>\n",
              "                        <td id=\"T_f47e4f4a_03cb_11eb_9562_0242ac1c0002row4_col14\" class=\"data row4 col14\" >13.100000</td>\n",
              "                        <td id=\"T_f47e4f4a_03cb_11eb_9562_0242ac1c0002row4_col15\" class=\"data row4 col15\" >13.200000</td>\n",
              "                        <td id=\"T_f47e4f4a_03cb_11eb_9562_0242ac1c0002row4_col16\" class=\"data row4 col16\" >11.300000</td>\n",
              "                        <td id=\"T_f47e4f4a_03cb_11eb_9562_0242ac1c0002row4_col17\" class=\"data row4 col17\" >12.200000</td>\n",
              "                        <td id=\"T_f47e4f4a_03cb_11eb_9562_0242ac1c0002row4_col18\" class=\"data row4 col18\" >12.200000</td>\n",
              "            </tr>\n",
              "    </tbody></table>"
            ],
            "text/plain": [
              "<pandas.io.formats.style.Styler at 0x7ffa00e951d0>"
            ]
          },
          "metadata": {
            "tags": []
          },
          "execution_count": 42
        }
      ]
    },
    {
      "cell_type": "markdown",
      "metadata": {
        "id": "LZ4nmOVtRy5i"
      },
      "source": [
        "В целом, потребление водки в отчетный период значительно снизилось и в 2016 году максимальные значения ниже максимальных значений 1998 года. При этом изменился и сам ТОП регионов.\n",
        "\n",
        "В 2016 году ТОП 5 регионов по потреблению водки:\n",
        "1. Сахалин - 12.8 литров\n",
        "2. Магадан - 12.7 литров\n",
        "3. Коми - 12.5 литров\n",
        "4. Мурманская область - 12.2 литра\n",
        "5. Карелия - 12.2 литра"
      ]
    },
    {
      "cell_type": "code",
      "metadata": {
        "id": "yPFLueOFRzGw",
        "outputId": "7e22759a-8200-4d74-ef54-04f0eacd1987",
        "colab": {
          "base_uri": "https://localhost:8080/",
          "height": 323
        }
      },
      "source": [
        "vodka_region = pd.pivot_table(df_filter, values='vodka', index='region', columns='year', aggfunc='sum')\n",
        "\n",
        "vodka_region.sort_values(by=1998, ascending=True).head(5).style.applymap(lambda x: \"background-color: #97ca9b\" if x<df_region_mean['vodka'].mean() else \"background-color: white\")   "
      ],
      "execution_count": 43,
      "outputs": [
        {
          "output_type": "execute_result",
          "data": {
            "text/html": [
              "<style  type=\"text/css\" >\n",
              "#T_f48754f0_03cb_11eb_9562_0242ac1c0002row0_col0,#T_f48754f0_03cb_11eb_9562_0242ac1c0002row0_col1,#T_f48754f0_03cb_11eb_9562_0242ac1c0002row0_col2,#T_f48754f0_03cb_11eb_9562_0242ac1c0002row0_col3,#T_f48754f0_03cb_11eb_9562_0242ac1c0002row0_col4,#T_f48754f0_03cb_11eb_9562_0242ac1c0002row0_col5,#T_f48754f0_03cb_11eb_9562_0242ac1c0002row0_col6,#T_f48754f0_03cb_11eb_9562_0242ac1c0002row0_col7,#T_f48754f0_03cb_11eb_9562_0242ac1c0002row0_col8,#T_f48754f0_03cb_11eb_9562_0242ac1c0002row0_col9,#T_f48754f0_03cb_11eb_9562_0242ac1c0002row0_col10,#T_f48754f0_03cb_11eb_9562_0242ac1c0002row0_col11,#T_f48754f0_03cb_11eb_9562_0242ac1c0002row0_col12,#T_f48754f0_03cb_11eb_9562_0242ac1c0002row0_col13,#T_f48754f0_03cb_11eb_9562_0242ac1c0002row0_col14,#T_f48754f0_03cb_11eb_9562_0242ac1c0002row0_col15,#T_f48754f0_03cb_11eb_9562_0242ac1c0002row0_col16,#T_f48754f0_03cb_11eb_9562_0242ac1c0002row0_col17,#T_f48754f0_03cb_11eb_9562_0242ac1c0002row0_col18,#T_f48754f0_03cb_11eb_9562_0242ac1c0002row1_col0,#T_f48754f0_03cb_11eb_9562_0242ac1c0002row1_col1,#T_f48754f0_03cb_11eb_9562_0242ac1c0002row1_col2,#T_f48754f0_03cb_11eb_9562_0242ac1c0002row1_col3,#T_f48754f0_03cb_11eb_9562_0242ac1c0002row1_col4,#T_f48754f0_03cb_11eb_9562_0242ac1c0002row1_col5,#T_f48754f0_03cb_11eb_9562_0242ac1c0002row1_col6,#T_f48754f0_03cb_11eb_9562_0242ac1c0002row1_col7,#T_f48754f0_03cb_11eb_9562_0242ac1c0002row1_col8,#T_f48754f0_03cb_11eb_9562_0242ac1c0002row1_col12,#T_f48754f0_03cb_11eb_9562_0242ac1c0002row1_col13,#T_f48754f0_03cb_11eb_9562_0242ac1c0002row1_col14,#T_f48754f0_03cb_11eb_9562_0242ac1c0002row1_col15,#T_f48754f0_03cb_11eb_9562_0242ac1c0002row1_col16,#T_f48754f0_03cb_11eb_9562_0242ac1c0002row1_col17,#T_f48754f0_03cb_11eb_9562_0242ac1c0002row1_col18,#T_f48754f0_03cb_11eb_9562_0242ac1c0002row2_col0,#T_f48754f0_03cb_11eb_9562_0242ac1c0002row2_col1,#T_f48754f0_03cb_11eb_9562_0242ac1c0002row2_col2,#T_f48754f0_03cb_11eb_9562_0242ac1c0002row2_col3,#T_f48754f0_03cb_11eb_9562_0242ac1c0002row2_col4,#T_f48754f0_03cb_11eb_9562_0242ac1c0002row2_col5,#T_f48754f0_03cb_11eb_9562_0242ac1c0002row2_col6,#T_f48754f0_03cb_11eb_9562_0242ac1c0002row2_col7,#T_f48754f0_03cb_11eb_9562_0242ac1c0002row2_col8,#T_f48754f0_03cb_11eb_9562_0242ac1c0002row2_col9,#T_f48754f0_03cb_11eb_9562_0242ac1c0002row2_col10,#T_f48754f0_03cb_11eb_9562_0242ac1c0002row2_col11,#T_f48754f0_03cb_11eb_9562_0242ac1c0002row2_col12,#T_f48754f0_03cb_11eb_9562_0242ac1c0002row2_col13,#T_f48754f0_03cb_11eb_9562_0242ac1c0002row2_col14,#T_f48754f0_03cb_11eb_9562_0242ac1c0002row2_col15,#T_f48754f0_03cb_11eb_9562_0242ac1c0002row2_col16,#T_f48754f0_03cb_11eb_9562_0242ac1c0002row2_col17,#T_f48754f0_03cb_11eb_9562_0242ac1c0002row2_col18,#T_f48754f0_03cb_11eb_9562_0242ac1c0002row3_col0,#T_f48754f0_03cb_11eb_9562_0242ac1c0002row3_col1,#T_f48754f0_03cb_11eb_9562_0242ac1c0002row3_col2,#T_f48754f0_03cb_11eb_9562_0242ac1c0002row3_col3,#T_f48754f0_03cb_11eb_9562_0242ac1c0002row3_col4,#T_f48754f0_03cb_11eb_9562_0242ac1c0002row3_col5,#T_f48754f0_03cb_11eb_9562_0242ac1c0002row3_col6,#T_f48754f0_03cb_11eb_9562_0242ac1c0002row3_col7,#T_f48754f0_03cb_11eb_9562_0242ac1c0002row3_col8,#T_f48754f0_03cb_11eb_9562_0242ac1c0002row3_col9,#T_f48754f0_03cb_11eb_9562_0242ac1c0002row3_col10,#T_f48754f0_03cb_11eb_9562_0242ac1c0002row3_col11,#T_f48754f0_03cb_11eb_9562_0242ac1c0002row3_col12,#T_f48754f0_03cb_11eb_9562_0242ac1c0002row3_col13,#T_f48754f0_03cb_11eb_9562_0242ac1c0002row3_col14,#T_f48754f0_03cb_11eb_9562_0242ac1c0002row3_col15,#T_f48754f0_03cb_11eb_9562_0242ac1c0002row3_col16,#T_f48754f0_03cb_11eb_9562_0242ac1c0002row3_col17,#T_f48754f0_03cb_11eb_9562_0242ac1c0002row3_col18,#T_f48754f0_03cb_11eb_9562_0242ac1c0002row4_col0,#T_f48754f0_03cb_11eb_9562_0242ac1c0002row4_col1,#T_f48754f0_03cb_11eb_9562_0242ac1c0002row4_col2,#T_f48754f0_03cb_11eb_9562_0242ac1c0002row4_col3,#T_f48754f0_03cb_11eb_9562_0242ac1c0002row4_col4,#T_f48754f0_03cb_11eb_9562_0242ac1c0002row4_col5,#T_f48754f0_03cb_11eb_9562_0242ac1c0002row4_col6,#T_f48754f0_03cb_11eb_9562_0242ac1c0002row4_col7,#T_f48754f0_03cb_11eb_9562_0242ac1c0002row4_col8,#T_f48754f0_03cb_11eb_9562_0242ac1c0002row4_col9,#T_f48754f0_03cb_11eb_9562_0242ac1c0002row4_col10,#T_f48754f0_03cb_11eb_9562_0242ac1c0002row4_col11,#T_f48754f0_03cb_11eb_9562_0242ac1c0002row4_col12,#T_f48754f0_03cb_11eb_9562_0242ac1c0002row4_col13,#T_f48754f0_03cb_11eb_9562_0242ac1c0002row4_col14,#T_f48754f0_03cb_11eb_9562_0242ac1c0002row4_col15,#T_f48754f0_03cb_11eb_9562_0242ac1c0002row4_col16,#T_f48754f0_03cb_11eb_9562_0242ac1c0002row4_col17,#T_f48754f0_03cb_11eb_9562_0242ac1c0002row4_col18{\n",
              "            background-color:  #97ca9b;\n",
              "        }#T_f48754f0_03cb_11eb_9562_0242ac1c0002row1_col9,#T_f48754f0_03cb_11eb_9562_0242ac1c0002row1_col10,#T_f48754f0_03cb_11eb_9562_0242ac1c0002row1_col11{\n",
              "            background-color:  white;\n",
              "        }</style><table id=\"T_f48754f0_03cb_11eb_9562_0242ac1c0002\" ><thead>    <tr>        <th class=\"index_name level0\" >year</th>        <th class=\"col_heading level0 col0\" >1998</th>        <th class=\"col_heading level0 col1\" >1999</th>        <th class=\"col_heading level0 col2\" >2000</th>        <th class=\"col_heading level0 col3\" >2001</th>        <th class=\"col_heading level0 col4\" >2002</th>        <th class=\"col_heading level0 col5\" >2003</th>        <th class=\"col_heading level0 col6\" >2004</th>        <th class=\"col_heading level0 col7\" >2005</th>        <th class=\"col_heading level0 col8\" >2006</th>        <th class=\"col_heading level0 col9\" >2007</th>        <th class=\"col_heading level0 col10\" >2008</th>        <th class=\"col_heading level0 col11\" >2009</th>        <th class=\"col_heading level0 col12\" >2010</th>        <th class=\"col_heading level0 col13\" >2011</th>        <th class=\"col_heading level0 col14\" >2012</th>        <th class=\"col_heading level0 col15\" >2013</th>        <th class=\"col_heading level0 col16\" >2014</th>        <th class=\"col_heading level0 col17\" >2015</th>        <th class=\"col_heading level0 col18\" >2016</th>    </tr>    <tr>        <th class=\"index_name level0\" >region</th>        <th class=\"blank\" ></th>        <th class=\"blank\" ></th>        <th class=\"blank\" ></th>        <th class=\"blank\" ></th>        <th class=\"blank\" ></th>        <th class=\"blank\" ></th>        <th class=\"blank\" ></th>        <th class=\"blank\" ></th>        <th class=\"blank\" ></th>        <th class=\"blank\" ></th>        <th class=\"blank\" ></th>        <th class=\"blank\" ></th>        <th class=\"blank\" ></th>        <th class=\"blank\" ></th>        <th class=\"blank\" ></th>        <th class=\"blank\" ></th>        <th class=\"blank\" ></th>        <th class=\"blank\" ></th>        <th class=\"blank\" ></th>    </tr></thead><tbody>\n",
              "                <tr>\n",
              "                        <th id=\"T_f48754f0_03cb_11eb_9562_0242ac1c0002level0_row0\" class=\"row_heading level0 row0\" >Chechen Republic</th>\n",
              "                        <td id=\"T_f48754f0_03cb_11eb_9562_0242ac1c0002row0_col0\" class=\"data row0 col0\" >0.000000</td>\n",
              "                        <td id=\"T_f48754f0_03cb_11eb_9562_0242ac1c0002row0_col1\" class=\"data row0 col1\" >0.000000</td>\n",
              "                        <td id=\"T_f48754f0_03cb_11eb_9562_0242ac1c0002row0_col2\" class=\"data row0 col2\" >0.000000</td>\n",
              "                        <td id=\"T_f48754f0_03cb_11eb_9562_0242ac1c0002row0_col3\" class=\"data row0 col3\" >0.000000</td>\n",
              "                        <td id=\"T_f48754f0_03cb_11eb_9562_0242ac1c0002row0_col4\" class=\"data row0 col4\" >0.000000</td>\n",
              "                        <td id=\"T_f48754f0_03cb_11eb_9562_0242ac1c0002row0_col5\" class=\"data row0 col5\" >0.000000</td>\n",
              "                        <td id=\"T_f48754f0_03cb_11eb_9562_0242ac1c0002row0_col6\" class=\"data row0 col6\" >0.000000</td>\n",
              "                        <td id=\"T_f48754f0_03cb_11eb_9562_0242ac1c0002row0_col7\" class=\"data row0 col7\" >0.000000</td>\n",
              "                        <td id=\"T_f48754f0_03cb_11eb_9562_0242ac1c0002row0_col8\" class=\"data row0 col8\" >0.000000</td>\n",
              "                        <td id=\"T_f48754f0_03cb_11eb_9562_0242ac1c0002row0_col9\" class=\"data row0 col9\" >0.000000</td>\n",
              "                        <td id=\"T_f48754f0_03cb_11eb_9562_0242ac1c0002row0_col10\" class=\"data row0 col10\" >0.000000</td>\n",
              "                        <td id=\"T_f48754f0_03cb_11eb_9562_0242ac1c0002row0_col11\" class=\"data row0 col11\" >0.000000</td>\n",
              "                        <td id=\"T_f48754f0_03cb_11eb_9562_0242ac1c0002row0_col12\" class=\"data row0 col12\" >0.000000</td>\n",
              "                        <td id=\"T_f48754f0_03cb_11eb_9562_0242ac1c0002row0_col13\" class=\"data row0 col13\" >0.000000</td>\n",
              "                        <td id=\"T_f48754f0_03cb_11eb_9562_0242ac1c0002row0_col14\" class=\"data row0 col14\" >0.000000</td>\n",
              "                        <td id=\"T_f48754f0_03cb_11eb_9562_0242ac1c0002row0_col15\" class=\"data row0 col15\" >0.000000</td>\n",
              "                        <td id=\"T_f48754f0_03cb_11eb_9562_0242ac1c0002row0_col16\" class=\"data row0 col16\" >0.000000</td>\n",
              "                        <td id=\"T_f48754f0_03cb_11eb_9562_0242ac1c0002row0_col17\" class=\"data row0 col17\" >0.000000</td>\n",
              "                        <td id=\"T_f48754f0_03cb_11eb_9562_0242ac1c0002row0_col18\" class=\"data row0 col18\" >0.000000</td>\n",
              "            </tr>\n",
              "            <tr>\n",
              "                        <th id=\"T_f48754f0_03cb_11eb_9562_0242ac1c0002level0_row1\" class=\"row_heading level0 row1\" >Republic of Dagestan</th>\n",
              "                        <td id=\"T_f48754f0_03cb_11eb_9562_0242ac1c0002row1_col0\" class=\"data row1 col0\" >2.000000</td>\n",
              "                        <td id=\"T_f48754f0_03cb_11eb_9562_0242ac1c0002row1_col1\" class=\"data row1 col1\" >1.000000</td>\n",
              "                        <td id=\"T_f48754f0_03cb_11eb_9562_0242ac1c0002row1_col2\" class=\"data row1 col2\" >1.000000</td>\n",
              "                        <td id=\"T_f48754f0_03cb_11eb_9562_0242ac1c0002row1_col3\" class=\"data row1 col3\" >1.800000</td>\n",
              "                        <td id=\"T_f48754f0_03cb_11eb_9562_0242ac1c0002row1_col4\" class=\"data row1 col4\" >4.900000</td>\n",
              "                        <td id=\"T_f48754f0_03cb_11eb_9562_0242ac1c0002row1_col5\" class=\"data row1 col5\" >8.700000</td>\n",
              "                        <td id=\"T_f48754f0_03cb_11eb_9562_0242ac1c0002row1_col6\" class=\"data row1 col6\" >9.500000</td>\n",
              "                        <td id=\"T_f48754f0_03cb_11eb_9562_0242ac1c0002row1_col7\" class=\"data row1 col7\" >10.800000</td>\n",
              "                        <td id=\"T_f48754f0_03cb_11eb_9562_0242ac1c0002row1_col8\" class=\"data row1 col8\" >11.700000</td>\n",
              "                        <td id=\"T_f48754f0_03cb_11eb_9562_0242ac1c0002row1_col9\" class=\"data row1 col9\" >12.200000</td>\n",
              "                        <td id=\"T_f48754f0_03cb_11eb_9562_0242ac1c0002row1_col10\" class=\"data row1 col10\" >12.900000</td>\n",
              "                        <td id=\"T_f48754f0_03cb_11eb_9562_0242ac1c0002row1_col11\" class=\"data row1 col11\" >13.200000</td>\n",
              "                        <td id=\"T_f48754f0_03cb_11eb_9562_0242ac1c0002row1_col12\" class=\"data row1 col12\" >10.200000</td>\n",
              "                        <td id=\"T_f48754f0_03cb_11eb_9562_0242ac1c0002row1_col13\" class=\"data row1 col13\" >7.880000</td>\n",
              "                        <td id=\"T_f48754f0_03cb_11eb_9562_0242ac1c0002row1_col14\" class=\"data row1 col14\" >8.000000</td>\n",
              "                        <td id=\"T_f48754f0_03cb_11eb_9562_0242ac1c0002row1_col15\" class=\"data row1 col15\" >4.800000</td>\n",
              "                        <td id=\"T_f48754f0_03cb_11eb_9562_0242ac1c0002row1_col16\" class=\"data row1 col16\" >2.900000</td>\n",
              "                        <td id=\"T_f48754f0_03cb_11eb_9562_0242ac1c0002row1_col17\" class=\"data row1 col17\" >1.900000</td>\n",
              "                        <td id=\"T_f48754f0_03cb_11eb_9562_0242ac1c0002row1_col18\" class=\"data row1 col18\" >2.200000</td>\n",
              "            </tr>\n",
              "            <tr>\n",
              "                        <th id=\"T_f48754f0_03cb_11eb_9562_0242ac1c0002level0_row2\" class=\"row_heading level0 row2\" >Republic of Adygea</th>\n",
              "                        <td id=\"T_f48754f0_03cb_11eb_9562_0242ac1c0002row2_col0\" class=\"data row2 col0\" >3.400000</td>\n",
              "                        <td id=\"T_f48754f0_03cb_11eb_9562_0242ac1c0002row2_col1\" class=\"data row2 col1\" >4.300000</td>\n",
              "                        <td id=\"T_f48754f0_03cb_11eb_9562_0242ac1c0002row2_col2\" class=\"data row2 col2\" >5.400000</td>\n",
              "                        <td id=\"T_f48754f0_03cb_11eb_9562_0242ac1c0002row2_col3\" class=\"data row2 col3\" >7.800000</td>\n",
              "                        <td id=\"T_f48754f0_03cb_11eb_9562_0242ac1c0002row2_col4\" class=\"data row2 col4\" >7.900000</td>\n",
              "                        <td id=\"T_f48754f0_03cb_11eb_9562_0242ac1c0002row2_col5\" class=\"data row2 col5\" >8.000000</td>\n",
              "                        <td id=\"T_f48754f0_03cb_11eb_9562_0242ac1c0002row2_col6\" class=\"data row2 col6\" >8.600000</td>\n",
              "                        <td id=\"T_f48754f0_03cb_11eb_9562_0242ac1c0002row2_col7\" class=\"data row2 col7\" >10.400000</td>\n",
              "                        <td id=\"T_f48754f0_03cb_11eb_9562_0242ac1c0002row2_col8\" class=\"data row2 col8\" >8.100000</td>\n",
              "                        <td id=\"T_f48754f0_03cb_11eb_9562_0242ac1c0002row2_col9\" class=\"data row2 col9\" >6.800000</td>\n",
              "                        <td id=\"T_f48754f0_03cb_11eb_9562_0242ac1c0002row2_col10\" class=\"data row2 col10\" >6.400000</td>\n",
              "                        <td id=\"T_f48754f0_03cb_11eb_9562_0242ac1c0002row2_col11\" class=\"data row2 col11\" >7.400000</td>\n",
              "                        <td id=\"T_f48754f0_03cb_11eb_9562_0242ac1c0002row2_col12\" class=\"data row2 col12\" >6.600000</td>\n",
              "                        <td id=\"T_f48754f0_03cb_11eb_9562_0242ac1c0002row2_col13\" class=\"data row2 col13\" >6.900000</td>\n",
              "                        <td id=\"T_f48754f0_03cb_11eb_9562_0242ac1c0002row2_col14\" class=\"data row2 col14\" >5.600000</td>\n",
              "                        <td id=\"T_f48754f0_03cb_11eb_9562_0242ac1c0002row2_col15\" class=\"data row2 col15\" >4.700000</td>\n",
              "                        <td id=\"T_f48754f0_03cb_11eb_9562_0242ac1c0002row2_col16\" class=\"data row2 col16\" >4.100000</td>\n",
              "                        <td id=\"T_f48754f0_03cb_11eb_9562_0242ac1c0002row2_col17\" class=\"data row2 col17\" >3.500000</td>\n",
              "                        <td id=\"T_f48754f0_03cb_11eb_9562_0242ac1c0002row2_col18\" class=\"data row2 col18\" >3.600000</td>\n",
              "            </tr>\n",
              "            <tr>\n",
              "                        <th id=\"T_f48754f0_03cb_11eb_9562_0242ac1c0002level0_row3\" class=\"row_heading level0 row3\" >Republic of Crimea</th>\n",
              "                        <td id=\"T_f48754f0_03cb_11eb_9562_0242ac1c0002row3_col0\" class=\"data row3 col0\" >4.266667</td>\n",
              "                        <td id=\"T_f48754f0_03cb_11eb_9562_0242ac1c0002row3_col1\" class=\"data row3 col1\" >4.266667</td>\n",
              "                        <td id=\"T_f48754f0_03cb_11eb_9562_0242ac1c0002row3_col2\" class=\"data row3 col2\" >4.266667</td>\n",
              "                        <td id=\"T_f48754f0_03cb_11eb_9562_0242ac1c0002row3_col3\" class=\"data row3 col3\" >4.266667</td>\n",
              "                        <td id=\"T_f48754f0_03cb_11eb_9562_0242ac1c0002row3_col4\" class=\"data row3 col4\" >4.266667</td>\n",
              "                        <td id=\"T_f48754f0_03cb_11eb_9562_0242ac1c0002row3_col5\" class=\"data row3 col5\" >4.266667</td>\n",
              "                        <td id=\"T_f48754f0_03cb_11eb_9562_0242ac1c0002row3_col6\" class=\"data row3 col6\" >4.266667</td>\n",
              "                        <td id=\"T_f48754f0_03cb_11eb_9562_0242ac1c0002row3_col7\" class=\"data row3 col7\" >4.266667</td>\n",
              "                        <td id=\"T_f48754f0_03cb_11eb_9562_0242ac1c0002row3_col8\" class=\"data row3 col8\" >4.266667</td>\n",
              "                        <td id=\"T_f48754f0_03cb_11eb_9562_0242ac1c0002row3_col9\" class=\"data row3 col9\" >4.266667</td>\n",
              "                        <td id=\"T_f48754f0_03cb_11eb_9562_0242ac1c0002row3_col10\" class=\"data row3 col10\" >4.266667</td>\n",
              "                        <td id=\"T_f48754f0_03cb_11eb_9562_0242ac1c0002row3_col11\" class=\"data row3 col11\" >4.266667</td>\n",
              "                        <td id=\"T_f48754f0_03cb_11eb_9562_0242ac1c0002row3_col12\" class=\"data row3 col12\" >4.266667</td>\n",
              "                        <td id=\"T_f48754f0_03cb_11eb_9562_0242ac1c0002row3_col13\" class=\"data row3 col13\" >4.266667</td>\n",
              "                        <td id=\"T_f48754f0_03cb_11eb_9562_0242ac1c0002row3_col14\" class=\"data row3 col14\" >4.266667</td>\n",
              "                        <td id=\"T_f48754f0_03cb_11eb_9562_0242ac1c0002row3_col15\" class=\"data row3 col15\" >4.266667</td>\n",
              "                        <td id=\"T_f48754f0_03cb_11eb_9562_0242ac1c0002row3_col16\" class=\"data row3 col16\" >3.900000</td>\n",
              "                        <td id=\"T_f48754f0_03cb_11eb_9562_0242ac1c0002row3_col17\" class=\"data row3 col17\" >3.800000</td>\n",
              "                        <td id=\"T_f48754f0_03cb_11eb_9562_0242ac1c0002row3_col18\" class=\"data row3 col18\" >5.100000</td>\n",
              "            </tr>\n",
              "            <tr>\n",
              "                        <th id=\"T_f48754f0_03cb_11eb_9562_0242ac1c0002level0_row4\" class=\"row_heading level0 row4\" >Kursk Oblast</th>\n",
              "                        <td id=\"T_f48754f0_03cb_11eb_9562_0242ac1c0002row4_col0\" class=\"data row4 col0\" >4.400000</td>\n",
              "                        <td id=\"T_f48754f0_03cb_11eb_9562_0242ac1c0002row4_col1\" class=\"data row4 col1\" >4.800000</td>\n",
              "                        <td id=\"T_f48754f0_03cb_11eb_9562_0242ac1c0002row4_col2\" class=\"data row4 col2\" >6.100000</td>\n",
              "                        <td id=\"T_f48754f0_03cb_11eb_9562_0242ac1c0002row4_col3\" class=\"data row4 col3\" >7.400000</td>\n",
              "                        <td id=\"T_f48754f0_03cb_11eb_9562_0242ac1c0002row4_col4\" class=\"data row4 col4\" >6.700000</td>\n",
              "                        <td id=\"T_f48754f0_03cb_11eb_9562_0242ac1c0002row4_col5\" class=\"data row4 col5\" >7.500000</td>\n",
              "                        <td id=\"T_f48754f0_03cb_11eb_9562_0242ac1c0002row4_col6\" class=\"data row4 col6\" >7.200000</td>\n",
              "                        <td id=\"T_f48754f0_03cb_11eb_9562_0242ac1c0002row4_col7\" class=\"data row4 col7\" >7.900000</td>\n",
              "                        <td id=\"T_f48754f0_03cb_11eb_9562_0242ac1c0002row4_col8\" class=\"data row4 col8\" >7.200000</td>\n",
              "                        <td id=\"T_f48754f0_03cb_11eb_9562_0242ac1c0002row4_col9\" class=\"data row4 col9\" >8.000000</td>\n",
              "                        <td id=\"T_f48754f0_03cb_11eb_9562_0242ac1c0002row4_col10\" class=\"data row4 col10\" >7.700000</td>\n",
              "                        <td id=\"T_f48754f0_03cb_11eb_9562_0242ac1c0002row4_col11\" class=\"data row4 col11\" >8.400000</td>\n",
              "                        <td id=\"T_f48754f0_03cb_11eb_9562_0242ac1c0002row4_col12\" class=\"data row4 col12\" >8.400000</td>\n",
              "                        <td id=\"T_f48754f0_03cb_11eb_9562_0242ac1c0002row4_col13\" class=\"data row4 col13\" >7.730000</td>\n",
              "                        <td id=\"T_f48754f0_03cb_11eb_9562_0242ac1c0002row4_col14\" class=\"data row4 col14\" >7.700000</td>\n",
              "                        <td id=\"T_f48754f0_03cb_11eb_9562_0242ac1c0002row4_col15\" class=\"data row4 col15\" >7.600000</td>\n",
              "                        <td id=\"T_f48754f0_03cb_11eb_9562_0242ac1c0002row4_col16\" class=\"data row4 col16\" >4.300000</td>\n",
              "                        <td id=\"T_f48754f0_03cb_11eb_9562_0242ac1c0002row4_col17\" class=\"data row4 col17\" >3.800000</td>\n",
              "                        <td id=\"T_f48754f0_03cb_11eb_9562_0242ac1c0002row4_col18\" class=\"data row4 col18\" >4.000000</td>\n",
              "            </tr>\n",
              "    </tbody></table>"
            ],
            "text/plain": [
              "<pandas.io.formats.style.Styler at 0x7ffa00e95828>"
            ]
          },
          "metadata": {
            "tags": []
          },
          "execution_count": 43
        }
      ]
    },
    {
      "cell_type": "markdown",
      "metadata": {
        "id": "futIVjCqR1oy"
      },
      "source": [
        "Посмотрим на ТОП регионов по самому низкому потреблению водки в 1998 году.\n",
        "1. Дагестан - 2 литра\n",
        "2. Адыгея - 3.4 литра\n",
        "3. Крым - 4.2 литра\n",
        "4. Курская область - 4.4. литра\n",
        "5. Чукотка - 4.6 литра\n",
        "\n",
        "Дагестан и Чукотка продолжают поддерживать имидж самых трезвых регионов России."
      ]
    },
    {
      "cell_type": "code",
      "metadata": {
        "id": "-wfQIL3FR1xq",
        "outputId": "23a65e79-8e14-42bc-c62d-f5fbc2b90dd5",
        "colab": {
          "base_uri": "https://localhost:8080/",
          "height": 357
        }
      },
      "source": [
        "vodka_region = pd.pivot_table(df_filter, values='vodka', index='region', columns='year', aggfunc='sum')\n",
        "\n",
        "vodka_region.sort_values(by=2016, ascending=True).head(5).style.applymap(lambda x: \"background-color: #97ca9b\" if x<df_region_mean['vodka'].mean() else \"background-color: white\")   "
      ],
      "execution_count": 44,
      "outputs": [
        {
          "output_type": "execute_result",
          "data": {
            "text/html": [
              "<style  type=\"text/css\" >\n",
              "#T_f490ab5e_03cb_11eb_9562_0242ac1c0002row0_col0,#T_f490ab5e_03cb_11eb_9562_0242ac1c0002row0_col1,#T_f490ab5e_03cb_11eb_9562_0242ac1c0002row0_col2,#T_f490ab5e_03cb_11eb_9562_0242ac1c0002row0_col3,#T_f490ab5e_03cb_11eb_9562_0242ac1c0002row0_col4,#T_f490ab5e_03cb_11eb_9562_0242ac1c0002row0_col5,#T_f490ab5e_03cb_11eb_9562_0242ac1c0002row0_col6,#T_f490ab5e_03cb_11eb_9562_0242ac1c0002row0_col7,#T_f490ab5e_03cb_11eb_9562_0242ac1c0002row0_col8,#T_f490ab5e_03cb_11eb_9562_0242ac1c0002row0_col9,#T_f490ab5e_03cb_11eb_9562_0242ac1c0002row0_col10,#T_f490ab5e_03cb_11eb_9562_0242ac1c0002row0_col11,#T_f490ab5e_03cb_11eb_9562_0242ac1c0002row0_col12,#T_f490ab5e_03cb_11eb_9562_0242ac1c0002row0_col13,#T_f490ab5e_03cb_11eb_9562_0242ac1c0002row0_col14,#T_f490ab5e_03cb_11eb_9562_0242ac1c0002row0_col15,#T_f490ab5e_03cb_11eb_9562_0242ac1c0002row0_col16,#T_f490ab5e_03cb_11eb_9562_0242ac1c0002row0_col17,#T_f490ab5e_03cb_11eb_9562_0242ac1c0002row0_col18,#T_f490ab5e_03cb_11eb_9562_0242ac1c0002row1_col0,#T_f490ab5e_03cb_11eb_9562_0242ac1c0002row1_col1,#T_f490ab5e_03cb_11eb_9562_0242ac1c0002row1_col2,#T_f490ab5e_03cb_11eb_9562_0242ac1c0002row1_col3,#T_f490ab5e_03cb_11eb_9562_0242ac1c0002row1_col4,#T_f490ab5e_03cb_11eb_9562_0242ac1c0002row1_col5,#T_f490ab5e_03cb_11eb_9562_0242ac1c0002row1_col6,#T_f490ab5e_03cb_11eb_9562_0242ac1c0002row1_col7,#T_f490ab5e_03cb_11eb_9562_0242ac1c0002row1_col8,#T_f490ab5e_03cb_11eb_9562_0242ac1c0002row1_col9,#T_f490ab5e_03cb_11eb_9562_0242ac1c0002row1_col10,#T_f490ab5e_03cb_11eb_9562_0242ac1c0002row1_col11,#T_f490ab5e_03cb_11eb_9562_0242ac1c0002row1_col12,#T_f490ab5e_03cb_11eb_9562_0242ac1c0002row1_col13,#T_f490ab5e_03cb_11eb_9562_0242ac1c0002row1_col14,#T_f490ab5e_03cb_11eb_9562_0242ac1c0002row1_col15,#T_f490ab5e_03cb_11eb_9562_0242ac1c0002row1_col16,#T_f490ab5e_03cb_11eb_9562_0242ac1c0002row1_col17,#T_f490ab5e_03cb_11eb_9562_0242ac1c0002row1_col18,#T_f490ab5e_03cb_11eb_9562_0242ac1c0002row2_col0,#T_f490ab5e_03cb_11eb_9562_0242ac1c0002row2_col1,#T_f490ab5e_03cb_11eb_9562_0242ac1c0002row2_col2,#T_f490ab5e_03cb_11eb_9562_0242ac1c0002row2_col7,#T_f490ab5e_03cb_11eb_9562_0242ac1c0002row2_col8,#T_f490ab5e_03cb_11eb_9562_0242ac1c0002row2_col9,#T_f490ab5e_03cb_11eb_9562_0242ac1c0002row2_col10,#T_f490ab5e_03cb_11eb_9562_0242ac1c0002row2_col11,#T_f490ab5e_03cb_11eb_9562_0242ac1c0002row2_col12,#T_f490ab5e_03cb_11eb_9562_0242ac1c0002row2_col13,#T_f490ab5e_03cb_11eb_9562_0242ac1c0002row2_col14,#T_f490ab5e_03cb_11eb_9562_0242ac1c0002row2_col15,#T_f490ab5e_03cb_11eb_9562_0242ac1c0002row2_col16,#T_f490ab5e_03cb_11eb_9562_0242ac1c0002row2_col17,#T_f490ab5e_03cb_11eb_9562_0242ac1c0002row2_col18,#T_f490ab5e_03cb_11eb_9562_0242ac1c0002row3_col0,#T_f490ab5e_03cb_11eb_9562_0242ac1c0002row3_col1,#T_f490ab5e_03cb_11eb_9562_0242ac1c0002row3_col7,#T_f490ab5e_03cb_11eb_9562_0242ac1c0002row3_col8,#T_f490ab5e_03cb_11eb_9562_0242ac1c0002row3_col9,#T_f490ab5e_03cb_11eb_9562_0242ac1c0002row3_col10,#T_f490ab5e_03cb_11eb_9562_0242ac1c0002row3_col11,#T_f490ab5e_03cb_11eb_9562_0242ac1c0002row3_col12,#T_f490ab5e_03cb_11eb_9562_0242ac1c0002row3_col13,#T_f490ab5e_03cb_11eb_9562_0242ac1c0002row3_col14,#T_f490ab5e_03cb_11eb_9562_0242ac1c0002row3_col15,#T_f490ab5e_03cb_11eb_9562_0242ac1c0002row3_col16,#T_f490ab5e_03cb_11eb_9562_0242ac1c0002row3_col17,#T_f490ab5e_03cb_11eb_9562_0242ac1c0002row3_col18,#T_f490ab5e_03cb_11eb_9562_0242ac1c0002row4_col0,#T_f490ab5e_03cb_11eb_9562_0242ac1c0002row4_col1,#T_f490ab5e_03cb_11eb_9562_0242ac1c0002row4_col2,#T_f490ab5e_03cb_11eb_9562_0242ac1c0002row4_col3,#T_f490ab5e_03cb_11eb_9562_0242ac1c0002row4_col4,#T_f490ab5e_03cb_11eb_9562_0242ac1c0002row4_col5,#T_f490ab5e_03cb_11eb_9562_0242ac1c0002row4_col6,#T_f490ab5e_03cb_11eb_9562_0242ac1c0002row4_col7,#T_f490ab5e_03cb_11eb_9562_0242ac1c0002row4_col8,#T_f490ab5e_03cb_11eb_9562_0242ac1c0002row4_col12,#T_f490ab5e_03cb_11eb_9562_0242ac1c0002row4_col13,#T_f490ab5e_03cb_11eb_9562_0242ac1c0002row4_col14,#T_f490ab5e_03cb_11eb_9562_0242ac1c0002row4_col15,#T_f490ab5e_03cb_11eb_9562_0242ac1c0002row4_col16,#T_f490ab5e_03cb_11eb_9562_0242ac1c0002row4_col17,#T_f490ab5e_03cb_11eb_9562_0242ac1c0002row4_col18{\n",
              "            background-color:  #97ca9b;\n",
              "        }#T_f490ab5e_03cb_11eb_9562_0242ac1c0002row2_col3,#T_f490ab5e_03cb_11eb_9562_0242ac1c0002row2_col4,#T_f490ab5e_03cb_11eb_9562_0242ac1c0002row2_col5,#T_f490ab5e_03cb_11eb_9562_0242ac1c0002row2_col6,#T_f490ab5e_03cb_11eb_9562_0242ac1c0002row3_col2,#T_f490ab5e_03cb_11eb_9562_0242ac1c0002row3_col3,#T_f490ab5e_03cb_11eb_9562_0242ac1c0002row3_col4,#T_f490ab5e_03cb_11eb_9562_0242ac1c0002row3_col5,#T_f490ab5e_03cb_11eb_9562_0242ac1c0002row3_col6,#T_f490ab5e_03cb_11eb_9562_0242ac1c0002row4_col9,#T_f490ab5e_03cb_11eb_9562_0242ac1c0002row4_col10,#T_f490ab5e_03cb_11eb_9562_0242ac1c0002row4_col11{\n",
              "            background-color:  white;\n",
              "        }</style><table id=\"T_f490ab5e_03cb_11eb_9562_0242ac1c0002\" ><thead>    <tr>        <th class=\"index_name level0\" >year</th>        <th class=\"col_heading level0 col0\" >1998</th>        <th class=\"col_heading level0 col1\" >1999</th>        <th class=\"col_heading level0 col2\" >2000</th>        <th class=\"col_heading level0 col3\" >2001</th>        <th class=\"col_heading level0 col4\" >2002</th>        <th class=\"col_heading level0 col5\" >2003</th>        <th class=\"col_heading level0 col6\" >2004</th>        <th class=\"col_heading level0 col7\" >2005</th>        <th class=\"col_heading level0 col8\" >2006</th>        <th class=\"col_heading level0 col9\" >2007</th>        <th class=\"col_heading level0 col10\" >2008</th>        <th class=\"col_heading level0 col11\" >2009</th>        <th class=\"col_heading level0 col12\" >2010</th>        <th class=\"col_heading level0 col13\" >2011</th>        <th class=\"col_heading level0 col14\" >2012</th>        <th class=\"col_heading level0 col15\" >2013</th>        <th class=\"col_heading level0 col16\" >2014</th>        <th class=\"col_heading level0 col17\" >2015</th>        <th class=\"col_heading level0 col18\" >2016</th>    </tr>    <tr>        <th class=\"index_name level0\" >region</th>        <th class=\"blank\" ></th>        <th class=\"blank\" ></th>        <th class=\"blank\" ></th>        <th class=\"blank\" ></th>        <th class=\"blank\" ></th>        <th class=\"blank\" ></th>        <th class=\"blank\" ></th>        <th class=\"blank\" ></th>        <th class=\"blank\" ></th>        <th class=\"blank\" ></th>        <th class=\"blank\" ></th>        <th class=\"blank\" ></th>        <th class=\"blank\" ></th>        <th class=\"blank\" ></th>        <th class=\"blank\" ></th>        <th class=\"blank\" ></th>        <th class=\"blank\" ></th>        <th class=\"blank\" ></th>        <th class=\"blank\" ></th>    </tr></thead><tbody>\n",
              "                <tr>\n",
              "                        <th id=\"T_f490ab5e_03cb_11eb_9562_0242ac1c0002level0_row0\" class=\"row_heading level0 row0\" >Chechen Republic</th>\n",
              "                        <td id=\"T_f490ab5e_03cb_11eb_9562_0242ac1c0002row0_col0\" class=\"data row0 col0\" >0.000000</td>\n",
              "                        <td id=\"T_f490ab5e_03cb_11eb_9562_0242ac1c0002row0_col1\" class=\"data row0 col1\" >0.000000</td>\n",
              "                        <td id=\"T_f490ab5e_03cb_11eb_9562_0242ac1c0002row0_col2\" class=\"data row0 col2\" >0.000000</td>\n",
              "                        <td id=\"T_f490ab5e_03cb_11eb_9562_0242ac1c0002row0_col3\" class=\"data row0 col3\" >0.000000</td>\n",
              "                        <td id=\"T_f490ab5e_03cb_11eb_9562_0242ac1c0002row0_col4\" class=\"data row0 col4\" >0.000000</td>\n",
              "                        <td id=\"T_f490ab5e_03cb_11eb_9562_0242ac1c0002row0_col5\" class=\"data row0 col5\" >0.000000</td>\n",
              "                        <td id=\"T_f490ab5e_03cb_11eb_9562_0242ac1c0002row0_col6\" class=\"data row0 col6\" >0.000000</td>\n",
              "                        <td id=\"T_f490ab5e_03cb_11eb_9562_0242ac1c0002row0_col7\" class=\"data row0 col7\" >0.000000</td>\n",
              "                        <td id=\"T_f490ab5e_03cb_11eb_9562_0242ac1c0002row0_col8\" class=\"data row0 col8\" >0.000000</td>\n",
              "                        <td id=\"T_f490ab5e_03cb_11eb_9562_0242ac1c0002row0_col9\" class=\"data row0 col9\" >0.000000</td>\n",
              "                        <td id=\"T_f490ab5e_03cb_11eb_9562_0242ac1c0002row0_col10\" class=\"data row0 col10\" >0.000000</td>\n",
              "                        <td id=\"T_f490ab5e_03cb_11eb_9562_0242ac1c0002row0_col11\" class=\"data row0 col11\" >0.000000</td>\n",
              "                        <td id=\"T_f490ab5e_03cb_11eb_9562_0242ac1c0002row0_col12\" class=\"data row0 col12\" >0.000000</td>\n",
              "                        <td id=\"T_f490ab5e_03cb_11eb_9562_0242ac1c0002row0_col13\" class=\"data row0 col13\" >0.000000</td>\n",
              "                        <td id=\"T_f490ab5e_03cb_11eb_9562_0242ac1c0002row0_col14\" class=\"data row0 col14\" >0.000000</td>\n",
              "                        <td id=\"T_f490ab5e_03cb_11eb_9562_0242ac1c0002row0_col15\" class=\"data row0 col15\" >0.000000</td>\n",
              "                        <td id=\"T_f490ab5e_03cb_11eb_9562_0242ac1c0002row0_col16\" class=\"data row0 col16\" >0.000000</td>\n",
              "                        <td id=\"T_f490ab5e_03cb_11eb_9562_0242ac1c0002row0_col17\" class=\"data row0 col17\" >0.000000</td>\n",
              "                        <td id=\"T_f490ab5e_03cb_11eb_9562_0242ac1c0002row0_col18\" class=\"data row0 col18\" >0.000000</td>\n",
              "            </tr>\n",
              "            <tr>\n",
              "                        <th id=\"T_f490ab5e_03cb_11eb_9562_0242ac1c0002level0_row1\" class=\"row_heading level0 row1\" >Republic of North Ossetia-Alania</th>\n",
              "                        <td id=\"T_f490ab5e_03cb_11eb_9562_0242ac1c0002row1_col0\" class=\"data row1 col0\" >10.600000</td>\n",
              "                        <td id=\"T_f490ab5e_03cb_11eb_9562_0242ac1c0002row1_col1\" class=\"data row1 col1\" >11.000000</td>\n",
              "                        <td id=\"T_f490ab5e_03cb_11eb_9562_0242ac1c0002row1_col2\" class=\"data row1 col2\" >9.800000</td>\n",
              "                        <td id=\"T_f490ab5e_03cb_11eb_9562_0242ac1c0002row1_col3\" class=\"data row1 col3\" >8.900000</td>\n",
              "                        <td id=\"T_f490ab5e_03cb_11eb_9562_0242ac1c0002row1_col4\" class=\"data row1 col4\" >8.500000</td>\n",
              "                        <td id=\"T_f490ab5e_03cb_11eb_9562_0242ac1c0002row1_col5\" class=\"data row1 col5\" >7.600000</td>\n",
              "                        <td id=\"T_f490ab5e_03cb_11eb_9562_0242ac1c0002row1_col6\" class=\"data row1 col6\" >5.300000</td>\n",
              "                        <td id=\"T_f490ab5e_03cb_11eb_9562_0242ac1c0002row1_col7\" class=\"data row1 col7\" >3.400000</td>\n",
              "                        <td id=\"T_f490ab5e_03cb_11eb_9562_0242ac1c0002row1_col8\" class=\"data row1 col8\" >3.800000</td>\n",
              "                        <td id=\"T_f490ab5e_03cb_11eb_9562_0242ac1c0002row1_col9\" class=\"data row1 col9\" >3.900000</td>\n",
              "                        <td id=\"T_f490ab5e_03cb_11eb_9562_0242ac1c0002row1_col10\" class=\"data row1 col10\" >3.400000</td>\n",
              "                        <td id=\"T_f490ab5e_03cb_11eb_9562_0242ac1c0002row1_col11\" class=\"data row1 col11\" >3.000000</td>\n",
              "                        <td id=\"T_f490ab5e_03cb_11eb_9562_0242ac1c0002row1_col12\" class=\"data row1 col12\" >3.200000</td>\n",
              "                        <td id=\"T_f490ab5e_03cb_11eb_9562_0242ac1c0002row1_col13\" class=\"data row1 col13\" >3.350000</td>\n",
              "                        <td id=\"T_f490ab5e_03cb_11eb_9562_0242ac1c0002row1_col14\" class=\"data row1 col14\" >2.800000</td>\n",
              "                        <td id=\"T_f490ab5e_03cb_11eb_9562_0242ac1c0002row1_col15\" class=\"data row1 col15\" >2.200000</td>\n",
              "                        <td id=\"T_f490ab5e_03cb_11eb_9562_0242ac1c0002row1_col16\" class=\"data row1 col16\" >1.300000</td>\n",
              "                        <td id=\"T_f490ab5e_03cb_11eb_9562_0242ac1c0002row1_col17\" class=\"data row1 col17\" >0.600000</td>\n",
              "                        <td id=\"T_f490ab5e_03cb_11eb_9562_0242ac1c0002row1_col18\" class=\"data row1 col18\" >0.400000</td>\n",
              "            </tr>\n",
              "            <tr>\n",
              "                        <th id=\"T_f490ab5e_03cb_11eb_9562_0242ac1c0002level0_row2\" class=\"row_heading level0 row2\" >Kabardino-Balkar Republic</th>\n",
              "                        <td id=\"T_f490ab5e_03cb_11eb_9562_0242ac1c0002row2_col0\" class=\"data row2 col0\" >6.500000</td>\n",
              "                        <td id=\"T_f490ab5e_03cb_11eb_9562_0242ac1c0002row2_col1\" class=\"data row2 col1\" >8.200000</td>\n",
              "                        <td id=\"T_f490ab5e_03cb_11eb_9562_0242ac1c0002row2_col2\" class=\"data row2 col2\" >10.500000</td>\n",
              "                        <td id=\"T_f490ab5e_03cb_11eb_9562_0242ac1c0002row2_col3\" class=\"data row2 col3\" >12.400000</td>\n",
              "                        <td id=\"T_f490ab5e_03cb_11eb_9562_0242ac1c0002row2_col4\" class=\"data row2 col4\" >13.900000</td>\n",
              "                        <td id=\"T_f490ab5e_03cb_11eb_9562_0242ac1c0002row2_col5\" class=\"data row2 col5\" >12.800000</td>\n",
              "                        <td id=\"T_f490ab5e_03cb_11eb_9562_0242ac1c0002row2_col6\" class=\"data row2 col6\" >12.300000</td>\n",
              "                        <td id=\"T_f490ab5e_03cb_11eb_9562_0242ac1c0002row2_col7\" class=\"data row2 col7\" >10.400000</td>\n",
              "                        <td id=\"T_f490ab5e_03cb_11eb_9562_0242ac1c0002row2_col8\" class=\"data row2 col8\" >6.600000</td>\n",
              "                        <td id=\"T_f490ab5e_03cb_11eb_9562_0242ac1c0002row2_col9\" class=\"data row2 col9\" >5.100000</td>\n",
              "                        <td id=\"T_f490ab5e_03cb_11eb_9562_0242ac1c0002row2_col10\" class=\"data row2 col10\" >5.200000</td>\n",
              "                        <td id=\"T_f490ab5e_03cb_11eb_9562_0242ac1c0002row2_col11\" class=\"data row2 col11\" >3.700000</td>\n",
              "                        <td id=\"T_f490ab5e_03cb_11eb_9562_0242ac1c0002row2_col12\" class=\"data row2 col12\" >3.500000</td>\n",
              "                        <td id=\"T_f490ab5e_03cb_11eb_9562_0242ac1c0002row2_col13\" class=\"data row2 col13\" >3.080000</td>\n",
              "                        <td id=\"T_f490ab5e_03cb_11eb_9562_0242ac1c0002row2_col14\" class=\"data row2 col14\" >2.300000</td>\n",
              "                        <td id=\"T_f490ab5e_03cb_11eb_9562_0242ac1c0002row2_col15\" class=\"data row2 col15\" >1.600000</td>\n",
              "                        <td id=\"T_f490ab5e_03cb_11eb_9562_0242ac1c0002row2_col16\" class=\"data row2 col16\" >0.600000</td>\n",
              "                        <td id=\"T_f490ab5e_03cb_11eb_9562_0242ac1c0002row2_col17\" class=\"data row2 col17\" >0.500000</td>\n",
              "                        <td id=\"T_f490ab5e_03cb_11eb_9562_0242ac1c0002row2_col18\" class=\"data row2 col18\" >0.500000</td>\n",
              "            </tr>\n",
              "            <tr>\n",
              "                        <th id=\"T_f490ab5e_03cb_11eb_9562_0242ac1c0002level0_row3\" class=\"row_heading level0 row3\" >Karachay-Cherkess Republic</th>\n",
              "                        <td id=\"T_f490ab5e_03cb_11eb_9562_0242ac1c0002row3_col0\" class=\"data row3 col0\" >8.600000</td>\n",
              "                        <td id=\"T_f490ab5e_03cb_11eb_9562_0242ac1c0002row3_col1\" class=\"data row3 col1\" >10.900000</td>\n",
              "                        <td id=\"T_f490ab5e_03cb_11eb_9562_0242ac1c0002row3_col2\" class=\"data row3 col2\" >12.900000</td>\n",
              "                        <td id=\"T_f490ab5e_03cb_11eb_9562_0242ac1c0002row3_col3\" class=\"data row3 col3\" >13.400000</td>\n",
              "                        <td id=\"T_f490ab5e_03cb_11eb_9562_0242ac1c0002row3_col4\" class=\"data row3 col4\" >14.300000</td>\n",
              "                        <td id=\"T_f490ab5e_03cb_11eb_9562_0242ac1c0002row3_col5\" class=\"data row3 col5\" >14.900000</td>\n",
              "                        <td id=\"T_f490ab5e_03cb_11eb_9562_0242ac1c0002row3_col6\" class=\"data row3 col6\" >14.900000</td>\n",
              "                        <td id=\"T_f490ab5e_03cb_11eb_9562_0242ac1c0002row3_col7\" class=\"data row3 col7\" >5.300000</td>\n",
              "                        <td id=\"T_f490ab5e_03cb_11eb_9562_0242ac1c0002row3_col8\" class=\"data row3 col8\" >5.600000</td>\n",
              "                        <td id=\"T_f490ab5e_03cb_11eb_9562_0242ac1c0002row3_col9\" class=\"data row3 col9\" >5.100000</td>\n",
              "                        <td id=\"T_f490ab5e_03cb_11eb_9562_0242ac1c0002row3_col10\" class=\"data row3 col10\" >3.700000</td>\n",
              "                        <td id=\"T_f490ab5e_03cb_11eb_9562_0242ac1c0002row3_col11\" class=\"data row3 col11\" >2.800000</td>\n",
              "                        <td id=\"T_f490ab5e_03cb_11eb_9562_0242ac1c0002row3_col12\" class=\"data row3 col12\" >2.300000</td>\n",
              "                        <td id=\"T_f490ab5e_03cb_11eb_9562_0242ac1c0002row3_col13\" class=\"data row3 col13\" >2.170000</td>\n",
              "                        <td id=\"T_f490ab5e_03cb_11eb_9562_0242ac1c0002row3_col14\" class=\"data row3 col14\" >1.800000</td>\n",
              "                        <td id=\"T_f490ab5e_03cb_11eb_9562_0242ac1c0002row3_col15\" class=\"data row3 col15\" >1.200000</td>\n",
              "                        <td id=\"T_f490ab5e_03cb_11eb_9562_0242ac1c0002row3_col16\" class=\"data row3 col16\" >0.900000</td>\n",
              "                        <td id=\"T_f490ab5e_03cb_11eb_9562_0242ac1c0002row3_col17\" class=\"data row3 col17\" >0.800000</td>\n",
              "                        <td id=\"T_f490ab5e_03cb_11eb_9562_0242ac1c0002row3_col18\" class=\"data row3 col18\" >0.700000</td>\n",
              "            </tr>\n",
              "            <tr>\n",
              "                        <th id=\"T_f490ab5e_03cb_11eb_9562_0242ac1c0002level0_row4\" class=\"row_heading level0 row4\" >Republic of Dagestan</th>\n",
              "                        <td id=\"T_f490ab5e_03cb_11eb_9562_0242ac1c0002row4_col0\" class=\"data row4 col0\" >2.000000</td>\n",
              "                        <td id=\"T_f490ab5e_03cb_11eb_9562_0242ac1c0002row4_col1\" class=\"data row4 col1\" >1.000000</td>\n",
              "                        <td id=\"T_f490ab5e_03cb_11eb_9562_0242ac1c0002row4_col2\" class=\"data row4 col2\" >1.000000</td>\n",
              "                        <td id=\"T_f490ab5e_03cb_11eb_9562_0242ac1c0002row4_col3\" class=\"data row4 col3\" >1.800000</td>\n",
              "                        <td id=\"T_f490ab5e_03cb_11eb_9562_0242ac1c0002row4_col4\" class=\"data row4 col4\" >4.900000</td>\n",
              "                        <td id=\"T_f490ab5e_03cb_11eb_9562_0242ac1c0002row4_col5\" class=\"data row4 col5\" >8.700000</td>\n",
              "                        <td id=\"T_f490ab5e_03cb_11eb_9562_0242ac1c0002row4_col6\" class=\"data row4 col6\" >9.500000</td>\n",
              "                        <td id=\"T_f490ab5e_03cb_11eb_9562_0242ac1c0002row4_col7\" class=\"data row4 col7\" >10.800000</td>\n",
              "                        <td id=\"T_f490ab5e_03cb_11eb_9562_0242ac1c0002row4_col8\" class=\"data row4 col8\" >11.700000</td>\n",
              "                        <td id=\"T_f490ab5e_03cb_11eb_9562_0242ac1c0002row4_col9\" class=\"data row4 col9\" >12.200000</td>\n",
              "                        <td id=\"T_f490ab5e_03cb_11eb_9562_0242ac1c0002row4_col10\" class=\"data row4 col10\" >12.900000</td>\n",
              "                        <td id=\"T_f490ab5e_03cb_11eb_9562_0242ac1c0002row4_col11\" class=\"data row4 col11\" >13.200000</td>\n",
              "                        <td id=\"T_f490ab5e_03cb_11eb_9562_0242ac1c0002row4_col12\" class=\"data row4 col12\" >10.200000</td>\n",
              "                        <td id=\"T_f490ab5e_03cb_11eb_9562_0242ac1c0002row4_col13\" class=\"data row4 col13\" >7.880000</td>\n",
              "                        <td id=\"T_f490ab5e_03cb_11eb_9562_0242ac1c0002row4_col14\" class=\"data row4 col14\" >8.000000</td>\n",
              "                        <td id=\"T_f490ab5e_03cb_11eb_9562_0242ac1c0002row4_col15\" class=\"data row4 col15\" >4.800000</td>\n",
              "                        <td id=\"T_f490ab5e_03cb_11eb_9562_0242ac1c0002row4_col16\" class=\"data row4 col16\" >2.900000</td>\n",
              "                        <td id=\"T_f490ab5e_03cb_11eb_9562_0242ac1c0002row4_col17\" class=\"data row4 col17\" >1.900000</td>\n",
              "                        <td id=\"T_f490ab5e_03cb_11eb_9562_0242ac1c0002row4_col18\" class=\"data row4 col18\" >2.200000</td>\n",
              "            </tr>\n",
              "    </tbody></table>"
            ],
            "text/plain": [
              "<pandas.io.formats.style.Styler at 0x7ffa00eec400>"
            ]
          },
          "metadata": {
            "tags": []
          },
          "execution_count": 44
        }
      ]
    },
    {
      "cell_type": "markdown",
      "metadata": {
        "id": "qGz4gQmnR3U2"
      },
      "source": [
        "К 2016 году ТОП регионов с самым низким потреблением водки изменился следующим образом.\n",
        "1. Северная Осетия - 0.4 литра\n",
        "2. Кабардино-Балкария - 0.5 литров\n",
        "3. Карачаево-Черкессия - 0.7 литров\n",
        "4. Дагестан - 2.2 литра\n",
        "5. Ставрапольский край - 2.3 литра\n",
        "\n",
        "Южные регионы России отличаются низким потреблением водки. Видна положительная динамика по уменьшению потребления водки в России с 1998 по 2016 года. \n",
        "\n",
        "За отчетный период снизилось потребление в регионе с самым высоким потреблением с 25.1 литра до 12.8 литров в год на душу населения. Минимальное потребление также значительно сократилось с 2 литров до 0.4 литра в год на душу населения."
      ]
    },
    {
      "cell_type": "markdown",
      "metadata": {
        "id": "VNLDK3tqYp-m"
      },
      "source": [
        "**ТОП 5 регионов по потреблению шампанского на душу населения**"
      ]
    },
    {
      "cell_type": "code",
      "metadata": {
        "id": "YCdCEWnjYvFr",
        "outputId": "5d0431d9-2edd-4e94-89c9-2add21184213",
        "colab": {
          "base_uri": "https://localhost:8080/",
          "height": 236
        }
      },
      "source": [
        "champagne_region = pd.pivot_table(df_filter, values='champagne', index='region', columns='year', aggfunc='sum')\n",
        "\n",
        "champagne_region.sort_values(by=1998, ascending=False).head(5).style.applymap(lambda x: \"background-color: #e65a71\" if x>df_region_mean['champagne'].mean() else \"background-color: white\")   "
      ],
      "execution_count": 45,
      "outputs": [
        {
          "output_type": "execute_result",
          "data": {
            "text/html": [
              "<style  type=\"text/css\" >\n",
              "#T_f49a7d3c_03cb_11eb_9562_0242ac1c0002row0_col0,#T_f49a7d3c_03cb_11eb_9562_0242ac1c0002row0_col1,#T_f49a7d3c_03cb_11eb_9562_0242ac1c0002row0_col2,#T_f49a7d3c_03cb_11eb_9562_0242ac1c0002row0_col3,#T_f49a7d3c_03cb_11eb_9562_0242ac1c0002row0_col4,#T_f49a7d3c_03cb_11eb_9562_0242ac1c0002row0_col5,#T_f49a7d3c_03cb_11eb_9562_0242ac1c0002row0_col6,#T_f49a7d3c_03cb_11eb_9562_0242ac1c0002row0_col7,#T_f49a7d3c_03cb_11eb_9562_0242ac1c0002row0_col8,#T_f49a7d3c_03cb_11eb_9562_0242ac1c0002row0_col9,#T_f49a7d3c_03cb_11eb_9562_0242ac1c0002row0_col10,#T_f49a7d3c_03cb_11eb_9562_0242ac1c0002row0_col11,#T_f49a7d3c_03cb_11eb_9562_0242ac1c0002row0_col12,#T_f49a7d3c_03cb_11eb_9562_0242ac1c0002row0_col13,#T_f49a7d3c_03cb_11eb_9562_0242ac1c0002row0_col14,#T_f49a7d3c_03cb_11eb_9562_0242ac1c0002row0_col15,#T_f49a7d3c_03cb_11eb_9562_0242ac1c0002row0_col16,#T_f49a7d3c_03cb_11eb_9562_0242ac1c0002row0_col17,#T_f49a7d3c_03cb_11eb_9562_0242ac1c0002row0_col18,#T_f49a7d3c_03cb_11eb_9562_0242ac1c0002row1_col0,#T_f49a7d3c_03cb_11eb_9562_0242ac1c0002row1_col1,#T_f49a7d3c_03cb_11eb_9562_0242ac1c0002row1_col2,#T_f49a7d3c_03cb_11eb_9562_0242ac1c0002row1_col3,#T_f49a7d3c_03cb_11eb_9562_0242ac1c0002row1_col4,#T_f49a7d3c_03cb_11eb_9562_0242ac1c0002row1_col5,#T_f49a7d3c_03cb_11eb_9562_0242ac1c0002row1_col6,#T_f49a7d3c_03cb_11eb_9562_0242ac1c0002row1_col7,#T_f49a7d3c_03cb_11eb_9562_0242ac1c0002row1_col8,#T_f49a7d3c_03cb_11eb_9562_0242ac1c0002row1_col9,#T_f49a7d3c_03cb_11eb_9562_0242ac1c0002row1_col10,#T_f49a7d3c_03cb_11eb_9562_0242ac1c0002row1_col11,#T_f49a7d3c_03cb_11eb_9562_0242ac1c0002row1_col12,#T_f49a7d3c_03cb_11eb_9562_0242ac1c0002row1_col13,#T_f49a7d3c_03cb_11eb_9562_0242ac1c0002row1_col14,#T_f49a7d3c_03cb_11eb_9562_0242ac1c0002row1_col15,#T_f49a7d3c_03cb_11eb_9562_0242ac1c0002row1_col16,#T_f49a7d3c_03cb_11eb_9562_0242ac1c0002row1_col17,#T_f49a7d3c_03cb_11eb_9562_0242ac1c0002row1_col18,#T_f49a7d3c_03cb_11eb_9562_0242ac1c0002row2_col0,#T_f49a7d3c_03cb_11eb_9562_0242ac1c0002row2_col1,#T_f49a7d3c_03cb_11eb_9562_0242ac1c0002row2_col2,#T_f49a7d3c_03cb_11eb_9562_0242ac1c0002row2_col3,#T_f49a7d3c_03cb_11eb_9562_0242ac1c0002row2_col4,#T_f49a7d3c_03cb_11eb_9562_0242ac1c0002row2_col5,#T_f49a7d3c_03cb_11eb_9562_0242ac1c0002row2_col6,#T_f49a7d3c_03cb_11eb_9562_0242ac1c0002row2_col7,#T_f49a7d3c_03cb_11eb_9562_0242ac1c0002row2_col8,#T_f49a7d3c_03cb_11eb_9562_0242ac1c0002row2_col9,#T_f49a7d3c_03cb_11eb_9562_0242ac1c0002row2_col10,#T_f49a7d3c_03cb_11eb_9562_0242ac1c0002row2_col11,#T_f49a7d3c_03cb_11eb_9562_0242ac1c0002row2_col12,#T_f49a7d3c_03cb_11eb_9562_0242ac1c0002row2_col13,#T_f49a7d3c_03cb_11eb_9562_0242ac1c0002row2_col14,#T_f49a7d3c_03cb_11eb_9562_0242ac1c0002row2_col15,#T_f49a7d3c_03cb_11eb_9562_0242ac1c0002row2_col16,#T_f49a7d3c_03cb_11eb_9562_0242ac1c0002row2_col17,#T_f49a7d3c_03cb_11eb_9562_0242ac1c0002row2_col18,#T_f49a7d3c_03cb_11eb_9562_0242ac1c0002row3_col0,#T_f49a7d3c_03cb_11eb_9562_0242ac1c0002row3_col1,#T_f49a7d3c_03cb_11eb_9562_0242ac1c0002row3_col2,#T_f49a7d3c_03cb_11eb_9562_0242ac1c0002row3_col9,#T_f49a7d3c_03cb_11eb_9562_0242ac1c0002row3_col10,#T_f49a7d3c_03cb_11eb_9562_0242ac1c0002row3_col11,#T_f49a7d3c_03cb_11eb_9562_0242ac1c0002row3_col12,#T_f49a7d3c_03cb_11eb_9562_0242ac1c0002row3_col13,#T_f49a7d3c_03cb_11eb_9562_0242ac1c0002row3_col14,#T_f49a7d3c_03cb_11eb_9562_0242ac1c0002row3_col15,#T_f49a7d3c_03cb_11eb_9562_0242ac1c0002row3_col16,#T_f49a7d3c_03cb_11eb_9562_0242ac1c0002row3_col17,#T_f49a7d3c_03cb_11eb_9562_0242ac1c0002row3_col18,#T_f49a7d3c_03cb_11eb_9562_0242ac1c0002row4_col0,#T_f49a7d3c_03cb_11eb_9562_0242ac1c0002row4_col2,#T_f49a7d3c_03cb_11eb_9562_0242ac1c0002row4_col9,#T_f49a7d3c_03cb_11eb_9562_0242ac1c0002row4_col10,#T_f49a7d3c_03cb_11eb_9562_0242ac1c0002row4_col11,#T_f49a7d3c_03cb_11eb_9562_0242ac1c0002row4_col12,#T_f49a7d3c_03cb_11eb_9562_0242ac1c0002row4_col13,#T_f49a7d3c_03cb_11eb_9562_0242ac1c0002row4_col14,#T_f49a7d3c_03cb_11eb_9562_0242ac1c0002row4_col15,#T_f49a7d3c_03cb_11eb_9562_0242ac1c0002row4_col16{\n",
              "            background-color:  #e65a71;\n",
              "        }#T_f49a7d3c_03cb_11eb_9562_0242ac1c0002row3_col3,#T_f49a7d3c_03cb_11eb_9562_0242ac1c0002row3_col4,#T_f49a7d3c_03cb_11eb_9562_0242ac1c0002row3_col5,#T_f49a7d3c_03cb_11eb_9562_0242ac1c0002row3_col6,#T_f49a7d3c_03cb_11eb_9562_0242ac1c0002row3_col7,#T_f49a7d3c_03cb_11eb_9562_0242ac1c0002row3_col8,#T_f49a7d3c_03cb_11eb_9562_0242ac1c0002row4_col1,#T_f49a7d3c_03cb_11eb_9562_0242ac1c0002row4_col3,#T_f49a7d3c_03cb_11eb_9562_0242ac1c0002row4_col4,#T_f49a7d3c_03cb_11eb_9562_0242ac1c0002row4_col5,#T_f49a7d3c_03cb_11eb_9562_0242ac1c0002row4_col6,#T_f49a7d3c_03cb_11eb_9562_0242ac1c0002row4_col7,#T_f49a7d3c_03cb_11eb_9562_0242ac1c0002row4_col8,#T_f49a7d3c_03cb_11eb_9562_0242ac1c0002row4_col17,#T_f49a7d3c_03cb_11eb_9562_0242ac1c0002row4_col18{\n",
              "            background-color:  white;\n",
              "        }</style><table id=\"T_f49a7d3c_03cb_11eb_9562_0242ac1c0002\" ><thead>    <tr>        <th class=\"index_name level0\" >year</th>        <th class=\"col_heading level0 col0\" >1998</th>        <th class=\"col_heading level0 col1\" >1999</th>        <th class=\"col_heading level0 col2\" >2000</th>        <th class=\"col_heading level0 col3\" >2001</th>        <th class=\"col_heading level0 col4\" >2002</th>        <th class=\"col_heading level0 col5\" >2003</th>        <th class=\"col_heading level0 col6\" >2004</th>        <th class=\"col_heading level0 col7\" >2005</th>        <th class=\"col_heading level0 col8\" >2006</th>        <th class=\"col_heading level0 col9\" >2007</th>        <th class=\"col_heading level0 col10\" >2008</th>        <th class=\"col_heading level0 col11\" >2009</th>        <th class=\"col_heading level0 col12\" >2010</th>        <th class=\"col_heading level0 col13\" >2011</th>        <th class=\"col_heading level0 col14\" >2012</th>        <th class=\"col_heading level0 col15\" >2013</th>        <th class=\"col_heading level0 col16\" >2014</th>        <th class=\"col_heading level0 col17\" >2015</th>        <th class=\"col_heading level0 col18\" >2016</th>    </tr>    <tr>        <th class=\"index_name level0\" >region</th>        <th class=\"blank\" ></th>        <th class=\"blank\" ></th>        <th class=\"blank\" ></th>        <th class=\"blank\" ></th>        <th class=\"blank\" ></th>        <th class=\"blank\" ></th>        <th class=\"blank\" ></th>        <th class=\"blank\" ></th>        <th class=\"blank\" ></th>        <th class=\"blank\" ></th>        <th class=\"blank\" ></th>        <th class=\"blank\" ></th>        <th class=\"blank\" ></th>        <th class=\"blank\" ></th>        <th class=\"blank\" ></th>        <th class=\"blank\" ></th>        <th class=\"blank\" ></th>        <th class=\"blank\" ></th>        <th class=\"blank\" ></th>    </tr></thead><tbody>\n",
              "                <tr>\n",
              "                        <th id=\"T_f49a7d3c_03cb_11eb_9562_0242ac1c0002level0_row0\" class=\"row_heading level0 row0\" >Moscow</th>\n",
              "                        <td id=\"T_f49a7d3c_03cb_11eb_9562_0242ac1c0002row0_col0\" class=\"data row0 col0\" >3.500000</td>\n",
              "                        <td id=\"T_f49a7d3c_03cb_11eb_9562_0242ac1c0002row0_col1\" class=\"data row0 col1\" >3.600000</td>\n",
              "                        <td id=\"T_f49a7d3c_03cb_11eb_9562_0242ac1c0002row0_col2\" class=\"data row0 col2\" >3.900000</td>\n",
              "                        <td id=\"T_f49a7d3c_03cb_11eb_9562_0242ac1c0002row0_col3\" class=\"data row0 col3\" >4.200000</td>\n",
              "                        <td id=\"T_f49a7d3c_03cb_11eb_9562_0242ac1c0002row0_col4\" class=\"data row0 col4\" >4.000000</td>\n",
              "                        <td id=\"T_f49a7d3c_03cb_11eb_9562_0242ac1c0002row0_col5\" class=\"data row0 col5\" >4.100000</td>\n",
              "                        <td id=\"T_f49a7d3c_03cb_11eb_9562_0242ac1c0002row0_col6\" class=\"data row0 col6\" >3.800000</td>\n",
              "                        <td id=\"T_f49a7d3c_03cb_11eb_9562_0242ac1c0002row0_col7\" class=\"data row0 col7\" >3.700000</td>\n",
              "                        <td id=\"T_f49a7d3c_03cb_11eb_9562_0242ac1c0002row0_col8\" class=\"data row0 col8\" >4.200000</td>\n",
              "                        <td id=\"T_f49a7d3c_03cb_11eb_9562_0242ac1c0002row0_col9\" class=\"data row0 col9\" >4.800000</td>\n",
              "                        <td id=\"T_f49a7d3c_03cb_11eb_9562_0242ac1c0002row0_col10\" class=\"data row0 col10\" >5.000000</td>\n",
              "                        <td id=\"T_f49a7d3c_03cb_11eb_9562_0242ac1c0002row0_col11\" class=\"data row0 col11\" >4.800000</td>\n",
              "                        <td id=\"T_f49a7d3c_03cb_11eb_9562_0242ac1c0002row0_col12\" class=\"data row0 col12\" >4.900000</td>\n",
              "                        <td id=\"T_f49a7d3c_03cb_11eb_9562_0242ac1c0002row0_col13\" class=\"data row0 col13\" >5.140000</td>\n",
              "                        <td id=\"T_f49a7d3c_03cb_11eb_9562_0242ac1c0002row0_col14\" class=\"data row0 col14\" >5.000000</td>\n",
              "                        <td id=\"T_f49a7d3c_03cb_11eb_9562_0242ac1c0002row0_col15\" class=\"data row0 col15\" >5.100000</td>\n",
              "                        <td id=\"T_f49a7d3c_03cb_11eb_9562_0242ac1c0002row0_col16\" class=\"data row0 col16\" >5.100000</td>\n",
              "                        <td id=\"T_f49a7d3c_03cb_11eb_9562_0242ac1c0002row0_col17\" class=\"data row0 col17\" >4.500000</td>\n",
              "                        <td id=\"T_f49a7d3c_03cb_11eb_9562_0242ac1c0002row0_col18\" class=\"data row0 col18\" >4.000000</td>\n",
              "            </tr>\n",
              "            <tr>\n",
              "                        <th id=\"T_f49a7d3c_03cb_11eb_9562_0242ac1c0002level0_row1\" class=\"row_heading level0 row1\" >Magadan Oblast</th>\n",
              "                        <td id=\"T_f49a7d3c_03cb_11eb_9562_0242ac1c0002row1_col0\" class=\"data row1 col0\" >2.100000</td>\n",
              "                        <td id=\"T_f49a7d3c_03cb_11eb_9562_0242ac1c0002row1_col1\" class=\"data row1 col1\" >1.700000</td>\n",
              "                        <td id=\"T_f49a7d3c_03cb_11eb_9562_0242ac1c0002row1_col2\" class=\"data row1 col2\" >1.800000</td>\n",
              "                        <td id=\"T_f49a7d3c_03cb_11eb_9562_0242ac1c0002row1_col3\" class=\"data row1 col3\" >1.400000</td>\n",
              "                        <td id=\"T_f49a7d3c_03cb_11eb_9562_0242ac1c0002row1_col4\" class=\"data row1 col4\" >1.400000</td>\n",
              "                        <td id=\"T_f49a7d3c_03cb_11eb_9562_0242ac1c0002row1_col5\" class=\"data row1 col5\" >1.800000</td>\n",
              "                        <td id=\"T_f49a7d3c_03cb_11eb_9562_0242ac1c0002row1_col6\" class=\"data row1 col6\" >1.900000</td>\n",
              "                        <td id=\"T_f49a7d3c_03cb_11eb_9562_0242ac1c0002row1_col7\" class=\"data row1 col7\" >2.000000</td>\n",
              "                        <td id=\"T_f49a7d3c_03cb_11eb_9562_0242ac1c0002row1_col8\" class=\"data row1 col8\" >2.500000</td>\n",
              "                        <td id=\"T_f49a7d3c_03cb_11eb_9562_0242ac1c0002row1_col9\" class=\"data row1 col9\" >3.200000</td>\n",
              "                        <td id=\"T_f49a7d3c_03cb_11eb_9562_0242ac1c0002row1_col10\" class=\"data row1 col10\" >3.600000</td>\n",
              "                        <td id=\"T_f49a7d3c_03cb_11eb_9562_0242ac1c0002row1_col11\" class=\"data row1 col11\" >3.800000</td>\n",
              "                        <td id=\"T_f49a7d3c_03cb_11eb_9562_0242ac1c0002row1_col12\" class=\"data row1 col12\" >4.000000</td>\n",
              "                        <td id=\"T_f49a7d3c_03cb_11eb_9562_0242ac1c0002row1_col13\" class=\"data row1 col13\" >4.060000</td>\n",
              "                        <td id=\"T_f49a7d3c_03cb_11eb_9562_0242ac1c0002row1_col14\" class=\"data row1 col14\" >4.900000</td>\n",
              "                        <td id=\"T_f49a7d3c_03cb_11eb_9562_0242ac1c0002row1_col15\" class=\"data row1 col15\" >4.300000</td>\n",
              "                        <td id=\"T_f49a7d3c_03cb_11eb_9562_0242ac1c0002row1_col16\" class=\"data row1 col16\" >4.300000</td>\n",
              "                        <td id=\"T_f49a7d3c_03cb_11eb_9562_0242ac1c0002row1_col17\" class=\"data row1 col17\" >3.900000</td>\n",
              "                        <td id=\"T_f49a7d3c_03cb_11eb_9562_0242ac1c0002row1_col18\" class=\"data row1 col18\" >3.100000</td>\n",
              "            </tr>\n",
              "            <tr>\n",
              "                        <th id=\"T_f49a7d3c_03cb_11eb_9562_0242ac1c0002level0_row2\" class=\"row_heading level0 row2\" >Sevastopol</th>\n",
              "                        <td id=\"T_f49a7d3c_03cb_11eb_9562_0242ac1c0002row2_col0\" class=\"data row2 col0\" >1.966667</td>\n",
              "                        <td id=\"T_f49a7d3c_03cb_11eb_9562_0242ac1c0002row2_col1\" class=\"data row2 col1\" >1.966667</td>\n",
              "                        <td id=\"T_f49a7d3c_03cb_11eb_9562_0242ac1c0002row2_col2\" class=\"data row2 col2\" >1.966667</td>\n",
              "                        <td id=\"T_f49a7d3c_03cb_11eb_9562_0242ac1c0002row2_col3\" class=\"data row2 col3\" >1.966667</td>\n",
              "                        <td id=\"T_f49a7d3c_03cb_11eb_9562_0242ac1c0002row2_col4\" class=\"data row2 col4\" >1.966667</td>\n",
              "                        <td id=\"T_f49a7d3c_03cb_11eb_9562_0242ac1c0002row2_col5\" class=\"data row2 col5\" >1.966667</td>\n",
              "                        <td id=\"T_f49a7d3c_03cb_11eb_9562_0242ac1c0002row2_col6\" class=\"data row2 col6\" >1.966667</td>\n",
              "                        <td id=\"T_f49a7d3c_03cb_11eb_9562_0242ac1c0002row2_col7\" class=\"data row2 col7\" >1.966667</td>\n",
              "                        <td id=\"T_f49a7d3c_03cb_11eb_9562_0242ac1c0002row2_col8\" class=\"data row2 col8\" >1.966667</td>\n",
              "                        <td id=\"T_f49a7d3c_03cb_11eb_9562_0242ac1c0002row2_col9\" class=\"data row2 col9\" >1.966667</td>\n",
              "                        <td id=\"T_f49a7d3c_03cb_11eb_9562_0242ac1c0002row2_col10\" class=\"data row2 col10\" >1.966667</td>\n",
              "                        <td id=\"T_f49a7d3c_03cb_11eb_9562_0242ac1c0002row2_col11\" class=\"data row2 col11\" >1.966667</td>\n",
              "                        <td id=\"T_f49a7d3c_03cb_11eb_9562_0242ac1c0002row2_col12\" class=\"data row2 col12\" >1.966667</td>\n",
              "                        <td id=\"T_f49a7d3c_03cb_11eb_9562_0242ac1c0002row2_col13\" class=\"data row2 col13\" >1.966667</td>\n",
              "                        <td id=\"T_f49a7d3c_03cb_11eb_9562_0242ac1c0002row2_col14\" class=\"data row2 col14\" >1.966667</td>\n",
              "                        <td id=\"T_f49a7d3c_03cb_11eb_9562_0242ac1c0002row2_col15\" class=\"data row2 col15\" >1.966667</td>\n",
              "                        <td id=\"T_f49a7d3c_03cb_11eb_9562_0242ac1c0002row2_col16\" class=\"data row2 col16\" >2.100000</td>\n",
              "                        <td id=\"T_f49a7d3c_03cb_11eb_9562_0242ac1c0002row2_col17\" class=\"data row2 col17\" >2.000000</td>\n",
              "                        <td id=\"T_f49a7d3c_03cb_11eb_9562_0242ac1c0002row2_col18\" class=\"data row2 col18\" >1.800000</td>\n",
              "            </tr>\n",
              "            <tr>\n",
              "                        <th id=\"T_f49a7d3c_03cb_11eb_9562_0242ac1c0002level0_row3\" class=\"row_heading level0 row3\" >Komi Republic</th>\n",
              "                        <td id=\"T_f49a7d3c_03cb_11eb_9562_0242ac1c0002row3_col0\" class=\"data row3 col0\" >1.900000</td>\n",
              "                        <td id=\"T_f49a7d3c_03cb_11eb_9562_0242ac1c0002row3_col1\" class=\"data row3 col1\" >2.500000</td>\n",
              "                        <td id=\"T_f49a7d3c_03cb_11eb_9562_0242ac1c0002row3_col2\" class=\"data row3 col2\" >1.900000</td>\n",
              "                        <td id=\"T_f49a7d3c_03cb_11eb_9562_0242ac1c0002row3_col3\" class=\"data row3 col3\" >0.800000</td>\n",
              "                        <td id=\"T_f49a7d3c_03cb_11eb_9562_0242ac1c0002row3_col4\" class=\"data row3 col4\" >0.900000</td>\n",
              "                        <td id=\"T_f49a7d3c_03cb_11eb_9562_0242ac1c0002row3_col5\" class=\"data row3 col5\" >0.800000</td>\n",
              "                        <td id=\"T_f49a7d3c_03cb_11eb_9562_0242ac1c0002row3_col6\" class=\"data row3 col6\" >1.100000</td>\n",
              "                        <td id=\"T_f49a7d3c_03cb_11eb_9562_0242ac1c0002row3_col7\" class=\"data row3 col7\" >1.200000</td>\n",
              "                        <td id=\"T_f49a7d3c_03cb_11eb_9562_0242ac1c0002row3_col8\" class=\"data row3 col8\" >1.300000</td>\n",
              "                        <td id=\"T_f49a7d3c_03cb_11eb_9562_0242ac1c0002row3_col9\" class=\"data row3 col9\" >1.800000</td>\n",
              "                        <td id=\"T_f49a7d3c_03cb_11eb_9562_0242ac1c0002row3_col10\" class=\"data row3 col10\" >1.800000</td>\n",
              "                        <td id=\"T_f49a7d3c_03cb_11eb_9562_0242ac1c0002row3_col11\" class=\"data row3 col11\" >1.900000</td>\n",
              "                        <td id=\"T_f49a7d3c_03cb_11eb_9562_0242ac1c0002row3_col12\" class=\"data row3 col12\" >2.200000</td>\n",
              "                        <td id=\"T_f49a7d3c_03cb_11eb_9562_0242ac1c0002row3_col13\" class=\"data row3 col13\" >2.250000</td>\n",
              "                        <td id=\"T_f49a7d3c_03cb_11eb_9562_0242ac1c0002row3_col14\" class=\"data row3 col14\" >2.200000</td>\n",
              "                        <td id=\"T_f49a7d3c_03cb_11eb_9562_0242ac1c0002row3_col15\" class=\"data row3 col15\" >2.400000</td>\n",
              "                        <td id=\"T_f49a7d3c_03cb_11eb_9562_0242ac1c0002row3_col16\" class=\"data row3 col16\" >2.000000</td>\n",
              "                        <td id=\"T_f49a7d3c_03cb_11eb_9562_0242ac1c0002row3_col17\" class=\"data row3 col17\" >1.700000</td>\n",
              "                        <td id=\"T_f49a7d3c_03cb_11eb_9562_0242ac1c0002row3_col18\" class=\"data row3 col18\" >1.600000</td>\n",
              "            </tr>\n",
              "            <tr>\n",
              "                        <th id=\"T_f49a7d3c_03cb_11eb_9562_0242ac1c0002level0_row4\" class=\"row_heading level0 row4\" >Samara Oblast</th>\n",
              "                        <td id=\"T_f49a7d3c_03cb_11eb_9562_0242ac1c0002row4_col0\" class=\"data row4 col0\" >1.800000</td>\n",
              "                        <td id=\"T_f49a7d3c_03cb_11eb_9562_0242ac1c0002row4_col1\" class=\"data row4 col1\" >1.300000</td>\n",
              "                        <td id=\"T_f49a7d3c_03cb_11eb_9562_0242ac1c0002row4_col2\" class=\"data row4 col2\" >1.500000</td>\n",
              "                        <td id=\"T_f49a7d3c_03cb_11eb_9562_0242ac1c0002row4_col3\" class=\"data row4 col3\" >1.000000</td>\n",
              "                        <td id=\"T_f49a7d3c_03cb_11eb_9562_0242ac1c0002row4_col4\" class=\"data row4 col4\" >1.200000</td>\n",
              "                        <td id=\"T_f49a7d3c_03cb_11eb_9562_0242ac1c0002row4_col5\" class=\"data row4 col5\" >1.100000</td>\n",
              "                        <td id=\"T_f49a7d3c_03cb_11eb_9562_0242ac1c0002row4_col6\" class=\"data row4 col6\" >1.100000</td>\n",
              "                        <td id=\"T_f49a7d3c_03cb_11eb_9562_0242ac1c0002row4_col7\" class=\"data row4 col7\" >0.900000</td>\n",
              "                        <td id=\"T_f49a7d3c_03cb_11eb_9562_0242ac1c0002row4_col8\" class=\"data row4 col8\" >1.300000</td>\n",
              "                        <td id=\"T_f49a7d3c_03cb_11eb_9562_0242ac1c0002row4_col9\" class=\"data row4 col9\" >1.400000</td>\n",
              "                        <td id=\"T_f49a7d3c_03cb_11eb_9562_0242ac1c0002row4_col10\" class=\"data row4 col10\" >1.700000</td>\n",
              "                        <td id=\"T_f49a7d3c_03cb_11eb_9562_0242ac1c0002row4_col11\" class=\"data row4 col11\" >1.500000</td>\n",
              "                        <td id=\"T_f49a7d3c_03cb_11eb_9562_0242ac1c0002row4_col12\" class=\"data row4 col12\" >1.900000</td>\n",
              "                        <td id=\"T_f49a7d3c_03cb_11eb_9562_0242ac1c0002row4_col13\" class=\"data row4 col13\" >2.380000</td>\n",
              "                        <td id=\"T_f49a7d3c_03cb_11eb_9562_0242ac1c0002row4_col14\" class=\"data row4 col14\" >1.900000</td>\n",
              "                        <td id=\"T_f49a7d3c_03cb_11eb_9562_0242ac1c0002row4_col15\" class=\"data row4 col15\" >1.900000</td>\n",
              "                        <td id=\"T_f49a7d3c_03cb_11eb_9562_0242ac1c0002row4_col16\" class=\"data row4 col16\" >1.700000</td>\n",
              "                        <td id=\"T_f49a7d3c_03cb_11eb_9562_0242ac1c0002row4_col17\" class=\"data row4 col17\" >1.300000</td>\n",
              "                        <td id=\"T_f49a7d3c_03cb_11eb_9562_0242ac1c0002row4_col18\" class=\"data row4 col18\" >1.200000</td>\n",
              "            </tr>\n",
              "    </tbody></table>"
            ],
            "text/plain": [
              "<pandas.io.formats.style.Styler at 0x7ffa00e472b0>"
            ]
          },
          "metadata": {
            "tags": []
          },
          "execution_count": 45
        }
      ]
    },
    {
      "cell_type": "markdown",
      "metadata": {
        "id": "YHYsop3TYv9p"
      },
      "source": [
        "Потребление шампанского в России в 1998 году было значительно меньше, чем других рассматриваемых выше напитков.\n",
        "\n",
        "ТОП-5 регионов с самым высоким потреблением шампанского в 1998 году.\n",
        "1. Московская область - 3.5 литра\n",
        "2. Магадан - 2.1 литра\n",
        "3. Севастополь - 1.9 литра\n",
        "4. Коми - 1.9 литра\n",
        "5. Самарская область - 1.8 литров\n",
        "\n",
        "Выглядит логичным нахождение Москвы на первом месте по потреблению шампанского, как региона с самым высоким уровнем жизни населения. На втором месте расположился Магадан, который подтверждает пока званием самого пьющего региона России и по остальным типам напитков.\n",
        "\n",
        "С течением времени потребление шампанского в процентном отношении менялось, но в цифровом значении относительно других типов напитков изменения были незначительные. Средние значения по России за отчетный период менялись от 0,9 литров в 1998 году до 1,3 литров в 2016 с пиком на 2011-2012 годы - 1,8 литров на человека в год."
      ]
    },
    {
      "cell_type": "code",
      "metadata": {
        "id": "LhvOD3RHYwTr",
        "outputId": "5de98775-6ce2-4783-e40f-2d04785ff58f",
        "colab": {
          "base_uri": "https://localhost:8080/",
          "height": 253
        }
      },
      "source": [
        "champagne_region = pd.pivot_table(df_filter, values='champagne', index='region', columns='year', aggfunc='sum')\n",
        "champagne_region.sort_values(by=2016, ascending=False).head(5).style.applymap(lambda x: \"background-color: #e65a71\" if x>df_region_mean['champagne'].mean() else \"background-color: white\")"
      ],
      "execution_count": 46,
      "outputs": [
        {
          "output_type": "execute_result",
          "data": {
            "text/html": [
              "<style  type=\"text/css\" >\n",
              "#T_f4a3cd38_03cb_11eb_9562_0242ac1c0002row0_col0,#T_f4a3cd38_03cb_11eb_9562_0242ac1c0002row0_col1,#T_f4a3cd38_03cb_11eb_9562_0242ac1c0002row0_col2,#T_f4a3cd38_03cb_11eb_9562_0242ac1c0002row0_col3,#T_f4a3cd38_03cb_11eb_9562_0242ac1c0002row0_col4,#T_f4a3cd38_03cb_11eb_9562_0242ac1c0002row0_col5,#T_f4a3cd38_03cb_11eb_9562_0242ac1c0002row0_col6,#T_f4a3cd38_03cb_11eb_9562_0242ac1c0002row0_col7,#T_f4a3cd38_03cb_11eb_9562_0242ac1c0002row0_col8,#T_f4a3cd38_03cb_11eb_9562_0242ac1c0002row0_col9,#T_f4a3cd38_03cb_11eb_9562_0242ac1c0002row0_col10,#T_f4a3cd38_03cb_11eb_9562_0242ac1c0002row0_col11,#T_f4a3cd38_03cb_11eb_9562_0242ac1c0002row0_col12,#T_f4a3cd38_03cb_11eb_9562_0242ac1c0002row0_col13,#T_f4a3cd38_03cb_11eb_9562_0242ac1c0002row0_col14,#T_f4a3cd38_03cb_11eb_9562_0242ac1c0002row0_col15,#T_f4a3cd38_03cb_11eb_9562_0242ac1c0002row0_col16,#T_f4a3cd38_03cb_11eb_9562_0242ac1c0002row0_col17,#T_f4a3cd38_03cb_11eb_9562_0242ac1c0002row0_col18,#T_f4a3cd38_03cb_11eb_9562_0242ac1c0002row1_col5,#T_f4a3cd38_03cb_11eb_9562_0242ac1c0002row1_col6,#T_f4a3cd38_03cb_11eb_9562_0242ac1c0002row1_col7,#T_f4a3cd38_03cb_11eb_9562_0242ac1c0002row1_col8,#T_f4a3cd38_03cb_11eb_9562_0242ac1c0002row1_col9,#T_f4a3cd38_03cb_11eb_9562_0242ac1c0002row1_col10,#T_f4a3cd38_03cb_11eb_9562_0242ac1c0002row1_col11,#T_f4a3cd38_03cb_11eb_9562_0242ac1c0002row1_col12,#T_f4a3cd38_03cb_11eb_9562_0242ac1c0002row1_col13,#T_f4a3cd38_03cb_11eb_9562_0242ac1c0002row1_col14,#T_f4a3cd38_03cb_11eb_9562_0242ac1c0002row1_col15,#T_f4a3cd38_03cb_11eb_9562_0242ac1c0002row1_col16,#T_f4a3cd38_03cb_11eb_9562_0242ac1c0002row1_col17,#T_f4a3cd38_03cb_11eb_9562_0242ac1c0002row1_col18,#T_f4a3cd38_03cb_11eb_9562_0242ac1c0002row2_col4,#T_f4a3cd38_03cb_11eb_9562_0242ac1c0002row2_col5,#T_f4a3cd38_03cb_11eb_9562_0242ac1c0002row2_col6,#T_f4a3cd38_03cb_11eb_9562_0242ac1c0002row2_col7,#T_f4a3cd38_03cb_11eb_9562_0242ac1c0002row2_col8,#T_f4a3cd38_03cb_11eb_9562_0242ac1c0002row2_col9,#T_f4a3cd38_03cb_11eb_9562_0242ac1c0002row2_col10,#T_f4a3cd38_03cb_11eb_9562_0242ac1c0002row2_col11,#T_f4a3cd38_03cb_11eb_9562_0242ac1c0002row2_col12,#T_f4a3cd38_03cb_11eb_9562_0242ac1c0002row2_col13,#T_f4a3cd38_03cb_11eb_9562_0242ac1c0002row2_col14,#T_f4a3cd38_03cb_11eb_9562_0242ac1c0002row2_col15,#T_f4a3cd38_03cb_11eb_9562_0242ac1c0002row2_col16,#T_f4a3cd38_03cb_11eb_9562_0242ac1c0002row2_col17,#T_f4a3cd38_03cb_11eb_9562_0242ac1c0002row2_col18,#T_f4a3cd38_03cb_11eb_9562_0242ac1c0002row3_col0,#T_f4a3cd38_03cb_11eb_9562_0242ac1c0002row3_col1,#T_f4a3cd38_03cb_11eb_9562_0242ac1c0002row3_col2,#T_f4a3cd38_03cb_11eb_9562_0242ac1c0002row3_col3,#T_f4a3cd38_03cb_11eb_9562_0242ac1c0002row3_col4,#T_f4a3cd38_03cb_11eb_9562_0242ac1c0002row3_col5,#T_f4a3cd38_03cb_11eb_9562_0242ac1c0002row3_col6,#T_f4a3cd38_03cb_11eb_9562_0242ac1c0002row3_col7,#T_f4a3cd38_03cb_11eb_9562_0242ac1c0002row3_col8,#T_f4a3cd38_03cb_11eb_9562_0242ac1c0002row3_col9,#T_f4a3cd38_03cb_11eb_9562_0242ac1c0002row3_col10,#T_f4a3cd38_03cb_11eb_9562_0242ac1c0002row3_col11,#T_f4a3cd38_03cb_11eb_9562_0242ac1c0002row3_col12,#T_f4a3cd38_03cb_11eb_9562_0242ac1c0002row3_col13,#T_f4a3cd38_03cb_11eb_9562_0242ac1c0002row3_col14,#T_f4a3cd38_03cb_11eb_9562_0242ac1c0002row3_col15,#T_f4a3cd38_03cb_11eb_9562_0242ac1c0002row3_col16,#T_f4a3cd38_03cb_11eb_9562_0242ac1c0002row3_col17,#T_f4a3cd38_03cb_11eb_9562_0242ac1c0002row3_col18,#T_f4a3cd38_03cb_11eb_9562_0242ac1c0002row4_col0,#T_f4a3cd38_03cb_11eb_9562_0242ac1c0002row4_col8,#T_f4a3cd38_03cb_11eb_9562_0242ac1c0002row4_col9,#T_f4a3cd38_03cb_11eb_9562_0242ac1c0002row4_col10,#T_f4a3cd38_03cb_11eb_9562_0242ac1c0002row4_col11,#T_f4a3cd38_03cb_11eb_9562_0242ac1c0002row4_col12,#T_f4a3cd38_03cb_11eb_9562_0242ac1c0002row4_col13,#T_f4a3cd38_03cb_11eb_9562_0242ac1c0002row4_col14,#T_f4a3cd38_03cb_11eb_9562_0242ac1c0002row4_col15,#T_f4a3cd38_03cb_11eb_9562_0242ac1c0002row4_col16,#T_f4a3cd38_03cb_11eb_9562_0242ac1c0002row4_col17,#T_f4a3cd38_03cb_11eb_9562_0242ac1c0002row4_col18{\n",
              "            background-color:  #e65a71;\n",
              "        }#T_f4a3cd38_03cb_11eb_9562_0242ac1c0002row1_col0,#T_f4a3cd38_03cb_11eb_9562_0242ac1c0002row1_col1,#T_f4a3cd38_03cb_11eb_9562_0242ac1c0002row1_col2,#T_f4a3cd38_03cb_11eb_9562_0242ac1c0002row1_col3,#T_f4a3cd38_03cb_11eb_9562_0242ac1c0002row1_col4,#T_f4a3cd38_03cb_11eb_9562_0242ac1c0002row2_col0,#T_f4a3cd38_03cb_11eb_9562_0242ac1c0002row2_col1,#T_f4a3cd38_03cb_11eb_9562_0242ac1c0002row2_col2,#T_f4a3cd38_03cb_11eb_9562_0242ac1c0002row2_col3,#T_f4a3cd38_03cb_11eb_9562_0242ac1c0002row4_col1,#T_f4a3cd38_03cb_11eb_9562_0242ac1c0002row4_col2,#T_f4a3cd38_03cb_11eb_9562_0242ac1c0002row4_col3,#T_f4a3cd38_03cb_11eb_9562_0242ac1c0002row4_col4,#T_f4a3cd38_03cb_11eb_9562_0242ac1c0002row4_col5,#T_f4a3cd38_03cb_11eb_9562_0242ac1c0002row4_col6,#T_f4a3cd38_03cb_11eb_9562_0242ac1c0002row4_col7{\n",
              "            background-color:  white;\n",
              "        }</style><table id=\"T_f4a3cd38_03cb_11eb_9562_0242ac1c0002\" ><thead>    <tr>        <th class=\"index_name level0\" >year</th>        <th class=\"col_heading level0 col0\" >1998</th>        <th class=\"col_heading level0 col1\" >1999</th>        <th class=\"col_heading level0 col2\" >2000</th>        <th class=\"col_heading level0 col3\" >2001</th>        <th class=\"col_heading level0 col4\" >2002</th>        <th class=\"col_heading level0 col5\" >2003</th>        <th class=\"col_heading level0 col6\" >2004</th>        <th class=\"col_heading level0 col7\" >2005</th>        <th class=\"col_heading level0 col8\" >2006</th>        <th class=\"col_heading level0 col9\" >2007</th>        <th class=\"col_heading level0 col10\" >2008</th>        <th class=\"col_heading level0 col11\" >2009</th>        <th class=\"col_heading level0 col12\" >2010</th>        <th class=\"col_heading level0 col13\" >2011</th>        <th class=\"col_heading level0 col14\" >2012</th>        <th class=\"col_heading level0 col15\" >2013</th>        <th class=\"col_heading level0 col16\" >2014</th>        <th class=\"col_heading level0 col17\" >2015</th>        <th class=\"col_heading level0 col18\" >2016</th>    </tr>    <tr>        <th class=\"index_name level0\" >region</th>        <th class=\"blank\" ></th>        <th class=\"blank\" ></th>        <th class=\"blank\" ></th>        <th class=\"blank\" ></th>        <th class=\"blank\" ></th>        <th class=\"blank\" ></th>        <th class=\"blank\" ></th>        <th class=\"blank\" ></th>        <th class=\"blank\" ></th>        <th class=\"blank\" ></th>        <th class=\"blank\" ></th>        <th class=\"blank\" ></th>        <th class=\"blank\" ></th>        <th class=\"blank\" ></th>        <th class=\"blank\" ></th>        <th class=\"blank\" ></th>        <th class=\"blank\" ></th>        <th class=\"blank\" ></th>        <th class=\"blank\" ></th>    </tr></thead><tbody>\n",
              "                <tr>\n",
              "                        <th id=\"T_f4a3cd38_03cb_11eb_9562_0242ac1c0002level0_row0\" class=\"row_heading level0 row0\" >Moscow</th>\n",
              "                        <td id=\"T_f4a3cd38_03cb_11eb_9562_0242ac1c0002row0_col0\" class=\"data row0 col0\" >3.500000</td>\n",
              "                        <td id=\"T_f4a3cd38_03cb_11eb_9562_0242ac1c0002row0_col1\" class=\"data row0 col1\" >3.600000</td>\n",
              "                        <td id=\"T_f4a3cd38_03cb_11eb_9562_0242ac1c0002row0_col2\" class=\"data row0 col2\" >3.900000</td>\n",
              "                        <td id=\"T_f4a3cd38_03cb_11eb_9562_0242ac1c0002row0_col3\" class=\"data row0 col3\" >4.200000</td>\n",
              "                        <td id=\"T_f4a3cd38_03cb_11eb_9562_0242ac1c0002row0_col4\" class=\"data row0 col4\" >4.000000</td>\n",
              "                        <td id=\"T_f4a3cd38_03cb_11eb_9562_0242ac1c0002row0_col5\" class=\"data row0 col5\" >4.100000</td>\n",
              "                        <td id=\"T_f4a3cd38_03cb_11eb_9562_0242ac1c0002row0_col6\" class=\"data row0 col6\" >3.800000</td>\n",
              "                        <td id=\"T_f4a3cd38_03cb_11eb_9562_0242ac1c0002row0_col7\" class=\"data row0 col7\" >3.700000</td>\n",
              "                        <td id=\"T_f4a3cd38_03cb_11eb_9562_0242ac1c0002row0_col8\" class=\"data row0 col8\" >4.200000</td>\n",
              "                        <td id=\"T_f4a3cd38_03cb_11eb_9562_0242ac1c0002row0_col9\" class=\"data row0 col9\" >4.800000</td>\n",
              "                        <td id=\"T_f4a3cd38_03cb_11eb_9562_0242ac1c0002row0_col10\" class=\"data row0 col10\" >5.000000</td>\n",
              "                        <td id=\"T_f4a3cd38_03cb_11eb_9562_0242ac1c0002row0_col11\" class=\"data row0 col11\" >4.800000</td>\n",
              "                        <td id=\"T_f4a3cd38_03cb_11eb_9562_0242ac1c0002row0_col12\" class=\"data row0 col12\" >4.900000</td>\n",
              "                        <td id=\"T_f4a3cd38_03cb_11eb_9562_0242ac1c0002row0_col13\" class=\"data row0 col13\" >5.140000</td>\n",
              "                        <td id=\"T_f4a3cd38_03cb_11eb_9562_0242ac1c0002row0_col14\" class=\"data row0 col14\" >5.000000</td>\n",
              "                        <td id=\"T_f4a3cd38_03cb_11eb_9562_0242ac1c0002row0_col15\" class=\"data row0 col15\" >5.100000</td>\n",
              "                        <td id=\"T_f4a3cd38_03cb_11eb_9562_0242ac1c0002row0_col16\" class=\"data row0 col16\" >5.100000</td>\n",
              "                        <td id=\"T_f4a3cd38_03cb_11eb_9562_0242ac1c0002row0_col17\" class=\"data row0 col17\" >4.500000</td>\n",
              "                        <td id=\"T_f4a3cd38_03cb_11eb_9562_0242ac1c0002row0_col18\" class=\"data row0 col18\" >4.000000</td>\n",
              "            </tr>\n",
              "            <tr>\n",
              "                        <th id=\"T_f4a3cd38_03cb_11eb_9562_0242ac1c0002level0_row1\" class=\"row_heading level0 row1\" >Kamchatka Krai</th>\n",
              "                        <td id=\"T_f4a3cd38_03cb_11eb_9562_0242ac1c0002row1_col0\" class=\"data row1 col0\" >0.800000</td>\n",
              "                        <td id=\"T_f4a3cd38_03cb_11eb_9562_0242ac1c0002row1_col1\" class=\"data row1 col1\" >0.900000</td>\n",
              "                        <td id=\"T_f4a3cd38_03cb_11eb_9562_0242ac1c0002row1_col2\" class=\"data row1 col2\" >0.800000</td>\n",
              "                        <td id=\"T_f4a3cd38_03cb_11eb_9562_0242ac1c0002row1_col3\" class=\"data row1 col3\" >0.900000</td>\n",
              "                        <td id=\"T_f4a3cd38_03cb_11eb_9562_0242ac1c0002row1_col4\" class=\"data row1 col4\" >1.200000</td>\n",
              "                        <td id=\"T_f4a3cd38_03cb_11eb_9562_0242ac1c0002row1_col5\" class=\"data row1 col5\" >1.800000</td>\n",
              "                        <td id=\"T_f4a3cd38_03cb_11eb_9562_0242ac1c0002row1_col6\" class=\"data row1 col6\" >2.000000</td>\n",
              "                        <td id=\"T_f4a3cd38_03cb_11eb_9562_0242ac1c0002row1_col7\" class=\"data row1 col7\" >2.100000</td>\n",
              "                        <td id=\"T_f4a3cd38_03cb_11eb_9562_0242ac1c0002row1_col8\" class=\"data row1 col8\" >2.900000</td>\n",
              "                        <td id=\"T_f4a3cd38_03cb_11eb_9562_0242ac1c0002row1_col9\" class=\"data row1 col9\" >3.300000</td>\n",
              "                        <td id=\"T_f4a3cd38_03cb_11eb_9562_0242ac1c0002row1_col10\" class=\"data row1 col10\" >3.700000</td>\n",
              "                        <td id=\"T_f4a3cd38_03cb_11eb_9562_0242ac1c0002row1_col11\" class=\"data row1 col11\" >3.900000</td>\n",
              "                        <td id=\"T_f4a3cd38_03cb_11eb_9562_0242ac1c0002row1_col12\" class=\"data row1 col12\" >4.100000</td>\n",
              "                        <td id=\"T_f4a3cd38_03cb_11eb_9562_0242ac1c0002row1_col13\" class=\"data row1 col13\" >4.200000</td>\n",
              "                        <td id=\"T_f4a3cd38_03cb_11eb_9562_0242ac1c0002row1_col14\" class=\"data row1 col14\" >4.300000</td>\n",
              "                        <td id=\"T_f4a3cd38_03cb_11eb_9562_0242ac1c0002row1_col15\" class=\"data row1 col15\" >4.100000</td>\n",
              "                        <td id=\"T_f4a3cd38_03cb_11eb_9562_0242ac1c0002row1_col16\" class=\"data row1 col16\" >4.000000</td>\n",
              "                        <td id=\"T_f4a3cd38_03cb_11eb_9562_0242ac1c0002row1_col17\" class=\"data row1 col17\" >3.700000</td>\n",
              "                        <td id=\"T_f4a3cd38_03cb_11eb_9562_0242ac1c0002row1_col18\" class=\"data row1 col18\" >3.300000</td>\n",
              "            </tr>\n",
              "            <tr>\n",
              "                        <th id=\"T_f4a3cd38_03cb_11eb_9562_0242ac1c0002level0_row2\" class=\"row_heading level0 row2\" >Sakhalin Oblast</th>\n",
              "                        <td id=\"T_f4a3cd38_03cb_11eb_9562_0242ac1c0002row2_col0\" class=\"data row2 col0\" >0.700000</td>\n",
              "                        <td id=\"T_f4a3cd38_03cb_11eb_9562_0242ac1c0002row2_col1\" class=\"data row2 col1\" >0.400000</td>\n",
              "                        <td id=\"T_f4a3cd38_03cb_11eb_9562_0242ac1c0002row2_col2\" class=\"data row2 col2\" >0.500000</td>\n",
              "                        <td id=\"T_f4a3cd38_03cb_11eb_9562_0242ac1c0002row2_col3\" class=\"data row2 col3\" >0.900000</td>\n",
              "                        <td id=\"T_f4a3cd38_03cb_11eb_9562_0242ac1c0002row2_col4\" class=\"data row2 col4\" >1.600000</td>\n",
              "                        <td id=\"T_f4a3cd38_03cb_11eb_9562_0242ac1c0002row2_col5\" class=\"data row2 col5\" >1.400000</td>\n",
              "                        <td id=\"T_f4a3cd38_03cb_11eb_9562_0242ac1c0002row2_col6\" class=\"data row2 col6\" >1.500000</td>\n",
              "                        <td id=\"T_f4a3cd38_03cb_11eb_9562_0242ac1c0002row2_col7\" class=\"data row2 col7\" >2.200000</td>\n",
              "                        <td id=\"T_f4a3cd38_03cb_11eb_9562_0242ac1c0002row2_col8\" class=\"data row2 col8\" >1.900000</td>\n",
              "                        <td id=\"T_f4a3cd38_03cb_11eb_9562_0242ac1c0002row2_col9\" class=\"data row2 col9\" >2.100000</td>\n",
              "                        <td id=\"T_f4a3cd38_03cb_11eb_9562_0242ac1c0002row2_col10\" class=\"data row2 col10\" >3.000000</td>\n",
              "                        <td id=\"T_f4a3cd38_03cb_11eb_9562_0242ac1c0002row2_col11\" class=\"data row2 col11\" >3.500000</td>\n",
              "                        <td id=\"T_f4a3cd38_03cb_11eb_9562_0242ac1c0002row2_col12\" class=\"data row2 col12\" >3.800000</td>\n",
              "                        <td id=\"T_f4a3cd38_03cb_11eb_9562_0242ac1c0002row2_col13\" class=\"data row2 col13\" >3.890000</td>\n",
              "                        <td id=\"T_f4a3cd38_03cb_11eb_9562_0242ac1c0002row2_col14\" class=\"data row2 col14\" >3.800000</td>\n",
              "                        <td id=\"T_f4a3cd38_03cb_11eb_9562_0242ac1c0002row2_col15\" class=\"data row2 col15\" >3.800000</td>\n",
              "                        <td id=\"T_f4a3cd38_03cb_11eb_9562_0242ac1c0002row2_col16\" class=\"data row2 col16\" >3.800000</td>\n",
              "                        <td id=\"T_f4a3cd38_03cb_11eb_9562_0242ac1c0002row2_col17\" class=\"data row2 col17\" >3.900000</td>\n",
              "                        <td id=\"T_f4a3cd38_03cb_11eb_9562_0242ac1c0002row2_col18\" class=\"data row2 col18\" >3.300000</td>\n",
              "            </tr>\n",
              "            <tr>\n",
              "                        <th id=\"T_f4a3cd38_03cb_11eb_9562_0242ac1c0002level0_row3\" class=\"row_heading level0 row3\" >Magadan Oblast</th>\n",
              "                        <td id=\"T_f4a3cd38_03cb_11eb_9562_0242ac1c0002row3_col0\" class=\"data row3 col0\" >2.100000</td>\n",
              "                        <td id=\"T_f4a3cd38_03cb_11eb_9562_0242ac1c0002row3_col1\" class=\"data row3 col1\" >1.700000</td>\n",
              "                        <td id=\"T_f4a3cd38_03cb_11eb_9562_0242ac1c0002row3_col2\" class=\"data row3 col2\" >1.800000</td>\n",
              "                        <td id=\"T_f4a3cd38_03cb_11eb_9562_0242ac1c0002row3_col3\" class=\"data row3 col3\" >1.400000</td>\n",
              "                        <td id=\"T_f4a3cd38_03cb_11eb_9562_0242ac1c0002row3_col4\" class=\"data row3 col4\" >1.400000</td>\n",
              "                        <td id=\"T_f4a3cd38_03cb_11eb_9562_0242ac1c0002row3_col5\" class=\"data row3 col5\" >1.800000</td>\n",
              "                        <td id=\"T_f4a3cd38_03cb_11eb_9562_0242ac1c0002row3_col6\" class=\"data row3 col6\" >1.900000</td>\n",
              "                        <td id=\"T_f4a3cd38_03cb_11eb_9562_0242ac1c0002row3_col7\" class=\"data row3 col7\" >2.000000</td>\n",
              "                        <td id=\"T_f4a3cd38_03cb_11eb_9562_0242ac1c0002row3_col8\" class=\"data row3 col8\" >2.500000</td>\n",
              "                        <td id=\"T_f4a3cd38_03cb_11eb_9562_0242ac1c0002row3_col9\" class=\"data row3 col9\" >3.200000</td>\n",
              "                        <td id=\"T_f4a3cd38_03cb_11eb_9562_0242ac1c0002row3_col10\" class=\"data row3 col10\" >3.600000</td>\n",
              "                        <td id=\"T_f4a3cd38_03cb_11eb_9562_0242ac1c0002row3_col11\" class=\"data row3 col11\" >3.800000</td>\n",
              "                        <td id=\"T_f4a3cd38_03cb_11eb_9562_0242ac1c0002row3_col12\" class=\"data row3 col12\" >4.000000</td>\n",
              "                        <td id=\"T_f4a3cd38_03cb_11eb_9562_0242ac1c0002row3_col13\" class=\"data row3 col13\" >4.060000</td>\n",
              "                        <td id=\"T_f4a3cd38_03cb_11eb_9562_0242ac1c0002row3_col14\" class=\"data row3 col14\" >4.900000</td>\n",
              "                        <td id=\"T_f4a3cd38_03cb_11eb_9562_0242ac1c0002row3_col15\" class=\"data row3 col15\" >4.300000</td>\n",
              "                        <td id=\"T_f4a3cd38_03cb_11eb_9562_0242ac1c0002row3_col16\" class=\"data row3 col16\" >4.300000</td>\n",
              "                        <td id=\"T_f4a3cd38_03cb_11eb_9562_0242ac1c0002row3_col17\" class=\"data row3 col17\" >3.900000</td>\n",
              "                        <td id=\"T_f4a3cd38_03cb_11eb_9562_0242ac1c0002row3_col18\" class=\"data row3 col18\" >3.100000</td>\n",
              "            </tr>\n",
              "            <tr>\n",
              "                        <th id=\"T_f4a3cd38_03cb_11eb_9562_0242ac1c0002level0_row4\" class=\"row_heading level0 row4\" >Khabarovsk Krai</th>\n",
              "                        <td id=\"T_f4a3cd38_03cb_11eb_9562_0242ac1c0002row4_col0\" class=\"data row4 col0\" >1.400000</td>\n",
              "                        <td id=\"T_f4a3cd38_03cb_11eb_9562_0242ac1c0002row4_col1\" class=\"data row4 col1\" >1.100000</td>\n",
              "                        <td id=\"T_f4a3cd38_03cb_11eb_9562_0242ac1c0002row4_col2\" class=\"data row4 col2\" >0.700000</td>\n",
              "                        <td id=\"T_f4a3cd38_03cb_11eb_9562_0242ac1c0002row4_col3\" class=\"data row4 col3\" >0.500000</td>\n",
              "                        <td id=\"T_f4a3cd38_03cb_11eb_9562_0242ac1c0002row4_col4\" class=\"data row4 col4\" >0.700000</td>\n",
              "                        <td id=\"T_f4a3cd38_03cb_11eb_9562_0242ac1c0002row4_col5\" class=\"data row4 col5\" >0.700000</td>\n",
              "                        <td id=\"T_f4a3cd38_03cb_11eb_9562_0242ac1c0002row4_col6\" class=\"data row4 col6\" >0.900000</td>\n",
              "                        <td id=\"T_f4a3cd38_03cb_11eb_9562_0242ac1c0002row4_col7\" class=\"data row4 col7\" >1.000000</td>\n",
              "                        <td id=\"T_f4a3cd38_03cb_11eb_9562_0242ac1c0002row4_col8\" class=\"data row4 col8\" >1.400000</td>\n",
              "                        <td id=\"T_f4a3cd38_03cb_11eb_9562_0242ac1c0002row4_col9\" class=\"data row4 col9\" >2.100000</td>\n",
              "                        <td id=\"T_f4a3cd38_03cb_11eb_9562_0242ac1c0002row4_col10\" class=\"data row4 col10\" >2.900000</td>\n",
              "                        <td id=\"T_f4a3cd38_03cb_11eb_9562_0242ac1c0002row4_col11\" class=\"data row4 col11\" >2.900000</td>\n",
              "                        <td id=\"T_f4a3cd38_03cb_11eb_9562_0242ac1c0002row4_col12\" class=\"data row4 col12\" >3.100000</td>\n",
              "                        <td id=\"T_f4a3cd38_03cb_11eb_9562_0242ac1c0002row4_col13\" class=\"data row4 col13\" >3.080000</td>\n",
              "                        <td id=\"T_f4a3cd38_03cb_11eb_9562_0242ac1c0002row4_col14\" class=\"data row4 col14\" >3.600000</td>\n",
              "                        <td id=\"T_f4a3cd38_03cb_11eb_9562_0242ac1c0002row4_col15\" class=\"data row4 col15\" >3.100000</td>\n",
              "                        <td id=\"T_f4a3cd38_03cb_11eb_9562_0242ac1c0002row4_col16\" class=\"data row4 col16\" >3.000000</td>\n",
              "                        <td id=\"T_f4a3cd38_03cb_11eb_9562_0242ac1c0002row4_col17\" class=\"data row4 col17\" >2.800000</td>\n",
              "                        <td id=\"T_f4a3cd38_03cb_11eb_9562_0242ac1c0002row4_col18\" class=\"data row4 col18\" >2.600000</td>\n",
              "            </tr>\n",
              "    </tbody></table>"
            ],
            "text/plain": [
              "<pandas.io.formats.style.Styler at 0x7ffa011f0c18>"
            ]
          },
          "metadata": {
            "tags": []
          },
          "execution_count": 46
        }
      ]
    },
    {
      "cell_type": "markdown",
      "metadata": {
        "id": "ekcGdrVIYzjR"
      },
      "source": [
        "ТОП регионов по потреблению шампанского в 2016 году.\n",
        "1. Московская область - 4 литра\n",
        "2. Камчатка - 3.3 литра\n",
        "3. Сахалинская область - 3.3 литра \n",
        "4. Магадан - 3.1 литр\n",
        "5. Ненецкий АО - 2.6 литра\n",
        "\n",
        "Хотя в ТОПе регионов за отчетный период произошли изменения, но Москва также осталась на первом месте, а Магадан входит в ТОП 5 регионов с самым высоким потреблением шампанского.\n",
        "\n",
        "В количественных значениях разница 1998 года с 2016 годом самая незначительная, относительно других типов напитков."
      ]
    },
    {
      "cell_type": "code",
      "metadata": {
        "id": "ZomMj5PHYzyc",
        "outputId": "8e884716-9827-44db-d210-3c1501c96c42",
        "colab": {
          "base_uri": "https://localhost:8080/",
          "height": 288
        }
      },
      "source": [
        "champagne_region = pd.pivot_table(df_filter, values='champagne', index='region', columns='year', aggfunc='sum')\n",
        "champagne_region.sort_values(by=1998, ascending=True).head(5).style.applymap(lambda x: \"background-color: #97ca9b\" if x<df_region_mean['champagne'].mean() else \"background-color: white\")   "
      ],
      "execution_count": 47,
      "outputs": [
        {
          "output_type": "execute_result",
          "data": {
            "text/html": [
              "<style  type=\"text/css\" >\n",
              "#T_f4ae213e_03cb_11eb_9562_0242ac1c0002row0_col0,#T_f4ae213e_03cb_11eb_9562_0242ac1c0002row0_col1,#T_f4ae213e_03cb_11eb_9562_0242ac1c0002row0_col2,#T_f4ae213e_03cb_11eb_9562_0242ac1c0002row0_col3,#T_f4ae213e_03cb_11eb_9562_0242ac1c0002row0_col4,#T_f4ae213e_03cb_11eb_9562_0242ac1c0002row0_col5,#T_f4ae213e_03cb_11eb_9562_0242ac1c0002row0_col6,#T_f4ae213e_03cb_11eb_9562_0242ac1c0002row0_col7,#T_f4ae213e_03cb_11eb_9562_0242ac1c0002row0_col8,#T_f4ae213e_03cb_11eb_9562_0242ac1c0002row0_col9,#T_f4ae213e_03cb_11eb_9562_0242ac1c0002row0_col10,#T_f4ae213e_03cb_11eb_9562_0242ac1c0002row0_col11,#T_f4ae213e_03cb_11eb_9562_0242ac1c0002row0_col12,#T_f4ae213e_03cb_11eb_9562_0242ac1c0002row0_col13,#T_f4ae213e_03cb_11eb_9562_0242ac1c0002row0_col14,#T_f4ae213e_03cb_11eb_9562_0242ac1c0002row0_col15,#T_f4ae213e_03cb_11eb_9562_0242ac1c0002row0_col16,#T_f4ae213e_03cb_11eb_9562_0242ac1c0002row0_col17,#T_f4ae213e_03cb_11eb_9562_0242ac1c0002row0_col18,#T_f4ae213e_03cb_11eb_9562_0242ac1c0002row1_col0,#T_f4ae213e_03cb_11eb_9562_0242ac1c0002row1_col1,#T_f4ae213e_03cb_11eb_9562_0242ac1c0002row1_col2,#T_f4ae213e_03cb_11eb_9562_0242ac1c0002row1_col3,#T_f4ae213e_03cb_11eb_9562_0242ac1c0002row1_col4,#T_f4ae213e_03cb_11eb_9562_0242ac1c0002row1_col5,#T_f4ae213e_03cb_11eb_9562_0242ac1c0002row1_col6,#T_f4ae213e_03cb_11eb_9562_0242ac1c0002row1_col7,#T_f4ae213e_03cb_11eb_9562_0242ac1c0002row1_col8,#T_f4ae213e_03cb_11eb_9562_0242ac1c0002row1_col9,#T_f4ae213e_03cb_11eb_9562_0242ac1c0002row1_col10,#T_f4ae213e_03cb_11eb_9562_0242ac1c0002row1_col11,#T_f4ae213e_03cb_11eb_9562_0242ac1c0002row1_col12,#T_f4ae213e_03cb_11eb_9562_0242ac1c0002row1_col13,#T_f4ae213e_03cb_11eb_9562_0242ac1c0002row1_col14,#T_f4ae213e_03cb_11eb_9562_0242ac1c0002row1_col15,#T_f4ae213e_03cb_11eb_9562_0242ac1c0002row1_col16,#T_f4ae213e_03cb_11eb_9562_0242ac1c0002row1_col17,#T_f4ae213e_03cb_11eb_9562_0242ac1c0002row1_col18,#T_f4ae213e_03cb_11eb_9562_0242ac1c0002row2_col0,#T_f4ae213e_03cb_11eb_9562_0242ac1c0002row2_col1,#T_f4ae213e_03cb_11eb_9562_0242ac1c0002row2_col2,#T_f4ae213e_03cb_11eb_9562_0242ac1c0002row2_col3,#T_f4ae213e_03cb_11eb_9562_0242ac1c0002row2_col4,#T_f4ae213e_03cb_11eb_9562_0242ac1c0002row2_col5,#T_f4ae213e_03cb_11eb_9562_0242ac1c0002row2_col6,#T_f4ae213e_03cb_11eb_9562_0242ac1c0002row2_col7,#T_f4ae213e_03cb_11eb_9562_0242ac1c0002row2_col8,#T_f4ae213e_03cb_11eb_9562_0242ac1c0002row2_col9,#T_f4ae213e_03cb_11eb_9562_0242ac1c0002row2_col10,#T_f4ae213e_03cb_11eb_9562_0242ac1c0002row2_col11,#T_f4ae213e_03cb_11eb_9562_0242ac1c0002row2_col16,#T_f4ae213e_03cb_11eb_9562_0242ac1c0002row2_col17,#T_f4ae213e_03cb_11eb_9562_0242ac1c0002row2_col18,#T_f4ae213e_03cb_11eb_9562_0242ac1c0002row3_col0,#T_f4ae213e_03cb_11eb_9562_0242ac1c0002row3_col1,#T_f4ae213e_03cb_11eb_9562_0242ac1c0002row3_col2,#T_f4ae213e_03cb_11eb_9562_0242ac1c0002row3_col3,#T_f4ae213e_03cb_11eb_9562_0242ac1c0002row3_col4,#T_f4ae213e_03cb_11eb_9562_0242ac1c0002row3_col5,#T_f4ae213e_03cb_11eb_9562_0242ac1c0002row3_col6,#T_f4ae213e_03cb_11eb_9562_0242ac1c0002row3_col7,#T_f4ae213e_03cb_11eb_9562_0242ac1c0002row3_col8,#T_f4ae213e_03cb_11eb_9562_0242ac1c0002row3_col9,#T_f4ae213e_03cb_11eb_9562_0242ac1c0002row3_col10,#T_f4ae213e_03cb_11eb_9562_0242ac1c0002row3_col11,#T_f4ae213e_03cb_11eb_9562_0242ac1c0002row3_col12,#T_f4ae213e_03cb_11eb_9562_0242ac1c0002row3_col13,#T_f4ae213e_03cb_11eb_9562_0242ac1c0002row3_col14,#T_f4ae213e_03cb_11eb_9562_0242ac1c0002row3_col15,#T_f4ae213e_03cb_11eb_9562_0242ac1c0002row3_col16,#T_f4ae213e_03cb_11eb_9562_0242ac1c0002row3_col17,#T_f4ae213e_03cb_11eb_9562_0242ac1c0002row3_col18,#T_f4ae213e_03cb_11eb_9562_0242ac1c0002row4_col0,#T_f4ae213e_03cb_11eb_9562_0242ac1c0002row4_col1,#T_f4ae213e_03cb_11eb_9562_0242ac1c0002row4_col2,#T_f4ae213e_03cb_11eb_9562_0242ac1c0002row4_col3,#T_f4ae213e_03cb_11eb_9562_0242ac1c0002row4_col4,#T_f4ae213e_03cb_11eb_9562_0242ac1c0002row4_col5,#T_f4ae213e_03cb_11eb_9562_0242ac1c0002row4_col9,#T_f4ae213e_03cb_11eb_9562_0242ac1c0002row4_col10,#T_f4ae213e_03cb_11eb_9562_0242ac1c0002row4_col11,#T_f4ae213e_03cb_11eb_9562_0242ac1c0002row4_col12,#T_f4ae213e_03cb_11eb_9562_0242ac1c0002row4_col13,#T_f4ae213e_03cb_11eb_9562_0242ac1c0002row4_col14,#T_f4ae213e_03cb_11eb_9562_0242ac1c0002row4_col15,#T_f4ae213e_03cb_11eb_9562_0242ac1c0002row4_col16,#T_f4ae213e_03cb_11eb_9562_0242ac1c0002row4_col17,#T_f4ae213e_03cb_11eb_9562_0242ac1c0002row4_col18{\n",
              "            background-color:  #97ca9b;\n",
              "        }#T_f4ae213e_03cb_11eb_9562_0242ac1c0002row2_col12,#T_f4ae213e_03cb_11eb_9562_0242ac1c0002row2_col13,#T_f4ae213e_03cb_11eb_9562_0242ac1c0002row2_col14,#T_f4ae213e_03cb_11eb_9562_0242ac1c0002row2_col15,#T_f4ae213e_03cb_11eb_9562_0242ac1c0002row4_col6,#T_f4ae213e_03cb_11eb_9562_0242ac1c0002row4_col7,#T_f4ae213e_03cb_11eb_9562_0242ac1c0002row4_col8{\n",
              "            background-color:  white;\n",
              "        }</style><table id=\"T_f4ae213e_03cb_11eb_9562_0242ac1c0002\" ><thead>    <tr>        <th class=\"index_name level0\" >year</th>        <th class=\"col_heading level0 col0\" >1998</th>        <th class=\"col_heading level0 col1\" >1999</th>        <th class=\"col_heading level0 col2\" >2000</th>        <th class=\"col_heading level0 col3\" >2001</th>        <th class=\"col_heading level0 col4\" >2002</th>        <th class=\"col_heading level0 col5\" >2003</th>        <th class=\"col_heading level0 col6\" >2004</th>        <th class=\"col_heading level0 col7\" >2005</th>        <th class=\"col_heading level0 col8\" >2006</th>        <th class=\"col_heading level0 col9\" >2007</th>        <th class=\"col_heading level0 col10\" >2008</th>        <th class=\"col_heading level0 col11\" >2009</th>        <th class=\"col_heading level0 col12\" >2010</th>        <th class=\"col_heading level0 col13\" >2011</th>        <th class=\"col_heading level0 col14\" >2012</th>        <th class=\"col_heading level0 col15\" >2013</th>        <th class=\"col_heading level0 col16\" >2014</th>        <th class=\"col_heading level0 col17\" >2015</th>        <th class=\"col_heading level0 col18\" >2016</th>    </tr>    <tr>        <th class=\"index_name level0\" >region</th>        <th class=\"blank\" ></th>        <th class=\"blank\" ></th>        <th class=\"blank\" ></th>        <th class=\"blank\" ></th>        <th class=\"blank\" ></th>        <th class=\"blank\" ></th>        <th class=\"blank\" ></th>        <th class=\"blank\" ></th>        <th class=\"blank\" ></th>        <th class=\"blank\" ></th>        <th class=\"blank\" ></th>        <th class=\"blank\" ></th>        <th class=\"blank\" ></th>        <th class=\"blank\" ></th>        <th class=\"blank\" ></th>        <th class=\"blank\" ></th>        <th class=\"blank\" ></th>        <th class=\"blank\" ></th>        <th class=\"blank\" ></th>    </tr></thead><tbody>\n",
              "                <tr>\n",
              "                        <th id=\"T_f4ae213e_03cb_11eb_9562_0242ac1c0002level0_row0\" class=\"row_heading level0 row0\" >Chechen Republic</th>\n",
              "                        <td id=\"T_f4ae213e_03cb_11eb_9562_0242ac1c0002row0_col0\" class=\"data row0 col0\" >0.000000</td>\n",
              "                        <td id=\"T_f4ae213e_03cb_11eb_9562_0242ac1c0002row0_col1\" class=\"data row0 col1\" >0.000000</td>\n",
              "                        <td id=\"T_f4ae213e_03cb_11eb_9562_0242ac1c0002row0_col2\" class=\"data row0 col2\" >0.000000</td>\n",
              "                        <td id=\"T_f4ae213e_03cb_11eb_9562_0242ac1c0002row0_col3\" class=\"data row0 col3\" >0.000000</td>\n",
              "                        <td id=\"T_f4ae213e_03cb_11eb_9562_0242ac1c0002row0_col4\" class=\"data row0 col4\" >0.000000</td>\n",
              "                        <td id=\"T_f4ae213e_03cb_11eb_9562_0242ac1c0002row0_col5\" class=\"data row0 col5\" >0.000000</td>\n",
              "                        <td id=\"T_f4ae213e_03cb_11eb_9562_0242ac1c0002row0_col6\" class=\"data row0 col6\" >0.000000</td>\n",
              "                        <td id=\"T_f4ae213e_03cb_11eb_9562_0242ac1c0002row0_col7\" class=\"data row0 col7\" >0.000000</td>\n",
              "                        <td id=\"T_f4ae213e_03cb_11eb_9562_0242ac1c0002row0_col8\" class=\"data row0 col8\" >0.000000</td>\n",
              "                        <td id=\"T_f4ae213e_03cb_11eb_9562_0242ac1c0002row0_col9\" class=\"data row0 col9\" >0.000000</td>\n",
              "                        <td id=\"T_f4ae213e_03cb_11eb_9562_0242ac1c0002row0_col10\" class=\"data row0 col10\" >0.000000</td>\n",
              "                        <td id=\"T_f4ae213e_03cb_11eb_9562_0242ac1c0002row0_col11\" class=\"data row0 col11\" >0.000000</td>\n",
              "                        <td id=\"T_f4ae213e_03cb_11eb_9562_0242ac1c0002row0_col12\" class=\"data row0 col12\" >0.000000</td>\n",
              "                        <td id=\"T_f4ae213e_03cb_11eb_9562_0242ac1c0002row0_col13\" class=\"data row0 col13\" >0.000000</td>\n",
              "                        <td id=\"T_f4ae213e_03cb_11eb_9562_0242ac1c0002row0_col14\" class=\"data row0 col14\" >0.000000</td>\n",
              "                        <td id=\"T_f4ae213e_03cb_11eb_9562_0242ac1c0002row0_col15\" class=\"data row0 col15\" >0.000000</td>\n",
              "                        <td id=\"T_f4ae213e_03cb_11eb_9562_0242ac1c0002row0_col16\" class=\"data row0 col16\" >0.000000</td>\n",
              "                        <td id=\"T_f4ae213e_03cb_11eb_9562_0242ac1c0002row0_col17\" class=\"data row0 col17\" >0.000000</td>\n",
              "                        <td id=\"T_f4ae213e_03cb_11eb_9562_0242ac1c0002row0_col18\" class=\"data row0 col18\" >0.000000</td>\n",
              "            </tr>\n",
              "            <tr>\n",
              "                        <th id=\"T_f4ae213e_03cb_11eb_9562_0242ac1c0002level0_row1\" class=\"row_heading level0 row1\" >Karachay-Cherkess Republic</th>\n",
              "                        <td id=\"T_f4ae213e_03cb_11eb_9562_0242ac1c0002row1_col0\" class=\"data row1 col0\" >0.100000</td>\n",
              "                        <td id=\"T_f4ae213e_03cb_11eb_9562_0242ac1c0002row1_col1\" class=\"data row1 col1\" >0.100000</td>\n",
              "                        <td id=\"T_f4ae213e_03cb_11eb_9562_0242ac1c0002row1_col2\" class=\"data row1 col2\" >0.200000</td>\n",
              "                        <td id=\"T_f4ae213e_03cb_11eb_9562_0242ac1c0002row1_col3\" class=\"data row1 col3\" >0.200000</td>\n",
              "                        <td id=\"T_f4ae213e_03cb_11eb_9562_0242ac1c0002row1_col4\" class=\"data row1 col4\" >0.200000</td>\n",
              "                        <td id=\"T_f4ae213e_03cb_11eb_9562_0242ac1c0002row1_col5\" class=\"data row1 col5\" >0.200000</td>\n",
              "                        <td id=\"T_f4ae213e_03cb_11eb_9562_0242ac1c0002row1_col6\" class=\"data row1 col6\" >0.300000</td>\n",
              "                        <td id=\"T_f4ae213e_03cb_11eb_9562_0242ac1c0002row1_col7\" class=\"data row1 col7\" >0.400000</td>\n",
              "                        <td id=\"T_f4ae213e_03cb_11eb_9562_0242ac1c0002row1_col8\" class=\"data row1 col8\" >0.400000</td>\n",
              "                        <td id=\"T_f4ae213e_03cb_11eb_9562_0242ac1c0002row1_col9\" class=\"data row1 col9\" >0.400000</td>\n",
              "                        <td id=\"T_f4ae213e_03cb_11eb_9562_0242ac1c0002row1_col10\" class=\"data row1 col10\" >0.400000</td>\n",
              "                        <td id=\"T_f4ae213e_03cb_11eb_9562_0242ac1c0002row1_col11\" class=\"data row1 col11\" >0.400000</td>\n",
              "                        <td id=\"T_f4ae213e_03cb_11eb_9562_0242ac1c0002row1_col12\" class=\"data row1 col12\" >0.500000</td>\n",
              "                        <td id=\"T_f4ae213e_03cb_11eb_9562_0242ac1c0002row1_col13\" class=\"data row1 col13\" >0.470000</td>\n",
              "                        <td id=\"T_f4ae213e_03cb_11eb_9562_0242ac1c0002row1_col14\" class=\"data row1 col14\" >0.500000</td>\n",
              "                        <td id=\"T_f4ae213e_03cb_11eb_9562_0242ac1c0002row1_col15\" class=\"data row1 col15\" >0.400000</td>\n",
              "                        <td id=\"T_f4ae213e_03cb_11eb_9562_0242ac1c0002row1_col16\" class=\"data row1 col16\" >0.400000</td>\n",
              "                        <td id=\"T_f4ae213e_03cb_11eb_9562_0242ac1c0002row1_col17\" class=\"data row1 col17\" >0.300000</td>\n",
              "                        <td id=\"T_f4ae213e_03cb_11eb_9562_0242ac1c0002row1_col18\" class=\"data row1 col18\" >0.200000</td>\n",
              "            </tr>\n",
              "            <tr>\n",
              "                        <th id=\"T_f4ae213e_03cb_11eb_9562_0242ac1c0002level0_row2\" class=\"row_heading level0 row2\" >Ivanovo Oblast</th>\n",
              "                        <td id=\"T_f4ae213e_03cb_11eb_9562_0242ac1c0002row2_col0\" class=\"data row2 col0\" >0.100000</td>\n",
              "                        <td id=\"T_f4ae213e_03cb_11eb_9562_0242ac1c0002row2_col1\" class=\"data row2 col1\" >0.100000</td>\n",
              "                        <td id=\"T_f4ae213e_03cb_11eb_9562_0242ac1c0002row2_col2\" class=\"data row2 col2\" >0.200000</td>\n",
              "                        <td id=\"T_f4ae213e_03cb_11eb_9562_0242ac1c0002row2_col3\" class=\"data row2 col3\" >0.300000</td>\n",
              "                        <td id=\"T_f4ae213e_03cb_11eb_9562_0242ac1c0002row2_col4\" class=\"data row2 col4\" >0.600000</td>\n",
              "                        <td id=\"T_f4ae213e_03cb_11eb_9562_0242ac1c0002row2_col5\" class=\"data row2 col5\" >0.600000</td>\n",
              "                        <td id=\"T_f4ae213e_03cb_11eb_9562_0242ac1c0002row2_col6\" class=\"data row2 col6\" >0.700000</td>\n",
              "                        <td id=\"T_f4ae213e_03cb_11eb_9562_0242ac1c0002row2_col7\" class=\"data row2 col7\" >1.000000</td>\n",
              "                        <td id=\"T_f4ae213e_03cb_11eb_9562_0242ac1c0002row2_col8\" class=\"data row2 col8\" >1.000000</td>\n",
              "                        <td id=\"T_f4ae213e_03cb_11eb_9562_0242ac1c0002row2_col9\" class=\"data row2 col9\" >1.300000</td>\n",
              "                        <td id=\"T_f4ae213e_03cb_11eb_9562_0242ac1c0002row2_col10\" class=\"data row2 col10\" >1.300000</td>\n",
              "                        <td id=\"T_f4ae213e_03cb_11eb_9562_0242ac1c0002row2_col11\" class=\"data row2 col11\" >1.300000</td>\n",
              "                        <td id=\"T_f4ae213e_03cb_11eb_9562_0242ac1c0002row2_col12\" class=\"data row2 col12\" >1.500000</td>\n",
              "                        <td id=\"T_f4ae213e_03cb_11eb_9562_0242ac1c0002row2_col13\" class=\"data row2 col13\" >1.570000</td>\n",
              "                        <td id=\"T_f4ae213e_03cb_11eb_9562_0242ac1c0002row2_col14\" class=\"data row2 col14\" >1.700000</td>\n",
              "                        <td id=\"T_f4ae213e_03cb_11eb_9562_0242ac1c0002row2_col15\" class=\"data row2 col15\" >1.700000</td>\n",
              "                        <td id=\"T_f4ae213e_03cb_11eb_9562_0242ac1c0002row2_col16\" class=\"data row2 col16\" >1.000000</td>\n",
              "                        <td id=\"T_f4ae213e_03cb_11eb_9562_0242ac1c0002row2_col17\" class=\"data row2 col17\" >0.900000</td>\n",
              "                        <td id=\"T_f4ae213e_03cb_11eb_9562_0242ac1c0002row2_col18\" class=\"data row2 col18\" >1.100000</td>\n",
              "            </tr>\n",
              "            <tr>\n",
              "                        <th id=\"T_f4ae213e_03cb_11eb_9562_0242ac1c0002level0_row3\" class=\"row_heading level0 row3\" >Penza Oblast</th>\n",
              "                        <td id=\"T_f4ae213e_03cb_11eb_9562_0242ac1c0002row3_col0\" class=\"data row3 col0\" >0.200000</td>\n",
              "                        <td id=\"T_f4ae213e_03cb_11eb_9562_0242ac1c0002row3_col1\" class=\"data row3 col1\" >0.400000</td>\n",
              "                        <td id=\"T_f4ae213e_03cb_11eb_9562_0242ac1c0002row3_col2\" class=\"data row3 col2\" >0.300000</td>\n",
              "                        <td id=\"T_f4ae213e_03cb_11eb_9562_0242ac1c0002row3_col3\" class=\"data row3 col3\" >0.400000</td>\n",
              "                        <td id=\"T_f4ae213e_03cb_11eb_9562_0242ac1c0002row3_col4\" class=\"data row3 col4\" >0.400000</td>\n",
              "                        <td id=\"T_f4ae213e_03cb_11eb_9562_0242ac1c0002row3_col5\" class=\"data row3 col5\" >0.600000</td>\n",
              "                        <td id=\"T_f4ae213e_03cb_11eb_9562_0242ac1c0002row3_col6\" class=\"data row3 col6\" >0.600000</td>\n",
              "                        <td id=\"T_f4ae213e_03cb_11eb_9562_0242ac1c0002row3_col7\" class=\"data row3 col7\" >1.000000</td>\n",
              "                        <td id=\"T_f4ae213e_03cb_11eb_9562_0242ac1c0002row3_col8\" class=\"data row3 col8\" >0.800000</td>\n",
              "                        <td id=\"T_f4ae213e_03cb_11eb_9562_0242ac1c0002row3_col9\" class=\"data row3 col9\" >0.900000</td>\n",
              "                        <td id=\"T_f4ae213e_03cb_11eb_9562_0242ac1c0002row3_col10\" class=\"data row3 col10\" >1.000000</td>\n",
              "                        <td id=\"T_f4ae213e_03cb_11eb_9562_0242ac1c0002row3_col11\" class=\"data row3 col11\" >1.100000</td>\n",
              "                        <td id=\"T_f4ae213e_03cb_11eb_9562_0242ac1c0002row3_col12\" class=\"data row3 col12\" >1.200000</td>\n",
              "                        <td id=\"T_f4ae213e_03cb_11eb_9562_0242ac1c0002row3_col13\" class=\"data row3 col13\" >1.220000</td>\n",
              "                        <td id=\"T_f4ae213e_03cb_11eb_9562_0242ac1c0002row3_col14\" class=\"data row3 col14\" >1.000000</td>\n",
              "                        <td id=\"T_f4ae213e_03cb_11eb_9562_0242ac1c0002row3_col15\" class=\"data row3 col15\" >1.000000</td>\n",
              "                        <td id=\"T_f4ae213e_03cb_11eb_9562_0242ac1c0002row3_col16\" class=\"data row3 col16\" >0.900000</td>\n",
              "                        <td id=\"T_f4ae213e_03cb_11eb_9562_0242ac1c0002row3_col17\" class=\"data row3 col17\" >0.700000</td>\n",
              "                        <td id=\"T_f4ae213e_03cb_11eb_9562_0242ac1c0002row3_col18\" class=\"data row3 col18\" >0.600000</td>\n",
              "            </tr>\n",
              "            <tr>\n",
              "                        <th id=\"T_f4ae213e_03cb_11eb_9562_0242ac1c0002level0_row4\" class=\"row_heading level0 row4\" >Zabaykalsky Krai</th>\n",
              "                        <td id=\"T_f4ae213e_03cb_11eb_9562_0242ac1c0002row4_col0\" class=\"data row4 col0\" >0.200000</td>\n",
              "                        <td id=\"T_f4ae213e_03cb_11eb_9562_0242ac1c0002row4_col1\" class=\"data row4 col1\" >0.200000</td>\n",
              "                        <td id=\"T_f4ae213e_03cb_11eb_9562_0242ac1c0002row4_col2\" class=\"data row4 col2\" >0.300000</td>\n",
              "                        <td id=\"T_f4ae213e_03cb_11eb_9562_0242ac1c0002row4_col3\" class=\"data row4 col3\" >0.400000</td>\n",
              "                        <td id=\"T_f4ae213e_03cb_11eb_9562_0242ac1c0002row4_col4\" class=\"data row4 col4\" >0.500000</td>\n",
              "                        <td id=\"T_f4ae213e_03cb_11eb_9562_0242ac1c0002row4_col5\" class=\"data row4 col5\" >0.600000</td>\n",
              "                        <td id=\"T_f4ae213e_03cb_11eb_9562_0242ac1c0002row4_col6\" class=\"data row4 col6\" >3.000000</td>\n",
              "                        <td id=\"T_f4ae213e_03cb_11eb_9562_0242ac1c0002row4_col7\" class=\"data row4 col7\" >3.000000</td>\n",
              "                        <td id=\"T_f4ae213e_03cb_11eb_9562_0242ac1c0002row4_col8\" class=\"data row4 col8\" >3.100000</td>\n",
              "                        <td id=\"T_f4ae213e_03cb_11eb_9562_0242ac1c0002row4_col9\" class=\"data row4 col9\" >0.800000</td>\n",
              "                        <td id=\"T_f4ae213e_03cb_11eb_9562_0242ac1c0002row4_col10\" class=\"data row4 col10\" >0.900000</td>\n",
              "                        <td id=\"T_f4ae213e_03cb_11eb_9562_0242ac1c0002row4_col11\" class=\"data row4 col11\" >1.000000</td>\n",
              "                        <td id=\"T_f4ae213e_03cb_11eb_9562_0242ac1c0002row4_col12\" class=\"data row4 col12\" >1.000000</td>\n",
              "                        <td id=\"T_f4ae213e_03cb_11eb_9562_0242ac1c0002row4_col13\" class=\"data row4 col13\" >1.070000</td>\n",
              "                        <td id=\"T_f4ae213e_03cb_11eb_9562_0242ac1c0002row4_col14\" class=\"data row4 col14\" >1.100000</td>\n",
              "                        <td id=\"T_f4ae213e_03cb_11eb_9562_0242ac1c0002row4_col15\" class=\"data row4 col15\" >1.100000</td>\n",
              "                        <td id=\"T_f4ae213e_03cb_11eb_9562_0242ac1c0002row4_col16\" class=\"data row4 col16\" >1.100000</td>\n",
              "                        <td id=\"T_f4ae213e_03cb_11eb_9562_0242ac1c0002row4_col17\" class=\"data row4 col17\" >0.900000</td>\n",
              "                        <td id=\"T_f4ae213e_03cb_11eb_9562_0242ac1c0002row4_col18\" class=\"data row4 col18\" >0.900000</td>\n",
              "            </tr>\n",
              "    </tbody></table>"
            ],
            "text/plain": [
              "<pandas.io.formats.style.Styler at 0x7ffa00e47b38>"
            ]
          },
          "metadata": {
            "tags": []
          },
          "execution_count": 47
        }
      ]
    },
    {
      "cell_type": "markdown",
      "metadata": {
        "id": "1fudxHH0Y40o"
      },
      "source": [
        "Список ТОП-5 регионов с самым низким потреблением шампанского в 1998 году.\n",
        "1. Карачаево-Черкессия - 0.1 литра\n",
        "2. Ивановская область - 0.1 литра\n",
        "3. Пензенская область - 0.2 литра\n",
        "4. Забайкальский край - 0.2 литра\n",
        "5. Адыгея - 0.3 литра\n",
        "\n",
        "Потребление шампанского очень низкое. Возможно, в данных регионах употребляют этот напиток только по особым случаям и праздникам."
      ]
    },
    {
      "cell_type": "code",
      "metadata": {
        "id": "nEaIXEH6Y7dj",
        "outputId": "73d3c223-f576-4897-d5c2-703f817b32eb",
        "colab": {
          "base_uri": "https://localhost:8080/",
          "height": 340
        }
      },
      "source": [
        "champagne_region = pd.pivot_table(df_filter, values='champagne', index='region', columns='year', aggfunc='sum')\n",
        "\n",
        "champagne_region.sort_values(by=2016, ascending=True).head(5).style.applymap(lambda x: \"background-color: #97ca9b\" if x<df_region_mean['champagne'].mean() else \"background-color: white\")   "
      ],
      "execution_count": 48,
      "outputs": [
        {
          "output_type": "execute_result",
          "data": {
            "text/html": [
              "<style  type=\"text/css\" >\n",
              "#T_f4b80a82_03cb_11eb_9562_0242ac1c0002row0_col0,#T_f4b80a82_03cb_11eb_9562_0242ac1c0002row0_col1,#T_f4b80a82_03cb_11eb_9562_0242ac1c0002row0_col2,#T_f4b80a82_03cb_11eb_9562_0242ac1c0002row0_col3,#T_f4b80a82_03cb_11eb_9562_0242ac1c0002row0_col4,#T_f4b80a82_03cb_11eb_9562_0242ac1c0002row0_col5,#T_f4b80a82_03cb_11eb_9562_0242ac1c0002row0_col6,#T_f4b80a82_03cb_11eb_9562_0242ac1c0002row0_col7,#T_f4b80a82_03cb_11eb_9562_0242ac1c0002row0_col8,#T_f4b80a82_03cb_11eb_9562_0242ac1c0002row0_col9,#T_f4b80a82_03cb_11eb_9562_0242ac1c0002row0_col10,#T_f4b80a82_03cb_11eb_9562_0242ac1c0002row0_col11,#T_f4b80a82_03cb_11eb_9562_0242ac1c0002row0_col12,#T_f4b80a82_03cb_11eb_9562_0242ac1c0002row0_col13,#T_f4b80a82_03cb_11eb_9562_0242ac1c0002row0_col14,#T_f4b80a82_03cb_11eb_9562_0242ac1c0002row0_col15,#T_f4b80a82_03cb_11eb_9562_0242ac1c0002row0_col16,#T_f4b80a82_03cb_11eb_9562_0242ac1c0002row0_col17,#T_f4b80a82_03cb_11eb_9562_0242ac1c0002row0_col18,#T_f4b80a82_03cb_11eb_9562_0242ac1c0002row1_col0,#T_f4b80a82_03cb_11eb_9562_0242ac1c0002row1_col1,#T_f4b80a82_03cb_11eb_9562_0242ac1c0002row1_col2,#T_f4b80a82_03cb_11eb_9562_0242ac1c0002row1_col3,#T_f4b80a82_03cb_11eb_9562_0242ac1c0002row1_col4,#T_f4b80a82_03cb_11eb_9562_0242ac1c0002row1_col5,#T_f4b80a82_03cb_11eb_9562_0242ac1c0002row1_col6,#T_f4b80a82_03cb_11eb_9562_0242ac1c0002row1_col7,#T_f4b80a82_03cb_11eb_9562_0242ac1c0002row1_col8,#T_f4b80a82_03cb_11eb_9562_0242ac1c0002row1_col9,#T_f4b80a82_03cb_11eb_9562_0242ac1c0002row1_col10,#T_f4b80a82_03cb_11eb_9562_0242ac1c0002row1_col11,#T_f4b80a82_03cb_11eb_9562_0242ac1c0002row1_col12,#T_f4b80a82_03cb_11eb_9562_0242ac1c0002row1_col13,#T_f4b80a82_03cb_11eb_9562_0242ac1c0002row1_col14,#T_f4b80a82_03cb_11eb_9562_0242ac1c0002row1_col15,#T_f4b80a82_03cb_11eb_9562_0242ac1c0002row1_col16,#T_f4b80a82_03cb_11eb_9562_0242ac1c0002row1_col17,#T_f4b80a82_03cb_11eb_9562_0242ac1c0002row1_col18,#T_f4b80a82_03cb_11eb_9562_0242ac1c0002row2_col0,#T_f4b80a82_03cb_11eb_9562_0242ac1c0002row2_col1,#T_f4b80a82_03cb_11eb_9562_0242ac1c0002row2_col2,#T_f4b80a82_03cb_11eb_9562_0242ac1c0002row2_col3,#T_f4b80a82_03cb_11eb_9562_0242ac1c0002row2_col4,#T_f4b80a82_03cb_11eb_9562_0242ac1c0002row2_col5,#T_f4b80a82_03cb_11eb_9562_0242ac1c0002row2_col6,#T_f4b80a82_03cb_11eb_9562_0242ac1c0002row2_col7,#T_f4b80a82_03cb_11eb_9562_0242ac1c0002row2_col8,#T_f4b80a82_03cb_11eb_9562_0242ac1c0002row2_col9,#T_f4b80a82_03cb_11eb_9562_0242ac1c0002row2_col10,#T_f4b80a82_03cb_11eb_9562_0242ac1c0002row2_col11,#T_f4b80a82_03cb_11eb_9562_0242ac1c0002row2_col12,#T_f4b80a82_03cb_11eb_9562_0242ac1c0002row2_col13,#T_f4b80a82_03cb_11eb_9562_0242ac1c0002row2_col14,#T_f4b80a82_03cb_11eb_9562_0242ac1c0002row2_col15,#T_f4b80a82_03cb_11eb_9562_0242ac1c0002row2_col16,#T_f4b80a82_03cb_11eb_9562_0242ac1c0002row2_col17,#T_f4b80a82_03cb_11eb_9562_0242ac1c0002row2_col18,#T_f4b80a82_03cb_11eb_9562_0242ac1c0002row3_col0,#T_f4b80a82_03cb_11eb_9562_0242ac1c0002row3_col1,#T_f4b80a82_03cb_11eb_9562_0242ac1c0002row3_col2,#T_f4b80a82_03cb_11eb_9562_0242ac1c0002row3_col3,#T_f4b80a82_03cb_11eb_9562_0242ac1c0002row3_col4,#T_f4b80a82_03cb_11eb_9562_0242ac1c0002row3_col5,#T_f4b80a82_03cb_11eb_9562_0242ac1c0002row3_col8,#T_f4b80a82_03cb_11eb_9562_0242ac1c0002row3_col9,#T_f4b80a82_03cb_11eb_9562_0242ac1c0002row3_col10,#T_f4b80a82_03cb_11eb_9562_0242ac1c0002row3_col11,#T_f4b80a82_03cb_11eb_9562_0242ac1c0002row3_col12,#T_f4b80a82_03cb_11eb_9562_0242ac1c0002row3_col13,#T_f4b80a82_03cb_11eb_9562_0242ac1c0002row3_col14,#T_f4b80a82_03cb_11eb_9562_0242ac1c0002row3_col15,#T_f4b80a82_03cb_11eb_9562_0242ac1c0002row3_col16,#T_f4b80a82_03cb_11eb_9562_0242ac1c0002row3_col17,#T_f4b80a82_03cb_11eb_9562_0242ac1c0002row3_col18,#T_f4b80a82_03cb_11eb_9562_0242ac1c0002row4_col0,#T_f4b80a82_03cb_11eb_9562_0242ac1c0002row4_col1,#T_f4b80a82_03cb_11eb_9562_0242ac1c0002row4_col2,#T_f4b80a82_03cb_11eb_9562_0242ac1c0002row4_col3,#T_f4b80a82_03cb_11eb_9562_0242ac1c0002row4_col9,#T_f4b80a82_03cb_11eb_9562_0242ac1c0002row4_col10,#T_f4b80a82_03cb_11eb_9562_0242ac1c0002row4_col11,#T_f4b80a82_03cb_11eb_9562_0242ac1c0002row4_col12,#T_f4b80a82_03cb_11eb_9562_0242ac1c0002row4_col13,#T_f4b80a82_03cb_11eb_9562_0242ac1c0002row4_col14,#T_f4b80a82_03cb_11eb_9562_0242ac1c0002row4_col15,#T_f4b80a82_03cb_11eb_9562_0242ac1c0002row4_col16,#T_f4b80a82_03cb_11eb_9562_0242ac1c0002row4_col17,#T_f4b80a82_03cb_11eb_9562_0242ac1c0002row4_col18{\n",
              "            background-color:  #97ca9b;\n",
              "        }#T_f4b80a82_03cb_11eb_9562_0242ac1c0002row3_col6,#T_f4b80a82_03cb_11eb_9562_0242ac1c0002row3_col7,#T_f4b80a82_03cb_11eb_9562_0242ac1c0002row4_col4,#T_f4b80a82_03cb_11eb_9562_0242ac1c0002row4_col5,#T_f4b80a82_03cb_11eb_9562_0242ac1c0002row4_col6,#T_f4b80a82_03cb_11eb_9562_0242ac1c0002row4_col7,#T_f4b80a82_03cb_11eb_9562_0242ac1c0002row4_col8{\n",
              "            background-color:  white;\n",
              "        }</style><table id=\"T_f4b80a82_03cb_11eb_9562_0242ac1c0002\" ><thead>    <tr>        <th class=\"index_name level0\" >year</th>        <th class=\"col_heading level0 col0\" >1998</th>        <th class=\"col_heading level0 col1\" >1999</th>        <th class=\"col_heading level0 col2\" >2000</th>        <th class=\"col_heading level0 col3\" >2001</th>        <th class=\"col_heading level0 col4\" >2002</th>        <th class=\"col_heading level0 col5\" >2003</th>        <th class=\"col_heading level0 col6\" >2004</th>        <th class=\"col_heading level0 col7\" >2005</th>        <th class=\"col_heading level0 col8\" >2006</th>        <th class=\"col_heading level0 col9\" >2007</th>        <th class=\"col_heading level0 col10\" >2008</th>        <th class=\"col_heading level0 col11\" >2009</th>        <th class=\"col_heading level0 col12\" >2010</th>        <th class=\"col_heading level0 col13\" >2011</th>        <th class=\"col_heading level0 col14\" >2012</th>        <th class=\"col_heading level0 col15\" >2013</th>        <th class=\"col_heading level0 col16\" >2014</th>        <th class=\"col_heading level0 col17\" >2015</th>        <th class=\"col_heading level0 col18\" >2016</th>    </tr>    <tr>        <th class=\"index_name level0\" >region</th>        <th class=\"blank\" ></th>        <th class=\"blank\" ></th>        <th class=\"blank\" ></th>        <th class=\"blank\" ></th>        <th class=\"blank\" ></th>        <th class=\"blank\" ></th>        <th class=\"blank\" ></th>        <th class=\"blank\" ></th>        <th class=\"blank\" ></th>        <th class=\"blank\" ></th>        <th class=\"blank\" ></th>        <th class=\"blank\" ></th>        <th class=\"blank\" ></th>        <th class=\"blank\" ></th>        <th class=\"blank\" ></th>        <th class=\"blank\" ></th>        <th class=\"blank\" ></th>        <th class=\"blank\" ></th>        <th class=\"blank\" ></th>    </tr></thead><tbody>\n",
              "                <tr>\n",
              "                        <th id=\"T_f4b80a82_03cb_11eb_9562_0242ac1c0002level0_row0\" class=\"row_heading level0 row0\" >Chechen Republic</th>\n",
              "                        <td id=\"T_f4b80a82_03cb_11eb_9562_0242ac1c0002row0_col0\" class=\"data row0 col0\" >0.000000</td>\n",
              "                        <td id=\"T_f4b80a82_03cb_11eb_9562_0242ac1c0002row0_col1\" class=\"data row0 col1\" >0.000000</td>\n",
              "                        <td id=\"T_f4b80a82_03cb_11eb_9562_0242ac1c0002row0_col2\" class=\"data row0 col2\" >0.000000</td>\n",
              "                        <td id=\"T_f4b80a82_03cb_11eb_9562_0242ac1c0002row0_col3\" class=\"data row0 col3\" >0.000000</td>\n",
              "                        <td id=\"T_f4b80a82_03cb_11eb_9562_0242ac1c0002row0_col4\" class=\"data row0 col4\" >0.000000</td>\n",
              "                        <td id=\"T_f4b80a82_03cb_11eb_9562_0242ac1c0002row0_col5\" class=\"data row0 col5\" >0.000000</td>\n",
              "                        <td id=\"T_f4b80a82_03cb_11eb_9562_0242ac1c0002row0_col6\" class=\"data row0 col6\" >0.000000</td>\n",
              "                        <td id=\"T_f4b80a82_03cb_11eb_9562_0242ac1c0002row0_col7\" class=\"data row0 col7\" >0.000000</td>\n",
              "                        <td id=\"T_f4b80a82_03cb_11eb_9562_0242ac1c0002row0_col8\" class=\"data row0 col8\" >0.000000</td>\n",
              "                        <td id=\"T_f4b80a82_03cb_11eb_9562_0242ac1c0002row0_col9\" class=\"data row0 col9\" >0.000000</td>\n",
              "                        <td id=\"T_f4b80a82_03cb_11eb_9562_0242ac1c0002row0_col10\" class=\"data row0 col10\" >0.000000</td>\n",
              "                        <td id=\"T_f4b80a82_03cb_11eb_9562_0242ac1c0002row0_col11\" class=\"data row0 col11\" >0.000000</td>\n",
              "                        <td id=\"T_f4b80a82_03cb_11eb_9562_0242ac1c0002row0_col12\" class=\"data row0 col12\" >0.000000</td>\n",
              "                        <td id=\"T_f4b80a82_03cb_11eb_9562_0242ac1c0002row0_col13\" class=\"data row0 col13\" >0.000000</td>\n",
              "                        <td id=\"T_f4b80a82_03cb_11eb_9562_0242ac1c0002row0_col14\" class=\"data row0 col14\" >0.000000</td>\n",
              "                        <td id=\"T_f4b80a82_03cb_11eb_9562_0242ac1c0002row0_col15\" class=\"data row0 col15\" >0.000000</td>\n",
              "                        <td id=\"T_f4b80a82_03cb_11eb_9562_0242ac1c0002row0_col16\" class=\"data row0 col16\" >0.000000</td>\n",
              "                        <td id=\"T_f4b80a82_03cb_11eb_9562_0242ac1c0002row0_col17\" class=\"data row0 col17\" >0.000000</td>\n",
              "                        <td id=\"T_f4b80a82_03cb_11eb_9562_0242ac1c0002row0_col18\" class=\"data row0 col18\" >0.000000</td>\n",
              "            </tr>\n",
              "            <tr>\n",
              "                        <th id=\"T_f4b80a82_03cb_11eb_9562_0242ac1c0002level0_row1\" class=\"row_heading level0 row1\" >Karachay-Cherkess Republic</th>\n",
              "                        <td id=\"T_f4b80a82_03cb_11eb_9562_0242ac1c0002row1_col0\" class=\"data row1 col0\" >0.100000</td>\n",
              "                        <td id=\"T_f4b80a82_03cb_11eb_9562_0242ac1c0002row1_col1\" class=\"data row1 col1\" >0.100000</td>\n",
              "                        <td id=\"T_f4b80a82_03cb_11eb_9562_0242ac1c0002row1_col2\" class=\"data row1 col2\" >0.200000</td>\n",
              "                        <td id=\"T_f4b80a82_03cb_11eb_9562_0242ac1c0002row1_col3\" class=\"data row1 col3\" >0.200000</td>\n",
              "                        <td id=\"T_f4b80a82_03cb_11eb_9562_0242ac1c0002row1_col4\" class=\"data row1 col4\" >0.200000</td>\n",
              "                        <td id=\"T_f4b80a82_03cb_11eb_9562_0242ac1c0002row1_col5\" class=\"data row1 col5\" >0.200000</td>\n",
              "                        <td id=\"T_f4b80a82_03cb_11eb_9562_0242ac1c0002row1_col6\" class=\"data row1 col6\" >0.300000</td>\n",
              "                        <td id=\"T_f4b80a82_03cb_11eb_9562_0242ac1c0002row1_col7\" class=\"data row1 col7\" >0.400000</td>\n",
              "                        <td id=\"T_f4b80a82_03cb_11eb_9562_0242ac1c0002row1_col8\" class=\"data row1 col8\" >0.400000</td>\n",
              "                        <td id=\"T_f4b80a82_03cb_11eb_9562_0242ac1c0002row1_col9\" class=\"data row1 col9\" >0.400000</td>\n",
              "                        <td id=\"T_f4b80a82_03cb_11eb_9562_0242ac1c0002row1_col10\" class=\"data row1 col10\" >0.400000</td>\n",
              "                        <td id=\"T_f4b80a82_03cb_11eb_9562_0242ac1c0002row1_col11\" class=\"data row1 col11\" >0.400000</td>\n",
              "                        <td id=\"T_f4b80a82_03cb_11eb_9562_0242ac1c0002row1_col12\" class=\"data row1 col12\" >0.500000</td>\n",
              "                        <td id=\"T_f4b80a82_03cb_11eb_9562_0242ac1c0002row1_col13\" class=\"data row1 col13\" >0.470000</td>\n",
              "                        <td id=\"T_f4b80a82_03cb_11eb_9562_0242ac1c0002row1_col14\" class=\"data row1 col14\" >0.500000</td>\n",
              "                        <td id=\"T_f4b80a82_03cb_11eb_9562_0242ac1c0002row1_col15\" class=\"data row1 col15\" >0.400000</td>\n",
              "                        <td id=\"T_f4b80a82_03cb_11eb_9562_0242ac1c0002row1_col16\" class=\"data row1 col16\" >0.400000</td>\n",
              "                        <td id=\"T_f4b80a82_03cb_11eb_9562_0242ac1c0002row1_col17\" class=\"data row1 col17\" >0.300000</td>\n",
              "                        <td id=\"T_f4b80a82_03cb_11eb_9562_0242ac1c0002row1_col18\" class=\"data row1 col18\" >0.200000</td>\n",
              "            </tr>\n",
              "            <tr>\n",
              "                        <th id=\"T_f4b80a82_03cb_11eb_9562_0242ac1c0002level0_row2\" class=\"row_heading level0 row2\" >Kabardino-Balkar Republic</th>\n",
              "                        <td id=\"T_f4b80a82_03cb_11eb_9562_0242ac1c0002row2_col0\" class=\"data row2 col0\" >0.300000</td>\n",
              "                        <td id=\"T_f4b80a82_03cb_11eb_9562_0242ac1c0002row2_col1\" class=\"data row2 col1\" >0.400000</td>\n",
              "                        <td id=\"T_f4b80a82_03cb_11eb_9562_0242ac1c0002row2_col2\" class=\"data row2 col2\" >0.600000</td>\n",
              "                        <td id=\"T_f4b80a82_03cb_11eb_9562_0242ac1c0002row2_col3\" class=\"data row2 col3\" >0.400000</td>\n",
              "                        <td id=\"T_f4b80a82_03cb_11eb_9562_0242ac1c0002row2_col4\" class=\"data row2 col4\" >0.700000</td>\n",
              "                        <td id=\"T_f4b80a82_03cb_11eb_9562_0242ac1c0002row2_col5\" class=\"data row2 col5\" >0.800000</td>\n",
              "                        <td id=\"T_f4b80a82_03cb_11eb_9562_0242ac1c0002row2_col6\" class=\"data row2 col6\" >0.800000</td>\n",
              "                        <td id=\"T_f4b80a82_03cb_11eb_9562_0242ac1c0002row2_col7\" class=\"data row2 col7\" >1.100000</td>\n",
              "                        <td id=\"T_f4b80a82_03cb_11eb_9562_0242ac1c0002row2_col8\" class=\"data row2 col8\" >1.200000</td>\n",
              "                        <td id=\"T_f4b80a82_03cb_11eb_9562_0242ac1c0002row2_col9\" class=\"data row2 col9\" >1.000000</td>\n",
              "                        <td id=\"T_f4b80a82_03cb_11eb_9562_0242ac1c0002row2_col10\" class=\"data row2 col10\" >0.600000</td>\n",
              "                        <td id=\"T_f4b80a82_03cb_11eb_9562_0242ac1c0002row2_col11\" class=\"data row2 col11\" >0.400000</td>\n",
              "                        <td id=\"T_f4b80a82_03cb_11eb_9562_0242ac1c0002row2_col12\" class=\"data row2 col12\" >0.400000</td>\n",
              "                        <td id=\"T_f4b80a82_03cb_11eb_9562_0242ac1c0002row2_col13\" class=\"data row2 col13\" >0.550000</td>\n",
              "                        <td id=\"T_f4b80a82_03cb_11eb_9562_0242ac1c0002row2_col14\" class=\"data row2 col14\" >0.500000</td>\n",
              "                        <td id=\"T_f4b80a82_03cb_11eb_9562_0242ac1c0002row2_col15\" class=\"data row2 col15\" >0.300000</td>\n",
              "                        <td id=\"T_f4b80a82_03cb_11eb_9562_0242ac1c0002row2_col16\" class=\"data row2 col16\" >0.300000</td>\n",
              "                        <td id=\"T_f4b80a82_03cb_11eb_9562_0242ac1c0002row2_col17\" class=\"data row2 col17\" >0.300000</td>\n",
              "                        <td id=\"T_f4b80a82_03cb_11eb_9562_0242ac1c0002row2_col18\" class=\"data row2 col18\" >0.200000</td>\n",
              "            </tr>\n",
              "            <tr>\n",
              "                        <th id=\"T_f4b80a82_03cb_11eb_9562_0242ac1c0002level0_row3\" class=\"row_heading level0 row3\" >Republic of Dagestan</th>\n",
              "                        <td id=\"T_f4b80a82_03cb_11eb_9562_0242ac1c0002row3_col0\" class=\"data row3 col0\" >0.500000</td>\n",
              "                        <td id=\"T_f4b80a82_03cb_11eb_9562_0242ac1c0002row3_col1\" class=\"data row3 col1\" >0.200000</td>\n",
              "                        <td id=\"T_f4b80a82_03cb_11eb_9562_0242ac1c0002row3_col2\" class=\"data row3 col2\" >0.200000</td>\n",
              "                        <td id=\"T_f4b80a82_03cb_11eb_9562_0242ac1c0002row3_col3\" class=\"data row3 col3\" >0.400000</td>\n",
              "                        <td id=\"T_f4b80a82_03cb_11eb_9562_0242ac1c0002row3_col4\" class=\"data row3 col4\" >0.600000</td>\n",
              "                        <td id=\"T_f4b80a82_03cb_11eb_9562_0242ac1c0002row3_col5\" class=\"data row3 col5\" >1.200000</td>\n",
              "                        <td id=\"T_f4b80a82_03cb_11eb_9562_0242ac1c0002row3_col6\" class=\"data row3 col6\" >1.500000</td>\n",
              "                        <td id=\"T_f4b80a82_03cb_11eb_9562_0242ac1c0002row3_col7\" class=\"data row3 col7\" >1.500000</td>\n",
              "                        <td id=\"T_f4b80a82_03cb_11eb_9562_0242ac1c0002row3_col8\" class=\"data row3 col8\" >1.300000</td>\n",
              "                        <td id=\"T_f4b80a82_03cb_11eb_9562_0242ac1c0002row3_col9\" class=\"data row3 col9\" >1.200000</td>\n",
              "                        <td id=\"T_f4b80a82_03cb_11eb_9562_0242ac1c0002row3_col10\" class=\"data row3 col10\" >0.700000</td>\n",
              "                        <td id=\"T_f4b80a82_03cb_11eb_9562_0242ac1c0002row3_col11\" class=\"data row3 col11\" >0.700000</td>\n",
              "                        <td id=\"T_f4b80a82_03cb_11eb_9562_0242ac1c0002row3_col12\" class=\"data row3 col12\" >0.400000</td>\n",
              "                        <td id=\"T_f4b80a82_03cb_11eb_9562_0242ac1c0002row3_col13\" class=\"data row3 col13\" >0.380000</td>\n",
              "                        <td id=\"T_f4b80a82_03cb_11eb_9562_0242ac1c0002row3_col14\" class=\"data row3 col14\" >0.400000</td>\n",
              "                        <td id=\"T_f4b80a82_03cb_11eb_9562_0242ac1c0002row3_col15\" class=\"data row3 col15\" >0.300000</td>\n",
              "                        <td id=\"T_f4b80a82_03cb_11eb_9562_0242ac1c0002row3_col16\" class=\"data row3 col16\" >0.200000</td>\n",
              "                        <td id=\"T_f4b80a82_03cb_11eb_9562_0242ac1c0002row3_col17\" class=\"data row3 col17\" >0.300000</td>\n",
              "                        <td id=\"T_f4b80a82_03cb_11eb_9562_0242ac1c0002row3_col18\" class=\"data row3 col18\" >0.200000</td>\n",
              "            </tr>\n",
              "            <tr>\n",
              "                        <th id=\"T_f4b80a82_03cb_11eb_9562_0242ac1c0002level0_row4\" class=\"row_heading level0 row4\" >Republic of Kalmykia</th>\n",
              "                        <td id=\"T_f4b80a82_03cb_11eb_9562_0242ac1c0002row4_col0\" class=\"data row4 col0\" >0.300000</td>\n",
              "                        <td id=\"T_f4b80a82_03cb_11eb_9562_0242ac1c0002row4_col1\" class=\"data row4 col1\" >0.600000</td>\n",
              "                        <td id=\"T_f4b80a82_03cb_11eb_9562_0242ac1c0002row4_col2\" class=\"data row4 col2\" >0.900000</td>\n",
              "                        <td id=\"T_f4b80a82_03cb_11eb_9562_0242ac1c0002row4_col3\" class=\"data row4 col3\" >1.300000</td>\n",
              "                        <td id=\"T_f4b80a82_03cb_11eb_9562_0242ac1c0002row4_col4\" class=\"data row4 col4\" >1.500000</td>\n",
              "                        <td id=\"T_f4b80a82_03cb_11eb_9562_0242ac1c0002row4_col5\" class=\"data row4 col5\" >1.400000</td>\n",
              "                        <td id=\"T_f4b80a82_03cb_11eb_9562_0242ac1c0002row4_col6\" class=\"data row4 col6\" >1.400000</td>\n",
              "                        <td id=\"T_f4b80a82_03cb_11eb_9562_0242ac1c0002row4_col7\" class=\"data row4 col7\" >1.600000</td>\n",
              "                        <td id=\"T_f4b80a82_03cb_11eb_9562_0242ac1c0002row4_col8\" class=\"data row4 col8\" >1.600000</td>\n",
              "                        <td id=\"T_f4b80a82_03cb_11eb_9562_0242ac1c0002row4_col9\" class=\"data row4 col9\" >0.600000</td>\n",
              "                        <td id=\"T_f4b80a82_03cb_11eb_9562_0242ac1c0002row4_col10\" class=\"data row4 col10\" >0.400000</td>\n",
              "                        <td id=\"T_f4b80a82_03cb_11eb_9562_0242ac1c0002row4_col11\" class=\"data row4 col11\" >0.300000</td>\n",
              "                        <td id=\"T_f4b80a82_03cb_11eb_9562_0242ac1c0002row4_col12\" class=\"data row4 col12\" >0.300000</td>\n",
              "                        <td id=\"T_f4b80a82_03cb_11eb_9562_0242ac1c0002row4_col13\" class=\"data row4 col13\" >0.330000</td>\n",
              "                        <td id=\"T_f4b80a82_03cb_11eb_9562_0242ac1c0002row4_col14\" class=\"data row4 col14\" >0.400000</td>\n",
              "                        <td id=\"T_f4b80a82_03cb_11eb_9562_0242ac1c0002row4_col15\" class=\"data row4 col15\" >0.300000</td>\n",
              "                        <td id=\"T_f4b80a82_03cb_11eb_9562_0242ac1c0002row4_col16\" class=\"data row4 col16\" >0.300000</td>\n",
              "                        <td id=\"T_f4b80a82_03cb_11eb_9562_0242ac1c0002row4_col17\" class=\"data row4 col17\" >0.300000</td>\n",
              "                        <td id=\"T_f4b80a82_03cb_11eb_9562_0242ac1c0002row4_col18\" class=\"data row4 col18\" >0.300000</td>\n",
              "            </tr>\n",
              "    </tbody></table>"
            ],
            "text/plain": [
              "<pandas.io.formats.style.Styler at 0x7ffa00e8f5f8>"
            ]
          },
          "metadata": {
            "tags": []
          },
          "execution_count": 48
        }
      ]
    },
    {
      "cell_type": "markdown",
      "metadata": {
        "id": "OC4pvwleY7yb"
      },
      "source": [
        "В 2016 году ТОП-5 регионов с самым низким потреблением шампанского стал выглядеть так.\n",
        "1. Кабардино-Балкария - 0.2 литра\n",
        "2. Дагестан - 0.2 литра\n",
        "3. Карачаево-Черкессия - 0.2 литра\n",
        "4. Калмыкия - 0.3 литра\n",
        "5. Северная Осетия - 0.4 литра\n",
        "\n",
        "Юг России остается регионом с самым низким потреблением шампанского на 2016 год. "
      ]
    },
    {
      "cell_type": "markdown",
      "metadata": {
        "id": "VEmLDYZhscF-"
      },
      "source": [
        "**ТОП 5 регионов по потреблению бренди на душу населения**"
      ]
    },
    {
      "cell_type": "code",
      "metadata": {
        "id": "1nc49fPJsh6D",
        "outputId": "eeb329f8-4b75-464f-defb-85ee6018f683",
        "colab": {
          "base_uri": "https://localhost:8080/",
          "height": 236
        }
      },
      "source": [
        "brandy_region = pd.pivot_table(df_filter, values='brandy', index='region', columns='year', aggfunc='sum')\n",
        "\n",
        "brandy_region.sort_values(by=1998, ascending=False).head(5).style.applymap(lambda x: \"background-color: #e65a71\" if x>df_region_mean['brandy'].mean() else \"background-color: white\")   "
      ],
      "execution_count": 49,
      "outputs": [
        {
          "output_type": "execute_result",
          "data": {
            "text/html": [
              "<style  type=\"text/css\" >\n",
              "#T_f4c10722_03cb_11eb_9562_0242ac1c0002row0_col0,#T_f4c10722_03cb_11eb_9562_0242ac1c0002row0_col1,#T_f4c10722_03cb_11eb_9562_0242ac1c0002row0_col2,#T_f4c10722_03cb_11eb_9562_0242ac1c0002row0_col3,#T_f4c10722_03cb_11eb_9562_0242ac1c0002row0_col4,#T_f4c10722_03cb_11eb_9562_0242ac1c0002row0_col5,#T_f4c10722_03cb_11eb_9562_0242ac1c0002row0_col6,#T_f4c10722_03cb_11eb_9562_0242ac1c0002row0_col7,#T_f4c10722_03cb_11eb_9562_0242ac1c0002row0_col8,#T_f4c10722_03cb_11eb_9562_0242ac1c0002row0_col9,#T_f4c10722_03cb_11eb_9562_0242ac1c0002row0_col10,#T_f4c10722_03cb_11eb_9562_0242ac1c0002row0_col11,#T_f4c10722_03cb_11eb_9562_0242ac1c0002row0_col12,#T_f4c10722_03cb_11eb_9562_0242ac1c0002row0_col13,#T_f4c10722_03cb_11eb_9562_0242ac1c0002row0_col14,#T_f4c10722_03cb_11eb_9562_0242ac1c0002row0_col15,#T_f4c10722_03cb_11eb_9562_0242ac1c0002row0_col16,#T_f4c10722_03cb_11eb_9562_0242ac1c0002row0_col17,#T_f4c10722_03cb_11eb_9562_0242ac1c0002row0_col18,#T_f4c10722_03cb_11eb_9562_0242ac1c0002row1_col0,#T_f4c10722_03cb_11eb_9562_0242ac1c0002row1_col1,#T_f4c10722_03cb_11eb_9562_0242ac1c0002row1_col2,#T_f4c10722_03cb_11eb_9562_0242ac1c0002row1_col3,#T_f4c10722_03cb_11eb_9562_0242ac1c0002row1_col4,#T_f4c10722_03cb_11eb_9562_0242ac1c0002row1_col5,#T_f4c10722_03cb_11eb_9562_0242ac1c0002row1_col6,#T_f4c10722_03cb_11eb_9562_0242ac1c0002row1_col7,#T_f4c10722_03cb_11eb_9562_0242ac1c0002row1_col8,#T_f4c10722_03cb_11eb_9562_0242ac1c0002row1_col9,#T_f4c10722_03cb_11eb_9562_0242ac1c0002row1_col10,#T_f4c10722_03cb_11eb_9562_0242ac1c0002row1_col11,#T_f4c10722_03cb_11eb_9562_0242ac1c0002row1_col12,#T_f4c10722_03cb_11eb_9562_0242ac1c0002row1_col13,#T_f4c10722_03cb_11eb_9562_0242ac1c0002row1_col14,#T_f4c10722_03cb_11eb_9562_0242ac1c0002row1_col15,#T_f4c10722_03cb_11eb_9562_0242ac1c0002row1_col16,#T_f4c10722_03cb_11eb_9562_0242ac1c0002row1_col17,#T_f4c10722_03cb_11eb_9562_0242ac1c0002row1_col18,#T_f4c10722_03cb_11eb_9562_0242ac1c0002row2_col0,#T_f4c10722_03cb_11eb_9562_0242ac1c0002row2_col1,#T_f4c10722_03cb_11eb_9562_0242ac1c0002row2_col2,#T_f4c10722_03cb_11eb_9562_0242ac1c0002row2_col3,#T_f4c10722_03cb_11eb_9562_0242ac1c0002row2_col4,#T_f4c10722_03cb_11eb_9562_0242ac1c0002row2_col5,#T_f4c10722_03cb_11eb_9562_0242ac1c0002row2_col6,#T_f4c10722_03cb_11eb_9562_0242ac1c0002row2_col7,#T_f4c10722_03cb_11eb_9562_0242ac1c0002row2_col8,#T_f4c10722_03cb_11eb_9562_0242ac1c0002row2_col9,#T_f4c10722_03cb_11eb_9562_0242ac1c0002row2_col10,#T_f4c10722_03cb_11eb_9562_0242ac1c0002row2_col11,#T_f4c10722_03cb_11eb_9562_0242ac1c0002row2_col12,#T_f4c10722_03cb_11eb_9562_0242ac1c0002row2_col13,#T_f4c10722_03cb_11eb_9562_0242ac1c0002row2_col14,#T_f4c10722_03cb_11eb_9562_0242ac1c0002row2_col15,#T_f4c10722_03cb_11eb_9562_0242ac1c0002row2_col16,#T_f4c10722_03cb_11eb_9562_0242ac1c0002row2_col17,#T_f4c10722_03cb_11eb_9562_0242ac1c0002row2_col18,#T_f4c10722_03cb_11eb_9562_0242ac1c0002row3_col0,#T_f4c10722_03cb_11eb_9562_0242ac1c0002row4_col0,#T_f4c10722_03cb_11eb_9562_0242ac1c0002row4_col1,#T_f4c10722_03cb_11eb_9562_0242ac1c0002row4_col2,#T_f4c10722_03cb_11eb_9562_0242ac1c0002row4_col3,#T_f4c10722_03cb_11eb_9562_0242ac1c0002row4_col4,#T_f4c10722_03cb_11eb_9562_0242ac1c0002row4_col5,#T_f4c10722_03cb_11eb_9562_0242ac1c0002row4_col6,#T_f4c10722_03cb_11eb_9562_0242ac1c0002row4_col7,#T_f4c10722_03cb_11eb_9562_0242ac1c0002row4_col8,#T_f4c10722_03cb_11eb_9562_0242ac1c0002row4_col9,#T_f4c10722_03cb_11eb_9562_0242ac1c0002row4_col10,#T_f4c10722_03cb_11eb_9562_0242ac1c0002row4_col11,#T_f4c10722_03cb_11eb_9562_0242ac1c0002row4_col12,#T_f4c10722_03cb_11eb_9562_0242ac1c0002row4_col13,#T_f4c10722_03cb_11eb_9562_0242ac1c0002row4_col14,#T_f4c10722_03cb_11eb_9562_0242ac1c0002row4_col15,#T_f4c10722_03cb_11eb_9562_0242ac1c0002row4_col16,#T_f4c10722_03cb_11eb_9562_0242ac1c0002row4_col17,#T_f4c10722_03cb_11eb_9562_0242ac1c0002row4_col18{\n",
              "            background-color:  #e65a71;\n",
              "        }#T_f4c10722_03cb_11eb_9562_0242ac1c0002row3_col1,#T_f4c10722_03cb_11eb_9562_0242ac1c0002row3_col2,#T_f4c10722_03cb_11eb_9562_0242ac1c0002row3_col3,#T_f4c10722_03cb_11eb_9562_0242ac1c0002row3_col4,#T_f4c10722_03cb_11eb_9562_0242ac1c0002row3_col5,#T_f4c10722_03cb_11eb_9562_0242ac1c0002row3_col6,#T_f4c10722_03cb_11eb_9562_0242ac1c0002row3_col7,#T_f4c10722_03cb_11eb_9562_0242ac1c0002row3_col8,#T_f4c10722_03cb_11eb_9562_0242ac1c0002row3_col9,#T_f4c10722_03cb_11eb_9562_0242ac1c0002row3_col10,#T_f4c10722_03cb_11eb_9562_0242ac1c0002row3_col11,#T_f4c10722_03cb_11eb_9562_0242ac1c0002row3_col12,#T_f4c10722_03cb_11eb_9562_0242ac1c0002row3_col13,#T_f4c10722_03cb_11eb_9562_0242ac1c0002row3_col14,#T_f4c10722_03cb_11eb_9562_0242ac1c0002row3_col15,#T_f4c10722_03cb_11eb_9562_0242ac1c0002row3_col16,#T_f4c10722_03cb_11eb_9562_0242ac1c0002row3_col17,#T_f4c10722_03cb_11eb_9562_0242ac1c0002row3_col18{\n",
              "            background-color:  white;\n",
              "        }</style><table id=\"T_f4c10722_03cb_11eb_9562_0242ac1c0002\" ><thead>    <tr>        <th class=\"index_name level0\" >year</th>        <th class=\"col_heading level0 col0\" >1998</th>        <th class=\"col_heading level0 col1\" >1999</th>        <th class=\"col_heading level0 col2\" >2000</th>        <th class=\"col_heading level0 col3\" >2001</th>        <th class=\"col_heading level0 col4\" >2002</th>        <th class=\"col_heading level0 col5\" >2003</th>        <th class=\"col_heading level0 col6\" >2004</th>        <th class=\"col_heading level0 col7\" >2005</th>        <th class=\"col_heading level0 col8\" >2006</th>        <th class=\"col_heading level0 col9\" >2007</th>        <th class=\"col_heading level0 col10\" >2008</th>        <th class=\"col_heading level0 col11\" >2009</th>        <th class=\"col_heading level0 col12\" >2010</th>        <th class=\"col_heading level0 col13\" >2011</th>        <th class=\"col_heading level0 col14\" >2012</th>        <th class=\"col_heading level0 col15\" >2013</th>        <th class=\"col_heading level0 col16\" >2014</th>        <th class=\"col_heading level0 col17\" >2015</th>        <th class=\"col_heading level0 col18\" >2016</th>    </tr>    <tr>        <th class=\"index_name level0\" >region</th>        <th class=\"blank\" ></th>        <th class=\"blank\" ></th>        <th class=\"blank\" ></th>        <th class=\"blank\" ></th>        <th class=\"blank\" ></th>        <th class=\"blank\" ></th>        <th class=\"blank\" ></th>        <th class=\"blank\" ></th>        <th class=\"blank\" ></th>        <th class=\"blank\" ></th>        <th class=\"blank\" ></th>        <th class=\"blank\" ></th>        <th class=\"blank\" ></th>        <th class=\"blank\" ></th>        <th class=\"blank\" ></th>        <th class=\"blank\" ></th>        <th class=\"blank\" ></th>        <th class=\"blank\" ></th>        <th class=\"blank\" ></th>    </tr></thead><tbody>\n",
              "                <tr>\n",
              "                        <th id=\"T_f4c10722_03cb_11eb_9562_0242ac1c0002level0_row0\" class=\"row_heading level0 row0\" >Sevastopol</th>\n",
              "                        <td id=\"T_f4c10722_03cb_11eb_9562_0242ac1c0002row0_col0\" class=\"data row0 col0\" >1.100000</td>\n",
              "                        <td id=\"T_f4c10722_03cb_11eb_9562_0242ac1c0002row0_col1\" class=\"data row0 col1\" >1.100000</td>\n",
              "                        <td id=\"T_f4c10722_03cb_11eb_9562_0242ac1c0002row0_col2\" class=\"data row0 col2\" >1.100000</td>\n",
              "                        <td id=\"T_f4c10722_03cb_11eb_9562_0242ac1c0002row0_col3\" class=\"data row0 col3\" >1.100000</td>\n",
              "                        <td id=\"T_f4c10722_03cb_11eb_9562_0242ac1c0002row0_col4\" class=\"data row0 col4\" >1.100000</td>\n",
              "                        <td id=\"T_f4c10722_03cb_11eb_9562_0242ac1c0002row0_col5\" class=\"data row0 col5\" >1.100000</td>\n",
              "                        <td id=\"T_f4c10722_03cb_11eb_9562_0242ac1c0002row0_col6\" class=\"data row0 col6\" >1.100000</td>\n",
              "                        <td id=\"T_f4c10722_03cb_11eb_9562_0242ac1c0002row0_col7\" class=\"data row0 col7\" >1.100000</td>\n",
              "                        <td id=\"T_f4c10722_03cb_11eb_9562_0242ac1c0002row0_col8\" class=\"data row0 col8\" >1.100000</td>\n",
              "                        <td id=\"T_f4c10722_03cb_11eb_9562_0242ac1c0002row0_col9\" class=\"data row0 col9\" >1.100000</td>\n",
              "                        <td id=\"T_f4c10722_03cb_11eb_9562_0242ac1c0002row0_col10\" class=\"data row0 col10\" >1.100000</td>\n",
              "                        <td id=\"T_f4c10722_03cb_11eb_9562_0242ac1c0002row0_col11\" class=\"data row0 col11\" >1.100000</td>\n",
              "                        <td id=\"T_f4c10722_03cb_11eb_9562_0242ac1c0002row0_col12\" class=\"data row0 col12\" >1.100000</td>\n",
              "                        <td id=\"T_f4c10722_03cb_11eb_9562_0242ac1c0002row0_col13\" class=\"data row0 col13\" >1.100000</td>\n",
              "                        <td id=\"T_f4c10722_03cb_11eb_9562_0242ac1c0002row0_col14\" class=\"data row0 col14\" >1.100000</td>\n",
              "                        <td id=\"T_f4c10722_03cb_11eb_9562_0242ac1c0002row0_col15\" class=\"data row0 col15\" >1.100000</td>\n",
              "                        <td id=\"T_f4c10722_03cb_11eb_9562_0242ac1c0002row0_col16\" class=\"data row0 col16\" >1.300000</td>\n",
              "                        <td id=\"T_f4c10722_03cb_11eb_9562_0242ac1c0002row0_col17\" class=\"data row0 col17\" >0.900000</td>\n",
              "                        <td id=\"T_f4c10722_03cb_11eb_9562_0242ac1c0002row0_col18\" class=\"data row0 col18\" >1.100000</td>\n",
              "            </tr>\n",
              "            <tr>\n",
              "                        <th id=\"T_f4c10722_03cb_11eb_9562_0242ac1c0002level0_row1\" class=\"row_heading level0 row1\" >Republic of Crimea</th>\n",
              "                        <td id=\"T_f4c10722_03cb_11eb_9562_0242ac1c0002row1_col0\" class=\"data row1 col0\" >0.900000</td>\n",
              "                        <td id=\"T_f4c10722_03cb_11eb_9562_0242ac1c0002row1_col1\" class=\"data row1 col1\" >0.900000</td>\n",
              "                        <td id=\"T_f4c10722_03cb_11eb_9562_0242ac1c0002row1_col2\" class=\"data row1 col2\" >0.900000</td>\n",
              "                        <td id=\"T_f4c10722_03cb_11eb_9562_0242ac1c0002row1_col3\" class=\"data row1 col3\" >0.900000</td>\n",
              "                        <td id=\"T_f4c10722_03cb_11eb_9562_0242ac1c0002row1_col4\" class=\"data row1 col4\" >0.900000</td>\n",
              "                        <td id=\"T_f4c10722_03cb_11eb_9562_0242ac1c0002row1_col5\" class=\"data row1 col5\" >0.900000</td>\n",
              "                        <td id=\"T_f4c10722_03cb_11eb_9562_0242ac1c0002row1_col6\" class=\"data row1 col6\" >0.900000</td>\n",
              "                        <td id=\"T_f4c10722_03cb_11eb_9562_0242ac1c0002row1_col7\" class=\"data row1 col7\" >0.900000</td>\n",
              "                        <td id=\"T_f4c10722_03cb_11eb_9562_0242ac1c0002row1_col8\" class=\"data row1 col8\" >0.900000</td>\n",
              "                        <td id=\"T_f4c10722_03cb_11eb_9562_0242ac1c0002row1_col9\" class=\"data row1 col9\" >0.900000</td>\n",
              "                        <td id=\"T_f4c10722_03cb_11eb_9562_0242ac1c0002row1_col10\" class=\"data row1 col10\" >0.900000</td>\n",
              "                        <td id=\"T_f4c10722_03cb_11eb_9562_0242ac1c0002row1_col11\" class=\"data row1 col11\" >0.900000</td>\n",
              "                        <td id=\"T_f4c10722_03cb_11eb_9562_0242ac1c0002row1_col12\" class=\"data row1 col12\" >0.900000</td>\n",
              "                        <td id=\"T_f4c10722_03cb_11eb_9562_0242ac1c0002row1_col13\" class=\"data row1 col13\" >0.900000</td>\n",
              "                        <td id=\"T_f4c10722_03cb_11eb_9562_0242ac1c0002row1_col14\" class=\"data row1 col14\" >0.900000</td>\n",
              "                        <td id=\"T_f4c10722_03cb_11eb_9562_0242ac1c0002row1_col15\" class=\"data row1 col15\" >0.900000</td>\n",
              "                        <td id=\"T_f4c10722_03cb_11eb_9562_0242ac1c0002row1_col16\" class=\"data row1 col16\" >1.100000</td>\n",
              "                        <td id=\"T_f4c10722_03cb_11eb_9562_0242ac1c0002row1_col17\" class=\"data row1 col17\" >0.900000</td>\n",
              "                        <td id=\"T_f4c10722_03cb_11eb_9562_0242ac1c0002row1_col18\" class=\"data row1 col18\" >0.700000</td>\n",
              "            </tr>\n",
              "            <tr>\n",
              "                        <th id=\"T_f4c10722_03cb_11eb_9562_0242ac1c0002level0_row2\" class=\"row_heading level0 row2\" >Moscow</th>\n",
              "                        <td id=\"T_f4c10722_03cb_11eb_9562_0242ac1c0002row2_col0\" class=\"data row2 col0\" >0.700000</td>\n",
              "                        <td id=\"T_f4c10722_03cb_11eb_9562_0242ac1c0002row2_col1\" class=\"data row2 col1\" >0.700000</td>\n",
              "                        <td id=\"T_f4c10722_03cb_11eb_9562_0242ac1c0002row2_col2\" class=\"data row2 col2\" >0.600000</td>\n",
              "                        <td id=\"T_f4c10722_03cb_11eb_9562_0242ac1c0002row2_col3\" class=\"data row2 col3\" >0.700000</td>\n",
              "                        <td id=\"T_f4c10722_03cb_11eb_9562_0242ac1c0002row2_col4\" class=\"data row2 col4\" >0.900000</td>\n",
              "                        <td id=\"T_f4c10722_03cb_11eb_9562_0242ac1c0002row2_col5\" class=\"data row2 col5\" >0.900000</td>\n",
              "                        <td id=\"T_f4c10722_03cb_11eb_9562_0242ac1c0002row2_col6\" class=\"data row2 col6\" >1.000000</td>\n",
              "                        <td id=\"T_f4c10722_03cb_11eb_9562_0242ac1c0002row2_col7\" class=\"data row2 col7\" >1.000000</td>\n",
              "                        <td id=\"T_f4c10722_03cb_11eb_9562_0242ac1c0002row2_col8\" class=\"data row2 col8\" >1.200000</td>\n",
              "                        <td id=\"T_f4c10722_03cb_11eb_9562_0242ac1c0002row2_col9\" class=\"data row2 col9\" >1.500000</td>\n",
              "                        <td id=\"T_f4c10722_03cb_11eb_9562_0242ac1c0002row2_col10\" class=\"data row2 col10\" >1.600000</td>\n",
              "                        <td id=\"T_f4c10722_03cb_11eb_9562_0242ac1c0002row2_col11\" class=\"data row2 col11\" >1.800000</td>\n",
              "                        <td id=\"T_f4c10722_03cb_11eb_9562_0242ac1c0002row2_col12\" class=\"data row2 col12\" >1.800000</td>\n",
              "                        <td id=\"T_f4c10722_03cb_11eb_9562_0242ac1c0002row2_col13\" class=\"data row2 col13\" >1.800000</td>\n",
              "                        <td id=\"T_f4c10722_03cb_11eb_9562_0242ac1c0002row2_col14\" class=\"data row2 col14\" >1.700000</td>\n",
              "                        <td id=\"T_f4c10722_03cb_11eb_9562_0242ac1c0002row2_col15\" class=\"data row2 col15\" >1.700000</td>\n",
              "                        <td id=\"T_f4c10722_03cb_11eb_9562_0242ac1c0002row2_col16\" class=\"data row2 col16\" >1.700000</td>\n",
              "                        <td id=\"T_f4c10722_03cb_11eb_9562_0242ac1c0002row2_col17\" class=\"data row2 col17\" >1.500000</td>\n",
              "                        <td id=\"T_f4c10722_03cb_11eb_9562_0242ac1c0002row2_col18\" class=\"data row2 col18\" >1.100000</td>\n",
              "            </tr>\n",
              "            <tr>\n",
              "                        <th id=\"T_f4c10722_03cb_11eb_9562_0242ac1c0002level0_row3\" class=\"row_heading level0 row3\" >Omsk Oblast</th>\n",
              "                        <td id=\"T_f4c10722_03cb_11eb_9562_0242ac1c0002row3_col0\" class=\"data row3 col0\" >0.600000</td>\n",
              "                        <td id=\"T_f4c10722_03cb_11eb_9562_0242ac1c0002row3_col1\" class=\"data row3 col1\" >0.500000</td>\n",
              "                        <td id=\"T_f4c10722_03cb_11eb_9562_0242ac1c0002row3_col2\" class=\"data row3 col2\" >0.300000</td>\n",
              "                        <td id=\"T_f4c10722_03cb_11eb_9562_0242ac1c0002row3_col3\" class=\"data row3 col3\" >0.300000</td>\n",
              "                        <td id=\"T_f4c10722_03cb_11eb_9562_0242ac1c0002row3_col4\" class=\"data row3 col4\" >0.300000</td>\n",
              "                        <td id=\"T_f4c10722_03cb_11eb_9562_0242ac1c0002row3_col5\" class=\"data row3 col5\" >0.300000</td>\n",
              "                        <td id=\"T_f4c10722_03cb_11eb_9562_0242ac1c0002row3_col6\" class=\"data row3 col6\" >0.300000</td>\n",
              "                        <td id=\"T_f4c10722_03cb_11eb_9562_0242ac1c0002row3_col7\" class=\"data row3 col7\" >0.300000</td>\n",
              "                        <td id=\"T_f4c10722_03cb_11eb_9562_0242ac1c0002row3_col8\" class=\"data row3 col8\" >0.300000</td>\n",
              "                        <td id=\"T_f4c10722_03cb_11eb_9562_0242ac1c0002row3_col9\" class=\"data row3 col9\" >0.200000</td>\n",
              "                        <td id=\"T_f4c10722_03cb_11eb_9562_0242ac1c0002row3_col10\" class=\"data row3 col10\" >0.300000</td>\n",
              "                        <td id=\"T_f4c10722_03cb_11eb_9562_0242ac1c0002row3_col11\" class=\"data row3 col11\" >0.300000</td>\n",
              "                        <td id=\"T_f4c10722_03cb_11eb_9562_0242ac1c0002row3_col12\" class=\"data row3 col12\" >0.400000</td>\n",
              "                        <td id=\"T_f4c10722_03cb_11eb_9562_0242ac1c0002row3_col13\" class=\"data row3 col13\" >0.440000</td>\n",
              "                        <td id=\"T_f4c10722_03cb_11eb_9562_0242ac1c0002row3_col14\" class=\"data row3 col14\" >0.500000</td>\n",
              "                        <td id=\"T_f4c10722_03cb_11eb_9562_0242ac1c0002row3_col15\" class=\"data row3 col15\" >0.500000</td>\n",
              "                        <td id=\"T_f4c10722_03cb_11eb_9562_0242ac1c0002row3_col16\" class=\"data row3 col16\" >0.500000</td>\n",
              "                        <td id=\"T_f4c10722_03cb_11eb_9562_0242ac1c0002row3_col17\" class=\"data row3 col17\" >0.400000</td>\n",
              "                        <td id=\"T_f4c10722_03cb_11eb_9562_0242ac1c0002row3_col18\" class=\"data row3 col18\" >0.500000</td>\n",
              "            </tr>\n",
              "            <tr>\n",
              "                        <th id=\"T_f4c10722_03cb_11eb_9562_0242ac1c0002level0_row4\" class=\"row_heading level0 row4\" >Murmansk Oblast</th>\n",
              "                        <td id=\"T_f4c10722_03cb_11eb_9562_0242ac1c0002row4_col0\" class=\"data row4 col0\" >0.600000</td>\n",
              "                        <td id=\"T_f4c10722_03cb_11eb_9562_0242ac1c0002row4_col1\" class=\"data row4 col1\" >0.600000</td>\n",
              "                        <td id=\"T_f4c10722_03cb_11eb_9562_0242ac1c0002row4_col2\" class=\"data row4 col2\" >0.600000</td>\n",
              "                        <td id=\"T_f4c10722_03cb_11eb_9562_0242ac1c0002row4_col3\" class=\"data row4 col3\" >0.600000</td>\n",
              "                        <td id=\"T_f4c10722_03cb_11eb_9562_0242ac1c0002row4_col4\" class=\"data row4 col4\" >0.600000</td>\n",
              "                        <td id=\"T_f4c10722_03cb_11eb_9562_0242ac1c0002row4_col5\" class=\"data row4 col5\" >0.700000</td>\n",
              "                        <td id=\"T_f4c10722_03cb_11eb_9562_0242ac1c0002row4_col6\" class=\"data row4 col6\" >0.700000</td>\n",
              "                        <td id=\"T_f4c10722_03cb_11eb_9562_0242ac1c0002row4_col7\" class=\"data row4 col7\" >0.700000</td>\n",
              "                        <td id=\"T_f4c10722_03cb_11eb_9562_0242ac1c0002row4_col8\" class=\"data row4 col8\" >0.800000</td>\n",
              "                        <td id=\"T_f4c10722_03cb_11eb_9562_0242ac1c0002row4_col9\" class=\"data row4 col9\" >0.900000</td>\n",
              "                        <td id=\"T_f4c10722_03cb_11eb_9562_0242ac1c0002row4_col10\" class=\"data row4 col10\" >1.300000</td>\n",
              "                        <td id=\"T_f4c10722_03cb_11eb_9562_0242ac1c0002row4_col11\" class=\"data row4 col11\" >1.400000</td>\n",
              "                        <td id=\"T_f4c10722_03cb_11eb_9562_0242ac1c0002row4_col12\" class=\"data row4 col12\" >1.500000</td>\n",
              "                        <td id=\"T_f4c10722_03cb_11eb_9562_0242ac1c0002row4_col13\" class=\"data row4 col13\" >1.520000</td>\n",
              "                        <td id=\"T_f4c10722_03cb_11eb_9562_0242ac1c0002row4_col14\" class=\"data row4 col14\" >1.700000</td>\n",
              "                        <td id=\"T_f4c10722_03cb_11eb_9562_0242ac1c0002row4_col15\" class=\"data row4 col15\" >1.700000</td>\n",
              "                        <td id=\"T_f4c10722_03cb_11eb_9562_0242ac1c0002row4_col16\" class=\"data row4 col16\" >1.700000</td>\n",
              "                        <td id=\"T_f4c10722_03cb_11eb_9562_0242ac1c0002row4_col17\" class=\"data row4 col17\" >1.900000</td>\n",
              "                        <td id=\"T_f4c10722_03cb_11eb_9562_0242ac1c0002row4_col18\" class=\"data row4 col18\" >1.900000</td>\n",
              "            </tr>\n",
              "    </tbody></table>"
            ],
            "text/plain": [
              "<pandas.io.formats.style.Styler at 0x7ffa00e4d748>"
            ]
          },
          "metadata": {
            "tags": []
          },
          "execution_count": 49
        }
      ]
    },
    {
      "cell_type": "markdown",
      "metadata": {
        "id": "Armhv41Msio4"
      },
      "source": [
        "Потребление бренди в России находится на невысоком уровне, так же как и потребление шампанского.\n",
        "ТОП 5 регионов по потреблению бренди в 1998 году выглядел так.\n",
        "1. Севастополь - 1.1. литра\n",
        "2. Крым - 0.9 литра\n",
        "3. Московская область - 0.7 литра\n",
        "4. Омская область - 0.6 литра\n",
        "5. Мурманская область - 0.6 литра\n",
        "\n",
        "Самое высокое потребление бренди в России в 1998 году приходится на Крым, что объясняется производством данного напитка в этом регионе. Сразу после региона производителя идет Москва, как регион с более высоким уровнем жизни, где население может позволить себе покупать более дорогие напитки."
      ]
    },
    {
      "cell_type": "code",
      "metadata": {
        "id": "ZNozM2LNsmB1",
        "outputId": "1a90ab8f-ad19-4f8d-a8f6-f52a98846083",
        "colab": {
          "base_uri": "https://localhost:8080/",
          "height": 357
        }
      },
      "source": [
        "brandy_region = pd.pivot_table(df_filter, values='brandy', index='region', columns='year', aggfunc='sum')\n",
        "brandy_region.sort_values(by=2016, ascending=False).head(5).style.applymap(lambda x: \"background-color: #e65a71\" if x>df_region_mean['brandy'].mean() else \"background-color: white\")"
      ],
      "execution_count": 50,
      "outputs": [
        {
          "output_type": "execute_result",
          "data": {
            "text/html": [
              "<style  type=\"text/css\" >\n",
              "#T_f4ca4a62_03cb_11eb_9562_0242ac1c0002row0_col0,#T_f4ca4a62_03cb_11eb_9562_0242ac1c0002row0_col1,#T_f4ca4a62_03cb_11eb_9562_0242ac1c0002row0_col2,#T_f4ca4a62_03cb_11eb_9562_0242ac1c0002row0_col3,#T_f4ca4a62_03cb_11eb_9562_0242ac1c0002row0_col4,#T_f4ca4a62_03cb_11eb_9562_0242ac1c0002row0_col5,#T_f4ca4a62_03cb_11eb_9562_0242ac1c0002row0_col6,#T_f4ca4a62_03cb_11eb_9562_0242ac1c0002row0_col7,#T_f4ca4a62_03cb_11eb_9562_0242ac1c0002row0_col8,#T_f4ca4a62_03cb_11eb_9562_0242ac1c0002row0_col9,#T_f4ca4a62_03cb_11eb_9562_0242ac1c0002row0_col10,#T_f4ca4a62_03cb_11eb_9562_0242ac1c0002row0_col11,#T_f4ca4a62_03cb_11eb_9562_0242ac1c0002row0_col12,#T_f4ca4a62_03cb_11eb_9562_0242ac1c0002row0_col13,#T_f4ca4a62_03cb_11eb_9562_0242ac1c0002row0_col14,#T_f4ca4a62_03cb_11eb_9562_0242ac1c0002row0_col15,#T_f4ca4a62_03cb_11eb_9562_0242ac1c0002row0_col16,#T_f4ca4a62_03cb_11eb_9562_0242ac1c0002row0_col17,#T_f4ca4a62_03cb_11eb_9562_0242ac1c0002row0_col18,#T_f4ca4a62_03cb_11eb_9562_0242ac1c0002row1_col4,#T_f4ca4a62_03cb_11eb_9562_0242ac1c0002row1_col9,#T_f4ca4a62_03cb_11eb_9562_0242ac1c0002row1_col10,#T_f4ca4a62_03cb_11eb_9562_0242ac1c0002row1_col11,#T_f4ca4a62_03cb_11eb_9562_0242ac1c0002row1_col12,#T_f4ca4a62_03cb_11eb_9562_0242ac1c0002row1_col13,#T_f4ca4a62_03cb_11eb_9562_0242ac1c0002row1_col14,#T_f4ca4a62_03cb_11eb_9562_0242ac1c0002row1_col15,#T_f4ca4a62_03cb_11eb_9562_0242ac1c0002row1_col16,#T_f4ca4a62_03cb_11eb_9562_0242ac1c0002row1_col17,#T_f4ca4a62_03cb_11eb_9562_0242ac1c0002row1_col18,#T_f4ca4a62_03cb_11eb_9562_0242ac1c0002row2_col6,#T_f4ca4a62_03cb_11eb_9562_0242ac1c0002row2_col7,#T_f4ca4a62_03cb_11eb_9562_0242ac1c0002row2_col8,#T_f4ca4a62_03cb_11eb_9562_0242ac1c0002row2_col9,#T_f4ca4a62_03cb_11eb_9562_0242ac1c0002row2_col10,#T_f4ca4a62_03cb_11eb_9562_0242ac1c0002row2_col11,#T_f4ca4a62_03cb_11eb_9562_0242ac1c0002row2_col12,#T_f4ca4a62_03cb_11eb_9562_0242ac1c0002row2_col13,#T_f4ca4a62_03cb_11eb_9562_0242ac1c0002row2_col14,#T_f4ca4a62_03cb_11eb_9562_0242ac1c0002row2_col15,#T_f4ca4a62_03cb_11eb_9562_0242ac1c0002row2_col16,#T_f4ca4a62_03cb_11eb_9562_0242ac1c0002row2_col17,#T_f4ca4a62_03cb_11eb_9562_0242ac1c0002row2_col18,#T_f4ca4a62_03cb_11eb_9562_0242ac1c0002row3_col4,#T_f4ca4a62_03cb_11eb_9562_0242ac1c0002row3_col9,#T_f4ca4a62_03cb_11eb_9562_0242ac1c0002row3_col10,#T_f4ca4a62_03cb_11eb_9562_0242ac1c0002row3_col11,#T_f4ca4a62_03cb_11eb_9562_0242ac1c0002row3_col12,#T_f4ca4a62_03cb_11eb_9562_0242ac1c0002row3_col13,#T_f4ca4a62_03cb_11eb_9562_0242ac1c0002row3_col14,#T_f4ca4a62_03cb_11eb_9562_0242ac1c0002row3_col15,#T_f4ca4a62_03cb_11eb_9562_0242ac1c0002row3_col16,#T_f4ca4a62_03cb_11eb_9562_0242ac1c0002row3_col17,#T_f4ca4a62_03cb_11eb_9562_0242ac1c0002row3_col18,#T_f4ca4a62_03cb_11eb_9562_0242ac1c0002row4_col5,#T_f4ca4a62_03cb_11eb_9562_0242ac1c0002row4_col6,#T_f4ca4a62_03cb_11eb_9562_0242ac1c0002row4_col7,#T_f4ca4a62_03cb_11eb_9562_0242ac1c0002row4_col8,#T_f4ca4a62_03cb_11eb_9562_0242ac1c0002row4_col9,#T_f4ca4a62_03cb_11eb_9562_0242ac1c0002row4_col10,#T_f4ca4a62_03cb_11eb_9562_0242ac1c0002row4_col11,#T_f4ca4a62_03cb_11eb_9562_0242ac1c0002row4_col12,#T_f4ca4a62_03cb_11eb_9562_0242ac1c0002row4_col13,#T_f4ca4a62_03cb_11eb_9562_0242ac1c0002row4_col14,#T_f4ca4a62_03cb_11eb_9562_0242ac1c0002row4_col15,#T_f4ca4a62_03cb_11eb_9562_0242ac1c0002row4_col16,#T_f4ca4a62_03cb_11eb_9562_0242ac1c0002row4_col17,#T_f4ca4a62_03cb_11eb_9562_0242ac1c0002row4_col18{\n",
              "            background-color:  #e65a71;\n",
              "        }#T_f4ca4a62_03cb_11eb_9562_0242ac1c0002row1_col0,#T_f4ca4a62_03cb_11eb_9562_0242ac1c0002row1_col1,#T_f4ca4a62_03cb_11eb_9562_0242ac1c0002row1_col2,#T_f4ca4a62_03cb_11eb_9562_0242ac1c0002row1_col3,#T_f4ca4a62_03cb_11eb_9562_0242ac1c0002row1_col5,#T_f4ca4a62_03cb_11eb_9562_0242ac1c0002row1_col6,#T_f4ca4a62_03cb_11eb_9562_0242ac1c0002row1_col7,#T_f4ca4a62_03cb_11eb_9562_0242ac1c0002row1_col8,#T_f4ca4a62_03cb_11eb_9562_0242ac1c0002row2_col0,#T_f4ca4a62_03cb_11eb_9562_0242ac1c0002row2_col1,#T_f4ca4a62_03cb_11eb_9562_0242ac1c0002row2_col2,#T_f4ca4a62_03cb_11eb_9562_0242ac1c0002row2_col3,#T_f4ca4a62_03cb_11eb_9562_0242ac1c0002row2_col4,#T_f4ca4a62_03cb_11eb_9562_0242ac1c0002row2_col5,#T_f4ca4a62_03cb_11eb_9562_0242ac1c0002row3_col0,#T_f4ca4a62_03cb_11eb_9562_0242ac1c0002row3_col1,#T_f4ca4a62_03cb_11eb_9562_0242ac1c0002row3_col2,#T_f4ca4a62_03cb_11eb_9562_0242ac1c0002row3_col3,#T_f4ca4a62_03cb_11eb_9562_0242ac1c0002row3_col5,#T_f4ca4a62_03cb_11eb_9562_0242ac1c0002row3_col6,#T_f4ca4a62_03cb_11eb_9562_0242ac1c0002row3_col7,#T_f4ca4a62_03cb_11eb_9562_0242ac1c0002row3_col8,#T_f4ca4a62_03cb_11eb_9562_0242ac1c0002row4_col0,#T_f4ca4a62_03cb_11eb_9562_0242ac1c0002row4_col1,#T_f4ca4a62_03cb_11eb_9562_0242ac1c0002row4_col2,#T_f4ca4a62_03cb_11eb_9562_0242ac1c0002row4_col3,#T_f4ca4a62_03cb_11eb_9562_0242ac1c0002row4_col4{\n",
              "            background-color:  white;\n",
              "        }</style><table id=\"T_f4ca4a62_03cb_11eb_9562_0242ac1c0002\" ><thead>    <tr>        <th class=\"index_name level0\" >year</th>        <th class=\"col_heading level0 col0\" >1998</th>        <th class=\"col_heading level0 col1\" >1999</th>        <th class=\"col_heading level0 col2\" >2000</th>        <th class=\"col_heading level0 col3\" >2001</th>        <th class=\"col_heading level0 col4\" >2002</th>        <th class=\"col_heading level0 col5\" >2003</th>        <th class=\"col_heading level0 col6\" >2004</th>        <th class=\"col_heading level0 col7\" >2005</th>        <th class=\"col_heading level0 col8\" >2006</th>        <th class=\"col_heading level0 col9\" >2007</th>        <th class=\"col_heading level0 col10\" >2008</th>        <th class=\"col_heading level0 col11\" >2009</th>        <th class=\"col_heading level0 col12\" >2010</th>        <th class=\"col_heading level0 col13\" >2011</th>        <th class=\"col_heading level0 col14\" >2012</th>        <th class=\"col_heading level0 col15\" >2013</th>        <th class=\"col_heading level0 col16\" >2014</th>        <th class=\"col_heading level0 col17\" >2015</th>        <th class=\"col_heading level0 col18\" >2016</th>    </tr>    <tr>        <th class=\"index_name level0\" >region</th>        <th class=\"blank\" ></th>        <th class=\"blank\" ></th>        <th class=\"blank\" ></th>        <th class=\"blank\" ></th>        <th class=\"blank\" ></th>        <th class=\"blank\" ></th>        <th class=\"blank\" ></th>        <th class=\"blank\" ></th>        <th class=\"blank\" ></th>        <th class=\"blank\" ></th>        <th class=\"blank\" ></th>        <th class=\"blank\" ></th>        <th class=\"blank\" ></th>        <th class=\"blank\" ></th>        <th class=\"blank\" ></th>        <th class=\"blank\" ></th>        <th class=\"blank\" ></th>        <th class=\"blank\" ></th>        <th class=\"blank\" ></th>    </tr></thead><tbody>\n",
              "                <tr>\n",
              "                        <th id=\"T_f4ca4a62_03cb_11eb_9562_0242ac1c0002level0_row0\" class=\"row_heading level0 row0\" >Murmansk Oblast</th>\n",
              "                        <td id=\"T_f4ca4a62_03cb_11eb_9562_0242ac1c0002row0_col0\" class=\"data row0 col0\" >0.600000</td>\n",
              "                        <td id=\"T_f4ca4a62_03cb_11eb_9562_0242ac1c0002row0_col1\" class=\"data row0 col1\" >0.600000</td>\n",
              "                        <td id=\"T_f4ca4a62_03cb_11eb_9562_0242ac1c0002row0_col2\" class=\"data row0 col2\" >0.600000</td>\n",
              "                        <td id=\"T_f4ca4a62_03cb_11eb_9562_0242ac1c0002row0_col3\" class=\"data row0 col3\" >0.600000</td>\n",
              "                        <td id=\"T_f4ca4a62_03cb_11eb_9562_0242ac1c0002row0_col4\" class=\"data row0 col4\" >0.600000</td>\n",
              "                        <td id=\"T_f4ca4a62_03cb_11eb_9562_0242ac1c0002row0_col5\" class=\"data row0 col5\" >0.700000</td>\n",
              "                        <td id=\"T_f4ca4a62_03cb_11eb_9562_0242ac1c0002row0_col6\" class=\"data row0 col6\" >0.700000</td>\n",
              "                        <td id=\"T_f4ca4a62_03cb_11eb_9562_0242ac1c0002row0_col7\" class=\"data row0 col7\" >0.700000</td>\n",
              "                        <td id=\"T_f4ca4a62_03cb_11eb_9562_0242ac1c0002row0_col8\" class=\"data row0 col8\" >0.800000</td>\n",
              "                        <td id=\"T_f4ca4a62_03cb_11eb_9562_0242ac1c0002row0_col9\" class=\"data row0 col9\" >0.900000</td>\n",
              "                        <td id=\"T_f4ca4a62_03cb_11eb_9562_0242ac1c0002row0_col10\" class=\"data row0 col10\" >1.300000</td>\n",
              "                        <td id=\"T_f4ca4a62_03cb_11eb_9562_0242ac1c0002row0_col11\" class=\"data row0 col11\" >1.400000</td>\n",
              "                        <td id=\"T_f4ca4a62_03cb_11eb_9562_0242ac1c0002row0_col12\" class=\"data row0 col12\" >1.500000</td>\n",
              "                        <td id=\"T_f4ca4a62_03cb_11eb_9562_0242ac1c0002row0_col13\" class=\"data row0 col13\" >1.520000</td>\n",
              "                        <td id=\"T_f4ca4a62_03cb_11eb_9562_0242ac1c0002row0_col14\" class=\"data row0 col14\" >1.700000</td>\n",
              "                        <td id=\"T_f4ca4a62_03cb_11eb_9562_0242ac1c0002row0_col15\" class=\"data row0 col15\" >1.700000</td>\n",
              "                        <td id=\"T_f4ca4a62_03cb_11eb_9562_0242ac1c0002row0_col16\" class=\"data row0 col16\" >1.700000</td>\n",
              "                        <td id=\"T_f4ca4a62_03cb_11eb_9562_0242ac1c0002row0_col17\" class=\"data row0 col17\" >1.900000</td>\n",
              "                        <td id=\"T_f4ca4a62_03cb_11eb_9562_0242ac1c0002row0_col18\" class=\"data row0 col18\" >1.900000</td>\n",
              "            </tr>\n",
              "            <tr>\n",
              "                        <th id=\"T_f4ca4a62_03cb_11eb_9562_0242ac1c0002level0_row1\" class=\"row_heading level0 row1\" >Yamalo-Nenets Autonomous Okrug</th>\n",
              "                        <td id=\"T_f4ca4a62_03cb_11eb_9562_0242ac1c0002row1_col0\" class=\"data row1 col0\" >0.300000</td>\n",
              "                        <td id=\"T_f4ca4a62_03cb_11eb_9562_0242ac1c0002row1_col1\" class=\"data row1 col1\" >0.300000</td>\n",
              "                        <td id=\"T_f4ca4a62_03cb_11eb_9562_0242ac1c0002row1_col2\" class=\"data row1 col2\" >0.300000</td>\n",
              "                        <td id=\"T_f4ca4a62_03cb_11eb_9562_0242ac1c0002row1_col3\" class=\"data row1 col3\" >0.500000</td>\n",
              "                        <td id=\"T_f4ca4a62_03cb_11eb_9562_0242ac1c0002row1_col4\" class=\"data row1 col4\" >0.600000</td>\n",
              "                        <td id=\"T_f4ca4a62_03cb_11eb_9562_0242ac1c0002row1_col5\" class=\"data row1 col5\" >0.500000</td>\n",
              "                        <td id=\"T_f4ca4a62_03cb_11eb_9562_0242ac1c0002row1_col6\" class=\"data row1 col6\" >0.500000</td>\n",
              "                        <td id=\"T_f4ca4a62_03cb_11eb_9562_0242ac1c0002row1_col7\" class=\"data row1 col7\" >0.500000</td>\n",
              "                        <td id=\"T_f4ca4a62_03cb_11eb_9562_0242ac1c0002row1_col8\" class=\"data row1 col8\" >0.400000</td>\n",
              "                        <td id=\"T_f4ca4a62_03cb_11eb_9562_0242ac1c0002row1_col9\" class=\"data row1 col9\" >1.100000</td>\n",
              "                        <td id=\"T_f4ca4a62_03cb_11eb_9562_0242ac1c0002row1_col10\" class=\"data row1 col10\" >1.100000</td>\n",
              "                        <td id=\"T_f4ca4a62_03cb_11eb_9562_0242ac1c0002row1_col11\" class=\"data row1 col11\" >1.300000</td>\n",
              "                        <td id=\"T_f4ca4a62_03cb_11eb_9562_0242ac1c0002row1_col12\" class=\"data row1 col12\" >1.300000</td>\n",
              "                        <td id=\"T_f4ca4a62_03cb_11eb_9562_0242ac1c0002row1_col13\" class=\"data row1 col13\" >1.780000</td>\n",
              "                        <td id=\"T_f4ca4a62_03cb_11eb_9562_0242ac1c0002row1_col14\" class=\"data row1 col14\" >1.800000</td>\n",
              "                        <td id=\"T_f4ca4a62_03cb_11eb_9562_0242ac1c0002row1_col15\" class=\"data row1 col15\" >1.700000</td>\n",
              "                        <td id=\"T_f4ca4a62_03cb_11eb_9562_0242ac1c0002row1_col16\" class=\"data row1 col16\" >1.500000</td>\n",
              "                        <td id=\"T_f4ca4a62_03cb_11eb_9562_0242ac1c0002row1_col17\" class=\"data row1 col17\" >1.300000</td>\n",
              "                        <td id=\"T_f4ca4a62_03cb_11eb_9562_0242ac1c0002row1_col18\" class=\"data row1 col18\" >1.300000</td>\n",
              "            </tr>\n",
              "            <tr>\n",
              "                        <th id=\"T_f4ca4a62_03cb_11eb_9562_0242ac1c0002level0_row2\" class=\"row_heading level0 row2\" >Moscow Oblast</th>\n",
              "                        <td id=\"T_f4ca4a62_03cb_11eb_9562_0242ac1c0002row2_col0\" class=\"data row2 col0\" >0.200000</td>\n",
              "                        <td id=\"T_f4ca4a62_03cb_11eb_9562_0242ac1c0002row2_col1\" class=\"data row2 col1\" >0.300000</td>\n",
              "                        <td id=\"T_f4ca4a62_03cb_11eb_9562_0242ac1c0002row2_col2\" class=\"data row2 col2\" >0.300000</td>\n",
              "                        <td id=\"T_f4ca4a62_03cb_11eb_9562_0242ac1c0002row2_col3\" class=\"data row2 col3\" >0.300000</td>\n",
              "                        <td id=\"T_f4ca4a62_03cb_11eb_9562_0242ac1c0002row2_col4\" class=\"data row2 col4\" >0.400000</td>\n",
              "                        <td id=\"T_f4ca4a62_03cb_11eb_9562_0242ac1c0002row2_col5\" class=\"data row2 col5\" >0.400000</td>\n",
              "                        <td id=\"T_f4ca4a62_03cb_11eb_9562_0242ac1c0002row2_col6\" class=\"data row2 col6\" >0.800000</td>\n",
              "                        <td id=\"T_f4ca4a62_03cb_11eb_9562_0242ac1c0002row2_col7\" class=\"data row2 col7\" >1.100000</td>\n",
              "                        <td id=\"T_f4ca4a62_03cb_11eb_9562_0242ac1c0002row2_col8\" class=\"data row2 col8\" >1.300000</td>\n",
              "                        <td id=\"T_f4ca4a62_03cb_11eb_9562_0242ac1c0002row2_col9\" class=\"data row2 col9\" >1.400000</td>\n",
              "                        <td id=\"T_f4ca4a62_03cb_11eb_9562_0242ac1c0002row2_col10\" class=\"data row2 col10\" >1.600000</td>\n",
              "                        <td id=\"T_f4ca4a62_03cb_11eb_9562_0242ac1c0002row2_col11\" class=\"data row2 col11\" >1.400000</td>\n",
              "                        <td id=\"T_f4ca4a62_03cb_11eb_9562_0242ac1c0002row2_col12\" class=\"data row2 col12\" >1.400000</td>\n",
              "                        <td id=\"T_f4ca4a62_03cb_11eb_9562_0242ac1c0002row2_col13\" class=\"data row2 col13\" >1.310000</td>\n",
              "                        <td id=\"T_f4ca4a62_03cb_11eb_9562_0242ac1c0002row2_col14\" class=\"data row2 col14\" >1.500000</td>\n",
              "                        <td id=\"T_f4ca4a62_03cb_11eb_9562_0242ac1c0002row2_col15\" class=\"data row2 col15\" >1.500000</td>\n",
              "                        <td id=\"T_f4ca4a62_03cb_11eb_9562_0242ac1c0002row2_col16\" class=\"data row2 col16\" >1.300000</td>\n",
              "                        <td id=\"T_f4ca4a62_03cb_11eb_9562_0242ac1c0002row2_col17\" class=\"data row2 col17\" >1.200000</td>\n",
              "                        <td id=\"T_f4ca4a62_03cb_11eb_9562_0242ac1c0002row2_col18\" class=\"data row2 col18\" >1.300000</td>\n",
              "            </tr>\n",
              "            <tr>\n",
              "                        <th id=\"T_f4ca4a62_03cb_11eb_9562_0242ac1c0002level0_row3\" class=\"row_heading level0 row3\" >Khanty–Mansi Autonomous Okrug – Yugra</th>\n",
              "                        <td id=\"T_f4ca4a62_03cb_11eb_9562_0242ac1c0002row3_col0\" class=\"data row3 col0\" >0.300000</td>\n",
              "                        <td id=\"T_f4ca4a62_03cb_11eb_9562_0242ac1c0002row3_col1\" class=\"data row3 col1\" >0.300000</td>\n",
              "                        <td id=\"T_f4ca4a62_03cb_11eb_9562_0242ac1c0002row3_col2\" class=\"data row3 col2\" >0.300000</td>\n",
              "                        <td id=\"T_f4ca4a62_03cb_11eb_9562_0242ac1c0002row3_col3\" class=\"data row3 col3\" >0.500000</td>\n",
              "                        <td id=\"T_f4ca4a62_03cb_11eb_9562_0242ac1c0002row3_col4\" class=\"data row3 col4\" >0.600000</td>\n",
              "                        <td id=\"T_f4ca4a62_03cb_11eb_9562_0242ac1c0002row3_col5\" class=\"data row3 col5\" >0.500000</td>\n",
              "                        <td id=\"T_f4ca4a62_03cb_11eb_9562_0242ac1c0002row3_col6\" class=\"data row3 col6\" >0.500000</td>\n",
              "                        <td id=\"T_f4ca4a62_03cb_11eb_9562_0242ac1c0002row3_col7\" class=\"data row3 col7\" >0.500000</td>\n",
              "                        <td id=\"T_f4ca4a62_03cb_11eb_9562_0242ac1c0002row3_col8\" class=\"data row3 col8\" >0.400000</td>\n",
              "                        <td id=\"T_f4ca4a62_03cb_11eb_9562_0242ac1c0002row3_col9\" class=\"data row3 col9\" >1.100000</td>\n",
              "                        <td id=\"T_f4ca4a62_03cb_11eb_9562_0242ac1c0002row3_col10\" class=\"data row3 col10\" >1.100000</td>\n",
              "                        <td id=\"T_f4ca4a62_03cb_11eb_9562_0242ac1c0002row3_col11\" class=\"data row3 col11\" >1.300000</td>\n",
              "                        <td id=\"T_f4ca4a62_03cb_11eb_9562_0242ac1c0002row3_col12\" class=\"data row3 col12\" >1.300000</td>\n",
              "                        <td id=\"T_f4ca4a62_03cb_11eb_9562_0242ac1c0002row3_col13\" class=\"data row3 col13\" >1.660000</td>\n",
              "                        <td id=\"T_f4ca4a62_03cb_11eb_9562_0242ac1c0002row3_col14\" class=\"data row3 col14\" >1.600000</td>\n",
              "                        <td id=\"T_f4ca4a62_03cb_11eb_9562_0242ac1c0002row3_col15\" class=\"data row3 col15\" >1.600000</td>\n",
              "                        <td id=\"T_f4ca4a62_03cb_11eb_9562_0242ac1c0002row3_col16\" class=\"data row3 col16\" >1.400000</td>\n",
              "                        <td id=\"T_f4ca4a62_03cb_11eb_9562_0242ac1c0002row3_col17\" class=\"data row3 col17\" >1.300000</td>\n",
              "                        <td id=\"T_f4ca4a62_03cb_11eb_9562_0242ac1c0002row3_col18\" class=\"data row3 col18\" >1.300000</td>\n",
              "            </tr>\n",
              "            <tr>\n",
              "                        <th id=\"T_f4ca4a62_03cb_11eb_9562_0242ac1c0002level0_row4\" class=\"row_heading level0 row4\" >Kamchatka Krai</th>\n",
              "                        <td id=\"T_f4ca4a62_03cb_11eb_9562_0242ac1c0002row4_col0\" class=\"data row4 col0\" >0.400000</td>\n",
              "                        <td id=\"T_f4ca4a62_03cb_11eb_9562_0242ac1c0002row4_col1\" class=\"data row4 col1\" >0.400000</td>\n",
              "                        <td id=\"T_f4ca4a62_03cb_11eb_9562_0242ac1c0002row4_col2\" class=\"data row4 col2\" >0.400000</td>\n",
              "                        <td id=\"T_f4ca4a62_03cb_11eb_9562_0242ac1c0002row4_col3\" class=\"data row4 col3\" >0.400000</td>\n",
              "                        <td id=\"T_f4ca4a62_03cb_11eb_9562_0242ac1c0002row4_col4\" class=\"data row4 col4\" >0.500000</td>\n",
              "                        <td id=\"T_f4ca4a62_03cb_11eb_9562_0242ac1c0002row4_col5\" class=\"data row4 col5\" >1.200000</td>\n",
              "                        <td id=\"T_f4ca4a62_03cb_11eb_9562_0242ac1c0002row4_col6\" class=\"data row4 col6\" >1.100000</td>\n",
              "                        <td id=\"T_f4ca4a62_03cb_11eb_9562_0242ac1c0002row4_col7\" class=\"data row4 col7\" >1.400000</td>\n",
              "                        <td id=\"T_f4ca4a62_03cb_11eb_9562_0242ac1c0002row4_col8\" class=\"data row4 col8\" >1.200000</td>\n",
              "                        <td id=\"T_f4ca4a62_03cb_11eb_9562_0242ac1c0002row4_col9\" class=\"data row4 col9\" >1.500000</td>\n",
              "                        <td id=\"T_f4ca4a62_03cb_11eb_9562_0242ac1c0002row4_col10\" class=\"data row4 col10\" >1.700000</td>\n",
              "                        <td id=\"T_f4ca4a62_03cb_11eb_9562_0242ac1c0002row4_col11\" class=\"data row4 col11\" >1.800000</td>\n",
              "                        <td id=\"T_f4ca4a62_03cb_11eb_9562_0242ac1c0002row4_col12\" class=\"data row4 col12\" >1.800000</td>\n",
              "                        <td id=\"T_f4ca4a62_03cb_11eb_9562_0242ac1c0002row4_col13\" class=\"data row4 col13\" >1.760000</td>\n",
              "                        <td id=\"T_f4ca4a62_03cb_11eb_9562_0242ac1c0002row4_col14\" class=\"data row4 col14\" >1.800000</td>\n",
              "                        <td id=\"T_f4ca4a62_03cb_11eb_9562_0242ac1c0002row4_col15\" class=\"data row4 col15\" >1.800000</td>\n",
              "                        <td id=\"T_f4ca4a62_03cb_11eb_9562_0242ac1c0002row4_col16\" class=\"data row4 col16\" >1.700000</td>\n",
              "                        <td id=\"T_f4ca4a62_03cb_11eb_9562_0242ac1c0002row4_col17\" class=\"data row4 col17\" >1.500000</td>\n",
              "                        <td id=\"T_f4ca4a62_03cb_11eb_9562_0242ac1c0002row4_col18\" class=\"data row4 col18\" >1.300000</td>\n",
              "            </tr>\n",
              "    </tbody></table>"
            ],
            "text/plain": [
              "<pandas.io.formats.style.Styler at 0x7ffa00e47dd8>"
            ]
          },
          "metadata": {
            "tags": []
          },
          "execution_count": 50
        }
      ]
    },
    {
      "cell_type": "markdown",
      "metadata": {
        "id": "pIPQsZxIsmkm"
      },
      "source": [
        "К 2016 году топ регионов по потреблениею бренди выглядел так.\n",
        "1. Мурманская область - 1.9 литра\n",
        "2. Ямало-Ненецкий АО - 1.3 литра\n",
        "3. Московская область - 1.3 литра\n",
        "4. Хантымансийский АО - 1.3 литра\n",
        "5. Камчатка - 1.3 литра\n",
        "\n",
        "За отчетный период первое место перешло на Север России в Мурманскую область. Этот регион перешел с 5 на 1 место за 1998-2016 годы. Остальные регионы в ТОП-5 поделили между собой 2 место. В ТОП осталась Московская область, остальные 3 региона изменились с течением времени."
      ]
    },
    {
      "cell_type": "code",
      "metadata": {
        "id": "cwvteNzosorW",
        "outputId": "82da7f54-9087-405f-b339-f744a7c03f14",
        "colab": {
          "base_uri": "https://localhost:8080/",
          "height": 288
        }
      },
      "source": [
        "brandy_region = pd.pivot_table(df_filter, values='brandy', index='region', columns='year', aggfunc='sum')\n",
        "brandy_region.sort_values(by=1998, ascending=True).head(5).style.applymap(lambda x: \"background-color: #97ca9b\" if x<df_region_mean['brandy'].mean() else \"background-color: white\")   "
      ],
      "execution_count": 51,
      "outputs": [
        {
          "output_type": "execute_result",
          "data": {
            "text/html": [
              "<style  type=\"text/css\" >\n",
              "#T_f4d41db2_03cb_11eb_9562_0242ac1c0002row0_col0,#T_f4d41db2_03cb_11eb_9562_0242ac1c0002row0_col1,#T_f4d41db2_03cb_11eb_9562_0242ac1c0002row0_col2,#T_f4d41db2_03cb_11eb_9562_0242ac1c0002row0_col3,#T_f4d41db2_03cb_11eb_9562_0242ac1c0002row0_col4,#T_f4d41db2_03cb_11eb_9562_0242ac1c0002row0_col5,#T_f4d41db2_03cb_11eb_9562_0242ac1c0002row0_col6,#T_f4d41db2_03cb_11eb_9562_0242ac1c0002row0_col7,#T_f4d41db2_03cb_11eb_9562_0242ac1c0002row0_col8,#T_f4d41db2_03cb_11eb_9562_0242ac1c0002row0_col9,#T_f4d41db2_03cb_11eb_9562_0242ac1c0002row0_col10,#T_f4d41db2_03cb_11eb_9562_0242ac1c0002row0_col11,#T_f4d41db2_03cb_11eb_9562_0242ac1c0002row0_col12,#T_f4d41db2_03cb_11eb_9562_0242ac1c0002row0_col13,#T_f4d41db2_03cb_11eb_9562_0242ac1c0002row0_col14,#T_f4d41db2_03cb_11eb_9562_0242ac1c0002row0_col15,#T_f4d41db2_03cb_11eb_9562_0242ac1c0002row0_col16,#T_f4d41db2_03cb_11eb_9562_0242ac1c0002row0_col17,#T_f4d41db2_03cb_11eb_9562_0242ac1c0002row0_col18,#T_f4d41db2_03cb_11eb_9562_0242ac1c0002row1_col0,#T_f4d41db2_03cb_11eb_9562_0242ac1c0002row1_col1,#T_f4d41db2_03cb_11eb_9562_0242ac1c0002row1_col2,#T_f4d41db2_03cb_11eb_9562_0242ac1c0002row1_col3,#T_f4d41db2_03cb_11eb_9562_0242ac1c0002row1_col4,#T_f4d41db2_03cb_11eb_9562_0242ac1c0002row1_col5,#T_f4d41db2_03cb_11eb_9562_0242ac1c0002row1_col6,#T_f4d41db2_03cb_11eb_9562_0242ac1c0002row1_col7,#T_f4d41db2_03cb_11eb_9562_0242ac1c0002row1_col8,#T_f4d41db2_03cb_11eb_9562_0242ac1c0002row1_col9,#T_f4d41db2_03cb_11eb_9562_0242ac1c0002row1_col10,#T_f4d41db2_03cb_11eb_9562_0242ac1c0002row1_col11,#T_f4d41db2_03cb_11eb_9562_0242ac1c0002row1_col12,#T_f4d41db2_03cb_11eb_9562_0242ac1c0002row1_col15,#T_f4d41db2_03cb_11eb_9562_0242ac1c0002row1_col16,#T_f4d41db2_03cb_11eb_9562_0242ac1c0002row1_col17,#T_f4d41db2_03cb_11eb_9562_0242ac1c0002row1_col18,#T_f4d41db2_03cb_11eb_9562_0242ac1c0002row2_col0,#T_f4d41db2_03cb_11eb_9562_0242ac1c0002row2_col1,#T_f4d41db2_03cb_11eb_9562_0242ac1c0002row2_col2,#T_f4d41db2_03cb_11eb_9562_0242ac1c0002row2_col3,#T_f4d41db2_03cb_11eb_9562_0242ac1c0002row2_col4,#T_f4d41db2_03cb_11eb_9562_0242ac1c0002row2_col5,#T_f4d41db2_03cb_11eb_9562_0242ac1c0002row2_col6,#T_f4d41db2_03cb_11eb_9562_0242ac1c0002row2_col7,#T_f4d41db2_03cb_11eb_9562_0242ac1c0002row2_col8,#T_f4d41db2_03cb_11eb_9562_0242ac1c0002row2_col9,#T_f4d41db2_03cb_11eb_9562_0242ac1c0002row3_col0,#T_f4d41db2_03cb_11eb_9562_0242ac1c0002row3_col1,#T_f4d41db2_03cb_11eb_9562_0242ac1c0002row3_col2,#T_f4d41db2_03cb_11eb_9562_0242ac1c0002row3_col3,#T_f4d41db2_03cb_11eb_9562_0242ac1c0002row3_col4,#T_f4d41db2_03cb_11eb_9562_0242ac1c0002row3_col5,#T_f4d41db2_03cb_11eb_9562_0242ac1c0002row3_col6,#T_f4d41db2_03cb_11eb_9562_0242ac1c0002row3_col7,#T_f4d41db2_03cb_11eb_9562_0242ac1c0002row3_col8,#T_f4d41db2_03cb_11eb_9562_0242ac1c0002row3_col9,#T_f4d41db2_03cb_11eb_9562_0242ac1c0002row3_col10,#T_f4d41db2_03cb_11eb_9562_0242ac1c0002row3_col11,#T_f4d41db2_03cb_11eb_9562_0242ac1c0002row3_col12,#T_f4d41db2_03cb_11eb_9562_0242ac1c0002row3_col13,#T_f4d41db2_03cb_11eb_9562_0242ac1c0002row3_col14,#T_f4d41db2_03cb_11eb_9562_0242ac1c0002row3_col15,#T_f4d41db2_03cb_11eb_9562_0242ac1c0002row3_col16,#T_f4d41db2_03cb_11eb_9562_0242ac1c0002row3_col17,#T_f4d41db2_03cb_11eb_9562_0242ac1c0002row3_col18,#T_f4d41db2_03cb_11eb_9562_0242ac1c0002row4_col0,#T_f4d41db2_03cb_11eb_9562_0242ac1c0002row4_col1,#T_f4d41db2_03cb_11eb_9562_0242ac1c0002row4_col2,#T_f4d41db2_03cb_11eb_9562_0242ac1c0002row4_col3,#T_f4d41db2_03cb_11eb_9562_0242ac1c0002row4_col4,#T_f4d41db2_03cb_11eb_9562_0242ac1c0002row4_col5,#T_f4d41db2_03cb_11eb_9562_0242ac1c0002row4_col6,#T_f4d41db2_03cb_11eb_9562_0242ac1c0002row4_col7,#T_f4d41db2_03cb_11eb_9562_0242ac1c0002row4_col8,#T_f4d41db2_03cb_11eb_9562_0242ac1c0002row4_col9,#T_f4d41db2_03cb_11eb_9562_0242ac1c0002row4_col10,#T_f4d41db2_03cb_11eb_9562_0242ac1c0002row4_col11,#T_f4d41db2_03cb_11eb_9562_0242ac1c0002row4_col12,#T_f4d41db2_03cb_11eb_9562_0242ac1c0002row4_col17,#T_f4d41db2_03cb_11eb_9562_0242ac1c0002row4_col18{\n",
              "            background-color:  #97ca9b;\n",
              "        }#T_f4d41db2_03cb_11eb_9562_0242ac1c0002row1_col13,#T_f4d41db2_03cb_11eb_9562_0242ac1c0002row1_col14,#T_f4d41db2_03cb_11eb_9562_0242ac1c0002row2_col10,#T_f4d41db2_03cb_11eb_9562_0242ac1c0002row2_col11,#T_f4d41db2_03cb_11eb_9562_0242ac1c0002row2_col12,#T_f4d41db2_03cb_11eb_9562_0242ac1c0002row2_col13,#T_f4d41db2_03cb_11eb_9562_0242ac1c0002row2_col14,#T_f4d41db2_03cb_11eb_9562_0242ac1c0002row2_col15,#T_f4d41db2_03cb_11eb_9562_0242ac1c0002row2_col16,#T_f4d41db2_03cb_11eb_9562_0242ac1c0002row2_col17,#T_f4d41db2_03cb_11eb_9562_0242ac1c0002row2_col18,#T_f4d41db2_03cb_11eb_9562_0242ac1c0002row4_col13,#T_f4d41db2_03cb_11eb_9562_0242ac1c0002row4_col14,#T_f4d41db2_03cb_11eb_9562_0242ac1c0002row4_col15,#T_f4d41db2_03cb_11eb_9562_0242ac1c0002row4_col16{\n",
              "            background-color:  white;\n",
              "        }</style><table id=\"T_f4d41db2_03cb_11eb_9562_0242ac1c0002\" ><thead>    <tr>        <th class=\"index_name level0\" >year</th>        <th class=\"col_heading level0 col0\" >1998</th>        <th class=\"col_heading level0 col1\" >1999</th>        <th class=\"col_heading level0 col2\" >2000</th>        <th class=\"col_heading level0 col3\" >2001</th>        <th class=\"col_heading level0 col4\" >2002</th>        <th class=\"col_heading level0 col5\" >2003</th>        <th class=\"col_heading level0 col6\" >2004</th>        <th class=\"col_heading level0 col7\" >2005</th>        <th class=\"col_heading level0 col8\" >2006</th>        <th class=\"col_heading level0 col9\" >2007</th>        <th class=\"col_heading level0 col10\" >2008</th>        <th class=\"col_heading level0 col11\" >2009</th>        <th class=\"col_heading level0 col12\" >2010</th>        <th class=\"col_heading level0 col13\" >2011</th>        <th class=\"col_heading level0 col14\" >2012</th>        <th class=\"col_heading level0 col15\" >2013</th>        <th class=\"col_heading level0 col16\" >2014</th>        <th class=\"col_heading level0 col17\" >2015</th>        <th class=\"col_heading level0 col18\" >2016</th>    </tr>    <tr>        <th class=\"index_name level0\" >region</th>        <th class=\"blank\" ></th>        <th class=\"blank\" ></th>        <th class=\"blank\" ></th>        <th class=\"blank\" ></th>        <th class=\"blank\" ></th>        <th class=\"blank\" ></th>        <th class=\"blank\" ></th>        <th class=\"blank\" ></th>        <th class=\"blank\" ></th>        <th class=\"blank\" ></th>        <th class=\"blank\" ></th>        <th class=\"blank\" ></th>        <th class=\"blank\" ></th>        <th class=\"blank\" ></th>        <th class=\"blank\" ></th>        <th class=\"blank\" ></th>        <th class=\"blank\" ></th>        <th class=\"blank\" ></th>        <th class=\"blank\" ></th>    </tr></thead><tbody>\n",
              "                <tr>\n",
              "                        <th id=\"T_f4d41db2_03cb_11eb_9562_0242ac1c0002level0_row0\" class=\"row_heading level0 row0\" >Chechen Republic</th>\n",
              "                        <td id=\"T_f4d41db2_03cb_11eb_9562_0242ac1c0002row0_col0\" class=\"data row0 col0\" >0.000000</td>\n",
              "                        <td id=\"T_f4d41db2_03cb_11eb_9562_0242ac1c0002row0_col1\" class=\"data row0 col1\" >0.000000</td>\n",
              "                        <td id=\"T_f4d41db2_03cb_11eb_9562_0242ac1c0002row0_col2\" class=\"data row0 col2\" >0.000000</td>\n",
              "                        <td id=\"T_f4d41db2_03cb_11eb_9562_0242ac1c0002row0_col3\" class=\"data row0 col3\" >0.000000</td>\n",
              "                        <td id=\"T_f4d41db2_03cb_11eb_9562_0242ac1c0002row0_col4\" class=\"data row0 col4\" >0.000000</td>\n",
              "                        <td id=\"T_f4d41db2_03cb_11eb_9562_0242ac1c0002row0_col5\" class=\"data row0 col5\" >0.000000</td>\n",
              "                        <td id=\"T_f4d41db2_03cb_11eb_9562_0242ac1c0002row0_col6\" class=\"data row0 col6\" >0.000000</td>\n",
              "                        <td id=\"T_f4d41db2_03cb_11eb_9562_0242ac1c0002row0_col7\" class=\"data row0 col7\" >0.000000</td>\n",
              "                        <td id=\"T_f4d41db2_03cb_11eb_9562_0242ac1c0002row0_col8\" class=\"data row0 col8\" >0.000000</td>\n",
              "                        <td id=\"T_f4d41db2_03cb_11eb_9562_0242ac1c0002row0_col9\" class=\"data row0 col9\" >0.000000</td>\n",
              "                        <td id=\"T_f4d41db2_03cb_11eb_9562_0242ac1c0002row0_col10\" class=\"data row0 col10\" >0.000000</td>\n",
              "                        <td id=\"T_f4d41db2_03cb_11eb_9562_0242ac1c0002row0_col11\" class=\"data row0 col11\" >0.000000</td>\n",
              "                        <td id=\"T_f4d41db2_03cb_11eb_9562_0242ac1c0002row0_col12\" class=\"data row0 col12\" >0.000000</td>\n",
              "                        <td id=\"T_f4d41db2_03cb_11eb_9562_0242ac1c0002row0_col13\" class=\"data row0 col13\" >0.000000</td>\n",
              "                        <td id=\"T_f4d41db2_03cb_11eb_9562_0242ac1c0002row0_col14\" class=\"data row0 col14\" >0.000000</td>\n",
              "                        <td id=\"T_f4d41db2_03cb_11eb_9562_0242ac1c0002row0_col15\" class=\"data row0 col15\" >0.000000</td>\n",
              "                        <td id=\"T_f4d41db2_03cb_11eb_9562_0242ac1c0002row0_col16\" class=\"data row0 col16\" >0.000000</td>\n",
              "                        <td id=\"T_f4d41db2_03cb_11eb_9562_0242ac1c0002row0_col17\" class=\"data row0 col17\" >0.000000</td>\n",
              "                        <td id=\"T_f4d41db2_03cb_11eb_9562_0242ac1c0002row0_col18\" class=\"data row0 col18\" >0.000000</td>\n",
              "            </tr>\n",
              "            <tr>\n",
              "                        <th id=\"T_f4d41db2_03cb_11eb_9562_0242ac1c0002level0_row1\" class=\"row_heading level0 row1\" >Chuvash Republic</th>\n",
              "                        <td id=\"T_f4d41db2_03cb_11eb_9562_0242ac1c0002row1_col0\" class=\"data row1 col0\" >0.020000</td>\n",
              "                        <td id=\"T_f4d41db2_03cb_11eb_9562_0242ac1c0002row1_col1\" class=\"data row1 col1\" >0.020000</td>\n",
              "                        <td id=\"T_f4d41db2_03cb_11eb_9562_0242ac1c0002row1_col2\" class=\"data row1 col2\" >0.100000</td>\n",
              "                        <td id=\"T_f4d41db2_03cb_11eb_9562_0242ac1c0002row1_col3\" class=\"data row1 col3\" >0.100000</td>\n",
              "                        <td id=\"T_f4d41db2_03cb_11eb_9562_0242ac1c0002row1_col4\" class=\"data row1 col4\" >0.200000</td>\n",
              "                        <td id=\"T_f4d41db2_03cb_11eb_9562_0242ac1c0002row1_col5\" class=\"data row1 col5\" >0.200000</td>\n",
              "                        <td id=\"T_f4d41db2_03cb_11eb_9562_0242ac1c0002row1_col6\" class=\"data row1 col6\" >0.200000</td>\n",
              "                        <td id=\"T_f4d41db2_03cb_11eb_9562_0242ac1c0002row1_col7\" class=\"data row1 col7\" >0.200000</td>\n",
              "                        <td id=\"T_f4d41db2_03cb_11eb_9562_0242ac1c0002row1_col8\" class=\"data row1 col8\" >0.200000</td>\n",
              "                        <td id=\"T_f4d41db2_03cb_11eb_9562_0242ac1c0002row1_col9\" class=\"data row1 col9\" >0.400000</td>\n",
              "                        <td id=\"T_f4d41db2_03cb_11eb_9562_0242ac1c0002row1_col10\" class=\"data row1 col10\" >0.500000</td>\n",
              "                        <td id=\"T_f4d41db2_03cb_11eb_9562_0242ac1c0002row1_col11\" class=\"data row1 col11\" >0.500000</td>\n",
              "                        <td id=\"T_f4d41db2_03cb_11eb_9562_0242ac1c0002row1_col12\" class=\"data row1 col12\" >0.500000</td>\n",
              "                        <td id=\"T_f4d41db2_03cb_11eb_9562_0242ac1c0002row1_col13\" class=\"data row1 col13\" >0.620000</td>\n",
              "                        <td id=\"T_f4d41db2_03cb_11eb_9562_0242ac1c0002row1_col14\" class=\"data row1 col14\" >0.600000</td>\n",
              "                        <td id=\"T_f4d41db2_03cb_11eb_9562_0242ac1c0002row1_col15\" class=\"data row1 col15\" >0.500000</td>\n",
              "                        <td id=\"T_f4d41db2_03cb_11eb_9562_0242ac1c0002row1_col16\" class=\"data row1 col16\" >0.500000</td>\n",
              "                        <td id=\"T_f4d41db2_03cb_11eb_9562_0242ac1c0002row1_col17\" class=\"data row1 col17\" >0.400000</td>\n",
              "                        <td id=\"T_f4d41db2_03cb_11eb_9562_0242ac1c0002row1_col18\" class=\"data row1 col18\" >0.400000</td>\n",
              "            </tr>\n",
              "            <tr>\n",
              "                        <th id=\"T_f4d41db2_03cb_11eb_9562_0242ac1c0002level0_row2\" class=\"row_heading level0 row2\" >Pskov Oblast</th>\n",
              "                        <td id=\"T_f4d41db2_03cb_11eb_9562_0242ac1c0002row2_col0\" class=\"data row2 col0\" >0.040000</td>\n",
              "                        <td id=\"T_f4d41db2_03cb_11eb_9562_0242ac1c0002row2_col1\" class=\"data row2 col1\" >0.040000</td>\n",
              "                        <td id=\"T_f4d41db2_03cb_11eb_9562_0242ac1c0002row2_col2\" class=\"data row2 col2\" >0.100000</td>\n",
              "                        <td id=\"T_f4d41db2_03cb_11eb_9562_0242ac1c0002row2_col3\" class=\"data row2 col3\" >0.100000</td>\n",
              "                        <td id=\"T_f4d41db2_03cb_11eb_9562_0242ac1c0002row2_col4\" class=\"data row2 col4\" >0.100000</td>\n",
              "                        <td id=\"T_f4d41db2_03cb_11eb_9562_0242ac1c0002row2_col5\" class=\"data row2 col5\" >0.100000</td>\n",
              "                        <td id=\"T_f4d41db2_03cb_11eb_9562_0242ac1c0002row2_col6\" class=\"data row2 col6\" >0.200000</td>\n",
              "                        <td id=\"T_f4d41db2_03cb_11eb_9562_0242ac1c0002row2_col7\" class=\"data row2 col7\" >0.200000</td>\n",
              "                        <td id=\"T_f4d41db2_03cb_11eb_9562_0242ac1c0002row2_col8\" class=\"data row2 col8\" >0.200000</td>\n",
              "                        <td id=\"T_f4d41db2_03cb_11eb_9562_0242ac1c0002row2_col9\" class=\"data row2 col9\" >0.400000</td>\n",
              "                        <td id=\"T_f4d41db2_03cb_11eb_9562_0242ac1c0002row2_col10\" class=\"data row2 col10\" >0.700000</td>\n",
              "                        <td id=\"T_f4d41db2_03cb_11eb_9562_0242ac1c0002row2_col11\" class=\"data row2 col11\" >0.700000</td>\n",
              "                        <td id=\"T_f4d41db2_03cb_11eb_9562_0242ac1c0002row2_col12\" class=\"data row2 col12\" >0.900000</td>\n",
              "                        <td id=\"T_f4d41db2_03cb_11eb_9562_0242ac1c0002row2_col13\" class=\"data row2 col13\" >0.880000</td>\n",
              "                        <td id=\"T_f4d41db2_03cb_11eb_9562_0242ac1c0002row2_col14\" class=\"data row2 col14\" >0.900000</td>\n",
              "                        <td id=\"T_f4d41db2_03cb_11eb_9562_0242ac1c0002row2_col15\" class=\"data row2 col15\" >0.600000</td>\n",
              "                        <td id=\"T_f4d41db2_03cb_11eb_9562_0242ac1c0002row2_col16\" class=\"data row2 col16\" >0.700000</td>\n",
              "                        <td id=\"T_f4d41db2_03cb_11eb_9562_0242ac1c0002row2_col17\" class=\"data row2 col17\" >0.700000</td>\n",
              "                        <td id=\"T_f4d41db2_03cb_11eb_9562_0242ac1c0002row2_col18\" class=\"data row2 col18\" >0.800000</td>\n",
              "            </tr>\n",
              "            <tr>\n",
              "                        <th id=\"T_f4d41db2_03cb_11eb_9562_0242ac1c0002level0_row3\" class=\"row_heading level0 row3\" >Karachay-Cherkess Republic</th>\n",
              "                        <td id=\"T_f4d41db2_03cb_11eb_9562_0242ac1c0002row3_col0\" class=\"data row3 col0\" >0.040000</td>\n",
              "                        <td id=\"T_f4d41db2_03cb_11eb_9562_0242ac1c0002row3_col1\" class=\"data row3 col1\" >0.040000</td>\n",
              "                        <td id=\"T_f4d41db2_03cb_11eb_9562_0242ac1c0002row3_col2\" class=\"data row3 col2\" >0.100000</td>\n",
              "                        <td id=\"T_f4d41db2_03cb_11eb_9562_0242ac1c0002row3_col3\" class=\"data row3 col3\" >0.100000</td>\n",
              "                        <td id=\"T_f4d41db2_03cb_11eb_9562_0242ac1c0002row3_col4\" class=\"data row3 col4\" >0.100000</td>\n",
              "                        <td id=\"T_f4d41db2_03cb_11eb_9562_0242ac1c0002row3_col5\" class=\"data row3 col5\" >0.200000</td>\n",
              "                        <td id=\"T_f4d41db2_03cb_11eb_9562_0242ac1c0002row3_col6\" class=\"data row3 col6\" >0.300000</td>\n",
              "                        <td id=\"T_f4d41db2_03cb_11eb_9562_0242ac1c0002row3_col7\" class=\"data row3 col7\" >0.400000</td>\n",
              "                        <td id=\"T_f4d41db2_03cb_11eb_9562_0242ac1c0002row3_col8\" class=\"data row3 col8\" >0.400000</td>\n",
              "                        <td id=\"T_f4d41db2_03cb_11eb_9562_0242ac1c0002row3_col9\" class=\"data row3 col9\" >0.400000</td>\n",
              "                        <td id=\"T_f4d41db2_03cb_11eb_9562_0242ac1c0002row3_col10\" class=\"data row3 col10\" >0.500000</td>\n",
              "                        <td id=\"T_f4d41db2_03cb_11eb_9562_0242ac1c0002row3_col11\" class=\"data row3 col11\" >0.500000</td>\n",
              "                        <td id=\"T_f4d41db2_03cb_11eb_9562_0242ac1c0002row3_col12\" class=\"data row3 col12\" >0.500000</td>\n",
              "                        <td id=\"T_f4d41db2_03cb_11eb_9562_0242ac1c0002row3_col13\" class=\"data row3 col13\" >0.460000</td>\n",
              "                        <td id=\"T_f4d41db2_03cb_11eb_9562_0242ac1c0002row3_col14\" class=\"data row3 col14\" >0.400000</td>\n",
              "                        <td id=\"T_f4d41db2_03cb_11eb_9562_0242ac1c0002row3_col15\" class=\"data row3 col15\" >0.300000</td>\n",
              "                        <td id=\"T_f4d41db2_03cb_11eb_9562_0242ac1c0002row3_col16\" class=\"data row3 col16\" >0.200000</td>\n",
              "                        <td id=\"T_f4d41db2_03cb_11eb_9562_0242ac1c0002row3_col17\" class=\"data row3 col17\" >0.200000</td>\n",
              "                        <td id=\"T_f4d41db2_03cb_11eb_9562_0242ac1c0002row3_col18\" class=\"data row3 col18\" >0.100000</td>\n",
              "            </tr>\n",
              "            <tr>\n",
              "                        <th id=\"T_f4d41db2_03cb_11eb_9562_0242ac1c0002level0_row4\" class=\"row_heading level0 row4\" >Ivanovo Oblast</th>\n",
              "                        <td id=\"T_f4d41db2_03cb_11eb_9562_0242ac1c0002row4_col0\" class=\"data row4 col0\" >0.040000</td>\n",
              "                        <td id=\"T_f4d41db2_03cb_11eb_9562_0242ac1c0002row4_col1\" class=\"data row4 col1\" >0.040000</td>\n",
              "                        <td id=\"T_f4d41db2_03cb_11eb_9562_0242ac1c0002row4_col2\" class=\"data row4 col2\" >0.100000</td>\n",
              "                        <td id=\"T_f4d41db2_03cb_11eb_9562_0242ac1c0002row4_col3\" class=\"data row4 col3\" >0.100000</td>\n",
              "                        <td id=\"T_f4d41db2_03cb_11eb_9562_0242ac1c0002row4_col4\" class=\"data row4 col4\" >0.200000</td>\n",
              "                        <td id=\"T_f4d41db2_03cb_11eb_9562_0242ac1c0002row4_col5\" class=\"data row4 col5\" >0.200000</td>\n",
              "                        <td id=\"T_f4d41db2_03cb_11eb_9562_0242ac1c0002row4_col6\" class=\"data row4 col6\" >0.400000</td>\n",
              "                        <td id=\"T_f4d41db2_03cb_11eb_9562_0242ac1c0002row4_col7\" class=\"data row4 col7\" >0.400000</td>\n",
              "                        <td id=\"T_f4d41db2_03cb_11eb_9562_0242ac1c0002row4_col8\" class=\"data row4 col8\" >0.400000</td>\n",
              "                        <td id=\"T_f4d41db2_03cb_11eb_9562_0242ac1c0002row4_col9\" class=\"data row4 col9\" >0.400000</td>\n",
              "                        <td id=\"T_f4d41db2_03cb_11eb_9562_0242ac1c0002row4_col10\" class=\"data row4 col10\" >0.400000</td>\n",
              "                        <td id=\"T_f4d41db2_03cb_11eb_9562_0242ac1c0002row4_col11\" class=\"data row4 col11\" >0.500000</td>\n",
              "                        <td id=\"T_f4d41db2_03cb_11eb_9562_0242ac1c0002row4_col12\" class=\"data row4 col12\" >0.500000</td>\n",
              "                        <td id=\"T_f4d41db2_03cb_11eb_9562_0242ac1c0002row4_col13\" class=\"data row4 col13\" >0.570000</td>\n",
              "                        <td id=\"T_f4d41db2_03cb_11eb_9562_0242ac1c0002row4_col14\" class=\"data row4 col14\" >0.600000</td>\n",
              "                        <td id=\"T_f4d41db2_03cb_11eb_9562_0242ac1c0002row4_col15\" class=\"data row4 col15\" >0.600000</td>\n",
              "                        <td id=\"T_f4d41db2_03cb_11eb_9562_0242ac1c0002row4_col16\" class=\"data row4 col16\" >0.600000</td>\n",
              "                        <td id=\"T_f4d41db2_03cb_11eb_9562_0242ac1c0002row4_col17\" class=\"data row4 col17\" >0.500000</td>\n",
              "                        <td id=\"T_f4d41db2_03cb_11eb_9562_0242ac1c0002row4_col18\" class=\"data row4 col18\" >0.500000</td>\n",
              "            </tr>\n",
              "    </tbody></table>"
            ],
            "text/plain": [
              "<pandas.io.formats.style.Styler at 0x7ffa13f284e0>"
            ]
          },
          "metadata": {
            "tags": []
          },
          "execution_count": 51
        }
      ]
    },
    {
      "cell_type": "markdown",
      "metadata": {
        "id": "Vg2Hpm6nso69"
      },
      "source": [
        "ТОП регионов с наименьшим потреблением бренди в 1998 году.\n",
        "1. Чечня - 0 литров\n",
        "2. Чувашия - 0.02 литра\n",
        "3. Псковская область - 0.04 литра\n",
        "4. Карачаево-Черкессия - 0.04 литра\n",
        "5. Ивановская область - 0.04 литра\n",
        "\n",
        "Чечня продолжает поддерживать имидж одного из самых трезвых регионов России."
      ]
    },
    {
      "cell_type": "code",
      "metadata": {
        "id": "RbbMARZmsqiV",
        "outputId": "ae30f6f2-356a-4309-d63d-956dac486312",
        "colab": {
          "base_uri": "https://localhost:8080/",
          "height": 340
        }
      },
      "source": [
        "brandy_region = pd.pivot_table(df_filter, values='brandy', index='region', columns='year', aggfunc='sum')\n",
        "\n",
        "brandy_region.sort_values(by=2016, ascending=True).head(5).style.applymap(lambda x: \"background-color: #97ca9b\" if x<df_region_mean['brandy'].mean() else \"background-color: white\")   "
      ],
      "execution_count": 52,
      "outputs": [
        {
          "output_type": "execute_result",
          "data": {
            "text/html": [
              "<style  type=\"text/css\" >\n",
              "#T_f4de548a_03cb_11eb_9562_0242ac1c0002row0_col0,#T_f4de548a_03cb_11eb_9562_0242ac1c0002row0_col1,#T_f4de548a_03cb_11eb_9562_0242ac1c0002row0_col2,#T_f4de548a_03cb_11eb_9562_0242ac1c0002row0_col3,#T_f4de548a_03cb_11eb_9562_0242ac1c0002row0_col4,#T_f4de548a_03cb_11eb_9562_0242ac1c0002row0_col5,#T_f4de548a_03cb_11eb_9562_0242ac1c0002row0_col6,#T_f4de548a_03cb_11eb_9562_0242ac1c0002row0_col7,#T_f4de548a_03cb_11eb_9562_0242ac1c0002row0_col8,#T_f4de548a_03cb_11eb_9562_0242ac1c0002row0_col9,#T_f4de548a_03cb_11eb_9562_0242ac1c0002row0_col10,#T_f4de548a_03cb_11eb_9562_0242ac1c0002row0_col11,#T_f4de548a_03cb_11eb_9562_0242ac1c0002row0_col12,#T_f4de548a_03cb_11eb_9562_0242ac1c0002row0_col13,#T_f4de548a_03cb_11eb_9562_0242ac1c0002row0_col14,#T_f4de548a_03cb_11eb_9562_0242ac1c0002row0_col15,#T_f4de548a_03cb_11eb_9562_0242ac1c0002row0_col16,#T_f4de548a_03cb_11eb_9562_0242ac1c0002row0_col17,#T_f4de548a_03cb_11eb_9562_0242ac1c0002row0_col18,#T_f4de548a_03cb_11eb_9562_0242ac1c0002row1_col0,#T_f4de548a_03cb_11eb_9562_0242ac1c0002row1_col1,#T_f4de548a_03cb_11eb_9562_0242ac1c0002row1_col2,#T_f4de548a_03cb_11eb_9562_0242ac1c0002row1_col3,#T_f4de548a_03cb_11eb_9562_0242ac1c0002row1_col4,#T_f4de548a_03cb_11eb_9562_0242ac1c0002row1_col5,#T_f4de548a_03cb_11eb_9562_0242ac1c0002row1_col6,#T_f4de548a_03cb_11eb_9562_0242ac1c0002row1_col7,#T_f4de548a_03cb_11eb_9562_0242ac1c0002row1_col8,#T_f4de548a_03cb_11eb_9562_0242ac1c0002row1_col9,#T_f4de548a_03cb_11eb_9562_0242ac1c0002row1_col10,#T_f4de548a_03cb_11eb_9562_0242ac1c0002row1_col11,#T_f4de548a_03cb_11eb_9562_0242ac1c0002row1_col12,#T_f4de548a_03cb_11eb_9562_0242ac1c0002row1_col13,#T_f4de548a_03cb_11eb_9562_0242ac1c0002row1_col14,#T_f4de548a_03cb_11eb_9562_0242ac1c0002row1_col15,#T_f4de548a_03cb_11eb_9562_0242ac1c0002row1_col16,#T_f4de548a_03cb_11eb_9562_0242ac1c0002row1_col17,#T_f4de548a_03cb_11eb_9562_0242ac1c0002row1_col18,#T_f4de548a_03cb_11eb_9562_0242ac1c0002row2_col0,#T_f4de548a_03cb_11eb_9562_0242ac1c0002row2_col1,#T_f4de548a_03cb_11eb_9562_0242ac1c0002row2_col2,#T_f4de548a_03cb_11eb_9562_0242ac1c0002row2_col3,#T_f4de548a_03cb_11eb_9562_0242ac1c0002row2_col4,#T_f4de548a_03cb_11eb_9562_0242ac1c0002row2_col5,#T_f4de548a_03cb_11eb_9562_0242ac1c0002row2_col6,#T_f4de548a_03cb_11eb_9562_0242ac1c0002row2_col7,#T_f4de548a_03cb_11eb_9562_0242ac1c0002row2_col8,#T_f4de548a_03cb_11eb_9562_0242ac1c0002row2_col9,#T_f4de548a_03cb_11eb_9562_0242ac1c0002row2_col10,#T_f4de548a_03cb_11eb_9562_0242ac1c0002row2_col11,#T_f4de548a_03cb_11eb_9562_0242ac1c0002row2_col12,#T_f4de548a_03cb_11eb_9562_0242ac1c0002row2_col13,#T_f4de548a_03cb_11eb_9562_0242ac1c0002row2_col14,#T_f4de548a_03cb_11eb_9562_0242ac1c0002row2_col15,#T_f4de548a_03cb_11eb_9562_0242ac1c0002row2_col16,#T_f4de548a_03cb_11eb_9562_0242ac1c0002row2_col17,#T_f4de548a_03cb_11eb_9562_0242ac1c0002row2_col18,#T_f4de548a_03cb_11eb_9562_0242ac1c0002row3_col0,#T_f4de548a_03cb_11eb_9562_0242ac1c0002row3_col1,#T_f4de548a_03cb_11eb_9562_0242ac1c0002row3_col2,#T_f4de548a_03cb_11eb_9562_0242ac1c0002row3_col8,#T_f4de548a_03cb_11eb_9562_0242ac1c0002row3_col9,#T_f4de548a_03cb_11eb_9562_0242ac1c0002row3_col10,#T_f4de548a_03cb_11eb_9562_0242ac1c0002row3_col11,#T_f4de548a_03cb_11eb_9562_0242ac1c0002row3_col12,#T_f4de548a_03cb_11eb_9562_0242ac1c0002row3_col13,#T_f4de548a_03cb_11eb_9562_0242ac1c0002row3_col14,#T_f4de548a_03cb_11eb_9562_0242ac1c0002row3_col15,#T_f4de548a_03cb_11eb_9562_0242ac1c0002row3_col16,#T_f4de548a_03cb_11eb_9562_0242ac1c0002row3_col17,#T_f4de548a_03cb_11eb_9562_0242ac1c0002row3_col18,#T_f4de548a_03cb_11eb_9562_0242ac1c0002row4_col0,#T_f4de548a_03cb_11eb_9562_0242ac1c0002row4_col1,#T_f4de548a_03cb_11eb_9562_0242ac1c0002row4_col2,#T_f4de548a_03cb_11eb_9562_0242ac1c0002row4_col3,#T_f4de548a_03cb_11eb_9562_0242ac1c0002row4_col4,#T_f4de548a_03cb_11eb_9562_0242ac1c0002row4_col5,#T_f4de548a_03cb_11eb_9562_0242ac1c0002row4_col6,#T_f4de548a_03cb_11eb_9562_0242ac1c0002row4_col7,#T_f4de548a_03cb_11eb_9562_0242ac1c0002row4_col8,#T_f4de548a_03cb_11eb_9562_0242ac1c0002row4_col9,#T_f4de548a_03cb_11eb_9562_0242ac1c0002row4_col10,#T_f4de548a_03cb_11eb_9562_0242ac1c0002row4_col11,#T_f4de548a_03cb_11eb_9562_0242ac1c0002row4_col12,#T_f4de548a_03cb_11eb_9562_0242ac1c0002row4_col13,#T_f4de548a_03cb_11eb_9562_0242ac1c0002row4_col14,#T_f4de548a_03cb_11eb_9562_0242ac1c0002row4_col15,#T_f4de548a_03cb_11eb_9562_0242ac1c0002row4_col16,#T_f4de548a_03cb_11eb_9562_0242ac1c0002row4_col17,#T_f4de548a_03cb_11eb_9562_0242ac1c0002row4_col18{\n",
              "            background-color:  #97ca9b;\n",
              "        }#T_f4de548a_03cb_11eb_9562_0242ac1c0002row3_col3,#T_f4de548a_03cb_11eb_9562_0242ac1c0002row3_col4,#T_f4de548a_03cb_11eb_9562_0242ac1c0002row3_col5,#T_f4de548a_03cb_11eb_9562_0242ac1c0002row3_col6,#T_f4de548a_03cb_11eb_9562_0242ac1c0002row3_col7{\n",
              "            background-color:  white;\n",
              "        }</style><table id=\"T_f4de548a_03cb_11eb_9562_0242ac1c0002\" ><thead>    <tr>        <th class=\"index_name level0\" >year</th>        <th class=\"col_heading level0 col0\" >1998</th>        <th class=\"col_heading level0 col1\" >1999</th>        <th class=\"col_heading level0 col2\" >2000</th>        <th class=\"col_heading level0 col3\" >2001</th>        <th class=\"col_heading level0 col4\" >2002</th>        <th class=\"col_heading level0 col5\" >2003</th>        <th class=\"col_heading level0 col6\" >2004</th>        <th class=\"col_heading level0 col7\" >2005</th>        <th class=\"col_heading level0 col8\" >2006</th>        <th class=\"col_heading level0 col9\" >2007</th>        <th class=\"col_heading level0 col10\" >2008</th>        <th class=\"col_heading level0 col11\" >2009</th>        <th class=\"col_heading level0 col12\" >2010</th>        <th class=\"col_heading level0 col13\" >2011</th>        <th class=\"col_heading level0 col14\" >2012</th>        <th class=\"col_heading level0 col15\" >2013</th>        <th class=\"col_heading level0 col16\" >2014</th>        <th class=\"col_heading level0 col17\" >2015</th>        <th class=\"col_heading level0 col18\" >2016</th>    </tr>    <tr>        <th class=\"index_name level0\" >region</th>        <th class=\"blank\" ></th>        <th class=\"blank\" ></th>        <th class=\"blank\" ></th>        <th class=\"blank\" ></th>        <th class=\"blank\" ></th>        <th class=\"blank\" ></th>        <th class=\"blank\" ></th>        <th class=\"blank\" ></th>        <th class=\"blank\" ></th>        <th class=\"blank\" ></th>        <th class=\"blank\" ></th>        <th class=\"blank\" ></th>        <th class=\"blank\" ></th>        <th class=\"blank\" ></th>        <th class=\"blank\" ></th>        <th class=\"blank\" ></th>        <th class=\"blank\" ></th>        <th class=\"blank\" ></th>        <th class=\"blank\" ></th>    </tr></thead><tbody>\n",
              "                <tr>\n",
              "                        <th id=\"T_f4de548a_03cb_11eb_9562_0242ac1c0002level0_row0\" class=\"row_heading level0 row0\" >Chechen Republic</th>\n",
              "                        <td id=\"T_f4de548a_03cb_11eb_9562_0242ac1c0002row0_col0\" class=\"data row0 col0\" >0.000000</td>\n",
              "                        <td id=\"T_f4de548a_03cb_11eb_9562_0242ac1c0002row0_col1\" class=\"data row0 col1\" >0.000000</td>\n",
              "                        <td id=\"T_f4de548a_03cb_11eb_9562_0242ac1c0002row0_col2\" class=\"data row0 col2\" >0.000000</td>\n",
              "                        <td id=\"T_f4de548a_03cb_11eb_9562_0242ac1c0002row0_col3\" class=\"data row0 col3\" >0.000000</td>\n",
              "                        <td id=\"T_f4de548a_03cb_11eb_9562_0242ac1c0002row0_col4\" class=\"data row0 col4\" >0.000000</td>\n",
              "                        <td id=\"T_f4de548a_03cb_11eb_9562_0242ac1c0002row0_col5\" class=\"data row0 col5\" >0.000000</td>\n",
              "                        <td id=\"T_f4de548a_03cb_11eb_9562_0242ac1c0002row0_col6\" class=\"data row0 col6\" >0.000000</td>\n",
              "                        <td id=\"T_f4de548a_03cb_11eb_9562_0242ac1c0002row0_col7\" class=\"data row0 col7\" >0.000000</td>\n",
              "                        <td id=\"T_f4de548a_03cb_11eb_9562_0242ac1c0002row0_col8\" class=\"data row0 col8\" >0.000000</td>\n",
              "                        <td id=\"T_f4de548a_03cb_11eb_9562_0242ac1c0002row0_col9\" class=\"data row0 col9\" >0.000000</td>\n",
              "                        <td id=\"T_f4de548a_03cb_11eb_9562_0242ac1c0002row0_col10\" class=\"data row0 col10\" >0.000000</td>\n",
              "                        <td id=\"T_f4de548a_03cb_11eb_9562_0242ac1c0002row0_col11\" class=\"data row0 col11\" >0.000000</td>\n",
              "                        <td id=\"T_f4de548a_03cb_11eb_9562_0242ac1c0002row0_col12\" class=\"data row0 col12\" >0.000000</td>\n",
              "                        <td id=\"T_f4de548a_03cb_11eb_9562_0242ac1c0002row0_col13\" class=\"data row0 col13\" >0.000000</td>\n",
              "                        <td id=\"T_f4de548a_03cb_11eb_9562_0242ac1c0002row0_col14\" class=\"data row0 col14\" >0.000000</td>\n",
              "                        <td id=\"T_f4de548a_03cb_11eb_9562_0242ac1c0002row0_col15\" class=\"data row0 col15\" >0.000000</td>\n",
              "                        <td id=\"T_f4de548a_03cb_11eb_9562_0242ac1c0002row0_col16\" class=\"data row0 col16\" >0.000000</td>\n",
              "                        <td id=\"T_f4de548a_03cb_11eb_9562_0242ac1c0002row0_col17\" class=\"data row0 col17\" >0.000000</td>\n",
              "                        <td id=\"T_f4de548a_03cb_11eb_9562_0242ac1c0002row0_col18\" class=\"data row0 col18\" >0.000000</td>\n",
              "            </tr>\n",
              "            <tr>\n",
              "                        <th id=\"T_f4de548a_03cb_11eb_9562_0242ac1c0002level0_row1\" class=\"row_heading level0 row1\" >Republic of North Ossetia-Alania</th>\n",
              "                        <td id=\"T_f4de548a_03cb_11eb_9562_0242ac1c0002row1_col0\" class=\"data row1 col0\" >0.100000</td>\n",
              "                        <td id=\"T_f4de548a_03cb_11eb_9562_0242ac1c0002row1_col1\" class=\"data row1 col1\" >0.100000</td>\n",
              "                        <td id=\"T_f4de548a_03cb_11eb_9562_0242ac1c0002row1_col2\" class=\"data row1 col2\" >0.100000</td>\n",
              "                        <td id=\"T_f4de548a_03cb_11eb_9562_0242ac1c0002row1_col3\" class=\"data row1 col3\" >0.100000</td>\n",
              "                        <td id=\"T_f4de548a_03cb_11eb_9562_0242ac1c0002row1_col4\" class=\"data row1 col4\" >0.100000</td>\n",
              "                        <td id=\"T_f4de548a_03cb_11eb_9562_0242ac1c0002row1_col5\" class=\"data row1 col5\" >0.100000</td>\n",
              "                        <td id=\"T_f4de548a_03cb_11eb_9562_0242ac1c0002row1_col6\" class=\"data row1 col6\" >0.100000</td>\n",
              "                        <td id=\"T_f4de548a_03cb_11eb_9562_0242ac1c0002row1_col7\" class=\"data row1 col7\" >0.100000</td>\n",
              "                        <td id=\"T_f4de548a_03cb_11eb_9562_0242ac1c0002row1_col8\" class=\"data row1 col8\" >0.100000</td>\n",
              "                        <td id=\"T_f4de548a_03cb_11eb_9562_0242ac1c0002row1_col9\" class=\"data row1 col9\" >0.100000</td>\n",
              "                        <td id=\"T_f4de548a_03cb_11eb_9562_0242ac1c0002row1_col10\" class=\"data row1 col10\" >0.100000</td>\n",
              "                        <td id=\"T_f4de548a_03cb_11eb_9562_0242ac1c0002row1_col11\" class=\"data row1 col11\" >0.200000</td>\n",
              "                        <td id=\"T_f4de548a_03cb_11eb_9562_0242ac1c0002row1_col12\" class=\"data row1 col12\" >0.300000</td>\n",
              "                        <td id=\"T_f4de548a_03cb_11eb_9562_0242ac1c0002row1_col13\" class=\"data row1 col13\" >0.260000</td>\n",
              "                        <td id=\"T_f4de548a_03cb_11eb_9562_0242ac1c0002row1_col14\" class=\"data row1 col14\" >0.300000</td>\n",
              "                        <td id=\"T_f4de548a_03cb_11eb_9562_0242ac1c0002row1_col15\" class=\"data row1 col15\" >0.200000</td>\n",
              "                        <td id=\"T_f4de548a_03cb_11eb_9562_0242ac1c0002row1_col16\" class=\"data row1 col16\" >0.100000</td>\n",
              "                        <td id=\"T_f4de548a_03cb_11eb_9562_0242ac1c0002row1_col17\" class=\"data row1 col17\" >0.100000</td>\n",
              "                        <td id=\"T_f4de548a_03cb_11eb_9562_0242ac1c0002row1_col18\" class=\"data row1 col18\" >0.100000</td>\n",
              "            </tr>\n",
              "            <tr>\n",
              "                        <th id=\"T_f4de548a_03cb_11eb_9562_0242ac1c0002level0_row2\" class=\"row_heading level0 row2\" >Karachay-Cherkess Republic</th>\n",
              "                        <td id=\"T_f4de548a_03cb_11eb_9562_0242ac1c0002row2_col0\" class=\"data row2 col0\" >0.040000</td>\n",
              "                        <td id=\"T_f4de548a_03cb_11eb_9562_0242ac1c0002row2_col1\" class=\"data row2 col1\" >0.040000</td>\n",
              "                        <td id=\"T_f4de548a_03cb_11eb_9562_0242ac1c0002row2_col2\" class=\"data row2 col2\" >0.100000</td>\n",
              "                        <td id=\"T_f4de548a_03cb_11eb_9562_0242ac1c0002row2_col3\" class=\"data row2 col3\" >0.100000</td>\n",
              "                        <td id=\"T_f4de548a_03cb_11eb_9562_0242ac1c0002row2_col4\" class=\"data row2 col4\" >0.100000</td>\n",
              "                        <td id=\"T_f4de548a_03cb_11eb_9562_0242ac1c0002row2_col5\" class=\"data row2 col5\" >0.200000</td>\n",
              "                        <td id=\"T_f4de548a_03cb_11eb_9562_0242ac1c0002row2_col6\" class=\"data row2 col6\" >0.300000</td>\n",
              "                        <td id=\"T_f4de548a_03cb_11eb_9562_0242ac1c0002row2_col7\" class=\"data row2 col7\" >0.400000</td>\n",
              "                        <td id=\"T_f4de548a_03cb_11eb_9562_0242ac1c0002row2_col8\" class=\"data row2 col8\" >0.400000</td>\n",
              "                        <td id=\"T_f4de548a_03cb_11eb_9562_0242ac1c0002row2_col9\" class=\"data row2 col9\" >0.400000</td>\n",
              "                        <td id=\"T_f4de548a_03cb_11eb_9562_0242ac1c0002row2_col10\" class=\"data row2 col10\" >0.500000</td>\n",
              "                        <td id=\"T_f4de548a_03cb_11eb_9562_0242ac1c0002row2_col11\" class=\"data row2 col11\" >0.500000</td>\n",
              "                        <td id=\"T_f4de548a_03cb_11eb_9562_0242ac1c0002row2_col12\" class=\"data row2 col12\" >0.500000</td>\n",
              "                        <td id=\"T_f4de548a_03cb_11eb_9562_0242ac1c0002row2_col13\" class=\"data row2 col13\" >0.460000</td>\n",
              "                        <td id=\"T_f4de548a_03cb_11eb_9562_0242ac1c0002row2_col14\" class=\"data row2 col14\" >0.400000</td>\n",
              "                        <td id=\"T_f4de548a_03cb_11eb_9562_0242ac1c0002row2_col15\" class=\"data row2 col15\" >0.300000</td>\n",
              "                        <td id=\"T_f4de548a_03cb_11eb_9562_0242ac1c0002row2_col16\" class=\"data row2 col16\" >0.200000</td>\n",
              "                        <td id=\"T_f4de548a_03cb_11eb_9562_0242ac1c0002row2_col17\" class=\"data row2 col17\" >0.200000</td>\n",
              "                        <td id=\"T_f4de548a_03cb_11eb_9562_0242ac1c0002row2_col18\" class=\"data row2 col18\" >0.100000</td>\n",
              "            </tr>\n",
              "            <tr>\n",
              "                        <th id=\"T_f4de548a_03cb_11eb_9562_0242ac1c0002level0_row3\" class=\"row_heading level0 row3\" >Kabardino-Balkar Republic</th>\n",
              "                        <td id=\"T_f4de548a_03cb_11eb_9562_0242ac1c0002row3_col0\" class=\"data row3 col0\" >0.300000</td>\n",
              "                        <td id=\"T_f4de548a_03cb_11eb_9562_0242ac1c0002row3_col1\" class=\"data row3 col1\" >0.300000</td>\n",
              "                        <td id=\"T_f4de548a_03cb_11eb_9562_0242ac1c0002row3_col2\" class=\"data row3 col2\" >0.400000</td>\n",
              "                        <td id=\"T_f4de548a_03cb_11eb_9562_0242ac1c0002row3_col3\" class=\"data row3 col3\" >0.600000</td>\n",
              "                        <td id=\"T_f4de548a_03cb_11eb_9562_0242ac1c0002row3_col4\" class=\"data row3 col4\" >0.700000</td>\n",
              "                        <td id=\"T_f4de548a_03cb_11eb_9562_0242ac1c0002row3_col5\" class=\"data row3 col5\" >0.700000</td>\n",
              "                        <td id=\"T_f4de548a_03cb_11eb_9562_0242ac1c0002row3_col6\" class=\"data row3 col6\" >0.700000</td>\n",
              "                        <td id=\"T_f4de548a_03cb_11eb_9562_0242ac1c0002row3_col7\" class=\"data row3 col7\" >0.600000</td>\n",
              "                        <td id=\"T_f4de548a_03cb_11eb_9562_0242ac1c0002row3_col8\" class=\"data row3 col8\" >0.500000</td>\n",
              "                        <td id=\"T_f4de548a_03cb_11eb_9562_0242ac1c0002row3_col9\" class=\"data row3 col9\" >0.400000</td>\n",
              "                        <td id=\"T_f4de548a_03cb_11eb_9562_0242ac1c0002row3_col10\" class=\"data row3 col10\" >0.400000</td>\n",
              "                        <td id=\"T_f4de548a_03cb_11eb_9562_0242ac1c0002row3_col11\" class=\"data row3 col11\" >0.400000</td>\n",
              "                        <td id=\"T_f4de548a_03cb_11eb_9562_0242ac1c0002row3_col12\" class=\"data row3 col12\" >0.400000</td>\n",
              "                        <td id=\"T_f4de548a_03cb_11eb_9562_0242ac1c0002row3_col13\" class=\"data row3 col13\" >0.390000</td>\n",
              "                        <td id=\"T_f4de548a_03cb_11eb_9562_0242ac1c0002row3_col14\" class=\"data row3 col14\" >0.300000</td>\n",
              "                        <td id=\"T_f4de548a_03cb_11eb_9562_0242ac1c0002row3_col15\" class=\"data row3 col15\" >0.200000</td>\n",
              "                        <td id=\"T_f4de548a_03cb_11eb_9562_0242ac1c0002row3_col16\" class=\"data row3 col16\" >0.100000</td>\n",
              "                        <td id=\"T_f4de548a_03cb_11eb_9562_0242ac1c0002row3_col17\" class=\"data row3 col17\" >0.100000</td>\n",
              "                        <td id=\"T_f4de548a_03cb_11eb_9562_0242ac1c0002row3_col18\" class=\"data row3 col18\" >0.100000</td>\n",
              "            </tr>\n",
              "            <tr>\n",
              "                        <th id=\"T_f4de548a_03cb_11eb_9562_0242ac1c0002level0_row4\" class=\"row_heading level0 row4\" >Tuva Republic</th>\n",
              "                        <td id=\"T_f4de548a_03cb_11eb_9562_0242ac1c0002row4_col0\" class=\"data row4 col0\" >0.100000</td>\n",
              "                        <td id=\"T_f4de548a_03cb_11eb_9562_0242ac1c0002row4_col1\" class=\"data row4 col1\" >0.400000</td>\n",
              "                        <td id=\"T_f4de548a_03cb_11eb_9562_0242ac1c0002row4_col2\" class=\"data row4 col2\" >0.400000</td>\n",
              "                        <td id=\"T_f4de548a_03cb_11eb_9562_0242ac1c0002row4_col3\" class=\"data row4 col3\" >0.100000</td>\n",
              "                        <td id=\"T_f4de548a_03cb_11eb_9562_0242ac1c0002row4_col4\" class=\"data row4 col4\" >0.100000</td>\n",
              "                        <td id=\"T_f4de548a_03cb_11eb_9562_0242ac1c0002row4_col5\" class=\"data row4 col5\" >0.100000</td>\n",
              "                        <td id=\"T_f4de548a_03cb_11eb_9562_0242ac1c0002row4_col6\" class=\"data row4 col6\" >0.000000</td>\n",
              "                        <td id=\"T_f4de548a_03cb_11eb_9562_0242ac1c0002row4_col7\" class=\"data row4 col7\" >0.100000</td>\n",
              "                        <td id=\"T_f4de548a_03cb_11eb_9562_0242ac1c0002row4_col8\" class=\"data row4 col8\" >0.100000</td>\n",
              "                        <td id=\"T_f4de548a_03cb_11eb_9562_0242ac1c0002row4_col9\" class=\"data row4 col9\" >0.200000</td>\n",
              "                        <td id=\"T_f4de548a_03cb_11eb_9562_0242ac1c0002row4_col10\" class=\"data row4 col10\" >0.300000</td>\n",
              "                        <td id=\"T_f4de548a_03cb_11eb_9562_0242ac1c0002row4_col11\" class=\"data row4 col11\" >0.300000</td>\n",
              "                        <td id=\"T_f4de548a_03cb_11eb_9562_0242ac1c0002row4_col12\" class=\"data row4 col12\" >0.400000</td>\n",
              "                        <td id=\"T_f4de548a_03cb_11eb_9562_0242ac1c0002row4_col13\" class=\"data row4 col13\" >0.370000</td>\n",
              "                        <td id=\"T_f4de548a_03cb_11eb_9562_0242ac1c0002row4_col14\" class=\"data row4 col14\" >0.400000</td>\n",
              "                        <td id=\"T_f4de548a_03cb_11eb_9562_0242ac1c0002row4_col15\" class=\"data row4 col15\" >0.400000</td>\n",
              "                        <td id=\"T_f4de548a_03cb_11eb_9562_0242ac1c0002row4_col16\" class=\"data row4 col16\" >0.300000</td>\n",
              "                        <td id=\"T_f4de548a_03cb_11eb_9562_0242ac1c0002row4_col17\" class=\"data row4 col17\" >0.200000</td>\n",
              "                        <td id=\"T_f4de548a_03cb_11eb_9562_0242ac1c0002row4_col18\" class=\"data row4 col18\" >0.200000</td>\n",
              "            </tr>\n",
              "    </tbody></table>"
            ],
            "text/plain": [
              "<pandas.io.formats.style.Styler at 0x7ffa13ecaa58>"
            ]
          },
          "metadata": {
            "tags": []
          },
          "execution_count": 52
        }
      ]
    },
    {
      "cell_type": "markdown",
      "metadata": {
        "id": "FHozVnIHsrC0"
      },
      "source": [
        "К 2016 году ТОП регионов с наименьшим потреблением бренди изменился.\n",
        "1. Чечня - 0 литров \n",
        "2. Северная Осетия - 0.1 литра\n",
        "3. Карачаево-Черкессия - 0.1 литра\n",
        "4. Кабардино-Балкария - 0.1 литра\n",
        "5. Тува - 0.2 литра\n",
        "\n",
        "Чечня продолжает оставаться на первом месте за весь отчетный период с нулевым потреблением бренди. В то же время на первые места выходят Южные регионы страны."
      ]
    },
    {
      "cell_type": "markdown",
      "metadata": {
        "id": "i78l6lTFxiDC"
      },
      "source": [
        "**Регионы с самым высоким потреблением алкоголя в России**\n",
        "\n",
        "1. В ТОП самых выпивающих регионов России входит Москва. Московский регион вошел в в ТОП по потреблению вина в 1998 году (6.8 литров). Занял 1 место по потреблению пива в 2016 году со значением 99.1 литр на душу населения в год. Стабильно сохранял первое место по потреблению шампанского на всем протяжении отчетного периода и в 2016 году потребление этого напитка составило 4 литра на душу населения в год. Также Московская область стабильно входит в ТОП регионов по потреблению бренди и в 2016 году цифра составила 1.3 литра.\n",
        "\n",
        "2. Почти по всем категориям напитков в ТОП самых выпивающих регионов пресутствует Камчатка. В 1998 году этот регион занял 4 место по потреблениею вина - 6,4 литра и 1 место по потреблению водки - 25.1 литр. В 2016 году вышла на 2 место по потреблению пива - 85.4 литра, 2 место по потреблению шампанского - 3.3 литра и 5 место по потреблению бренди - 1.3 литра.\n",
        "\n",
        "3. Часто в ТОП регионов присутствовала и Магаданская область. В 1998 году она заняла 5 место по потреблению вина - 6.2 литра, 5 место по потреблению пива - 33.8 литров, 2 место по потреблению водки - 23.1 литра и 2 место по потреблению шампанского - 2.1 литра. К 2016 году Магадан продолжает оставаться в лидерах и занимает 2 место по потреблению водки - 12.7 литров и 4 место по потреблению шампанского - 3.1 литра. Таким образом, Магадан является лидирующим регионом по потреблению алкоголя в России.\n",
        "\n",
        "4. Хочется отметить отдельно Ненецкий автономный округ, который занял в 2016 году 1 место по потреблению вина - 11.7 литров и 5 место по потреблению шампанского - 2.6 литра.\n",
        "\n",
        "5. В Хакасии предпочитают пить пиво. Этот регион занял 2 место по потреблению пива в 1998 году со значением 38.3 литра и 3 место в 2016 году со значением 79.1 литр.\n",
        "\n",
        "6. Водку предпочитают пить в Северо-Западной части России. К регионам с самым высоким потреблениям водки в 2016 году относятся Коми - 12.5 литров, Мурманская область - 12.2 литра и Карелия - 12.2 литра. Мурманская область в 2016 году также заняла 1 место по потреблению бренди - 1.9 литров.\n",
        "\n",
        "7. Первое место по потребелнию водки в 2016 году занял Сахалин со значением 12.8 литров.\n",
        "\n"
      ]
    },
    {
      "cell_type": "markdown",
      "metadata": {
        "id": "_82oUxCk43AY"
      },
      "source": [
        "**Регионы России с самым низким потреблением алкоголя**\n",
        "\n",
        "1. Регионами с самым низким потреблением алкоголя в России являются Северная Осетия, Кабардино-Балкария, Дагестан и Чечня. \n",
        "\n",
        "2. В Чечне совершенно не пьют вино и бренди. Значения потребления этих напитков в регионе и в 1998, и в 2016 году равны 0 литров. При этом Чечня стабильно занимала 2 место по наименьшему потреблению пива. В 1998 году со значением 2.8 литров в год, в 2016 году - 1.2 литра в год.\n",
        "\n",
        "3. Дагестан в 1998 году занял 3 место по употреблению пива - 3.8 литров и 1 место по употреблению водки - 2 литра. К 2016 году там стали пить меньше и регион занял 2 место по употреблению вина - 0.1 литра, 1 место по употреблению пива - 1 литр, 4 место по употреблению водки - 2.2 литра и 2 место по употреблению шампанского - 0.2 литра. Таким образом, можно признать Дагестан самым малопьющим регионом России.\n",
        "\n",
        "4. Мало употребляли алкоголя и на Чукотке. В 1998 году этот регион занял 2 место по потреблению вина - 0.3 литра, 1 место по потреблению пива - 1.8 литра и 5 место по потреблению водки - 4.6 литра. Но к 2016 году потребления алкоголя в этом регионе относительно остальной страны выросло и Чукотка выбыла из ТОП регионов с самым низким употреблением алкоголя.\n",
        "\n",
        "5. Особое место в ТОП регионов с низким потреблением алкоголя занимает Северная Осетия, которая не вошла в лидеры в 1998 году, но где сократилось потребление алкоголя к 2016 году. В 2016 году Северная Осетия заняла 3 место по потреблению вина - 0.5 литров, 4 место по потреблению пива - 17.3 литра, 1 место по потреблению водки - 0.4 литра, 5 место по употреблению шампанского - 0.4 литра и 2 место по употреблению бренди - 0.1 литра. \n",
        "\n",
        "6. Похожую картину можно наблюдать и в Кабардино-Балкарии, которая к 2016 году попала в ТОП регионов с самым низким потреблением алкоголя, заняв 4 место по потреблению вина - 0.6 литров, 3 место по употреблению пива - 14.5 литров, 2 место по употреблению водки - 0.5 литров, 1 место по потреблению шампанского - 0.2 литра, 4 место по употреблению бренди - 0.1 литра.\n",
        "\n",
        "7. Также в ТОП регионов с низким потреблением алкоголя входят и другие Южные районы страны, такие как\tКарачаево-Черкесия, Калмыкия, Адыгея и Ставрапольский Край."
      ]
    },
    {
      "cell_type": "markdown",
      "metadata": {
        "id": "6h9XixdpLkRd"
      },
      "source": [
        "## Сравнение отдельного региона со средними значениями по стране"
      ]
    },
    {
      "cell_type": "markdown",
      "metadata": {
        "id": "ooXR9YdCLqiM"
      },
      "source": [
        "Сравним значения по отдельному региону со средними, максимальными и минимальными значениями по России. \n",
        "\n",
        "Для примера рассмотрим Москву."
      ]
    },
    {
      "cell_type": "markdown",
      "metadata": {
        "id": "VWgHXoYFcnhS"
      },
      "source": [
        "Подготовим данные для анализа."
      ]
    },
    {
      "cell_type": "code",
      "metadata": {
        "id": "ncR5iLuWLf3d",
        "outputId": "1b809fac-8592-4fff-fed8-738da023ebac",
        "colab": {
          "base_uri": "https://localhost:8080/",
          "height": 291
        }
      },
      "source": [
        "#Среднеие значения потребления по каждому типу напитка по России\n",
        "#df_mean.head()\n",
        "# Добавим к данному датафрейму колонку со значением Среднее\n",
        "df_mean.loc[:, 'region'] = 'Mean'\n",
        "df_mean = df_mean[['year',\t'region','wine', 'beer', 'vodka', 'champagne', 'brandy']]\n",
        "#df_mean.head()\n",
        "\n",
        "# Максимальное значения потребления по каждому типу напитка по России\n",
        "df_max = df_filter.groupby('year')['wine', 'beer', 'vodka', 'champagne', 'brandy'].max().reset_index()\n",
        "df_max.loc[:, 'region'] = 'Max'\n",
        "df_max = df_max[['year',\t'region','wine', 'beer', 'vodka', 'champagne', 'brandy']]\n",
        "#df_max.head()\n",
        "\n",
        "# Минимальное значения потребления по каждому типу напитка по России\n",
        "df_min = df_filter.groupby('year')['wine', 'beer', 'vodka', 'champagne', 'brandy'].min().reset_index()\n",
        "df_min.loc[:, 'region'] = 'Min'\n",
        "df_min = df_min[['year',\t'region','wine', 'beer', 'vodka', 'champagne', 'brandy']]\n",
        "df_min.head()"
      ],
      "execution_count": 53,
      "outputs": [
        {
          "output_type": "stream",
          "text": [
            "/usr/local/lib/python3.6/dist-packages/ipykernel_launcher.py:9: FutureWarning: Indexing with multiple keys (implicitly converted to a tuple of keys) will be deprecated, use a list instead.\n",
            "  if __name__ == '__main__':\n",
            "/usr/local/lib/python3.6/dist-packages/ipykernel_launcher.py:15: FutureWarning: Indexing with multiple keys (implicitly converted to a tuple of keys) will be deprecated, use a list instead.\n",
            "  from ipykernel import kernelapp as app\n"
          ],
          "name": "stderr"
        },
        {
          "output_type": "execute_result",
          "data": {
            "text/html": [
              "<div>\n",
              "<style scoped>\n",
              "    .dataframe tbody tr th:only-of-type {\n",
              "        vertical-align: middle;\n",
              "    }\n",
              "\n",
              "    .dataframe tbody tr th {\n",
              "        vertical-align: top;\n",
              "    }\n",
              "\n",
              "    .dataframe thead th {\n",
              "        text-align: right;\n",
              "    }\n",
              "</style>\n",
              "<table border=\"1\" class=\"dataframe\">\n",
              "  <thead>\n",
              "    <tr style=\"text-align: right;\">\n",
              "      <th></th>\n",
              "      <th>year</th>\n",
              "      <th>region</th>\n",
              "      <th>wine</th>\n",
              "      <th>beer</th>\n",
              "      <th>vodka</th>\n",
              "      <th>champagne</th>\n",
              "      <th>brandy</th>\n",
              "    </tr>\n",
              "  </thead>\n",
              "  <tbody>\n",
              "    <tr>\n",
              "      <th>0</th>\n",
              "      <td>1998</td>\n",
              "      <td>Min</td>\n",
              "      <td>0.3</td>\n",
              "      <td>1.800000</td>\n",
              "      <td>2.000000</td>\n",
              "      <td>0.1</td>\n",
              "      <td>0.02</td>\n",
              "    </tr>\n",
              "    <tr>\n",
              "      <th>1</th>\n",
              "      <td>1999</td>\n",
              "      <td>Min</td>\n",
              "      <td>0.4</td>\n",
              "      <td>1.600000</td>\n",
              "      <td>1.000000</td>\n",
              "      <td>0.1</td>\n",
              "      <td>0.02</td>\n",
              "    </tr>\n",
              "    <tr>\n",
              "      <th>2</th>\n",
              "      <td>2000</td>\n",
              "      <td>Min</td>\n",
              "      <td>0.8</td>\n",
              "      <td>1.800000</td>\n",
              "      <td>1.000000</td>\n",
              "      <td>0.1</td>\n",
              "      <td>0.03</td>\n",
              "    </tr>\n",
              "    <tr>\n",
              "      <th>3</th>\n",
              "      <td>2001</td>\n",
              "      <td>Min</td>\n",
              "      <td>1.1</td>\n",
              "      <td>2.766667</td>\n",
              "      <td>1.800000</td>\n",
              "      <td>0.1</td>\n",
              "      <td>0.10</td>\n",
              "    </tr>\n",
              "    <tr>\n",
              "      <th>4</th>\n",
              "      <td>2002</td>\n",
              "      <td>Min</td>\n",
              "      <td>1.0</td>\n",
              "      <td>2.766667</td>\n",
              "      <td>4.266667</td>\n",
              "      <td>0.2</td>\n",
              "      <td>0.10</td>\n",
              "    </tr>\n",
              "  </tbody>\n",
              "</table>\n",
              "</div>"
            ],
            "text/plain": [
              "   year region  wine      beer     vodka  champagne  brandy\n",
              "0  1998    Min   0.3  1.800000  2.000000        0.1    0.02\n",
              "1  1999    Min   0.4  1.600000  1.000000        0.1    0.02\n",
              "2  2000    Min   0.8  1.800000  1.000000        0.1    0.03\n",
              "3  2001    Min   1.1  2.766667  1.800000        0.1    0.10\n",
              "4  2002    Min   1.0  2.766667  4.266667        0.2    0.10"
            ]
          },
          "metadata": {
            "tags": []
          },
          "execution_count": 53
        }
      ]
    },
    {
      "cell_type": "markdown",
      "metadata": {
        "id": "9JD6eXt8ce_3"
      },
      "source": [
        "Чтобы поменять регион, надо заменить Moscow в фильтре ниже на требуемое значение."
      ]
    },
    {
      "cell_type": "code",
      "metadata": {
        "id": "DWzqc2HFWrXe",
        "outputId": "d23f3cfb-ba9c-405e-e92d-166604279147",
        "colab": {
          "base_uri": "https://localhost:8080/",
          "height": 202
        }
      },
      "source": [
        "# Сделаем фильтр по заданному региону. В данном случае, по Московской области\n",
        "df_region = df_filter.query('region == \"Moscow\"').groupby('year').max().reset_index()\n",
        "df_region.head()"
      ],
      "execution_count": 54,
      "outputs": [
        {
          "output_type": "execute_result",
          "data": {
            "text/html": [
              "<div>\n",
              "<style scoped>\n",
              "    .dataframe tbody tr th:only-of-type {\n",
              "        vertical-align: middle;\n",
              "    }\n",
              "\n",
              "    .dataframe tbody tr th {\n",
              "        vertical-align: top;\n",
              "    }\n",
              "\n",
              "    .dataframe thead th {\n",
              "        text-align: right;\n",
              "    }\n",
              "</style>\n",
              "<table border=\"1\" class=\"dataframe\">\n",
              "  <thead>\n",
              "    <tr style=\"text-align: right;\">\n",
              "      <th></th>\n",
              "      <th>year</th>\n",
              "      <th>region</th>\n",
              "      <th>wine</th>\n",
              "      <th>beer</th>\n",
              "      <th>vodka</th>\n",
              "      <th>champagne</th>\n",
              "      <th>brandy</th>\n",
              "    </tr>\n",
              "  </thead>\n",
              "  <tbody>\n",
              "    <tr>\n",
              "      <th>0</th>\n",
              "      <td>1998</td>\n",
              "      <td>Moscow</td>\n",
              "      <td>6.8</td>\n",
              "      <td>30.0</td>\n",
              "      <td>18.9</td>\n",
              "      <td>3.5</td>\n",
              "      <td>0.7</td>\n",
              "    </tr>\n",
              "    <tr>\n",
              "      <th>1</th>\n",
              "      <td>1999</td>\n",
              "      <td>Moscow</td>\n",
              "      <td>6.6</td>\n",
              "      <td>56.0</td>\n",
              "      <td>18.7</td>\n",
              "      <td>3.6</td>\n",
              "      <td>0.7</td>\n",
              "    </tr>\n",
              "    <tr>\n",
              "      <th>2</th>\n",
              "      <td>2000</td>\n",
              "      <td>Moscow</td>\n",
              "      <td>6.3</td>\n",
              "      <td>61.8</td>\n",
              "      <td>18.8</td>\n",
              "      <td>3.9</td>\n",
              "      <td>0.6</td>\n",
              "    </tr>\n",
              "    <tr>\n",
              "      <th>3</th>\n",
              "      <td>2001</td>\n",
              "      <td>Moscow</td>\n",
              "      <td>5.0</td>\n",
              "      <td>78.9</td>\n",
              "      <td>19.7</td>\n",
              "      <td>4.2</td>\n",
              "      <td>0.7</td>\n",
              "    </tr>\n",
              "    <tr>\n",
              "      <th>4</th>\n",
              "      <td>2002</td>\n",
              "      <td>Moscow</td>\n",
              "      <td>4.8</td>\n",
              "      <td>85.7</td>\n",
              "      <td>20.8</td>\n",
              "      <td>4.0</td>\n",
              "      <td>0.9</td>\n",
              "    </tr>\n",
              "  </tbody>\n",
              "</table>\n",
              "</div>"
            ],
            "text/plain": [
              "   year  region  wine  beer  vodka  champagne  brandy\n",
              "0  1998  Moscow   6.8  30.0   18.9        3.5     0.7\n",
              "1  1999  Moscow   6.6  56.0   18.7        3.6     0.7\n",
              "2  2000  Moscow   6.3  61.8   18.8        3.9     0.6\n",
              "3  2001  Moscow   5.0  78.9   19.7        4.2     0.7\n",
              "4  2002  Moscow   4.8  85.7   20.8        4.0     0.9"
            ]
          },
          "metadata": {
            "tags": []
          },
          "execution_count": 54
        }
      ]
    },
    {
      "cell_type": "code",
      "metadata": {
        "id": "fde9d-VnlYY2",
        "outputId": "17ce3d72-f449-4aa9-fabc-bb3dd76ce802",
        "colab": {
          "base_uri": "https://localhost:8080/",
          "height": 202
        }
      },
      "source": [
        "#Объединим данные по региону с данными по России (ср., макс., мин.) в один датафрейм\n",
        "df_rus_region = pd.concat([df_region, df_mean, df_max, df_min])\n",
        "df_rus_region.head()"
      ],
      "execution_count": 55,
      "outputs": [
        {
          "output_type": "execute_result",
          "data": {
            "text/html": [
              "<div>\n",
              "<style scoped>\n",
              "    .dataframe tbody tr th:only-of-type {\n",
              "        vertical-align: middle;\n",
              "    }\n",
              "\n",
              "    .dataframe tbody tr th {\n",
              "        vertical-align: top;\n",
              "    }\n",
              "\n",
              "    .dataframe thead th {\n",
              "        text-align: right;\n",
              "    }\n",
              "</style>\n",
              "<table border=\"1\" class=\"dataframe\">\n",
              "  <thead>\n",
              "    <tr style=\"text-align: right;\">\n",
              "      <th></th>\n",
              "      <th>year</th>\n",
              "      <th>region</th>\n",
              "      <th>wine</th>\n",
              "      <th>beer</th>\n",
              "      <th>vodka</th>\n",
              "      <th>champagne</th>\n",
              "      <th>brandy</th>\n",
              "    </tr>\n",
              "  </thead>\n",
              "  <tbody>\n",
              "    <tr>\n",
              "      <th>0</th>\n",
              "      <td>1998</td>\n",
              "      <td>Moscow</td>\n",
              "      <td>6.8</td>\n",
              "      <td>30.0</td>\n",
              "      <td>18.9</td>\n",
              "      <td>3.5</td>\n",
              "      <td>0.7</td>\n",
              "    </tr>\n",
              "    <tr>\n",
              "      <th>1</th>\n",
              "      <td>1999</td>\n",
              "      <td>Moscow</td>\n",
              "      <td>6.6</td>\n",
              "      <td>56.0</td>\n",
              "      <td>18.7</td>\n",
              "      <td>3.6</td>\n",
              "      <td>0.7</td>\n",
              "    </tr>\n",
              "    <tr>\n",
              "      <th>2</th>\n",
              "      <td>2000</td>\n",
              "      <td>Moscow</td>\n",
              "      <td>6.3</td>\n",
              "      <td>61.8</td>\n",
              "      <td>18.8</td>\n",
              "      <td>3.9</td>\n",
              "      <td>0.6</td>\n",
              "    </tr>\n",
              "    <tr>\n",
              "      <th>3</th>\n",
              "      <td>2001</td>\n",
              "      <td>Moscow</td>\n",
              "      <td>5.0</td>\n",
              "      <td>78.9</td>\n",
              "      <td>19.7</td>\n",
              "      <td>4.2</td>\n",
              "      <td>0.7</td>\n",
              "    </tr>\n",
              "    <tr>\n",
              "      <th>4</th>\n",
              "      <td>2002</td>\n",
              "      <td>Moscow</td>\n",
              "      <td>4.8</td>\n",
              "      <td>85.7</td>\n",
              "      <td>20.8</td>\n",
              "      <td>4.0</td>\n",
              "      <td>0.9</td>\n",
              "    </tr>\n",
              "  </tbody>\n",
              "</table>\n",
              "</div>"
            ],
            "text/plain": [
              "   year  region  wine  beer  vodka  champagne  brandy\n",
              "0  1998  Moscow   6.8  30.0   18.9        3.5     0.7\n",
              "1  1999  Moscow   6.6  56.0   18.7        3.6     0.7\n",
              "2  2000  Moscow   6.3  61.8   18.8        3.9     0.6\n",
              "3  2001  Moscow   5.0  78.9   19.7        4.2     0.7\n",
              "4  2002  Moscow   4.8  85.7   20.8        4.0     0.9"
            ]
          },
          "metadata": {
            "tags": []
          },
          "execution_count": 55
        }
      ]
    },
    {
      "cell_type": "markdown",
      "metadata": {
        "id": "qbMTgodlcurs"
      },
      "source": [
        "**Динамика потребления вина в заданном регионе относительно России**"
      ]
    },
    {
      "cell_type": "code",
      "metadata": {
        "id": "uSw9svDoaExj"
      },
      "source": [
        "#nampy array для оси Х со списком лет будем использовать из ранее созданного\n",
        "#np_years\n",
        "\n",
        "#Создаю nampy array для оси Y со списками значений для региона и средних, макс. и мин. данных по России\n",
        "np_wine_region = np.array(df_region['wine'])\n",
        "np_wine_max = np.array(df_max['wine'])\n",
        "np_wine_min = np.array(df_min['wine'])\n",
        "#Массив со средними значениями у нас уже был создан ранее\n",
        "#np_wine_mean"
      ],
      "execution_count": 56,
      "outputs": []
    },
    {
      "cell_type": "code",
      "metadata": {
        "id": "APZiC-g8LgHg",
        "outputId": "306e6845-946b-41ca-b573-19d5e4669225",
        "colab": {
          "base_uri": "https://localhost:8080/",
          "height": 295
        }
      },
      "source": [
        "# Задаем данные по годам, в качестве оси X и данные по разным видам напитков по оси Y.\n",
        "fig, ax = plt.subplots(figsize=(14, 4))\n",
        "\n",
        "ax.plot(np_years, np_wine_region, '#276ddd', linewidth=2, label='Москва')\n",
        "ax.plot(np_years, np_wine_mean, '#f9c100', linewidth=1, label='Среднее')\n",
        "ax.plot(np_years, np_wine_max, '#cf4a4a', linewidth=1, label='Максимум')\n",
        "ax.plot(np_years, np_wine_min, '#239151', linewidth=1, label='Минимум')\n",
        "\n",
        "ax.set_title('Потребление вина в Москве относительно данных по России')\n",
        "ax.set_xlabel('Года')\n",
        "ax.set_ylabel('Продажи в литрах на душу населения в год')\n",
        "ax.legend()\n",
        " \n",
        "plt.show()"
      ],
      "execution_count": 57,
      "outputs": [
        {
          "output_type": "display_data",
          "data": {
            "image/png": "[encoded data removed]",
            "text/plain": [
              "<Figure size 1008x288 with 1 Axes>"
            ]
          },
          "metadata": {
            "tags": [],
            "needs_background": "light"
          }
        }
      ]
    },
    {
      "cell_type": "code",
      "metadata": {
        "id": "_gu8wKnhLgM1",
        "outputId": "f6d5910e-ed35-41d8-c1c3-5b5c4a3edf28",
        "colab": {
          "base_uri": "https://localhost:8080/",
          "height": 222
        }
      },
      "source": [
        "wine_rus_region = pd.pivot_table(df_rus_region, values='wine', index='region', columns='year', aggfunc='sum')\n",
        "wine_rus_region.sort_values(by='region', ascending=False)"
      ],
      "execution_count": 58,
      "outputs": [
        {
          "output_type": "execute_result",
          "data": {
            "text/html": [
              "<div>\n",
              "<style scoped>\n",
              "    .dataframe tbody tr th:only-of-type {\n",
              "        vertical-align: middle;\n",
              "    }\n",
              "\n",
              "    .dataframe tbody tr th {\n",
              "        vertical-align: top;\n",
              "    }\n",
              "\n",
              "    .dataframe thead th {\n",
              "        text-align: right;\n",
              "    }\n",
              "</style>\n",
              "<table border=\"1\" class=\"dataframe\">\n",
              "  <thead>\n",
              "    <tr style=\"text-align: right;\">\n",
              "      <th>year</th>\n",
              "      <th>1998</th>\n",
              "      <th>1999</th>\n",
              "      <th>2000</th>\n",
              "      <th>2001</th>\n",
              "      <th>2002</th>\n",
              "      <th>2003</th>\n",
              "      <th>2004</th>\n",
              "      <th>2005</th>\n",
              "      <th>2006</th>\n",
              "      <th>2007</th>\n",
              "      <th>2008</th>\n",
              "      <th>2009</th>\n",
              "      <th>2010</th>\n",
              "      <th>2011</th>\n",
              "      <th>2012</th>\n",
              "      <th>2013</th>\n",
              "      <th>2014</th>\n",
              "      <th>2015</th>\n",
              "      <th>2016</th>\n",
              "    </tr>\n",
              "    <tr>\n",
              "      <th>region</th>\n",
              "      <th></th>\n",
              "      <th></th>\n",
              "      <th></th>\n",
              "      <th></th>\n",
              "      <th></th>\n",
              "      <th></th>\n",
              "      <th></th>\n",
              "      <th></th>\n",
              "      <th></th>\n",
              "      <th></th>\n",
              "      <th></th>\n",
              "      <th></th>\n",
              "      <th></th>\n",
              "      <th></th>\n",
              "      <th></th>\n",
              "      <th></th>\n",
              "      <th></th>\n",
              "      <th></th>\n",
              "      <th></th>\n",
              "    </tr>\n",
              "  </thead>\n",
              "  <tbody>\n",
              "    <tr>\n",
              "      <th>Moscow</th>\n",
              "      <td>6.80000</td>\n",
              "      <td>6.600000</td>\n",
              "      <td>6.30000</td>\n",
              "      <td>5.000000</td>\n",
              "      <td>4.800000</td>\n",
              "      <td>6.200000</td>\n",
              "      <td>6.100000</td>\n",
              "      <td>6.400000</td>\n",
              "      <td>5.90000</td>\n",
              "      <td>7.300000</td>\n",
              "      <td>8.400000</td>\n",
              "      <td>9.400000</td>\n",
              "      <td>10.100000</td>\n",
              "      <td>9.850000</td>\n",
              "      <td>9.700000</td>\n",
              "      <td>8.800000</td>\n",
              "      <td>8.500000</td>\n",
              "      <td>7.500000</td>\n",
              "      <td>6.600000</td>\n",
              "    </tr>\n",
              "    <tr>\n",
              "      <th>Min</th>\n",
              "      <td>0.30000</td>\n",
              "      <td>0.400000</td>\n",
              "      <td>0.80000</td>\n",
              "      <td>1.100000</td>\n",
              "      <td>1.000000</td>\n",
              "      <td>0.200000</td>\n",
              "      <td>1.200000</td>\n",
              "      <td>1.700000</td>\n",
              "      <td>1.80000</td>\n",
              "      <td>1.900000</td>\n",
              "      <td>1.900000</td>\n",
              "      <td>1.500000</td>\n",
              "      <td>1.400000</td>\n",
              "      <td>1.360000</td>\n",
              "      <td>1.300000</td>\n",
              "      <td>0.800000</td>\n",
              "      <td>0.400000</td>\n",
              "      <td>0.400000</td>\n",
              "      <td>0.100000</td>\n",
              "    </tr>\n",
              "    <tr>\n",
              "      <th>Mean</th>\n",
              "      <td>3.02963</td>\n",
              "      <td>3.120988</td>\n",
              "      <td>3.34321</td>\n",
              "      <td>3.864198</td>\n",
              "      <td>4.364198</td>\n",
              "      <td>5.174074</td>\n",
              "      <td>5.760494</td>\n",
              "      <td>6.041975</td>\n",
              "      <td>5.85679</td>\n",
              "      <td>6.703704</td>\n",
              "      <td>7.365432</td>\n",
              "      <td>7.337037</td>\n",
              "      <td>7.434568</td>\n",
              "      <td>6.939259</td>\n",
              "      <td>6.566667</td>\n",
              "      <td>5.824691</td>\n",
              "      <td>6.319277</td>\n",
              "      <td>6.053012</td>\n",
              "      <td>5.909639</td>\n",
              "    </tr>\n",
              "    <tr>\n",
              "      <th>Max</th>\n",
              "      <td>8.80000</td>\n",
              "      <td>7.500000</td>\n",
              "      <td>7.10000</td>\n",
              "      <td>9.600000</td>\n",
              "      <td>11.700000</td>\n",
              "      <td>18.100000</td>\n",
              "      <td>17.500000</td>\n",
              "      <td>16.300000</td>\n",
              "      <td>14.70000</td>\n",
              "      <td>12.300000</td>\n",
              "      <td>14.500000</td>\n",
              "      <td>14.800000</td>\n",
              "      <td>14.800000</td>\n",
              "      <td>13.710000</td>\n",
              "      <td>13.100000</td>\n",
              "      <td>11.300000</td>\n",
              "      <td>12.300000</td>\n",
              "      <td>12.800000</td>\n",
              "      <td>11.700000</td>\n",
              "    </tr>\n",
              "  </tbody>\n",
              "</table>\n",
              "</div>"
            ],
            "text/plain": [
              "year       1998      1999     2000  ...       2014       2015       2016\n",
              "region                              ...                                 \n",
              "Moscow  6.80000  6.600000  6.30000  ...   8.500000   7.500000   6.600000\n",
              "Min     0.30000  0.400000  0.80000  ...   0.400000   0.400000   0.100000\n",
              "Mean    3.02963  3.120988  3.34321  ...   6.319277   6.053012   5.909639\n",
              "Max     8.80000  7.500000  7.10000  ...  12.300000  12.800000  11.700000\n",
              "\n",
              "[4 rows x 19 columns]"
            ]
          },
          "metadata": {
            "tags": []
          },
          "execution_count": 58
        }
      ]
    },
    {
      "cell_type": "markdown",
      "metadata": {
        "id": "07iBAzExvhan"
      },
      "source": [
        "На протяжении большей части времени данные по Москве близки к средним значениям по России, но всегда чуть выше среднего. И максимально приблизилось к среднему значению в 2006 году. Москва - 5.9 литров вина, в среднем по России - 5.8 литров вина на душу неселения.\n",
        "\n",
        "В 1998-1999 годах потребления вина в Москве было на одном из максимальных уровнея для России, но далее начало снижаться.В 1998 году в Москве выпили 6.8 литров вина, при этом максимальное потребление по России составляло 8.8 литров.\n",
        "\n",
        "В 2003 году в России был резкий скачок в потреблении вина с 11.7 до 18.1 литра в год на максимальных значениях. При этом среднее значение выросло не так критично: с 4.3 до 5.2 литра. Что означает, что резкий всплеск был вызвон ростом потребления вина в одном или нескольких регионах страны. \n",
        "\n",
        "Пик потребления вина в Москве пришелся на 2010 год, когда потребление составило 10.1 литров вина на душу населения. \n",
        "\n",
        "После 2010 года потребления вина в столице постепенно снижалось и достигло 6.6 литров к 2016 году."
      ]
    },
    {
      "cell_type": "markdown",
      "metadata": {
        "id": "wUXc6UTuwLIr"
      },
      "source": [
        "**Динамика потребления пива в заданном регионе относительно России**"
      ]
    },
    {
      "cell_type": "code",
      "metadata": {
        "id": "to4bjjQevI2B"
      },
      "source": [
        "#nampy array для оси Х со списком лет будем использовать из ранее созданного\n",
        "#np_years\n",
        "\n",
        "#Создаю nampy array для оси Y со списками значений для региона и средних, макс. и мин. данных по России\n",
        "np_beer_region = np.array(df_region['beer'])\n",
        "np_beer_max = np.array(df_max['beer'])\n",
        "np_beer_min = np.array(df_min['beer'])\n",
        "#Массив со средними значениями у нас уже был создан ранее\n",
        "#np_beer_mean"
      ],
      "execution_count": 59,
      "outputs": []
    },
    {
      "cell_type": "code",
      "metadata": {
        "id": "kmB2Z2P8vI9x",
        "outputId": "240236b5-266e-4014-f119-a7f59bd7fdc2",
        "colab": {
          "base_uri": "https://localhost:8080/",
          "height": 295
        }
      },
      "source": [
        "# Задаем данные по годам, в качестве оси X и данные по разным видам напитков по оси Y.\n",
        "fig, ax = plt.subplots(figsize=(14, 4))\n",
        "\n",
        "ax.plot(np_years, np_beer_region, '#276ddd', linewidth=2, label='Москва')\n",
        "ax.plot(np_years, np_beer_mean, '#f9c100', linewidth=1, label='Среднее')\n",
        "ax.plot(np_years, np_beer_max, '#cf4a4a', linewidth=1, label='Максимум')\n",
        "ax.plot(np_years, np_beer_min, '#239151', linewidth=1, label='Минимум')\n",
        "\n",
        "ax.set_title('Потребление пива в Москве относительно данных по России')\n",
        "ax.set_xlabel('Года')\n",
        "ax.set_ylabel('Продажи в литрах на душу населения в год')\n",
        "ax.legend()\n",
        " \n",
        "plt.show()"
      ],
      "execution_count": 60,
      "outputs": [
        {
          "output_type": "display_data",
          "data": {
            "image/png": "[encoded data removed]",
            "text/plain": [
              "<Figure size 1008x288 with 1 Axes>"
            ]
          },
          "metadata": {
            "tags": [],
            "needs_background": "light"
          }
        }
      ]
    },
    {
      "cell_type": "code",
      "metadata": {
        "id": "6-AucIK0vJKl",
        "outputId": "c848714c-4fbc-4ba4-ae6b-55eca34d1cd6",
        "colab": {
          "base_uri": "https://localhost:8080/",
          "height": 222
        }
      },
      "source": [
        "beer_rus_region = pd.pivot_table(df_rus_region, values='beer', index='region', columns='year', aggfunc='sum')\n",
        "beer_rus_region.sort_values(by='region', ascending=False)"
      ],
      "execution_count": 61,
      "outputs": [
        {
          "output_type": "execute_result",
          "data": {
            "text/html": [
              "<div>\n",
              "<style scoped>\n",
              "    .dataframe tbody tr th:only-of-type {\n",
              "        vertical-align: middle;\n",
              "    }\n",
              "\n",
              "    .dataframe tbody tr th {\n",
              "        vertical-align: top;\n",
              "    }\n",
              "\n",
              "    .dataframe thead th {\n",
              "        text-align: right;\n",
              "    }\n",
              "</style>\n",
              "<table border=\"1\" class=\"dataframe\">\n",
              "  <thead>\n",
              "    <tr style=\"text-align: right;\">\n",
              "      <th>year</th>\n",
              "      <th>1998</th>\n",
              "      <th>1999</th>\n",
              "      <th>2000</th>\n",
              "      <th>2001</th>\n",
              "      <th>2002</th>\n",
              "      <th>2003</th>\n",
              "      <th>2004</th>\n",
              "      <th>2005</th>\n",
              "      <th>2006</th>\n",
              "      <th>2007</th>\n",
              "      <th>2008</th>\n",
              "      <th>2009</th>\n",
              "      <th>2010</th>\n",
              "      <th>2011</th>\n",
              "      <th>2012</th>\n",
              "      <th>2013</th>\n",
              "      <th>2014</th>\n",
              "      <th>2015</th>\n",
              "      <th>2016</th>\n",
              "    </tr>\n",
              "    <tr>\n",
              "      <th>region</th>\n",
              "      <th></th>\n",
              "      <th></th>\n",
              "      <th></th>\n",
              "      <th></th>\n",
              "      <th></th>\n",
              "      <th></th>\n",
              "      <th></th>\n",
              "      <th></th>\n",
              "      <th></th>\n",
              "      <th></th>\n",
              "      <th></th>\n",
              "      <th></th>\n",
              "      <th></th>\n",
              "      <th></th>\n",
              "      <th></th>\n",
              "      <th></th>\n",
              "      <th></th>\n",
              "      <th></th>\n",
              "      <th></th>\n",
              "    </tr>\n",
              "  </thead>\n",
              "  <tbody>\n",
              "    <tr>\n",
              "      <th>Moscow</th>\n",
              "      <td>30.000000</td>\n",
              "      <td>56.000000</td>\n",
              "      <td>61.800000</td>\n",
              "      <td>78.900000</td>\n",
              "      <td>85.700000</td>\n",
              "      <td>89.100000</td>\n",
              "      <td>99.100000</td>\n",
              "      <td>108.500000</td>\n",
              "      <td>111.000000</td>\n",
              "      <td>101.400000</td>\n",
              "      <td>95.800000</td>\n",
              "      <td>79.700000</td>\n",
              "      <td>87.800000</td>\n",
              "      <td>91.280000</td>\n",
              "      <td>89.900000</td>\n",
              "      <td>92.500000</td>\n",
              "      <td>82.900000</td>\n",
              "      <td>79.500000</td>\n",
              "      <td>69.200000</td>\n",
              "    </tr>\n",
              "    <tr>\n",
              "      <th>Min</th>\n",
              "      <td>1.800000</td>\n",
              "      <td>1.600000</td>\n",
              "      <td>1.800000</td>\n",
              "      <td>2.766667</td>\n",
              "      <td>2.766667</td>\n",
              "      <td>2.766667</td>\n",
              "      <td>2.766667</td>\n",
              "      <td>2.766667</td>\n",
              "      <td>2.766667</td>\n",
              "      <td>2.766667</td>\n",
              "      <td>2.766667</td>\n",
              "      <td>2.766667</td>\n",
              "      <td>2.766667</td>\n",
              "      <td>2.740000</td>\n",
              "      <td>2.500000</td>\n",
              "      <td>2.100000</td>\n",
              "      <td>2.200000</td>\n",
              "      <td>2.100000</td>\n",
              "      <td>1.000000</td>\n",
              "    </tr>\n",
              "    <tr>\n",
              "      <th>Mean</th>\n",
              "      <td>20.419753</td>\n",
              "      <td>25.395062</td>\n",
              "      <td>30.130864</td>\n",
              "      <td>36.675309</td>\n",
              "      <td>42.791358</td>\n",
              "      <td>47.849383</td>\n",
              "      <td>53.045679</td>\n",
              "      <td>55.160494</td>\n",
              "      <td>62.285185</td>\n",
              "      <td>62.764198</td>\n",
              "      <td>65.445679</td>\n",
              "      <td>63.820988</td>\n",
              "      <td>63.393827</td>\n",
              "      <td>64.642593</td>\n",
              "      <td>65.960494</td>\n",
              "      <td>63.665432</td>\n",
              "      <td>56.110714</td>\n",
              "      <td>50.629762</td>\n",
              "      <td>48.911905</td>\n",
              "    </tr>\n",
              "    <tr>\n",
              "      <th>Max</th>\n",
              "      <td>42.100000</td>\n",
              "      <td>57.400000</td>\n",
              "      <td>68.200000</td>\n",
              "      <td>101.000000</td>\n",
              "      <td>104.600000</td>\n",
              "      <td>109.000000</td>\n",
              "      <td>190.400000</td>\n",
              "      <td>202.100000</td>\n",
              "      <td>207.300000</td>\n",
              "      <td>118.300000</td>\n",
              "      <td>129.400000</td>\n",
              "      <td>143.000000</td>\n",
              "      <td>118.800000</td>\n",
              "      <td>126.930000</td>\n",
              "      <td>125.200000</td>\n",
              "      <td>128.500000</td>\n",
              "      <td>100.700000</td>\n",
              "      <td>94.900000</td>\n",
              "      <td>99.100000</td>\n",
              "    </tr>\n",
              "  </tbody>\n",
              "</table>\n",
              "</div>"
            ],
            "text/plain": [
              "year         1998       1999       2000  ...        2014       2015       2016\n",
              "region                                   ...                                  \n",
              "Moscow  30.000000  56.000000  61.800000  ...   82.900000  79.500000  69.200000\n",
              "Min      1.800000   1.600000   1.800000  ...    2.200000   2.100000   1.000000\n",
              "Mean    20.419753  25.395062  30.130864  ...   56.110714  50.629762  48.911905\n",
              "Max     42.100000  57.400000  68.200000  ...  100.700000  94.900000  99.100000\n",
              "\n",
              "[4 rows x 19 columns]"
            ]
          },
          "metadata": {
            "tags": []
          },
          "execution_count": 61
        }
      ]
    },
    {
      "cell_type": "markdown",
      "metadata": {
        "id": "tQxKIDFBwtOn"
      },
      "source": [
        "В Москве употребление пива на протяжении всего отчетного периода было выше, чем в среднем по стране.\n",
        "\n",
        "В 1999 году потребление пива вплотную приблизилось к максимальному значению: 56 литров в Москве относительно 57.4 литра в целом по России.\n",
        "\n",
        "В России был резкий всплеск потребления пива в 2004-2006 годах с 109 литров в 2003 году до 190 литров в 2004. Далее несколько лет сохранялось высокое потребление пива - 190-207 литров в год на душу населения. После которого был резкий спад до 118 литров в 2007 году и постепенное снижение до 99.1 литра в к 2016 году.\n",
        "\n",
        "График потребления пива в Москве выглядит более гладким, общие тренды сохраняются, но без резких скачков. Пик потребления приходится также на 2005-2006 года - 108-111 литров на душу населения в год. К 2016 году потребление сократилось до 69.2 литров в год на человека."
      ]
    },
    {
      "cell_type": "markdown",
      "metadata": {
        "id": "2KGHX_kR0CYA"
      },
      "source": [
        "**Динамика потребления водки в заданном регионе относительно России**"
      ]
    },
    {
      "cell_type": "code",
      "metadata": {
        "id": "Cgb1-or9vJHd"
      },
      "source": [
        "#nampy array для оси Х со списком лет будем использовать из ранее созданного\n",
        "#np_years\n",
        "\n",
        "#Создаю nampy array для оси Y со списками значений для региона и средних, макс. и мин. данных по России\n",
        "np_vodka_region = np.array(df_region['vodka'])\n",
        "np_vodka_max = np.array(df_max['vodka'])\n",
        "np_vodka_min = np.array(df_min['vodka'])\n",
        "#Массив со средними значениями у нас уже был создан ранее\n",
        "#np_vodka_mean"
      ],
      "execution_count": 62,
      "outputs": []
    },
    {
      "cell_type": "code",
      "metadata": {
        "id": "oe9J7cDlvJF-",
        "outputId": "eb217a73-bddb-4b1e-8550-56e878333513",
        "colab": {
          "base_uri": "https://localhost:8080/",
          "height": 295
        }
      },
      "source": [
        "# Задаем данные по годам, в качестве оси X и данные по разным видам напитков по оси Y.\n",
        "fig, ax = plt.subplots(figsize=(14, 4))\n",
        "\n",
        "ax.plot(np_years, np_vodka_region, '#276ddd', linewidth=2, label='Москва')\n",
        "ax.plot(np_years, np_vodka_mean, '#f9c100', linewidth=1, label='Среднее')\n",
        "ax.plot(np_years, np_vodka_max, '#cf4a4a', linewidth=1, label='Максимум')\n",
        "ax.plot(np_years, np_vodka_min, '#239151', linewidth=1, label='Минимум')\n",
        "\n",
        "ax.set_title('Потребление водки в Москве относительно данных по России')\n",
        "ax.set_xlabel('Года')\n",
        "ax.set_ylabel('Продажи в литрах на душу населения в год')\n",
        "ax.legend()\n",
        " \n",
        "plt.show()"
      ],
      "execution_count": 63,
      "outputs": [
        {
          "output_type": "display_data",
          "data": {
            "image/png": "[encoded data removed]",
            "text/plain": [
              "<Figure size 1008x288 with 1 Axes>"
            ]
          },
          "metadata": {
            "tags": [],
            "needs_background": "light"
          }
        }
      ]
    },
    {
      "cell_type": "code",
      "metadata": {
        "id": "pTbZIYhLvJEP",
        "outputId": "1496da9c-3ec0-4d73-d658-11520ddd638b",
        "colab": {
          "base_uri": "https://localhost:8080/",
          "height": 222
        }
      },
      "source": [
        "vodka_rus_region = pd.pivot_table(df_rus_region, values='vodka', index='region', columns='year', aggfunc='sum')\n",
        "vodka_rus_region.sort_values(by='region', ascending=False)"
      ],
      "execution_count": 64,
      "outputs": [
        {
          "output_type": "execute_result",
          "data": {
            "text/html": [
              "<div>\n",
              "<style scoped>\n",
              "    .dataframe tbody tr th:only-of-type {\n",
              "        vertical-align: middle;\n",
              "    }\n",
              "\n",
              "    .dataframe tbody tr th {\n",
              "        vertical-align: top;\n",
              "    }\n",
              "\n",
              "    .dataframe thead th {\n",
              "        text-align: right;\n",
              "    }\n",
              "</style>\n",
              "<table border=\"1\" class=\"dataframe\">\n",
              "  <thead>\n",
              "    <tr style=\"text-align: right;\">\n",
              "      <th>year</th>\n",
              "      <th>1998</th>\n",
              "      <th>1999</th>\n",
              "      <th>2000</th>\n",
              "      <th>2001</th>\n",
              "      <th>2002</th>\n",
              "      <th>2003</th>\n",
              "      <th>2004</th>\n",
              "      <th>2005</th>\n",
              "      <th>2006</th>\n",
              "      <th>2007</th>\n",
              "      <th>2008</th>\n",
              "      <th>2009</th>\n",
              "      <th>2010</th>\n",
              "      <th>2011</th>\n",
              "      <th>2012</th>\n",
              "      <th>2013</th>\n",
              "      <th>2014</th>\n",
              "      <th>2015</th>\n",
              "      <th>2016</th>\n",
              "    </tr>\n",
              "    <tr>\n",
              "      <th>region</th>\n",
              "      <th></th>\n",
              "      <th></th>\n",
              "      <th></th>\n",
              "      <th></th>\n",
              "      <th></th>\n",
              "      <th></th>\n",
              "      <th></th>\n",
              "      <th></th>\n",
              "      <th></th>\n",
              "      <th></th>\n",
              "      <th></th>\n",
              "      <th></th>\n",
              "      <th></th>\n",
              "      <th></th>\n",
              "      <th></th>\n",
              "      <th></th>\n",
              "      <th></th>\n",
              "      <th></th>\n",
              "      <th></th>\n",
              "    </tr>\n",
              "  </thead>\n",
              "  <tbody>\n",
              "    <tr>\n",
              "      <th>Moscow</th>\n",
              "      <td>18.900000</td>\n",
              "      <td>18.700000</td>\n",
              "      <td>18.80000</td>\n",
              "      <td>19.700000</td>\n",
              "      <td>20.800000</td>\n",
              "      <td>23.000000</td>\n",
              "      <td>24.000000</td>\n",
              "      <td>24.200000</td>\n",
              "      <td>23.800000</td>\n",
              "      <td>22.900000</td>\n",
              "      <td>20.200000</td>\n",
              "      <td>19.300000</td>\n",
              "      <td>16.600000</td>\n",
              "      <td>16.920000</td>\n",
              "      <td>16.500000</td>\n",
              "      <td>16.000000</td>\n",
              "      <td>15.700000</td>\n",
              "      <td>13.30000</td>\n",
              "      <td>12.100000</td>\n",
              "    </tr>\n",
              "    <tr>\n",
              "      <th>Min</th>\n",
              "      <td>2.000000</td>\n",
              "      <td>1.000000</td>\n",
              "      <td>1.00000</td>\n",
              "      <td>1.800000</td>\n",
              "      <td>4.266667</td>\n",
              "      <td>4.266667</td>\n",
              "      <td>4.266667</td>\n",
              "      <td>3.400000</td>\n",
              "      <td>3.800000</td>\n",
              "      <td>3.900000</td>\n",
              "      <td>3.400000</td>\n",
              "      <td>2.800000</td>\n",
              "      <td>2.300000</td>\n",
              "      <td>2.170000</td>\n",
              "      <td>1.800000</td>\n",
              "      <td>1.200000</td>\n",
              "      <td>0.600000</td>\n",
              "      <td>0.50000</td>\n",
              "      <td>0.400000</td>\n",
              "    </tr>\n",
              "    <tr>\n",
              "      <th>Mean</th>\n",
              "      <td>12.669136</td>\n",
              "      <td>13.469136</td>\n",
              "      <td>13.57284</td>\n",
              "      <td>14.365432</td>\n",
              "      <td>14.917284</td>\n",
              "      <td>14.640741</td>\n",
              "      <td>14.466667</td>\n",
              "      <td>13.833333</td>\n",
              "      <td>13.235802</td>\n",
              "      <td>12.479012</td>\n",
              "      <td>12.380247</td>\n",
              "      <td>11.667901</td>\n",
              "      <td>11.376543</td>\n",
              "      <td>11.341975</td>\n",
              "      <td>11.144444</td>\n",
              "      <td>9.528395</td>\n",
              "      <td>7.606024</td>\n",
              "      <td>6.66747</td>\n",
              "      <td>6.625301</td>\n",
              "    </tr>\n",
              "    <tr>\n",
              "      <th>Max</th>\n",
              "      <td>25.100000</td>\n",
              "      <td>26.400000</td>\n",
              "      <td>27.40000</td>\n",
              "      <td>28.500000</td>\n",
              "      <td>29.500000</td>\n",
              "      <td>31.900000</td>\n",
              "      <td>40.600000</td>\n",
              "      <td>31.000000</td>\n",
              "      <td>31.700000</td>\n",
              "      <td>22.900000</td>\n",
              "      <td>23.100000</td>\n",
              "      <td>20.800000</td>\n",
              "      <td>18.800000</td>\n",
              "      <td>21.690000</td>\n",
              "      <td>24.300000</td>\n",
              "      <td>17.800000</td>\n",
              "      <td>16.500000</td>\n",
              "      <td>14.10000</td>\n",
              "      <td>12.800000</td>\n",
              "    </tr>\n",
              "  </tbody>\n",
              "</table>\n",
              "</div>"
            ],
            "text/plain": [
              "year         1998       1999      2000  ...       2014      2015       2016\n",
              "region                                  ...                                \n",
              "Moscow  18.900000  18.700000  18.80000  ...  15.700000  13.30000  12.100000\n",
              "Min      2.000000   1.000000   1.00000  ...   0.600000   0.50000   0.400000\n",
              "Mean    12.669136  13.469136  13.57284  ...   7.606024   6.66747   6.625301\n",
              "Max     25.100000  26.400000  27.40000  ...  16.500000  14.10000  12.800000\n",
              "\n",
              "[4 rows x 19 columns]"
            ]
          },
          "metadata": {
            "tags": []
          },
          "execution_count": 64
        }
      ]
    },
    {
      "cell_type": "markdown",
      "metadata": {
        "id": "e-X8T1jq0x_y"
      },
      "source": [
        "Потребление водки в России росло с 1998 по 2004 годы, достигнув максимума в 31.9 литров на челоека в год. После 2004 года происходило стабильное снижение потребления и к 2016 году максимальный уровень потребления водки составил 12.8 литра, а среднее значение по России - 6.6 литра на человека в год.\n",
        "\n",
        "В Москве потребление водки выше среднего по России.\n",
        "\n",
        "В начале отчетного периода, в 1998 году в Москве потребление водки составило - 18.9 литров, при этом среднее значение по России было 12.6 литров, а максимальное 25.1 литр. \n",
        "\n",
        "Хотя в Москве прослеживается общий тренд на снижение потребления водки, но движение происходит медленнее, чем в других регионах страны. Таким образом уже в 2007 году Москва заняла первое место по употрблению водки - 22.9 литров.\n",
        "\n",
        "После 2007 года Москва уступила первенство другим регионам, но потребление водки в регионе стабильно сохраняется на значениях близких к максимальным по стране и сильно выше средних значений.\n",
        "\n",
        "С 2013 по 2016 года потребление водки в Москве максимально близко к максимальным значениям по России. Так в 2013 году в Москве выпито 16 литров водки на человека в год, среднее значение по стране составило 9.5 литров, а максимальное 17.8 литров, что незначительно больше Москвы.\n",
        "\n",
        "В 2016 году максимальное потребление водки в России составило 12.8 литров на душу населения. Среднее значение - 6.6. литров, минимальное - 0.4. литра. Москва - 12.1 литра, что практически равно максимуму."
      ]
    },
    {
      "cell_type": "markdown",
      "metadata": {
        "id": "ChUqjIDn0yPU"
      },
      "source": [
        "**Динамика потребления шампанского в заданном регионе относительно России**"
      ]
    },
    {
      "cell_type": "code",
      "metadata": {
        "id": "FNnMXWQJvJBR"
      },
      "source": [
        "#nampy array для оси Х со списком лет будем использовать из ранее созданного\n",
        "#np_years\n",
        "\n",
        "#Создаю nampy array для оси Y со списками значений для региона и средних, макс. и мин. данных по России\n",
        "np_champagne_region = np.array(df_region['champagne'])\n",
        "np_champagne_max = np.array(df_max['champagne'])\n",
        "np_champagne_min = np.array(df_min['champagne'])\n",
        "#Массив со средними значениями у нас уже был создан ранее\n",
        "#np_champagne_mean"
      ],
      "execution_count": 65,
      "outputs": []
    },
    {
      "cell_type": "code",
      "metadata": {
        "id": "5lxws6HE038N",
        "outputId": "8aadc9a1-d872-467b-bd65-5ff6fd34452b",
        "colab": {
          "base_uri": "https://localhost:8080/",
          "height": 295
        }
      },
      "source": [
        "# Задаем данные по годам, в качестве оси X и данные по разным видам напитков по оси Y.\n",
        "fig, ax = plt.subplots(figsize=(14, 4))\n",
        "\n",
        "ax.plot(np_years, np_champagne_region, '#276ddd', linewidth=2, label='Москва')\n",
        "ax.plot(np_years, np_champagne_mean, '#f9c100', linewidth=1, label='Среднее')\n",
        "ax.plot(np_years, np_champagne_max, '#cf4a4a', linewidth=1, label='Максимум')\n",
        "ax.plot(np_years, np_champagne_min, '#239151', linewidth=1, label='Минимум')\n",
        "\n",
        "ax.set_title('Потребление шампанского в Москве относительно данных по России')\n",
        "ax.set_xlabel('Года')\n",
        "ax.set_ylabel('Продажи в литрах на душу населения в год')\n",
        "ax.legend()\n",
        " \n",
        "plt.show()"
      ],
      "execution_count": 66,
      "outputs": [
        {
          "output_type": "display_data",
          "data": {
            "image/png": "[encoded data removed]",
            "text/plain": [
              "<Figure size 1008x288 with 1 Axes>"
            ]
          },
          "metadata": {
            "tags": [],
            "needs_background": "light"
          }
        }
      ]
    },
    {
      "cell_type": "code",
      "metadata": {
        "id": "WUviKugC04DU",
        "outputId": "71c16763-565e-44b5-8f8c-260084171067",
        "colab": {
          "base_uri": "https://localhost:8080/",
          "height": 222
        }
      },
      "source": [
        "champagne_rus_region = pd.pivot_table(df_rus_region, values='champagne', index='region', columns='year', aggfunc='sum')\n",
        "champagne_rus_region.sort_values(by='region', ascending=False)"
      ],
      "execution_count": 67,
      "outputs": [
        {
          "output_type": "execute_result",
          "data": {
            "text/html": [
              "<div>\n",
              "<style scoped>\n",
              "    .dataframe tbody tr th:only-of-type {\n",
              "        vertical-align: middle;\n",
              "    }\n",
              "\n",
              "    .dataframe tbody tr th {\n",
              "        vertical-align: top;\n",
              "    }\n",
              "\n",
              "    .dataframe thead th {\n",
              "        text-align: right;\n",
              "    }\n",
              "</style>\n",
              "<table border=\"1\" class=\"dataframe\">\n",
              "  <thead>\n",
              "    <tr style=\"text-align: right;\">\n",
              "      <th>year</th>\n",
              "      <th>1998</th>\n",
              "      <th>1999</th>\n",
              "      <th>2000</th>\n",
              "      <th>2001</th>\n",
              "      <th>2002</th>\n",
              "      <th>2003</th>\n",
              "      <th>2004</th>\n",
              "      <th>2005</th>\n",
              "      <th>2006</th>\n",
              "      <th>2007</th>\n",
              "      <th>2008</th>\n",
              "      <th>2009</th>\n",
              "      <th>2010</th>\n",
              "      <th>2011</th>\n",
              "      <th>2012</th>\n",
              "      <th>2013</th>\n",
              "      <th>2014</th>\n",
              "      <th>2015</th>\n",
              "      <th>2016</th>\n",
              "    </tr>\n",
              "    <tr>\n",
              "      <th>region</th>\n",
              "      <th></th>\n",
              "      <th></th>\n",
              "      <th></th>\n",
              "      <th></th>\n",
              "      <th></th>\n",
              "      <th></th>\n",
              "      <th></th>\n",
              "      <th></th>\n",
              "      <th></th>\n",
              "      <th></th>\n",
              "      <th></th>\n",
              "      <th></th>\n",
              "      <th></th>\n",
              "      <th></th>\n",
              "      <th></th>\n",
              "      <th></th>\n",
              "      <th></th>\n",
              "      <th></th>\n",
              "      <th></th>\n",
              "    </tr>\n",
              "  </thead>\n",
              "  <tbody>\n",
              "    <tr>\n",
              "      <th>Moscow</th>\n",
              "      <td>3.50000</td>\n",
              "      <td>3.600000</td>\n",
              "      <td>3.900000</td>\n",
              "      <td>4.20000</td>\n",
              "      <td>4.000000</td>\n",
              "      <td>4.100000</td>\n",
              "      <td>3.800000</td>\n",
              "      <td>3.700000</td>\n",
              "      <td>4.200000</td>\n",
              "      <td>4.800000</td>\n",
              "      <td>5.00000</td>\n",
              "      <td>4.800000</td>\n",
              "      <td>4.900000</td>\n",
              "      <td>5.140000</td>\n",
              "      <td>5.000000</td>\n",
              "      <td>5.100000</td>\n",
              "      <td>5.100000</td>\n",
              "      <td>4.500000</td>\n",
              "      <td>4.00000</td>\n",
              "    </tr>\n",
              "    <tr>\n",
              "      <th>Min</th>\n",
              "      <td>0.10000</td>\n",
              "      <td>0.100000</td>\n",
              "      <td>0.100000</td>\n",
              "      <td>0.10000</td>\n",
              "      <td>0.200000</td>\n",
              "      <td>0.200000</td>\n",
              "      <td>0.200000</td>\n",
              "      <td>0.300000</td>\n",
              "      <td>0.300000</td>\n",
              "      <td>0.400000</td>\n",
              "      <td>0.40000</td>\n",
              "      <td>0.300000</td>\n",
              "      <td>0.300000</td>\n",
              "      <td>0.330000</td>\n",
              "      <td>0.400000</td>\n",
              "      <td>0.300000</td>\n",
              "      <td>0.200000</td>\n",
              "      <td>0.300000</td>\n",
              "      <td>0.20000</td>\n",
              "    </tr>\n",
              "    <tr>\n",
              "      <th>Mean</th>\n",
              "      <td>0.91358</td>\n",
              "      <td>0.846914</td>\n",
              "      <td>0.892593</td>\n",
              "      <td>0.92716</td>\n",
              "      <td>0.969136</td>\n",
              "      <td>1.038272</td>\n",
              "      <td>1.097531</td>\n",
              "      <td>1.185185</td>\n",
              "      <td>1.230864</td>\n",
              "      <td>1.422222</td>\n",
              "      <td>1.57037</td>\n",
              "      <td>1.548148</td>\n",
              "      <td>1.696296</td>\n",
              "      <td>1.817901</td>\n",
              "      <td>1.782716</td>\n",
              "      <td>1.706173</td>\n",
              "      <td>1.584337</td>\n",
              "      <td>1.439759</td>\n",
              "      <td>1.33494</td>\n",
              "    </tr>\n",
              "    <tr>\n",
              "      <th>Max</th>\n",
              "      <td>3.50000</td>\n",
              "      <td>3.600000</td>\n",
              "      <td>3.900000</td>\n",
              "      <td>4.20000</td>\n",
              "      <td>4.000000</td>\n",
              "      <td>4.100000</td>\n",
              "      <td>3.800000</td>\n",
              "      <td>3.900000</td>\n",
              "      <td>4.200000</td>\n",
              "      <td>4.800000</td>\n",
              "      <td>5.00000</td>\n",
              "      <td>4.800000</td>\n",
              "      <td>4.900000</td>\n",
              "      <td>5.560000</td>\n",
              "      <td>5.000000</td>\n",
              "      <td>5.100000</td>\n",
              "      <td>5.100000</td>\n",
              "      <td>4.500000</td>\n",
              "      <td>4.00000</td>\n",
              "    </tr>\n",
              "  </tbody>\n",
              "</table>\n",
              "</div>"
            ],
            "text/plain": [
              "year       1998      1999      2000  ...      2014      2015     2016\n",
              "region                               ...                             \n",
              "Moscow  3.50000  3.600000  3.900000  ...  5.100000  4.500000  4.00000\n",
              "Min     0.10000  0.100000  0.100000  ...  0.200000  0.300000  0.20000\n",
              "Mean    0.91358  0.846914  0.892593  ...  1.584337  1.439759  1.33494\n",
              "Max     3.50000  3.600000  3.900000  ...  5.100000  4.500000  4.00000\n",
              "\n",
              "[4 rows x 19 columns]"
            ]
          },
          "metadata": {
            "tags": []
          },
          "execution_count": 67
        }
      ]
    },
    {
      "cell_type": "markdown",
      "metadata": {
        "id": "MQvHH3M71zk-"
      },
      "source": [
        "Если посмотреть на график потребление шампанского, то можно сделать однозначный вывод о том, что Москва - лидер России по употреблению шампанского.\n",
        "\n",
        "В течение всего отчетного периода с 1998 по 2016 года Москва занимала 1-е или одно из первых мест по употреблению шампанского.\n",
        "\n",
        "В 1998 году максимальное потребление шампанского составило 3.5 литра на человека в год и это потребление Москвы. Москва оставалась лидером до 2004 года, когда потребление составило 3.8 литров в год. После чего на один год уступила пальму первенства.\n",
        "\n",
        "Но с 2006 по 2016 год Москва стабильно была на первом месте по употреблению данного напитка. \n",
        "\n",
        "Хотя среднее потребление шампанского по России колебалось от 0.9 до 1.5 литров в год на человека, в Москве выпивалось от 3.5 до 5 литров шампанского в год.\n",
        "\n",
        "В 2016 году среднее значение по России составило 1.3 литра, а в Москве - 4 литра шампанского в год на человека."
      ]
    },
    {
      "cell_type": "markdown",
      "metadata": {
        "id": "YZFLaNSU10Lw"
      },
      "source": [
        "**Динамика потребления бренди в заданном регионе относительно России**"
      ]
    },
    {
      "cell_type": "code",
      "metadata": {
        "id": "XIwKSPxF04KM"
      },
      "source": [
        "#nampy array для оси Х со списком лет будем использовать из ранее созданного\n",
        "#np_years\n",
        "\n",
        "#Создаю nampy array для оси Y со списками значений для региона и средних, макс. и мин. данных по России\n",
        "np_brandy_region = np.array(df_region['brandy'])\n",
        "np_brandy_max = np.array(df_max['brandy'])\n",
        "np_brandy_min = np.array(df_min['brandy'])\n",
        "#Массив со средними значениями у нас уже был создан ранее\n",
        "#np_brandy_mean"
      ],
      "execution_count": 68,
      "outputs": []
    },
    {
      "cell_type": "code",
      "metadata": {
        "id": "pgpwZtxz04SC",
        "outputId": "e29e9452-71ea-41ab-d7bf-9002eb82ad25",
        "colab": {
          "base_uri": "https://localhost:8080/",
          "height": 295
        }
      },
      "source": [
        "# Задаем данные по годам, в качестве оси X и данные по разным видам напитков по оси Y.\n",
        "fig, ax = plt.subplots(figsize=(14, 4))\n",
        "\n",
        "ax.plot(np_years, np_brandy_region, '#276ddd', linewidth=2, label='Москва')\n",
        "ax.plot(np_years, np_brandy_mean, '#f9c100', linewidth=1, label='Среднее')\n",
        "ax.plot(np_years, np_brandy_max, '#cf4a4a', linewidth=1, label='Максимум')\n",
        "ax.plot(np_years, np_brandy_min, '#239151', linewidth=1, label='Минимум')\n",
        "\n",
        "ax.set_title('Потребление бренди в Москве относительно данных по России')\n",
        "ax.set_xlabel('Года')\n",
        "ax.set_ylabel('Продажи в литрах на душу населения в год')\n",
        "ax.legend()\n",
        " \n",
        "plt.show()"
      ],
      "execution_count": 69,
      "outputs": [
        {
          "output_type": "display_data",
          "data": {
            "image/png": "[encoded data removed]",
            "text/plain": [
              "<Figure size 1008x288 with 1 Axes>"
            ]
          },
          "metadata": {
            "tags": [],
            "needs_background": "light"
          }
        }
      ]
    },
    {
      "cell_type": "code",
      "metadata": {
        "id": "dHHDjW9J04Qe",
        "outputId": "6b8b3120-dd17-448f-8dfb-07ee4bc724ea",
        "colab": {
          "base_uri": "https://localhost:8080/",
          "height": 222
        }
      },
      "source": [
        "brandy_rus_region = pd.pivot_table(df_rus_region, values='brandy', index='region', columns='year', aggfunc='sum')\n",
        "brandy_rus_region.sort_values(by='region', ascending=False)"
      ],
      "execution_count": 70,
      "outputs": [
        {
          "output_type": "execute_result",
          "data": {
            "text/html": [
              "<div>\n",
              "<style scoped>\n",
              "    .dataframe tbody tr th:only-of-type {\n",
              "        vertical-align: middle;\n",
              "    }\n",
              "\n",
              "    .dataframe tbody tr th {\n",
              "        vertical-align: top;\n",
              "    }\n",
              "\n",
              "    .dataframe thead th {\n",
              "        text-align: right;\n",
              "    }\n",
              "</style>\n",
              "<table border=\"1\" class=\"dataframe\">\n",
              "  <thead>\n",
              "    <tr style=\"text-align: right;\">\n",
              "      <th>year</th>\n",
              "      <th>1998</th>\n",
              "      <th>1999</th>\n",
              "      <th>2000</th>\n",
              "      <th>2001</th>\n",
              "      <th>2002</th>\n",
              "      <th>2003</th>\n",
              "      <th>2004</th>\n",
              "      <th>2005</th>\n",
              "      <th>2006</th>\n",
              "      <th>2007</th>\n",
              "      <th>2008</th>\n",
              "      <th>2009</th>\n",
              "      <th>2010</th>\n",
              "      <th>2011</th>\n",
              "      <th>2012</th>\n",
              "      <th>2013</th>\n",
              "      <th>2014</th>\n",
              "      <th>2015</th>\n",
              "      <th>2016</th>\n",
              "    </tr>\n",
              "    <tr>\n",
              "      <th>region</th>\n",
              "      <th></th>\n",
              "      <th></th>\n",
              "      <th></th>\n",
              "      <th></th>\n",
              "      <th></th>\n",
              "      <th></th>\n",
              "      <th></th>\n",
              "      <th></th>\n",
              "      <th></th>\n",
              "      <th></th>\n",
              "      <th></th>\n",
              "      <th></th>\n",
              "      <th></th>\n",
              "      <th></th>\n",
              "      <th></th>\n",
              "      <th></th>\n",
              "      <th></th>\n",
              "      <th></th>\n",
              "      <th></th>\n",
              "    </tr>\n",
              "  </thead>\n",
              "  <tbody>\n",
              "    <tr>\n",
              "      <th>Moscow</th>\n",
              "      <td>0.700000</td>\n",
              "      <td>0.700000</td>\n",
              "      <td>0.600000</td>\n",
              "      <td>0.700000</td>\n",
              "      <td>0.900000</td>\n",
              "      <td>0.900000</td>\n",
              "      <td>1.000000</td>\n",
              "      <td>1.000000</td>\n",
              "      <td>1.200000</td>\n",
              "      <td>1.500000</td>\n",
              "      <td>1.60000</td>\n",
              "      <td>1.800000</td>\n",
              "      <td>1.800000</td>\n",
              "      <td>1.800000</td>\n",
              "      <td>1.700000</td>\n",
              "      <td>1.700000</td>\n",
              "      <td>1.700000</td>\n",
              "      <td>1.500000</td>\n",
              "      <td>1.100000</td>\n",
              "    </tr>\n",
              "    <tr>\n",
              "      <th>Min</th>\n",
              "      <td>0.020000</td>\n",
              "      <td>0.020000</td>\n",
              "      <td>0.030000</td>\n",
              "      <td>0.100000</td>\n",
              "      <td>0.100000</td>\n",
              "      <td>0.100000</td>\n",
              "      <td>0.000000</td>\n",
              "      <td>0.100000</td>\n",
              "      <td>0.100000</td>\n",
              "      <td>0.100000</td>\n",
              "      <td>0.10000</td>\n",
              "      <td>0.200000</td>\n",
              "      <td>0.200000</td>\n",
              "      <td>0.240000</td>\n",
              "      <td>0.300000</td>\n",
              "      <td>0.200000</td>\n",
              "      <td>0.100000</td>\n",
              "      <td>0.100000</td>\n",
              "      <td>0.100000</td>\n",
              "    </tr>\n",
              "    <tr>\n",
              "      <th>Mean</th>\n",
              "      <td>0.228889</td>\n",
              "      <td>0.210864</td>\n",
              "      <td>0.233704</td>\n",
              "      <td>0.260494</td>\n",
              "      <td>0.314815</td>\n",
              "      <td>0.361728</td>\n",
              "      <td>0.387654</td>\n",
              "      <td>0.411111</td>\n",
              "      <td>0.437037</td>\n",
              "      <td>0.534568</td>\n",
              "      <td>0.67037</td>\n",
              "      <td>0.682716</td>\n",
              "      <td>0.734568</td>\n",
              "      <td>0.787284</td>\n",
              "      <td>0.828395</td>\n",
              "      <td>0.802469</td>\n",
              "      <td>0.746988</td>\n",
              "      <td>0.677108</td>\n",
              "      <td>0.671084</td>\n",
              "    </tr>\n",
              "    <tr>\n",
              "      <th>Max</th>\n",
              "      <td>1.100000</td>\n",
              "      <td>1.100000</td>\n",
              "      <td>1.100000</td>\n",
              "      <td>1.100000</td>\n",
              "      <td>1.200000</td>\n",
              "      <td>1.300000</td>\n",
              "      <td>1.800000</td>\n",
              "      <td>1.400000</td>\n",
              "      <td>1.400000</td>\n",
              "      <td>1.500000</td>\n",
              "      <td>2.10000</td>\n",
              "      <td>1.900000</td>\n",
              "      <td>2.000000</td>\n",
              "      <td>2.130000</td>\n",
              "      <td>2.300000</td>\n",
              "      <td>2.100000</td>\n",
              "      <td>2.000000</td>\n",
              "      <td>1.900000</td>\n",
              "      <td>1.900000</td>\n",
              "    </tr>\n",
              "  </tbody>\n",
              "</table>\n",
              "</div>"
            ],
            "text/plain": [
              "year        1998      1999      2000  ...      2014      2015      2016\n",
              "region                                ...                              \n",
              "Moscow  0.700000  0.700000  0.600000  ...  1.700000  1.500000  1.100000\n",
              "Min     0.020000  0.020000  0.030000  ...  0.100000  0.100000  0.100000\n",
              "Mean    0.228889  0.210864  0.233704  ...  0.746988  0.677108  0.671084\n",
              "Max     1.100000  1.100000  1.100000  ...  2.000000  1.900000  1.900000\n",
              "\n",
              "[4 rows x 19 columns]"
            ]
          },
          "metadata": {
            "tags": []
          },
          "execution_count": 70
        }
      ]
    },
    {
      "cell_type": "markdown",
      "metadata": {
        "id": "QgVHe0wP2SKy"
      },
      "source": [
        "Потребление бренди в Москве на протяжении всего отчетного периода было выше средних значений по стране.\n",
        "\n",
        "В 1998 году среднее значение составляло 0.2 литра на человека в год, а в Москве было выпито 0.7 литров. При этом максимальное значение для 1998 года было равно 1.1 литра.\n",
        "\n",
        "Со временем потребление бренди в России стабильно росло. Рост прослеживается как по максимальным, так и по средним и минимальным значениям, но Москва всегда потребляла бренди выше среднего значения по стране, а в 2007 году даже заняла первое место со значением 1.5 литра на человека.\n",
        "\n",
        "Пик потребления бренди в Москве приходится на 2009-2011 годы со значением 1.8 литров на человека. После чего пошел плавный спад, который достиг 1.1 литра на человека в 2016 году.\n",
        "\n",
        "Всплеск потребления бренди в России при этом пришелся на 2012 год - 2.3 литра на человека. Среднее потребление по стране достигло своего максимума в 2012-2013 годах - 0.8 литра.\n",
        "\n"
      ]
    },
    {
      "cell_type": "markdown",
      "metadata": {
        "id": "H2mCzSOIFn-D"
      },
      "source": [
        "**Общие выводы по потреблению алкоголя в выбранном регионе**"
      ]
    },
    {
      "cell_type": "markdown",
      "metadata": {
        "id": "4m7Q4YPjFyLX"
      },
      "source": [
        "1. Москва потребляет алкоголь больше, чем в среднем в России. \n",
        "\n",
        "2. С течением времени в Москве увеличивалось потребление всех типов алкогольных напитков, за исключением водки.\n",
        "\n",
        "3. В категории вино и пиво Москва показала результаты выше средних по стране, но они находятся в промежутке от среднего к максимуму. В категориях же водки, шампанского и бренди Москва явно лидирует среди регионов России.\n",
        "\n",
        "4. Потребление вина в Москве колебалось в заданный период, но в 1998 году составило 6.8, а в 2016 6.6 литров, то есть практически не изменилось. При этом среднее значение по России выросло с 3 до 6 литров, а максимальное выросло с 8.8 до 11.7 литров.\n",
        "\n",
        "5. Потребление пива в Москве выросло с 30 литров в 1998 году до 69 литров в 2016 году. При этом общие тренды роста соответствуют средним по стране. Среднее потребление пива выросло с 42 до 99 литров за отчетный период.\n",
        "\n",
        "6. Потребление водки в Москве снизилось с 18.9 до 12.1 литров за отчетный период. При этом среднее значение по стране в 1998 году составляло 12.6 литров, а в 2016 - 6.6. литров. Максимальные значения по России составили 25 литров в 1998 году и 12.8 в 2016 году. То есть к концу отчетного периода в Москве стали употреблять в 2 раза больше водки, чем в среднем по России и значение практически сровнялось с максимальным по стране.\n",
        "\n",
        "7. Москва является лидером по употреблению шампанского на протяжении всего периода. В 1998 году было выпито 3.5 литров на человека в год. К 2016 объем составил 4 литра. Пик потребления шампанского пришелся на 2013-2014 годы, когда этого напитка было выпито 5.1 литров на человека в год.\n",
        "\n",
        "8. В Москве также выше среднего и уровень потребления бренди. В 1998 году в Москве было выпито 0.7 литра на человека, при этом среднее значение по России составило 0.2 литра, а максимальное 1.1. литра. К 2016 году в Москве выпивали 1.1 литра бренди в год. При этом среднее значение по России составило 0.67 литра, а максимальное 1.9 литров.\n",
        "\n",
        "9. Несмотря на лидирующие позиции Москвы в категориях шампанского и бренди, потребление этих напитков значительно отстает от потребления водки, что можем вызывать определенные опасения у руководства региона. Я рекомендую подробнее рассмотреть потребления водки в регионе и предусмотреть меры по его сокращению."
      ]
    }
  ]
}